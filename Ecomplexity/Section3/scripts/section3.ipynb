{
 "cells": [
  {
   "cell_type": "markdown",
   "metadata": {},
   "source": [
    "## Coding Challenge 5: Web scrapping of an API: COMTRADE"
   ]
  },
  {
   "cell_type": "markdown",
   "metadata": {},
   "source": [
    "In this notebook, I connect to the Comtrade API to download information of Chilean exports, disagreggated by product."
   ]
  },
  {
   "cell_type": "markdown",
   "metadata": {},
   "source": [
    "Based on: https://github.com/uncomtrade/comtradeapicall/blob/main/tests/example%20calling%20functions%20-%20notebook.ipynb"
   ]
  },
  {
   "cell_type": "code",
   "execution_count": 1,
   "metadata": {},
   "outputs": [
    {
     "name": "stdout",
     "output_type": "stream",
     "text": [
      "Note: you may need to restart the kernel to use updated packages.\n"
     ]
    },
    {
     "name": "stderr",
     "output_type": "stream",
     "text": [
      "ERROR: Invalid requirement: '#'\n",
      "\n",
      "[notice] A new release of pip is available: 24.0 -> 24.3.1\n",
      "[notice] To update, run: python.exe -m pip install --upgrade pip\n"
     ]
    }
   ],
   "source": [
    "pip install -q comtradeapicall # Installing COMTRADE package to download their API data."
   ]
  },
  {
   "cell_type": "code",
   "execution_count": 2,
   "metadata": {},
   "outputs": [
    {
     "name": "stdout",
     "output_type": "stream",
     "text": [
      "Note: you may need to restart the kernel to use updated packages.\n"
     ]
    },
    {
     "name": "stderr",
     "output_type": "stream",
     "text": [
      "\n",
      "[notice] A new release of pip is available: 24.0 -> 24.3.1\n",
      "[notice] To update, run: python.exe -m pip install --upgrade pip\n"
     ]
    }
   ],
   "source": [
    "pip install -q squarify"
   ]
  },
  {
   "cell_type": "code",
   "execution_count": 3,
   "metadata": {},
   "outputs": [
    {
     "name": "stdout",
     "output_type": "stream",
     "text": [
      "Requirement already satisfied: plotly in c:\\users\\iorueta\\appdata\\local\\programs\\python\\python312\\lib\\site-packages (5.24.1)\n",
      "Requirement already satisfied: tenacity>=6.2.0 in c:\\users\\iorueta\\appdata\\local\\programs\\python\\python312\\lib\\site-packages (from plotly) (9.0.0)\n",
      "Requirement already satisfied: packaging in c:\\users\\iorueta\\appdata\\roaming\\python\\python312\\site-packages (from plotly) (24.1)\n",
      "Note: you may need to restart the kernel to use updated packages.\n"
     ]
    },
    {
     "name": "stderr",
     "output_type": "stream",
     "text": [
      "\n",
      "[notice] A new release of pip is available: 24.0 -> 24.3.1\n",
      "[notice] To update, run: python.exe -m pip install --upgrade pip\n"
     ]
    }
   ],
   "source": [
    "pip install plotly\n"
   ]
  },
  {
   "cell_type": "code",
   "execution_count": 4,
   "metadata": {},
   "outputs": [],
   "source": [
    "import pandas as pd\n",
    "import numpy as np\n",
    "import altair as alt\n",
    "import plotly.express as px\n",
    "import plotly.graph_objects as go\n",
    "import plotly.io as pio\n",
    "import squarify\n",
    "import requests\n",
    "import comtradeapicall\n",
    "import json\n",
    "from urllib.parse import urlencode\n",
    "import economic_complexity as ecplx\n",
    "import time"
   ]
  },
  {
   "cell_type": "code",
   "execution_count": 5,
   "metadata": {},
   "outputs": [],
   "source": [
    "subscription_key = 'f2f03f3dc19047f8a1d1e960fccb3ed1' # comtrade api subscription key (from comtradedeveloper.un.org)\n",
    "directory = '<OUTPUT DIR>'  # output directory for downloaded files \n",
    "proxy_url = '<PROXY URL>'  # optional if you need proxy url"
   ]
  },
  {
   "cell_type": "code",
   "execution_count": 6,
   "metadata": {},
   "outputs": [],
   "source": [
    "#set some variables\n",
    "from datetime import date\n",
    "from datetime import timedelta\n",
    "today = date.today()\n",
    "yesterday = today - timedelta(days=1)\n",
    "lastweek = today - timedelta(days=7)"
   ]
  },
  {
   "cell_type": "markdown",
   "metadata": {},
   "source": [
    "# Exports 2022 of the top and bottom 5 of ECI rank"
   ]
  },
  {
   "cell_type": "markdown",
   "metadata": {},
   "source": [
    "Type of Product – Commodities (C) or Services (S)\n",
    "\n",
    "Frequency – Annual (A) or Monthly (M) \n",
    "\n",
    "Classification Code – HS, SITC, BEC for Goods, EBOPS for Services\n",
    "\n",
    "Period – YYYY for Annual or YYYYMM for Monthly\n",
    "\n",
    "Reporter – All or Individual Reporters\n",
    "\n",
    "Publication Date – Publication date range\n",
    "\n",
    "aggregateBy - The level of disaggregation that you want in the products"
   ]
  },
  {
   "cell_type": "markdown",
   "metadata": {},
   "source": [
    "### ECI Rankings"
   ]
  },
  {
   "cell_type": "code",
   "execution_count": 7,
   "metadata": {},
   "outputs": [],
   "source": [
    "eci = pd.read_csv(\"https://raw.githubusercontent.com/IgnacioOrueta/ignacioorueta.github.io/refs/heads/main/Project/Section1/data/map_data.csv\")\n",
    "\n",
    "eci = eci[eci['year']==2022]\n",
    "\n",
    "eci = eci.filter(['country', 'ISO3','hs_eci_rank'])\n",
    "\n",
    "eci.sort_values(by='hs_eci_rank',inplace=True)\n",
    "\n",
    "top5    = eci[:5]\n",
    "bottom5 = eci[-5:]\n",
    "\n",
    "iso3_top5_list = eci['ISO3'][:5].tolist()\n",
    "iso3_bottom5_list = eci['ISO3'][-6:].tolist() # I will take 6 since CHAD does not have data\n",
    "\n",
    "iso3_top5 = ','.join(iso3_top5_list)\n",
    "iso3_bottom5 = ','.join(iso3_bottom5_list)\n",
    "\n",
    "country_code_top5 = comtradeapicall.convertCountryIso3ToCode(iso3_top5) # Switzerland and Germany have 2 codes\n",
    "country_code_bottom5 = comtradeapicall.convertCountryIso3ToCode(iso3_bottom5)\n",
    "\n",
    "top5_code = country_code_top5.split(',')\n",
    "bottom5_code = country_code_bottom5.split(',')\n",
    "\n",
    "top5_name = ['DEU', 'DEU', 'JPN', 'KOR', 'SGP', 'CHE', 'CHE']\n",
    "bottom5_name = ['MOZ','TCD', 'COG', 'COD', 'NGA', 'PNG']\n",
    "\n",
    "products_names = pd.read_csv(\"../data/umap_product_space_hs92.csv\") # Product Space coordinates\n"
   ]
  },
  {
   "cell_type": "markdown",
   "metadata": {},
   "source": [
    "### API call"
   ]
  },
  {
   "cell_type": "code",
   "execution_count": 8,
   "metadata": {},
   "outputs": [
    {
     "name": "stdout",
     "output_type": "stream",
     "text": [
      "DEU downloaded\n",
      "DEU downloaded\n",
      "JPN downloaded\n",
      "KOR downloaded\n",
      "SGP downloaded\n",
      "CHE downloaded\n",
      "CHE downloaded\n"
     ]
    },
    {
     "name": "stderr",
     "output_type": "stream",
     "text": [
      "C:\\Users\\iorueta\\AppData\\Local\\Temp\\ipykernel_1984\\949990602.py:27: FutureWarning: The behavior of DataFrame concatenation with empty or all-NA entries is deprecated. In a future version, this will no longer exclude empty or all-NA columns when determining the result dtypes. To retain the old behavior, exclude the relevant entries before the concat operation.\n",
      "  top5_raw = pd.concat(dataframes, ignore_index=True)\n"
     ]
    },
    {
     "data": {
      "text/html": [
       "<div>\n",
       "<style scoped>\n",
       "    .dataframe tbody tr th:only-of-type {\n",
       "        vertical-align: middle;\n",
       "    }\n",
       "\n",
       "    .dataframe tbody tr th {\n",
       "        vertical-align: top;\n",
       "    }\n",
       "\n",
       "    .dataframe thead th {\n",
       "        text-align: right;\n",
       "    }\n",
       "</style>\n",
       "<table border=\"1\" class=\"dataframe\">\n",
       "  <thead>\n",
       "    <tr style=\"text-align: right;\">\n",
       "      <th></th>\n",
       "      <th>typeCode</th>\n",
       "      <th>freqCode</th>\n",
       "      <th>refPeriodId</th>\n",
       "      <th>refYear</th>\n",
       "      <th>refMonth</th>\n",
       "      <th>period</th>\n",
       "      <th>reporterCode</th>\n",
       "      <th>reporterISO</th>\n",
       "      <th>reporterDesc</th>\n",
       "      <th>flowCode</th>\n",
       "      <th>...</th>\n",
       "      <th>netWgt</th>\n",
       "      <th>isNetWgtEstimated</th>\n",
       "      <th>grossWgt</th>\n",
       "      <th>isGrossWgtEstimated</th>\n",
       "      <th>cifvalue</th>\n",
       "      <th>fobvalue</th>\n",
       "      <th>primaryValue</th>\n",
       "      <th>legacyEstimationFlag</th>\n",
       "      <th>isReported</th>\n",
       "      <th>isAggregate</th>\n",
       "    </tr>\n",
       "  </thead>\n",
       "  <tbody>\n",
       "    <tr>\n",
       "      <th>0</th>\n",
       "      <td>C</td>\n",
       "      <td>A</td>\n",
       "      <td>20220101</td>\n",
       "      <td>2022</td>\n",
       "      <td>52</td>\n",
       "      <td>2022</td>\n",
       "      <td>276</td>\n",
       "      <td>DEU</td>\n",
       "      <td>Germany</td>\n",
       "      <td>X</td>\n",
       "      <td>...</td>\n",
       "      <td>NaN</td>\n",
       "      <td>False</td>\n",
       "      <td>0.0</td>\n",
       "      <td>False</td>\n",
       "      <td>NaN</td>\n",
       "      <td>1.448209e+09</td>\n",
       "      <td>1.448209e+09</td>\n",
       "      <td>0</td>\n",
       "      <td>False</td>\n",
       "      <td>True</td>\n",
       "    </tr>\n",
       "    <tr>\n",
       "      <th>1</th>\n",
       "      <td>C</td>\n",
       "      <td>A</td>\n",
       "      <td>20220101</td>\n",
       "      <td>2022</td>\n",
       "      <td>52</td>\n",
       "      <td>2022</td>\n",
       "      <td>276</td>\n",
       "      <td>DEU</td>\n",
       "      <td>Germany</td>\n",
       "      <td>X</td>\n",
       "      <td>...</td>\n",
       "      <td>NaN</td>\n",
       "      <td>False</td>\n",
       "      <td>0.0</td>\n",
       "      <td>False</td>\n",
       "      <td>NaN</td>\n",
       "      <td>2.811280e+08</td>\n",
       "      <td>2.811280e+08</td>\n",
       "      <td>0</td>\n",
       "      <td>False</td>\n",
       "      <td>True</td>\n",
       "    </tr>\n",
       "    <tr>\n",
       "      <th>2</th>\n",
       "      <td>C</td>\n",
       "      <td>A</td>\n",
       "      <td>20220101</td>\n",
       "      <td>2022</td>\n",
       "      <td>52</td>\n",
       "      <td>2022</td>\n",
       "      <td>276</td>\n",
       "      <td>DEU</td>\n",
       "      <td>Germany</td>\n",
       "      <td>X</td>\n",
       "      <td>...</td>\n",
       "      <td>389234.105</td>\n",
       "      <td>True</td>\n",
       "      <td>0.0</td>\n",
       "      <td>False</td>\n",
       "      <td>NaN</td>\n",
       "      <td>3.267086e+07</td>\n",
       "      <td>3.267086e+07</td>\n",
       "      <td>6</td>\n",
       "      <td>False</td>\n",
       "      <td>True</td>\n",
       "    </tr>\n",
       "    <tr>\n",
       "      <th>3</th>\n",
       "      <td>C</td>\n",
       "      <td>A</td>\n",
       "      <td>20220101</td>\n",
       "      <td>2022</td>\n",
       "      <td>52</td>\n",
       "      <td>2022</td>\n",
       "      <td>276</td>\n",
       "      <td>DEU</td>\n",
       "      <td>Germany</td>\n",
       "      <td>X</td>\n",
       "      <td>...</td>\n",
       "      <td>1702212.418</td>\n",
       "      <td>True</td>\n",
       "      <td>0.0</td>\n",
       "      <td>False</td>\n",
       "      <td>NaN</td>\n",
       "      <td>2.484569e+08</td>\n",
       "      <td>2.484569e+08</td>\n",
       "      <td>4</td>\n",
       "      <td>False</td>\n",
       "      <td>True</td>\n",
       "    </tr>\n",
       "    <tr>\n",
       "      <th>4</th>\n",
       "      <td>C</td>\n",
       "      <td>A</td>\n",
       "      <td>20220101</td>\n",
       "      <td>2022</td>\n",
       "      <td>52</td>\n",
       "      <td>2022</td>\n",
       "      <td>276</td>\n",
       "      <td>DEU</td>\n",
       "      <td>Germany</td>\n",
       "      <td>X</td>\n",
       "      <td>...</td>\n",
       "      <td>NaN</td>\n",
       "      <td>False</td>\n",
       "      <td>0.0</td>\n",
       "      <td>False</td>\n",
       "      <td>NaN</td>\n",
       "      <td>2.464130e+02</td>\n",
       "      <td>2.464130e+02</td>\n",
       "      <td>0</td>\n",
       "      <td>False</td>\n",
       "      <td>True</td>\n",
       "    </tr>\n",
       "  </tbody>\n",
       "</table>\n",
       "<p>5 rows × 47 columns</p>\n",
       "</div>"
      ],
      "text/plain": [
       "  typeCode freqCode  refPeriodId  refYear  refMonth period  reporterCode  \\\n",
       "0        C        A     20220101     2022        52   2022           276   \n",
       "1        C        A     20220101     2022        52   2022           276   \n",
       "2        C        A     20220101     2022        52   2022           276   \n",
       "3        C        A     20220101     2022        52   2022           276   \n",
       "4        C        A     20220101     2022        52   2022           276   \n",
       "\n",
       "  reporterISO reporterDesc flowCode  ...       netWgt  isNetWgtEstimated  \\\n",
       "0         DEU      Germany        X  ...          NaN              False   \n",
       "1         DEU      Germany        X  ...          NaN              False   \n",
       "2         DEU      Germany        X  ...   389234.105               True   \n",
       "3         DEU      Germany        X  ...  1702212.418               True   \n",
       "4         DEU      Germany        X  ...          NaN              False   \n",
       "\n",
       "  grossWgt isGrossWgtEstimated  cifvalue      fobvalue  primaryValue  \\\n",
       "0      0.0               False       NaN  1.448209e+09  1.448209e+09   \n",
       "1      0.0               False       NaN  2.811280e+08  2.811280e+08   \n",
       "2      0.0               False       NaN  3.267086e+07  3.267086e+07   \n",
       "3      0.0               False       NaN  2.484569e+08  2.484569e+08   \n",
       "4      0.0               False       NaN  2.464130e+02  2.464130e+02   \n",
       "\n",
       "  legacyEstimationFlag isReported  isAggregate  \n",
       "0                    0      False         True  \n",
       "1                    0      False         True  \n",
       "2                    6      False         True  \n",
       "3                    4      False         True  \n",
       "4                    0      False         True  \n",
       "\n",
       "[5 rows x 47 columns]"
      ]
     },
     "execution_count": 8,
     "metadata": {},
     "output_type": "execute_result"
    }
   ],
   "source": [
    "#Here, I call the API for 5 most complex countries\n",
    "\n",
    "# Initialize an empty list to store the dataframes\n",
    "dataframes = []\n",
    "\n",
    "for i in range(0,len(top5_name)):\n",
    "    country_name = top5_name[i] \n",
    "    country_code = top5_code[i]\n",
    "    exp_raw = comtradeapicall.getFinalData(subscription_key=subscription_key, typeCode='C', freqCode='A', clCode='HS', period='2022',\n",
    "                                        reporterCode=country_code, cmdCode=None, flowCode='X', partnerCode='0', #152 is Chile's country code\n",
    "                                        partner2Code=None,\n",
    "                                        customsCode=None, motCode=None, maxRecords=None, format_output='JSON',\n",
    "                                        aggregateBy=None, breakdownMode='classic', countOnly=None, includeDesc=True)\n",
    "    \n",
    "    # Convert the JSON response to a dataframe and append it to the list\n",
    "    df = pd.DataFrame(exp_raw)\n",
    "    dataframes.append(df)\n",
    "    \n",
    "    # Assign the result to a dynamically named variable\n",
    "    globals()[f'exp_raw_{country_name}'] = df\n",
    "    \n",
    "    # Sleep for 2 seconds between each loop iteration\n",
    "    time.sleep(2)\n",
    "    print(f\"{country_name} downloaded\")\n",
    "\n",
    "# Concatenate all dataframes in the list into a single dataframe\n",
    "top5_raw = pd.concat(dataframes, ignore_index=True)\n",
    "\n",
    "# Print the concatenated dataframe\n",
    "top5_raw.head()\n"
   ]
  },
  {
   "cell_type": "code",
   "execution_count": 9,
   "metadata": {},
   "outputs": [
    {
     "name": "stdout",
     "output_type": "stream",
     "text": [
      "MOZ downloaded\n",
      "TCD downloaded\n",
      "COG downloaded\n",
      "COD downloaded\n",
      "NGA downloaded\n",
      "PNG downloaded\n"
     ]
    },
    {
     "data": {
      "text/html": [
       "<div>\n",
       "<style scoped>\n",
       "    .dataframe tbody tr th:only-of-type {\n",
       "        vertical-align: middle;\n",
       "    }\n",
       "\n",
       "    .dataframe tbody tr th {\n",
       "        vertical-align: top;\n",
       "    }\n",
       "\n",
       "    .dataframe thead th {\n",
       "        text-align: right;\n",
       "    }\n",
       "</style>\n",
       "<table border=\"1\" class=\"dataframe\">\n",
       "  <thead>\n",
       "    <tr style=\"text-align: right;\">\n",
       "      <th></th>\n",
       "      <th>typeCode</th>\n",
       "      <th>freqCode</th>\n",
       "      <th>refPeriodId</th>\n",
       "      <th>refYear</th>\n",
       "      <th>refMonth</th>\n",
       "      <th>period</th>\n",
       "      <th>reporterCode</th>\n",
       "      <th>reporterISO</th>\n",
       "      <th>reporterDesc</th>\n",
       "      <th>flowCode</th>\n",
       "      <th>...</th>\n",
       "      <th>netWgt</th>\n",
       "      <th>isNetWgtEstimated</th>\n",
       "      <th>grossWgt</th>\n",
       "      <th>isGrossWgtEstimated</th>\n",
       "      <th>cifvalue</th>\n",
       "      <th>fobvalue</th>\n",
       "      <th>primaryValue</th>\n",
       "      <th>legacyEstimationFlag</th>\n",
       "      <th>isReported</th>\n",
       "      <th>isAggregate</th>\n",
       "    </tr>\n",
       "  </thead>\n",
       "  <tbody>\n",
       "    <tr>\n",
       "      <th>0</th>\n",
       "      <td>C</td>\n",
       "      <td>A</td>\n",
       "      <td>20220101</td>\n",
       "      <td>2022</td>\n",
       "      <td>52</td>\n",
       "      <td>2022</td>\n",
       "      <td>178</td>\n",
       "      <td>COG</td>\n",
       "      <td>Congo</td>\n",
       "      <td>X</td>\n",
       "      <td>...</td>\n",
       "      <td>32970.00</td>\n",
       "      <td>False</td>\n",
       "      <td>0.0</td>\n",
       "      <td>False</td>\n",
       "      <td>None</td>\n",
       "      <td>66779.781</td>\n",
       "      <td>66779.781</td>\n",
       "      <td>0</td>\n",
       "      <td>False</td>\n",
       "      <td>True</td>\n",
       "    </tr>\n",
       "    <tr>\n",
       "      <th>1</th>\n",
       "      <td>C</td>\n",
       "      <td>A</td>\n",
       "      <td>20220101</td>\n",
       "      <td>2022</td>\n",
       "      <td>52</td>\n",
       "      <td>2022</td>\n",
       "      <td>178</td>\n",
       "      <td>COG</td>\n",
       "      <td>Congo</td>\n",
       "      <td>X</td>\n",
       "      <td>...</td>\n",
       "      <td>1224.83</td>\n",
       "      <td>False</td>\n",
       "      <td>0.0</td>\n",
       "      <td>False</td>\n",
       "      <td>None</td>\n",
       "      <td>9735.726</td>\n",
       "      <td>9735.726</td>\n",
       "      <td>0</td>\n",
       "      <td>False</td>\n",
       "      <td>True</td>\n",
       "    </tr>\n",
       "    <tr>\n",
       "      <th>2</th>\n",
       "      <td>C</td>\n",
       "      <td>A</td>\n",
       "      <td>20220101</td>\n",
       "      <td>2022</td>\n",
       "      <td>52</td>\n",
       "      <td>2022</td>\n",
       "      <td>178</td>\n",
       "      <td>COG</td>\n",
       "      <td>Congo</td>\n",
       "      <td>X</td>\n",
       "      <td>...</td>\n",
       "      <td>350.00</td>\n",
       "      <td>False</td>\n",
       "      <td>0.0</td>\n",
       "      <td>False</td>\n",
       "      <td>None</td>\n",
       "      <td>2197.413</td>\n",
       "      <td>2197.413</td>\n",
       "      <td>0</td>\n",
       "      <td>False</td>\n",
       "      <td>True</td>\n",
       "    </tr>\n",
       "    <tr>\n",
       "      <th>3</th>\n",
       "      <td>C</td>\n",
       "      <td>A</td>\n",
       "      <td>20220101</td>\n",
       "      <td>2022</td>\n",
       "      <td>52</td>\n",
       "      <td>2022</td>\n",
       "      <td>178</td>\n",
       "      <td>COG</td>\n",
       "      <td>Congo</td>\n",
       "      <td>X</td>\n",
       "      <td>...</td>\n",
       "      <td>173995.00</td>\n",
       "      <td>False</td>\n",
       "      <td>0.0</td>\n",
       "      <td>False</td>\n",
       "      <td>None</td>\n",
       "      <td>109734.239</td>\n",
       "      <td>109734.239</td>\n",
       "      <td>2</td>\n",
       "      <td>False</td>\n",
       "      <td>True</td>\n",
       "    </tr>\n",
       "    <tr>\n",
       "      <th>4</th>\n",
       "      <td>C</td>\n",
       "      <td>A</td>\n",
       "      <td>20220101</td>\n",
       "      <td>2022</td>\n",
       "      <td>52</td>\n",
       "      <td>2022</td>\n",
       "      <td>178</td>\n",
       "      <td>COG</td>\n",
       "      <td>Congo</td>\n",
       "      <td>X</td>\n",
       "      <td>...</td>\n",
       "      <td>158.00</td>\n",
       "      <td>False</td>\n",
       "      <td>0.0</td>\n",
       "      <td>False</td>\n",
       "      <td>None</td>\n",
       "      <td>126.251</td>\n",
       "      <td>126.251</td>\n",
       "      <td>0</td>\n",
       "      <td>False</td>\n",
       "      <td>True</td>\n",
       "    </tr>\n",
       "  </tbody>\n",
       "</table>\n",
       "<p>5 rows × 47 columns</p>\n",
       "</div>"
      ],
      "text/plain": [
       "  typeCode freqCode  refPeriodId  refYear  refMonth period  reporterCode  \\\n",
       "0        C        A     20220101     2022        52   2022           178   \n",
       "1        C        A     20220101     2022        52   2022           178   \n",
       "2        C        A     20220101     2022        52   2022           178   \n",
       "3        C        A     20220101     2022        52   2022           178   \n",
       "4        C        A     20220101     2022        52   2022           178   \n",
       "\n",
       "  reporterISO reporterDesc flowCode  ...     netWgt  isNetWgtEstimated  \\\n",
       "0         COG        Congo        X  ...   32970.00              False   \n",
       "1         COG        Congo        X  ...    1224.83              False   \n",
       "2         COG        Congo        X  ...     350.00              False   \n",
       "3         COG        Congo        X  ...  173995.00              False   \n",
       "4         COG        Congo        X  ...     158.00              False   \n",
       "\n",
       "  grossWgt isGrossWgtEstimated  cifvalue    fobvalue primaryValue  \\\n",
       "0      0.0               False      None   66779.781    66779.781   \n",
       "1      0.0               False      None    9735.726     9735.726   \n",
       "2      0.0               False      None    2197.413     2197.413   \n",
       "3      0.0               False      None  109734.239   109734.239   \n",
       "4      0.0               False      None     126.251      126.251   \n",
       "\n",
       "  legacyEstimationFlag isReported  isAggregate  \n",
       "0                    0      False         True  \n",
       "1                    0      False         True  \n",
       "2                    0      False         True  \n",
       "3                    2      False         True  \n",
       "4                    0      False         True  \n",
       "\n",
       "[5 rows x 47 columns]"
      ]
     },
     "execution_count": 9,
     "metadata": {},
     "output_type": "execute_result"
    }
   ],
   "source": [
    "#Here, I call the API for 5 most complex countries\n",
    "\n",
    "# Initialize an empty list to store the dataframes\n",
    "dataframes = []\n",
    "\n",
    "for i in range(0,len(bottom5_name)):\n",
    "    country_name = bottom5_name[i] \n",
    "    country_code = bottom5_code[i]\n",
    "    \n",
    "    if country_name != 'PNG':\n",
    "        exp_raw = comtradeapicall.getFinalData(subscription_key=subscription_key, typeCode='C', freqCode='A', clCode='HS', period='2022',\n",
    "                                        reporterCode=country_code, cmdCode=None, flowCode='X', partnerCode='0', #152 is Chile's country code\n",
    "                                        partner2Code=None,\n",
    "                                        customsCode=None, motCode=None, maxRecords=None, format_output='JSON',\n",
    "                                        aggregateBy=None, breakdownMode='classic', countOnly=None, includeDesc=True)\n",
    "\n",
    "    if country_name == 'PNG':\n",
    "# Last data for Papua New guinea is 2020. I will make call again an append to the bottom5_raw\n",
    "        exp_raw = comtradeapicall.getFinalData(subscription_key=subscription_key, typeCode='C', freqCode='A', clCode='HS', period='2020',\n",
    "                                        reporterCode='598', cmdCode=None, flowCode='X', partnerCode='0', #152 is Chile's country code\n",
    "                                        partner2Code=None,\n",
    "                                        customsCode=None, motCode=None, maxRecords=None, format_output='JSON',\n",
    "                                        aggregateBy=None, breakdownMode='classic', countOnly=None, includeDesc=True)\n",
    "\n",
    "    # Convert the JSON response to a dataframe and append it to the list\n",
    "    df = pd.DataFrame(exp_raw)\n",
    "    dataframes.append(df)\n",
    "    \n",
    "    # Assign the result to a dynamically named variable\n",
    "    globals()[f'exp_raw_{country_name}'] = df\n",
    "    \n",
    "    # Sleep for 2 seconds between each loop iteration\n",
    "    time.sleep(2)\n",
    "    print(f\"{country_name} downloaded\")\n",
    "\n",
    "# Concatenate all dataframes in the list into a single dataframe\n",
    "bottom5_raw = pd.concat(dataframes, ignore_index=True)\n",
    "\n",
    "# Print the concatenated dataframe\n",
    "bottom5_raw.head()"
   ]
  },
  {
   "cell_type": "code",
   "execution_count": 10,
   "metadata": {},
   "outputs": [
    {
     "data": {
      "text/plain": [
       "reporterDesc\n",
       "Germany          6683\n",
       "Switzerland      6353\n",
       "Singapore        6239\n",
       "Rep. of Korea    6235\n",
       "Japan            6122\n",
       "Name: count, dtype: int64"
      ]
     },
     "execution_count": 10,
     "metadata": {},
     "output_type": "execute_result"
    }
   ],
   "source": [
    "top5_raw['reporterDesc'].value_counts()"
   ]
  },
  {
   "cell_type": "code",
   "execution_count": 11,
   "metadata": {},
   "outputs": [
    {
     "data": {
      "text/plain": [
       "reporterDesc\n",
       "Mozambique                2816\n",
       "Congo                     1725\n",
       "Papua New Guinea          1709\n",
       "Dem. Rep. of the Congo    1433\n",
       "Nigeria                    972\n",
       "Name: count, dtype: int64"
      ]
     },
     "execution_count": 11,
     "metadata": {},
     "output_type": "execute_result"
    }
   ],
   "source": [
    "bottom5_raw['reporterDesc'].value_counts()"
   ]
  },
  {
   "cell_type": "markdown",
   "metadata": {},
   "source": [
    "### Merging downloaded data"
   ]
  },
  {
   "cell_type": "markdown",
   "metadata": {},
   "source": [
    "### Cleaning and filtering process"
   ]
  },
  {
   "cell_type": "code",
   "execution_count": null,
   "metadata": {},
   "outputs": [
    {
     "name": "stderr",
     "output_type": "stream",
     "text": [
      "C:\\Users\\iorueta\\AppData\\Local\\Temp\\ipykernel_1984\\3127494182.py:6: SettingWithCopyWarning: \n",
      "A value is trying to be set on a copy of a slice from a DataFrame.\n",
      "Try using .loc[row_indexer,col_indexer] = value instead\n",
      "\n",
      "See the caveats in the documentation: https://pandas.pydata.org/pandas-docs/stable/user_guide/indexing.html#returning-a-view-versus-a-copy\n",
      "  top5['HS4'] = top5['cmdCode'].astype(str).str[:4]\n",
      "C:\\Users\\iorueta\\AppData\\Local\\Temp\\ipykernel_1984\\3127494182.py:7: SettingWithCopyWarning: \n",
      "A value is trying to be set on a copy of a slice from a DataFrame.\n",
      "Try using .loc[row_indexer,col_indexer] = value instead\n",
      "\n",
      "See the caveats in the documentation: https://pandas.pydata.org/pandas-docs/stable/user_guide/indexing.html#returning-a-view-versus-a-copy\n",
      "  bottom5['HS4'] = bottom5['cmdCode'].astype(str).str[:4]\n"
     ]
    }
   ],
   "source": [
    "top5 = top5_raw[['period', 'reporterDesc', 'cmdCode','cmdDesc', 'aggrLevel', 'fobvalue', 'primaryValue']]\n",
    "bottom5 = bottom5_raw[['period', 'reporterDesc', 'cmdCode','cmdDesc', 'aggrLevel', 'fobvalue', 'primaryValue']]\n",
    "\n",
    "# Extract first 2 digits of product code to aggregate them after\n",
    "# HS4\n",
    "top5['HS4'] = top5['cmdCode'].astype(str).str[:4]\n",
    "bottom5['HS4'] = bottom5['cmdCode'].astype(str).str[:4]\n",
    "\n",
    "# Keeping only HS4\n",
    "top5 = top5[top5['aggrLevel']==4]\n",
    "bottom5 = bottom5[bottom5['aggrLevel']==4]\n",
    "\n",
    "top5 = top5[top5['HS4'] != 'TOTA'] # Dropping total\n",
    "bottom5 = bottom5[bottom5['HS4'] != 'TOTA'] # Dropping total\n"
   ]
  },
  {
   "cell_type": "code",
   "execution_count": null,
   "metadata": {},
   "outputs": [
    {
     "data": {
      "text/html": [
       "<div>\n",
       "<style scoped>\n",
       "    .dataframe tbody tr th:only-of-type {\n",
       "        vertical-align: middle;\n",
       "    }\n",
       "\n",
       "    .dataframe tbody tr th {\n",
       "        vertical-align: top;\n",
       "    }\n",
       "\n",
       "    .dataframe thead th {\n",
       "        text-align: right;\n",
       "    }\n",
       "</style>\n",
       "<table border=\"1\" class=\"dataframe\">\n",
       "  <thead>\n",
       "    <tr style=\"text-align: right;\">\n",
       "      <th></th>\n",
       "      <th>HS4</th>\n",
       "      <th>reporterDesc</th>\n",
       "      <th>fobvalue</th>\n",
       "      <th>period</th>\n",
       "      <th>HS2</th>\n",
       "    </tr>\n",
       "  </thead>\n",
       "  <tbody>\n",
       "    <tr>\n",
       "      <th>0</th>\n",
       "      <td>0101</td>\n",
       "      <td>Dem. Rep. of the Congo</td>\n",
       "      <td>4450.660</td>\n",
       "      <td>2022</td>\n",
       "      <td>01</td>\n",
       "    </tr>\n",
       "    <tr>\n",
       "      <th>1</th>\n",
       "      <td>0102</td>\n",
       "      <td>Dem. Rep. of the Congo</td>\n",
       "      <td>896.059</td>\n",
       "      <td>2022</td>\n",
       "      <td>01</td>\n",
       "    </tr>\n",
       "    <tr>\n",
       "      <th>2</th>\n",
       "      <td>0103</td>\n",
       "      <td>Dem. Rep. of the Congo</td>\n",
       "      <td>1740.227</td>\n",
       "      <td>2022</td>\n",
       "      <td>01</td>\n",
       "    </tr>\n",
       "    <tr>\n",
       "      <th>3</th>\n",
       "      <td>0104</td>\n",
       "      <td>Dem. Rep. of the Congo</td>\n",
       "      <td>39.736</td>\n",
       "      <td>2022</td>\n",
       "      <td>01</td>\n",
       "    </tr>\n",
       "    <tr>\n",
       "      <th>4</th>\n",
       "      <td>0105</td>\n",
       "      <td>Congo</td>\n",
       "      <td>7191.533</td>\n",
       "      <td>2022</td>\n",
       "      <td>01</td>\n",
       "    </tr>\n",
       "  </tbody>\n",
       "</table>\n",
       "</div>"
      ],
      "text/plain": [
       "    HS4            reporterDesc  fobvalue period HS2\n",
       "0  0101  Dem. Rep. of the Congo  4450.660   2022  01\n",
       "1  0102  Dem. Rep. of the Congo   896.059   2022  01\n",
       "2  0103  Dem. Rep. of the Congo  1740.227   2022  01\n",
       "3  0104  Dem. Rep. of the Congo    39.736   2022  01\n",
       "4  0105                   Congo  7191.533   2022  01"
      ]
     },
     "execution_count": 13,
     "metadata": {},
     "output_type": "execute_result"
    }
   ],
   "source": [
    "top5_hs4 = top5.groupby(['HS4', 'reporterDesc']).agg({\n",
    "    'fobvalue': 'sum',\n",
    "    'period': 'first'\n",
    "}).reset_index()\n",
    "\n",
    "top5_hs4.head()\n",
    "\n",
    "bottom5_hs4 = bottom5.groupby(['HS4', 'reporterDesc']).agg({\n",
    "    'fobvalue': 'sum',\n",
    "    'period': 'first'\n",
    "}).reset_index()\n",
    "\n",
    "# Extract first 2 digits for HS2\n",
    "top5_hs4['HS2'] = top5_hs4['HS4'].astype(str).str[:2]\n",
    "bottom5_hs4['HS2'] = bottom5_hs4['HS4'].astype(str).str[:2]\n",
    "\n",
    "\n",
    "bottom5_hs4.head()"
   ]
  },
  {
   "cell_type": "code",
   "execution_count": null,
   "metadata": {},
   "outputs": [
    {
     "data": {
      "text/html": [
       "<div>\n",
       "<style scoped>\n",
       "    .dataframe tbody tr th:only-of-type {\n",
       "        vertical-align: middle;\n",
       "    }\n",
       "\n",
       "    .dataframe tbody tr th {\n",
       "        vertical-align: top;\n",
       "    }\n",
       "\n",
       "    .dataframe thead th {\n",
       "        text-align: right;\n",
       "    }\n",
       "</style>\n",
       "<table border=\"1\" class=\"dataframe\">\n",
       "  <thead>\n",
       "    <tr style=\"text-align: right;\">\n",
       "      <th></th>\n",
       "      <th>index</th>\n",
       "      <th>HS4</th>\n",
       "      <th>reporterDesc</th>\n",
       "      <th>fobvalue</th>\n",
       "      <th>period</th>\n",
       "      <th>HS2</th>\n",
       "      <th>percent_fobvalue</th>\n",
       "    </tr>\n",
       "  </thead>\n",
       "  <tbody>\n",
       "    <tr>\n",
       "      <th>0</th>\n",
       "      <td>0</td>\n",
       "      <td>0101</td>\n",
       "      <td>Dem. Rep. of the Congo</td>\n",
       "      <td>4450.660</td>\n",
       "      <td>2022</td>\n",
       "      <td>01</td>\n",
       "      <td>4.174122e-06</td>\n",
       "    </tr>\n",
       "    <tr>\n",
       "      <th>1</th>\n",
       "      <td>1</td>\n",
       "      <td>0102</td>\n",
       "      <td>Dem. Rep. of the Congo</td>\n",
       "      <td>896.059</td>\n",
       "      <td>2022</td>\n",
       "      <td>01</td>\n",
       "      <td>8.403831e-07</td>\n",
       "    </tr>\n",
       "    <tr>\n",
       "      <th>2</th>\n",
       "      <td>2</td>\n",
       "      <td>0103</td>\n",
       "      <td>Dem. Rep. of the Congo</td>\n",
       "      <td>1740.227</td>\n",
       "      <td>2022</td>\n",
       "      <td>01</td>\n",
       "      <td>1.632099e-06</td>\n",
       "    </tr>\n",
       "    <tr>\n",
       "      <th>3</th>\n",
       "      <td>3</td>\n",
       "      <td>0104</td>\n",
       "      <td>Dem. Rep. of the Congo</td>\n",
       "      <td>39.736</td>\n",
       "      <td>2022</td>\n",
       "      <td>01</td>\n",
       "      <td>3.726704e-08</td>\n",
       "    </tr>\n",
       "    <tr>\n",
       "      <th>4</th>\n",
       "      <td>4</td>\n",
       "      <td>0105</td>\n",
       "      <td>Congo</td>\n",
       "      <td>7191.533</td>\n",
       "      <td>2022</td>\n",
       "      <td>01</td>\n",
       "      <td>6.744693e-06</td>\n",
       "    </tr>\n",
       "    <tr>\n",
       "      <th>...</th>\n",
       "      <td>...</td>\n",
       "      <td>...</td>\n",
       "      <td>...</td>\n",
       "      <td>...</td>\n",
       "      <td>...</td>\n",
       "      <td>...</td>\n",
       "      <td>...</td>\n",
       "    </tr>\n",
       "    <tr>\n",
       "      <th>2547</th>\n",
       "      <td>2547</td>\n",
       "      <td>9703</td>\n",
       "      <td>Mozambique</td>\n",
       "      <td>50360.620</td>\n",
       "      <td>2022</td>\n",
       "      <td>97</td>\n",
       "      <td>4.723150e-05</td>\n",
       "    </tr>\n",
       "    <tr>\n",
       "      <th>2548</th>\n",
       "      <td>2548</td>\n",
       "      <td>9705</td>\n",
       "      <td>Mozambique</td>\n",
       "      <td>46807.230</td>\n",
       "      <td>2022</td>\n",
       "      <td>97</td>\n",
       "      <td>4.389890e-05</td>\n",
       "    </tr>\n",
       "    <tr>\n",
       "      <th>2549</th>\n",
       "      <td>2549</td>\n",
       "      <td>9705</td>\n",
       "      <td>Papua New Guinea</td>\n",
       "      <td>6.722</td>\n",
       "      <td>2020</td>\n",
       "      <td>97</td>\n",
       "      <td>6.304334e-09</td>\n",
       "    </tr>\n",
       "    <tr>\n",
       "      <th>2550</th>\n",
       "      <td>2550</td>\n",
       "      <td>9999</td>\n",
       "      <td>Congo</td>\n",
       "      <td>1278654.800</td>\n",
       "      <td>2022</td>\n",
       "      <td>99</td>\n",
       "      <td>1.199207e-03</td>\n",
       "    </tr>\n",
       "    <tr>\n",
       "      <th>2551</th>\n",
       "      <td>2551</td>\n",
       "      <td>9999</td>\n",
       "      <td>Papua New Guinea</td>\n",
       "      <td>5675255.046</td>\n",
       "      <td>2020</td>\n",
       "      <td>99</td>\n",
       "      <td>5.322628e-03</td>\n",
       "    </tr>\n",
       "  </tbody>\n",
       "</table>\n",
       "<p>2552 rows × 7 columns</p>\n",
       "</div>"
      ],
      "text/plain": [
       "      index   HS4            reporterDesc     fobvalue period HS2  \\\n",
       "0         0  0101  Dem. Rep. of the Congo     4450.660   2022  01   \n",
       "1         1  0102  Dem. Rep. of the Congo      896.059   2022  01   \n",
       "2         2  0103  Dem. Rep. of the Congo     1740.227   2022  01   \n",
       "3         3  0104  Dem. Rep. of the Congo       39.736   2022  01   \n",
       "4         4  0105                   Congo     7191.533   2022  01   \n",
       "...     ...   ...                     ...          ...    ...  ..   \n",
       "2547   2547  9703              Mozambique    50360.620   2022  97   \n",
       "2548   2548  9705              Mozambique    46807.230   2022  97   \n",
       "2549   2549  9705        Papua New Guinea        6.722   2020  97   \n",
       "2550   2550  9999                   Congo  1278654.800   2022  99   \n",
       "2551   2551  9999        Papua New Guinea  5675255.046   2020  99   \n",
       "\n",
       "      percent_fobvalue  \n",
       "0         4.174122e-06  \n",
       "1         8.403831e-07  \n",
       "2         1.632099e-06  \n",
       "3         3.726704e-08  \n",
       "4         6.744693e-06  \n",
       "...                ...  \n",
       "2547      4.723150e-05  \n",
       "2548      4.389890e-05  \n",
       "2549      6.304334e-09  \n",
       "2550      1.199207e-03  \n",
       "2551      5.322628e-03  \n",
       "\n",
       "[2552 rows x 7 columns]"
      ]
     },
     "execution_count": 14,
     "metadata": {},
     "output_type": "execute_result"
    }
   ],
   "source": [
    "# In share of total:\n",
    "top5_hs4['percent_fobvalue'] = top5_hs4['fobvalue'] / top5_hs4['fobvalue'].sum() * 100\n",
    "top5_hs4 = top5_hs4.reset_index()\n",
    "\n",
    "bottom5_hs4['percent_fobvalue'] = bottom5_hs4['fobvalue'] / bottom5_hs4['fobvalue'].sum() * 100\n",
    "exp_bottom5_hs4 = bottom5_hs4.reset_index()\n",
    "exp_bottom5_hs4"
   ]
  },
  {
   "cell_type": "code",
   "execution_count": 15,
   "metadata": {},
   "outputs": [],
   "source": [
    "# Merge with cluster names\n",
    "products_names.rename(columns={\n",
    "    'product_code': 'HS4',\n",
    "}, inplace=True)\n",
    "\n",
    "products_names = products_names[['HS4', 'cluster_name']]\n",
    "\n",
    "products_names['HS4'] = products_names['HS4'].astype(str)\n",
    "\n",
    "# Merge with HS2 codes\n",
    "hs2 = pd.read_excel('../data/HSCodeandDescription.xlsx')\n",
    "hs2 = hs2[hs2['Level'] == 2]\n",
    "\n",
    "hs2.rename(columns={\n",
    "    'Code': 'HS2',\n",
    "    'Description': 'description_hs2'\n",
    "}, inplace=True)\n",
    "\n",
    "hs2 = hs2[['HS2', 'description_hs2']]\n",
    "\n",
    "# Top5\n",
    "top5_hs_merged = pd.merge(top5_hs4, hs2, on='HS2', how='left')\n",
    "top5_hs_merged = pd.merge(top5_hs_merged, products_names, on='HS4', how='left')\n",
    "\n",
    "# Bottom5\n",
    "bottom5_hs_merged = pd.merge(bottom5_hs4, hs2, on='HS2', how='left')\n",
    "bottom5_hs_merged = pd.merge(bottom5_hs_merged, products_names, on='HS4', how='left')\n",
    "\n",
    "# Split the 'Contains' column by commas and expand it into separate columns\n",
    "top5_hs_merged['desc_hs2']= top5_hs_merged['description_hs2'].str.split(';', expand=False).str[0]\n",
    "bottom5_hs_merged['desc_hs2']= bottom5_hs_merged['description_hs2'].str.split(';', expand=False).str[0]\n",
    "\n",
    "# Applying a lambda function to truncate strings. First 150 characters only\n",
    "top5_hs_merged['desc_hs2'] = top5_hs_merged['desc_hs2'].astype(str).apply(lambda x: x[:150] + '...' if len(x) > 100 else x)\n",
    "bottom5_hs_merged['desc_hs2'] = bottom5_hs_merged['desc_hs2'].astype(str).apply(lambda x: x[:150] + '...' if len(x) > 100 else x)\n",
    "\n",
    "# Leading with NAs\n",
    "top5_hs_merged['HS4'] = top5_hs_merged['HS4'].astype(int)\n",
    "top5_hs_merged['cluster_name'] = np.where(top5_hs_merged['HS4'] < 2600, top5_hs_merged['cluster_name'].fillna('Agriculture'), top5_hs_merged['cluster_name']) \n",
    "top5_hs_merged['cluster_name'] = np.where((top5_hs_merged['HS4'] > 2600) & (top5_hs_merged['HS4'] < 2700), top5_hs_merged['cluster_name'].fillna('Minerals'), top5_hs_merged['cluster_name']) \n",
    "top5_hs_merged['cluster_name'] = np.where((top5_hs_merged['HS4'] > 2700) & (top5_hs_merged['HS4'] < 3105), top5_hs_merged['cluster_name'].fillna('Industrial Chemicals and Metals'), top5_hs_merged['cluster_name']) \n",
    "top5_hs_merged['cluster_name'] = np.where((top5_hs_merged['HS4'] > 3105) & (top5_hs_merged['HS4'] < 4100), top5_hs_merged['cluster_name'].fillna('Construction, Building, and Home Supplies'), top5_hs_merged['cluster_name']) \n",
    "top5_hs_merged['cluster_name'] = np.where((top5_hs_merged['HS4'] > 4100) & (top5_hs_merged['HS4'] < 6006), top5_hs_merged['cluster_name'].fillna('Textile and Home Goods'), top5_hs_merged['cluster_name']) \n",
    "top5_hs_merged['cluster_name'] = np.where((top5_hs_merged['HS4'] > 6006) & (top5_hs_merged['HS4'] < 6703), top5_hs_merged['cluster_name'].fillna('Textile Apparel and Accessories'), top5_hs_merged['cluster_name']) \n",
    "top5_hs_merged['cluster_name'] = np.where((top5_hs_merged['HS4'] > 6006) & (top5_hs_merged['HS4'] < 6703), top5_hs_merged['cluster_name'].fillna('Metalworking and Electrical Machinery and Parts'), top5_hs_merged['cluster_name']) \n",
    "\n",
    "# Assign the correct cluster names in these cases of desc_hs2 \n",
    "top5_hs_merged['cluster_name'] = np.where(top5_hs_merged['desc_hs2'] == 'Pharmaceutical products', 'Industrial Chemicals and Metals', top5_hs_merged['cluster_name'])\n",
    "top5_hs_merged['cluster_name'] = np.where(top5_hs_merged['desc_hs2'] == 'Copper and articles thereof', 'Minerals', top5_hs_merged['cluster_name'])\n",
    "\n",
    "bottom5_hs_merged['HS4'] = bottom5_hs_merged['HS4'].astype(int)\n",
    "bottom5_hs_merged['cluster_name'] = np.where(bottom5_hs_merged['HS4'] < 2600, bottom5_hs_merged['cluster_name'].fillna('Agriculture'), bottom5_hs_merged['cluster_name']) \n",
    "bottom5_hs_merged['cluster_name'] = np.where((bottom5_hs_merged['HS4'] > 2600) & (bottom5_hs_merged['HS4'] < 2700), bottom5_hs_merged['cluster_name'].fillna('Minerals'), bottom5_hs_merged['cluster_name']) \n",
    "bottom5_hs_merged['cluster_name'] = np.where((bottom5_hs_merged['HS4'] > 2700) & (bottom5_hs_merged['HS4'] < 3105), bottom5_hs_merged['cluster_name'].fillna('Industrial Chemicals and Metals'), bottom5_hs_merged['cluster_name']) \n",
    "bottom5_hs_merged['cluster_name'] = np.where((bottom5_hs_merged['HS4'] > 3105) & (bottom5_hs_merged['HS4'] < 4100), bottom5_hs_merged['cluster_name'].fillna('Construction, Building, and Home Supplies'), bottom5_hs_merged['cluster_name']) \n",
    "bottom5_hs_merged['cluster_name'] = np.where((bottom5_hs_merged['HS4'] > 4100) & (bottom5_hs_merged['HS4'] < 6006), bottom5_hs_merged['cluster_name'].fillna('Textile and Home Goods'), bottom5_hs_merged['cluster_name']) \n",
    "bottom5_hs_merged['cluster_name'] = np.where((bottom5_hs_merged['HS4'] > 6006) & (bottom5_hs_merged['HS4'] < 6703), bottom5_hs_merged['cluster_name'].fillna('Textile Apparel and Accessories'), bottom5_hs_merged['cluster_name']) \n",
    "bottom5_hs_merged['cluster_name'] = np.where((bottom5_hs_merged['HS4'] > 6006) & (bottom5_hs_merged['HS4'] < 6703), bottom5_hs_merged['cluster_name'].fillna('Metalworking and Electrical Machinery and Parts'), bottom5_hs_merged['cluster_name']) \n",
    "\n",
    "# Assign the correct cluster names in these cases of desc_hs2 \n",
    "bottom5_hs_merged['cluster_name'] = np.where(bottom5_hs_merged['desc_hs2'] == 'Pharmaceutical products', 'Industrial Chemicals and Metals', bottom5_hs_merged['cluster_name'])\n",
    "bottom5_hs_merged['cluster_name'] = np.where(bottom5_hs_merged['desc_hs2'] == 'Copper and articles thereof', 'Minerals', bottom5_hs_merged['cluster_name'])\n",
    "\n",
    "# I cannot distinguish categories far from that. Thus, I will simply drop them to avoid mistakes.\n",
    "top5_hs_merged.dropna(subset='cluster_name', inplace=True)\n",
    "bottom5_hs_merged.dropna(subset='cluster_name', inplace=True)\n"
   ]
  },
  {
   "cell_type": "code",
   "execution_count": 16,
   "metadata": {},
   "outputs": [],
   "source": [
    "# Creating country var with the year of the data: \n",
    "top5_hs_merged['country'] = top5_hs_merged['reporterDesc'] + ' - ' + top5_hs_merged['period']\n",
    "bottom5_hs_merged['country'] = bottom5_hs_merged['reporterDesc'] + ' - ' + bottom5_hs_merged['period']"
   ]
  },
  {
   "cell_type": "markdown",
   "metadata": {},
   "source": [
    "### Saving CSVs"
   ]
  },
  {
   "cell_type": "code",
   "execution_count": 17,
   "metadata": {},
   "outputs": [],
   "source": [
    "top5_hs_merged.to_csv('../data/top5_countries.csv', index=False)  \n",
    "bottom5_hs_merged.to_csv('../data/bottom5_countries.csv', index=False)  "
   ]
  },
  {
   "cell_type": "markdown",
   "metadata": {},
   "source": [
    "### Plotting"
   ]
  },
  {
   "cell_type": "markdown",
   "metadata": {},
   "source": [
    "#### a) Top 5"
   ]
  },
  {
   "cell_type": "code",
   "execution_count": 20,
   "metadata": {},
   "outputs": [
    {
     "data": {
      "application/vnd.plotly.v1+json": {
       "config": {
        "plotlyServerURL": "https://plot.ly"
       },
       "data": [
        {
         "branchvalues": "total",
         "customdata": [
          [
           "Industrial Chemicals and Metals"
          ],
          [
           "Agriculture"
          ],
          [
           "Agriculture"
          ],
          [
           "Textile and Home Goods"
          ],
          [
           "Agriculture"
          ],
          [
           "Agriculture"
          ],
          [
           "Textile and Home Goods"
          ],
          [
           "Construction, Building, and Home Supplies"
          ],
          [
           "Industrial Chemicals and Metals"
          ],
          [
           "Metalworking and Electrical Machinery and Parts"
          ],
          [
           "Agriculture"
          ],
          [
           "Textile and Home Goods"
          ],
          [
           "Construction, Building, and Home Supplies"
          ],
          [
           "Industrial Chemicals and Metals"
          ],
          [
           "Metalworking and Electrical Machinery and Parts"
          ],
          [
           "Textile and Home Goods"
          ],
          [
           "Agriculture"
          ],
          [
           "Minerals"
          ],
          [
           "Construction, Building, and Home Supplies"
          ],
          [
           "Industrial Chemicals and Metals"
          ],
          [
           "Agriculture"
          ],
          [
           "Metalworking and Electrical Machinery and Parts"
          ],
          [
           "Industrial Chemicals and Metals"
          ],
          [
           "Electronic and Electrical Goods"
          ],
          [
           "Electronic and Electrical Goods"
          ],
          [
           "Metalworking and Electrical Machinery and Parts"
          ],
          [
           "Electronic and Electrical Goods"
          ],
          [
           "Industrial Chemicals and Metals"
          ],
          [
           "Minerals"
          ],
          [
           "Textile and Home Goods"
          ],
          [
           "Industrial Chemicals and Metals"
          ],
          [
           "Agriculture"
          ],
          [
           "Construction, Building, and Home Supplies"
          ],
          [
           "Metalworking and Electrical Machinery and Parts"
          ],
          [
           "Electronic and Electrical Goods"
          ],
          [
           "Metalworking and Electrical Machinery and Parts"
          ],
          [
           "Minerals"
          ],
          [
           "Industrial Chemicals and Metals"
          ],
          [
           "Agriculture"
          ],
          [
           "Textile and Home Goods"
          ],
          [
           "Industrial Chemicals and Metals"
          ],
          [
           "Construction, Building, and Home Supplies"
          ],
          [
           "Industrial Chemicals and Metals"
          ],
          [
           "Construction, Building, and Home Supplies"
          ],
          [
           "Industrial Chemicals and Metals"
          ],
          [
           "Textile and Home Goods"
          ],
          [
           "Textile and Home Goods"
          ],
          [
           "Construction, Building, and Home Supplies"
          ],
          [
           "Agriculture"
          ],
          [
           "Construction, Building, and Home Supplies"
          ],
          [
           "Electronic and Electrical Goods"
          ],
          [
           "Metalworking and Electrical Machinery and Parts"
          ],
          [
           "Textile and Home Goods"
          ],
          [
           "Textile Apparel and Accessories"
          ],
          [
           "Textile and Home Goods"
          ],
          [
           "Agriculture"
          ],
          [
           "Textile and Home Goods"
          ],
          [
           "Textile and Home Goods"
          ],
          [
           "Textile and Home Goods"
          ],
          [
           "Textile and Home Goods"
          ],
          [
           "Industrial Chemicals and Metals"
          ],
          [
           "Metalworking and Electrical Machinery and Parts"
          ],
          [
           "Agriculture"
          ],
          [
           "Construction, Building, and Home Supplies"
          ],
          [
           "Electronic and Electrical Goods"
          ],
          [
           "Industrial Chemicals and Metals"
          ],
          [
           "Metalworking and Electrical Machinery and Parts"
          ],
          [
           "Minerals"
          ],
          [
           "Industrial Chemicals and Metals"
          ],
          [
           "Textile and Home Goods"
          ],
          [
           "Agriculture"
          ],
          [
           "Agriculture"
          ],
          [
           "Industrial Chemicals and Metals"
          ],
          [
           "Construction, Building, and Home Supplies"
          ],
          [
           "Metalworking and Electrical Machinery and Parts"
          ],
          [
           "Minerals"
          ],
          [
           "Textile and Home Goods"
          ],
          [
           "Agriculture"
          ],
          [
           "Construction, Building, and Home Supplies"
          ],
          [
           "Industrial Chemicals and Metals"
          ],
          [
           "Textile and Home Goods"
          ],
          [
           "Textile Apparel and Accessories"
          ],
          [
           "Textile Apparel and Accessories"
          ],
          [
           "Industrial Chemicals and Metals"
          ],
          [
           "Agriculture"
          ],
          [
           "Construction, Building, and Home Supplies"
          ],
          [
           "Industrial Chemicals and Metals"
          ],
          [
           "Metalworking and Electrical Machinery and Parts"
          ],
          [
           "Textile and Home Goods"
          ],
          [
           "Agriculture"
          ],
          [
           "Electronic and Electrical Goods"
          ],
          [
           "Textile Apparel and Accessories"
          ],
          [
           "Textile and Home Goods"
          ],
          [
           "Electronic and Electrical Goods"
          ],
          [
           "Agriculture"
          ],
          [
           "Minerals"
          ],
          [
           "Metalworking and Electrical Machinery and Parts"
          ],
          [
           "Agriculture"
          ],
          [
           "Agriculture"
          ],
          [
           "Minerals"
          ],
          [
           "Textile and Home Goods"
          ],
          [
           "Textile and Home Goods"
          ],
          [
           "Agriculture"
          ],
          [
           "Construction, Building, and Home Supplies"
          ],
          [
           "Electronic and Electrical Goods"
          ],
          [
           "Electronic and Electrical Goods"
          ],
          [
           "Industrial Chemicals and Metals"
          ],
          [
           "Construction, Building, and Home Supplies"
          ],
          [
           "Industrial Chemicals and Metals"
          ],
          [
           "Textile Apparel and Accessories"
          ],
          [
           "Construction, Building, and Home Supplies"
          ],
          [
           "Metalworking and Electrical Machinery and Parts"
          ],
          [
           "Textile and Home Goods"
          ],
          [
           "Textile Apparel and Accessories"
          ],
          [
           "Textile and Home Goods"
          ],
          [
           "Construction, Building, and Home Supplies"
          ],
          [
           "Metalworking and Electrical Machinery and Parts"
          ],
          [
           "Industrial Chemicals and Metals"
          ],
          [
           "Metalworking and Electrical Machinery and Parts"
          ],
          [
           "Construction, Building, and Home Supplies"
          ],
          [
           "Construction, Building, and Home Supplies"
          ],
          [
           "Industrial Chemicals and Metals"
          ],
          [
           "Construction, Building, and Home Supplies"
          ],
          [
           "Industrial Chemicals and Metals"
          ],
          [
           "Metalworking and Electrical Machinery and Parts"
          ],
          [
           "Textile and Home Goods"
          ],
          [
           "Agriculture"
          ],
          [
           "Agriculture"
          ],
          [
           "Agriculture"
          ],
          [
           "Industrial Chemicals and Metals"
          ],
          [
           "Textile Apparel and Accessories"
          ],
          [
           "Agriculture"
          ],
          [
           "Textile and Home Goods"
          ],
          [
           "Agriculture"
          ],
          [
           "Textile and Home Goods"
          ],
          [
           "Construction, Building, and Home Supplies"
          ],
          [
           "Industrial Chemicals and Metals"
          ],
          [
           "Metalworking and Electrical Machinery and Parts"
          ],
          [
           "Textile and Home Goods"
          ],
          [
           "Agriculture"
          ],
          [
           "Metalworking and Electrical Machinery and Parts"
          ],
          [
           "Textile Apparel and Accessories"
          ],
          [
           "Agriculture"
          ],
          [
           "Textile Apparel and Accessories"
          ],
          [
           "Construction, Building, and Home Supplies"
          ],
          [
           "Electronic and Electrical Goods"
          ],
          [
           "Industrial Chemicals and Metals"
          ],
          [
           "Metalworking and Electrical Machinery and Parts"
          ],
          [
           "Textile and Home Goods"
          ],
          [
           "Metalworking and Electrical Machinery and Parts"
          ],
          [
           "Textile and Home Goods"
          ],
          [
           "Construction, Building, and Home Supplies"
          ],
          [
           "Textile and Home Goods"
          ],
          [
           "Agriculture"
          ],
          [
           "Agriculture"
          ],
          [
           "Agriculture"
          ],
          [
           "Agriculture"
          ],
          [
           "Construction, Building, and Home Supplies"
          ],
          [
           "Electronic and Electrical Goods"
          ],
          [
           "Metalworking and Electrical Machinery and Parts"
          ],
          [
           "Textile and Home Goods"
          ],
          [
           "Industrial Chemicals and Metals"
          ],
          [
           "Metalworking and Electrical Machinery and Parts"
          ],
          [
           "Industrial Chemicals and Metals"
          ],
          [
           "Textile and Home Goods"
          ],
          [
           "Agriculture"
          ],
          [
           "Construction, Building, and Home Supplies"
          ],
          [
           "Textile and Home Goods"
          ],
          [
           "Agriculture"
          ],
          [
           "Construction, Building, and Home Supplies"
          ],
          [
           "Metalworking and Electrical Machinery and Parts"
          ],
          [
           "Textile Apparel and Accessories"
          ],
          [
           "Agriculture"
          ],
          [
           "Textile and Home Goods"
          ],
          [
           "Construction, Building, and Home Supplies"
          ],
          [
           "Industrial Chemicals and Metals"
          ],
          [
           "Metalworking and Electrical Machinery and Parts"
          ],
          [
           "Agriculture"
          ],
          [
           "Textile and Home Goods"
          ],
          [
           "Textile and Home Goods"
          ],
          [
           "Construction, Building, and Home Supplies"
          ],
          [
           "Industrial Chemicals and Metals"
          ],
          [
           "Construction, Building, and Home Supplies"
          ],
          [
           "Industrial Chemicals and Metals"
          ],
          [
           "Metalworking and Electrical Machinery and Parts"
          ],
          [
           "Minerals"
          ],
          [
           "Construction, Building, and Home Supplies"
          ],
          [
           "Metalworking and Electrical Machinery and Parts"
          ],
          [
           "Textile Apparel and Accessories"
          ],
          [
           "Textile and Home Goods"
          ]
         ],
         "domain": {
          "x": [
           0,
           1
          ],
          "y": [
           0,
           1
          ]
         },
         "hovertemplate": "%{label}<br>%{value:.1f}%<br>Category: %{customdata[0]}<extra></extra>",
         "ids": [
          "Industrial Chemicals and Metals/Aircraft, spacecraft, and parts thereof",
          "Agriculture/Preparations of vegetables, fruit, nuts or other parts of plants",
          "Agriculture/Printed books, newspapers, pictures and other products of the printing industry",
          "Textile and Home Goods/Printed books, newspapers, pictures and other products of the printing industry",
          "Agriculture/Products of the milling industry",
          "Agriculture/Pulp of wood or other fibrous cellulosic material",
          "Textile and Home Goods/Pulp of wood or other fibrous cellulosic material",
          "Construction, Building, and Home Supplies/Railway, tramway locomotives, rolling-stock and parts thereof",
          "Industrial Chemicals and Metals/Railway, tramway locomotives, rolling-stock and parts thereof",
          "Metalworking and Electrical Machinery and Parts/Railway, tramway locomotives, rolling-stock and parts thereof",
          "Agriculture/Raw hides and skins (other than furskins) and leather",
          "Textile and Home Goods/Raw hides and skins (other than furskins) and leather",
          "Construction, Building, and Home Supplies/Rubber and articles thereof",
          "Industrial Chemicals and Metals/Rubber and articles thereof",
          "Metalworking and Electrical Machinery and Parts/Rubber and articles thereof",
          "Textile and Home Goods/Rubber and articles thereof",
          "Agriculture/Salt",
          "Minerals/Salt",
          "Construction, Building, and Home Supplies/Ships, boats and floating structures",
          "Industrial Chemicals and Metals/Ships, boats and floating structures",
          "Agriculture/Preparations of cereals, flour, starch or milk",
          "Metalworking and Electrical Machinery and Parts/Plastics and articles thereof",
          "Industrial Chemicals and Metals/Plastics and articles thereof",
          "Electronic and Electrical Goods/Plastics and articles thereof",
          "Electronic and Electrical Goods/Musical instruments",
          "Metalworking and Electrical Machinery and Parts/Musical instruments",
          "Electronic and Electrical Goods/Natural, cultured pearls",
          "Industrial Chemicals and Metals/Natural, cultured pearls",
          "Minerals/Natural, cultured pearls",
          "Textile and Home Goods/Natural, cultured pearls",
          "Industrial Chemicals and Metals/Nickel and articles thereof",
          "Agriculture/Oil seeds and oleaginous fruits",
          "Construction, Building, and Home Supplies/Optical, photographic, cinematographic, measuring, checking, medical or surgical instruments and apparatus...",
          "Metalworking and Electrical Machinery and Parts/Ships, boats and floating structures",
          "Electronic and Electrical Goods/Optical, photographic, cinematographic, measuring, checking, medical or surgical instruments and apparatus...",
          "Metalworking and Electrical Machinery and Parts/Optical, photographic, cinematographic, measuring, checking, medical or surgical instruments and apparatus...",
          "Minerals/Ores, slag and ash",
          "Industrial Chemicals and Metals/Organic chemicals",
          "Agriculture/Paper and paperboard",
          "Textile and Home Goods/Paper and paperboard",
          "Industrial Chemicals and Metals/Pharmaceutical products",
          "Construction, Building, and Home Supplies/Photographic or cinematographic goods",
          "Industrial Chemicals and Metals/Photographic or cinematographic goods",
          "Construction, Building, and Home Supplies/Plastics and articles thereof",
          "Industrial Chemicals and Metals/Optical, photographic, cinematographic, measuring, checking, medical or surgical instruments and apparatus...",
          "Textile and Home Goods/Ships, boats and floating structures",
          "Textile and Home Goods/Silk",
          "Construction, Building, and Home Supplies/Soap, organic surface-active agents",
          "Agriculture/Vegetables and certain roots and tubers",
          "Construction, Building, and Home Supplies/Vehicles",
          "Electronic and Electrical Goods/Vehicles",
          "Metalworking and Electrical Machinery and Parts/Vehicles",
          "Textile and Home Goods/Vehicles",
          "Textile Apparel and Accessories/Wadding, felt and nonwovens, special yarns",
          "Textile and Home Goods/Wadding, felt and nonwovens, special yarns",
          "Agriculture/Wood and articles of wood",
          "Textile and Home Goods/Wood and articles of wood",
          "Textile and Home Goods/Vegetable textile fibres",
          "Textile and Home Goods/Wool, fine or coarse animal hair",
          "Textile and Home Goods/Works of art",
          "Industrial Chemicals and Metals/Zinc and articles thereof",
          "Metalworking and Electrical Machinery and Parts/Zinc and articles thereof",
          "Agriculture",
          "Construction, Building, and Home Supplies",
          "Electronic and Electrical Goods",
          "Industrial Chemicals and Metals",
          "Metalworking and Electrical Machinery and Parts",
          "Minerals",
          "Industrial Chemicals and Metals/Works of art",
          "Textile and Home Goods/Miscellaneous manufactured articles",
          "Agriculture/Vegetable plaiting materials",
          "Agriculture/Trees and other plants, live",
          "Industrial Chemicals and Metals/Soap, organic surface-active agents",
          "Construction, Building, and Home Supplies/Stone, plaster, cement, asbestos, mica or similar materials",
          "Metalworking and Electrical Machinery and Parts/Stone, plaster, cement, asbestos, mica or similar materials",
          "Minerals/Stone, plaster, cement, asbestos, mica or similar materials",
          "Textile and Home Goods/Stone, plaster, cement, asbestos, mica or similar materials",
          "Agriculture/Sugars and sugar confectionery",
          "Construction, Building, and Home Supplies/Tanning or dyeing extracts",
          "Industrial Chemicals and Metals/Tanning or dyeing extracts",
          "Textile and Home Goods/Textile fabrics",
          "Textile Apparel and Accessories/Umbrellas, sun umbrellas, walking-sticks, seat sticks, whips, riding crops",
          "Textile Apparel and Accessories/Textiles, made up articles",
          "Industrial Chemicals and Metals/Tin",
          "Agriculture/Tobacco and manufactured tobacco substitutes",
          "Construction, Building, and Home Supplies/Tools, implements, cutlery, spoons and forks, of base metal",
          "Industrial Chemicals and Metals/Tools, implements, cutlery, spoons and forks, of base metal",
          "Metalworking and Electrical Machinery and Parts/Tools, implements, cutlery, spoons and forks, of base metal",
          "Textile and Home Goods/Tools, implements, cutlery, spoons and forks, of base metal",
          "Agriculture/Toys, games and sports requisites",
          "Electronic and Electrical Goods/Toys, games and sports requisites",
          "Textile Apparel and Accessories/Toys, games and sports requisites",
          "Textile and Home Goods/Textiles, made up articles",
          "Electronic and Electrical Goods/Miscellaneous manufactured articles",
          "Agriculture/Miscellaneous edible preparations",
          "Minerals/Mineral fuels, mineral oils and products of their distillation",
          "Metalworking and Electrical Machinery and Parts/Clocks and watches and parts thereof",
          "Agriculture/Cocoa and cocoa preparations",
          "Agriculture/Coffee, tea, mate and spices",
          "Minerals/Copper and articles thereof",
          "Textile and Home Goods/Cork and articles of cork",
          "Textile and Home Goods/Cotton",
          "Agriculture/Dairy produce",
          "Construction, Building, and Home Supplies/Electrical machinery and equipment and parts thereof",
          "Electronic and Electrical Goods/Electrical machinery and equipment and parts thereof",
          "Electronic and Electrical Goods/Clocks and watches and parts thereof",
          "Industrial Chemicals and Metals/Electrical machinery and equipment and parts thereof",
          "Construction, Building, and Home Supplies/Essential oils and resinoids",
          "Industrial Chemicals and Metals/Essential oils and resinoids",
          "Textile Apparel and Accessories/Essential oils and resinoids",
          "Construction, Building, and Home Supplies/Explosives",
          "Metalworking and Electrical Machinery and Parts/Explosives",
          "Textile and Home Goods/Fabrics",
          "Textile Apparel and Accessories/Feathers and down, prepared",
          "Textile and Home Goods/Feathers and down, prepared",
          "Construction, Building, and Home Supplies/Fertilizers",
          "Metalworking and Electrical Machinery and Parts/Electrical machinery and equipment and parts thereof",
          "Industrial Chemicals and Metals/Fertilizers",
          "Metalworking and Electrical Machinery and Parts/Chemical products n.e.c.",
          "Construction, Building, and Home Supplies/Chemical products n.e.c.",
          "Construction, Building, and Home Supplies/Albuminoidal substances",
          "Industrial Chemicals and Metals/Albuminoidal substances",
          "Construction, Building, and Home Supplies/Aluminium and articles thereof",
          "Industrial Chemicals and Metals/Aluminium and articles thereof",
          "Metalworking and Electrical Machinery and Parts/Aluminium and articles thereof",
          "Textile and Home Goods/Aluminium and articles thereof",
          "Agriculture/Animal originated products",
          "Agriculture/Animal, vegetable or microbial fats and oils and their cleavage products",
          "Agriculture/Animals",
          "Industrial Chemicals and Metals/Chemical products n.e.c.",
          "Textile Apparel and Accessories/Apparel and clothing accessories",
          "Agriculture/Articles of leather",
          "Textile and Home Goods/Articles of leather",
          "Agriculture/Beverages, spirits and vinegar",
          "Textile and Home Goods/Carpets and other textile floor coverings",
          "Construction, Building, and Home Supplies/Ceramic products",
          "Industrial Chemicals and Metals/Ceramic products",
          "Metalworking and Electrical Machinery and Parts/Ceramic products",
          "Textile and Home Goods/Ceramic products",
          "Agriculture/Cereals",
          "Metalworking and Electrical Machinery and Parts/Arms and ammunition",
          "Textile Apparel and Accessories",
          "Agriculture/Fish and crustaceans, molluscs and other aquatic invertebrates",
          "Textile Apparel and Accessories/Footwear",
          "Construction, Building, and Home Supplies/Machinery and mechanical appliances, boilers, nuclear reactors",
          "Electronic and Electrical Goods/Machinery and mechanical appliances, boilers, nuclear reactors",
          "Industrial Chemicals and Metals/Machinery and mechanical appliances, boilers, nuclear reactors",
          "Metalworking and Electrical Machinery and Parts/Machinery and mechanical appliances, boilers, nuclear reactors",
          "Textile and Home Goods/Machinery and mechanical appliances, boilers, nuclear reactors",
          "Metalworking and Electrical Machinery and Parts/Man-made filaments",
          "Textile and Home Goods/Man-made filaments",
          "Construction, Building, and Home Supplies/Man-made staple fibres",
          "Textile and Home Goods/Man-made staple fibres",
          "Agriculture/Machinery and mechanical appliances, boilers, nuclear reactors",
          "Agriculture/Manufactures of straw, esparto or other plaiting materials",
          "Agriculture/Meat and edible meat offal",
          "Agriculture/Meat, fish, crustaceans, molluscs or other aquatic invertebrates, or insects",
          "Construction, Building, and Home Supplies/Metal",
          "Electronic and Electrical Goods/Metal",
          "Metalworking and Electrical Machinery and Parts/Metal",
          "Textile and Home Goods/Metal",
          "Industrial Chemicals and Metals/Metals",
          "Metalworking and Electrical Machinery and Parts/Metals",
          "Industrial Chemicals and Metals/Mineral fuels, mineral oils and products of their distillation",
          "Textile and Home Goods/Manufactures of straw, esparto or other plaiting materials",
          "Agriculture/Food industries, residues and wastes thereof",
          "Construction, Building, and Home Supplies/Lead and articles thereof",
          "Textile and Home Goods/Iron or steel articles",
          "Agriculture/Fruit and nuts, edible",
          "Construction, Building, and Home Supplies/Furniture",
          "Metalworking and Electrical Machinery and Parts/Furniture",
          "Textile Apparel and Accessories/Furniture",
          "Agriculture/Furskins and artificial fur",
          "Textile and Home Goods/Furskins and artificial fur",
          "Construction, Building, and Home Supplies/Glass and glassware",
          "Industrial Chemicals and Metals/Glass and glassware",
          "Metalworking and Electrical Machinery and Parts/Glass and glassware",
          "Agriculture/Lac",
          "Textile and Home Goods/Glass and glassware",
          "Textile and Home Goods/Headgear and parts thereof",
          "Construction, Building, and Home Supplies/Inorganic chemicals",
          "Industrial Chemicals and Metals/Inorganic chemicals",
          "Construction, Building, and Home Supplies/Iron and steel",
          "Industrial Chemicals and Metals/Iron and steel",
          "Metalworking and Electrical Machinery and Parts/Iron and steel",
          "Minerals/Iron and steel",
          "Construction, Building, and Home Supplies/Iron or steel articles",
          "Metalworking and Electrical Machinery and Parts/Iron or steel articles",
          "Textile Apparel and Accessories/Headgear and parts thereof",
          "Textile and Home Goods"
         ],
         "labels": [
          "Aircraft, spacecraft, and parts thereof",
          "Preparations of vegetables, fruit, nuts or other parts of plants",
          "Printed books, newspapers, pictures and other products of the printing industry",
          "Printed books, newspapers, pictures and other products of the printing industry",
          "Products of the milling industry",
          "Pulp of wood or other fibrous cellulosic material",
          "Pulp of wood or other fibrous cellulosic material",
          "Railway, tramway locomotives, rolling-stock and parts thereof",
          "Railway, tramway locomotives, rolling-stock and parts thereof",
          "Railway, tramway locomotives, rolling-stock and parts thereof",
          "Raw hides and skins (other than furskins) and leather",
          "Raw hides and skins (other than furskins) and leather",
          "Rubber and articles thereof",
          "Rubber and articles thereof",
          "Rubber and articles thereof",
          "Rubber and articles thereof",
          "Salt",
          "Salt",
          "Ships, boats and floating structures",
          "Ships, boats and floating structures",
          "Preparations of cereals, flour, starch or milk",
          "Plastics and articles thereof",
          "Plastics and articles thereof",
          "Plastics and articles thereof",
          "Musical instruments",
          "Musical instruments",
          "Natural, cultured pearls",
          "Natural, cultured pearls",
          "Natural, cultured pearls",
          "Natural, cultured pearls",
          "Nickel and articles thereof",
          "Oil seeds and oleaginous fruits",
          "Optical, photographic, cinematographic, measuring, checking, medical or surgical instruments and apparatus...",
          "Ships, boats and floating structures",
          "Optical, photographic, cinematographic, measuring, checking, medical or surgical instruments and apparatus...",
          "Optical, photographic, cinematographic, measuring, checking, medical or surgical instruments and apparatus...",
          "Ores, slag and ash",
          "Organic chemicals",
          "Paper and paperboard",
          "Paper and paperboard",
          "Pharmaceutical products",
          "Photographic or cinematographic goods",
          "Photographic or cinematographic goods",
          "Plastics and articles thereof",
          "Optical, photographic, cinematographic, measuring, checking, medical or surgical instruments and apparatus...",
          "Ships, boats and floating structures",
          "Silk",
          "Soap, organic surface-active agents",
          "Vegetables and certain roots and tubers",
          "Vehicles",
          "Vehicles",
          "Vehicles",
          "Vehicles",
          "Wadding, felt and nonwovens, special yarns",
          "Wadding, felt and nonwovens, special yarns",
          "Wood and articles of wood",
          "Wood and articles of wood",
          "Vegetable textile fibres",
          "Wool, fine or coarse animal hair",
          "Works of art",
          "Zinc and articles thereof",
          "Zinc and articles thereof",
          "Agriculture",
          "Construction, Building, and Home Supplies",
          "Electronic and Electrical Goods",
          "Industrial Chemicals and Metals",
          "Metalworking and Electrical Machinery and Parts",
          "Minerals",
          "Works of art",
          "Miscellaneous manufactured articles",
          "Vegetable plaiting materials",
          "Trees and other plants, live",
          "Soap, organic surface-active agents",
          "Stone, plaster, cement, asbestos, mica or similar materials",
          "Stone, plaster, cement, asbestos, mica or similar materials",
          "Stone, plaster, cement, asbestos, mica or similar materials",
          "Stone, plaster, cement, asbestos, mica or similar materials",
          "Sugars and sugar confectionery",
          "Tanning or dyeing extracts",
          "Tanning or dyeing extracts",
          "Textile fabrics",
          "Umbrellas, sun umbrellas, walking-sticks, seat sticks, whips, riding crops",
          "Textiles, made up articles",
          "Tin",
          "Tobacco and manufactured tobacco substitutes",
          "Tools, implements, cutlery, spoons and forks, of base metal",
          "Tools, implements, cutlery, spoons and forks, of base metal",
          "Tools, implements, cutlery, spoons and forks, of base metal",
          "Tools, implements, cutlery, spoons and forks, of base metal",
          "Toys, games and sports requisites",
          "Toys, games and sports requisites",
          "Toys, games and sports requisites",
          "Textiles, made up articles",
          "Miscellaneous manufactured articles",
          "Miscellaneous edible preparations",
          "Mineral fuels, mineral oils and products of their distillation",
          "Clocks and watches and parts thereof",
          "Cocoa and cocoa preparations",
          "Coffee, tea, mate and spices",
          "Copper and articles thereof",
          "Cork and articles of cork",
          "Cotton",
          "Dairy produce",
          "Electrical machinery and equipment and parts thereof",
          "Electrical machinery and equipment and parts thereof",
          "Clocks and watches and parts thereof",
          "Electrical machinery and equipment and parts thereof",
          "Essential oils and resinoids",
          "Essential oils and resinoids",
          "Essential oils and resinoids",
          "Explosives",
          "Explosives",
          "Fabrics",
          "Feathers and down, prepared",
          "Feathers and down, prepared",
          "Fertilizers",
          "Electrical machinery and equipment and parts thereof",
          "Fertilizers",
          "Chemical products n.e.c.",
          "Chemical products n.e.c.",
          "Albuminoidal substances",
          "Albuminoidal substances",
          "Aluminium and articles thereof",
          "Aluminium and articles thereof",
          "Aluminium and articles thereof",
          "Aluminium and articles thereof",
          "Animal originated products",
          "Animal, vegetable or microbial fats and oils and their cleavage products",
          "Animals",
          "Chemical products n.e.c.",
          "Apparel and clothing accessories",
          "Articles of leather",
          "Articles of leather",
          "Beverages, spirits and vinegar",
          "Carpets and other textile floor coverings",
          "Ceramic products",
          "Ceramic products",
          "Ceramic products",
          "Ceramic products",
          "Cereals",
          "Arms and ammunition",
          "Textile Apparel and Accessories",
          "Fish and crustaceans, molluscs and other aquatic invertebrates",
          "Footwear",
          "Machinery and mechanical appliances, boilers, nuclear reactors",
          "Machinery and mechanical appliances, boilers, nuclear reactors",
          "Machinery and mechanical appliances, boilers, nuclear reactors",
          "Machinery and mechanical appliances, boilers, nuclear reactors",
          "Machinery and mechanical appliances, boilers, nuclear reactors",
          "Man-made filaments",
          "Man-made filaments",
          "Man-made staple fibres",
          "Man-made staple fibres",
          "Machinery and mechanical appliances, boilers, nuclear reactors",
          "Manufactures of straw, esparto or other plaiting materials",
          "Meat and edible meat offal",
          "Meat, fish, crustaceans, molluscs or other aquatic invertebrates, or insects",
          "Metal",
          "Metal",
          "Metal",
          "Metal",
          "Metals",
          "Metals",
          "Mineral fuels, mineral oils and products of their distillation",
          "Manufactures of straw, esparto or other plaiting materials",
          "Food industries, residues and wastes thereof",
          "Lead and articles thereof",
          "Iron or steel articles",
          "Fruit and nuts, edible",
          "Furniture",
          "Furniture",
          "Furniture",
          "Furskins and artificial fur",
          "Furskins and artificial fur",
          "Glass and glassware",
          "Glass and glassware",
          "Glass and glassware",
          "Lac",
          "Glass and glassware",
          "Headgear and parts thereof",
          "Inorganic chemicals",
          "Inorganic chemicals",
          "Iron and steel",
          "Iron and steel",
          "Iron and steel",
          "Iron and steel",
          "Iron or steel articles",
          "Iron or steel articles",
          "Headgear and parts thereof",
          "Textile and Home Goods"
         ],
         "marker": {
          "colors": [
           "#76B7B2",
           "#4E79A7",
           "#4E79A7",
           "#FF9DA7",
           "#4E79A7",
           "#4E79A7",
           "#FF9DA7",
           "#F28E2B",
           "#76B7B2",
           "#59A14F",
           "#4E79A7",
           "#FF9DA7",
           "#F28E2B",
           "#76B7B2",
           "#59A14F",
           "#FF9DA7",
           "#4E79A7",
           "#EDC949",
           "#F28E2B",
           "#76B7B2",
           "#4E79A7",
           "#59A14F",
           "#76B7B2",
           "#E15759",
           "#E15759",
           "#59A14F",
           "#E15759",
           "#76B7B2",
           "#EDC949",
           "#FF9DA7",
           "#76B7B2",
           "#4E79A7",
           "#F28E2B",
           "#59A14F",
           "#E15759",
           "#59A14F",
           "#EDC949",
           "#76B7B2",
           "#4E79A7",
           "#FF9DA7",
           "#76B7B2",
           "#F28E2B",
           "#76B7B2",
           "#F28E2B",
           "#76B7B2",
           "#FF9DA7",
           "#FF9DA7",
           "#F28E2B",
           "#4E79A7",
           "#F28E2B",
           "#E15759",
           "#59A14F",
           "#FF9DA7",
           "#AF7AA1",
           "#FF9DA7",
           "#4E79A7",
           "#FF9DA7",
           "#FF9DA7",
           "#FF9DA7",
           "#FF9DA7",
           "#76B7B2",
           "#59A14F",
           "#4E79A7",
           "#F28E2B",
           "#E15759",
           "#76B7B2",
           "#59A14F",
           "#EDC949",
           "#76B7B2",
           "#FF9DA7",
           "#4E79A7",
           "#4E79A7",
           "#76B7B2",
           "#F28E2B",
           "#59A14F",
           "#EDC949",
           "#FF9DA7",
           "#4E79A7",
           "#F28E2B",
           "#76B7B2",
           "#FF9DA7",
           "#AF7AA1",
           "#AF7AA1",
           "#76B7B2",
           "#4E79A7",
           "#F28E2B",
           "#76B7B2",
           "#59A14F",
           "#FF9DA7",
           "#4E79A7",
           "#E15759",
           "#AF7AA1",
           "#FF9DA7",
           "#E15759",
           "#4E79A7",
           "#EDC949",
           "#59A14F",
           "#4E79A7",
           "#4E79A7",
           "#EDC949",
           "#FF9DA7",
           "#FF9DA7",
           "#4E79A7",
           "#F28E2B",
           "#E15759",
           "#E15759",
           "#76B7B2",
           "#F28E2B",
           "#76B7B2",
           "#AF7AA1",
           "#F28E2B",
           "#59A14F",
           "#FF9DA7",
           "#AF7AA1",
           "#FF9DA7",
           "#F28E2B",
           "#59A14F",
           "#76B7B2",
           "#59A14F",
           "#F28E2B",
           "#F28E2B",
           "#76B7B2",
           "#F28E2B",
           "#76B7B2",
           "#59A14F",
           "#FF9DA7",
           "#4E79A7",
           "#4E79A7",
           "#4E79A7",
           "#76B7B2",
           "#AF7AA1",
           "#4E79A7",
           "#FF9DA7",
           "#4E79A7",
           "#FF9DA7",
           "#F28E2B",
           "#76B7B2",
           "#59A14F",
           "#FF9DA7",
           "#4E79A7",
           "#59A14F",
           "#AF7AA1",
           "#4E79A7",
           "#AF7AA1",
           "#F28E2B",
           "#E15759",
           "#76B7B2",
           "#59A14F",
           "#FF9DA7",
           "#59A14F",
           "#FF9DA7",
           "#F28E2B",
           "#FF9DA7",
           "#4E79A7",
           "#4E79A7",
           "#4E79A7",
           "#4E79A7",
           "#F28E2B",
           "#E15759",
           "#59A14F",
           "#FF9DA7",
           "#76B7B2",
           "#59A14F",
           "#76B7B2",
           "#FF9DA7",
           "#4E79A7",
           "#F28E2B",
           "#FF9DA7",
           "#4E79A7",
           "#F28E2B",
           "#59A14F",
           "#AF7AA1",
           "#4E79A7",
           "#FF9DA7",
           "#F28E2B",
           "#76B7B2",
           "#59A14F",
           "#4E79A7",
           "#FF9DA7",
           "#FF9DA7",
           "#F28E2B",
           "#76B7B2",
           "#F28E2B",
           "#76B7B2",
           "#59A14F",
           "#EDC949",
           "#F28E2B",
           "#59A14F",
           "#AF7AA1",
           "#FF9DA7"
          ],
          "line": {
           "width": 1
          }
         },
         "name": "",
         "parents": [
          "Industrial Chemicals and Metals",
          "Agriculture",
          "Agriculture",
          "Textile and Home Goods",
          "Agriculture",
          "Agriculture",
          "Textile and Home Goods",
          "Construction, Building, and Home Supplies",
          "Industrial Chemicals and Metals",
          "Metalworking and Electrical Machinery and Parts",
          "Agriculture",
          "Textile and Home Goods",
          "Construction, Building, and Home Supplies",
          "Industrial Chemicals and Metals",
          "Metalworking and Electrical Machinery and Parts",
          "Textile and Home Goods",
          "Agriculture",
          "Minerals",
          "Construction, Building, and Home Supplies",
          "Industrial Chemicals and Metals",
          "Agriculture",
          "Metalworking and Electrical Machinery and Parts",
          "Industrial Chemicals and Metals",
          "Electronic and Electrical Goods",
          "Electronic and Electrical Goods",
          "Metalworking and Electrical Machinery and Parts",
          "Electronic and Electrical Goods",
          "Industrial Chemicals and Metals",
          "Minerals",
          "Textile and Home Goods",
          "Industrial Chemicals and Metals",
          "Agriculture",
          "Construction, Building, and Home Supplies",
          "Metalworking and Electrical Machinery and Parts",
          "Electronic and Electrical Goods",
          "Metalworking and Electrical Machinery and Parts",
          "Minerals",
          "Industrial Chemicals and Metals",
          "Agriculture",
          "Textile and Home Goods",
          "Industrial Chemicals and Metals",
          "Construction, Building, and Home Supplies",
          "Industrial Chemicals and Metals",
          "Construction, Building, and Home Supplies",
          "Industrial Chemicals and Metals",
          "Textile and Home Goods",
          "Textile and Home Goods",
          "Construction, Building, and Home Supplies",
          "Agriculture",
          "Construction, Building, and Home Supplies",
          "Electronic and Electrical Goods",
          "Metalworking and Electrical Machinery and Parts",
          "Textile and Home Goods",
          "Textile Apparel and Accessories",
          "Textile and Home Goods",
          "Agriculture",
          "Textile and Home Goods",
          "Textile and Home Goods",
          "Textile and Home Goods",
          "Textile and Home Goods",
          "Industrial Chemicals and Metals",
          "Metalworking and Electrical Machinery and Parts",
          "",
          "",
          "",
          "",
          "",
          "",
          "Industrial Chemicals and Metals",
          "Textile and Home Goods",
          "Agriculture",
          "Agriculture",
          "Industrial Chemicals and Metals",
          "Construction, Building, and Home Supplies",
          "Metalworking and Electrical Machinery and Parts",
          "Minerals",
          "Textile and Home Goods",
          "Agriculture",
          "Construction, Building, and Home Supplies",
          "Industrial Chemicals and Metals",
          "Textile and Home Goods",
          "Textile Apparel and Accessories",
          "Textile Apparel and Accessories",
          "Industrial Chemicals and Metals",
          "Agriculture",
          "Construction, Building, and Home Supplies",
          "Industrial Chemicals and Metals",
          "Metalworking and Electrical Machinery and Parts",
          "Textile and Home Goods",
          "Agriculture",
          "Electronic and Electrical Goods",
          "Textile Apparel and Accessories",
          "Textile and Home Goods",
          "Electronic and Electrical Goods",
          "Agriculture",
          "Minerals",
          "Metalworking and Electrical Machinery and Parts",
          "Agriculture",
          "Agriculture",
          "Minerals",
          "Textile and Home Goods",
          "Textile and Home Goods",
          "Agriculture",
          "Construction, Building, and Home Supplies",
          "Electronic and Electrical Goods",
          "Electronic and Electrical Goods",
          "Industrial Chemicals and Metals",
          "Construction, Building, and Home Supplies",
          "Industrial Chemicals and Metals",
          "Textile Apparel and Accessories",
          "Construction, Building, and Home Supplies",
          "Metalworking and Electrical Machinery and Parts",
          "Textile and Home Goods",
          "Textile Apparel and Accessories",
          "Textile and Home Goods",
          "Construction, Building, and Home Supplies",
          "Metalworking and Electrical Machinery and Parts",
          "Industrial Chemicals and Metals",
          "Metalworking and Electrical Machinery and Parts",
          "Construction, Building, and Home Supplies",
          "Construction, Building, and Home Supplies",
          "Industrial Chemicals and Metals",
          "Construction, Building, and Home Supplies",
          "Industrial Chemicals and Metals",
          "Metalworking and Electrical Machinery and Parts",
          "Textile and Home Goods",
          "Agriculture",
          "Agriculture",
          "Agriculture",
          "Industrial Chemicals and Metals",
          "Textile Apparel and Accessories",
          "Agriculture",
          "Textile and Home Goods",
          "Agriculture",
          "Textile and Home Goods",
          "Construction, Building, and Home Supplies",
          "Industrial Chemicals and Metals",
          "Metalworking and Electrical Machinery and Parts",
          "Textile and Home Goods",
          "Agriculture",
          "Metalworking and Electrical Machinery and Parts",
          "",
          "Agriculture",
          "Textile Apparel and Accessories",
          "Construction, Building, and Home Supplies",
          "Electronic and Electrical Goods",
          "Industrial Chemicals and Metals",
          "Metalworking and Electrical Machinery and Parts",
          "Textile and Home Goods",
          "Metalworking and Electrical Machinery and Parts",
          "Textile and Home Goods",
          "Construction, Building, and Home Supplies",
          "Textile and Home Goods",
          "Agriculture",
          "Agriculture",
          "Agriculture",
          "Agriculture",
          "Construction, Building, and Home Supplies",
          "Electronic and Electrical Goods",
          "Metalworking and Electrical Machinery and Parts",
          "Textile and Home Goods",
          "Industrial Chemicals and Metals",
          "Metalworking and Electrical Machinery and Parts",
          "Industrial Chemicals and Metals",
          "Textile and Home Goods",
          "Agriculture",
          "Construction, Building, and Home Supplies",
          "Textile and Home Goods",
          "Agriculture",
          "Construction, Building, and Home Supplies",
          "Metalworking and Electrical Machinery and Parts",
          "Textile Apparel and Accessories",
          "Agriculture",
          "Textile and Home Goods",
          "Construction, Building, and Home Supplies",
          "Industrial Chemicals and Metals",
          "Metalworking and Electrical Machinery and Parts",
          "Agriculture",
          "Textile and Home Goods",
          "Textile and Home Goods",
          "Construction, Building, and Home Supplies",
          "Industrial Chemicals and Metals",
          "Construction, Building, and Home Supplies",
          "Industrial Chemicals and Metals",
          "Metalworking and Electrical Machinery and Parts",
          "Minerals",
          "Construction, Building, and Home Supplies",
          "Metalworking and Electrical Machinery and Parts",
          "Textile Apparel and Accessories",
          ""
         ],
         "textfont": {
          "size": 15
         },
         "textinfo": "label+percent entry",
         "type": "treemap",
         "values": [
          0.557941108811693,
          0.0806635219229239,
          0.0912133553117052,
          0.0048170711044845,
          0.0563898794591851,
          0.0310355877016716,
          0.008355991183824098,
          0.0062564626425065,
          0.0053799391914949,
          0.0619440030479112,
          0.015178077312354401,
          0.0024504216140656507,
          0.1497064307082583,
          0.054288440906653704,
          0.2136870918939712,
          0.0144832988164961,
          0.005998080031963424,
          0.05381154124332278,
          0.03268216348790495,
          0.0061742691559682,
          0.20752512354347386,
          0.0718641421194053,
          0.7716228917725119,
          0.2720246423139526,
          0.0078982250416482,
          0.0053660770933377,
          0.047021899915522,
          0.3133430165612884,
          0.004926126316167757,
          0.0107574813934832,
          0.0456438294779708,
          0.045102531527573396,
          0.0123401060360051,
          0.1157752799853396,
          1.8710508271691857,
          0.0523949622986569,
          0.02523191392963977,
          0.8550530432150545,
          0.6166031929167942,
          0.0101309931972575,
          3.116479132677286,
          0.004499434941828596,
          0.024784864757666898,
          0.66403449599439,
          0.0155303379103972,
          0.000513867147873,
          0.0005450349856574446,
          0.05243233463633459,
          0.0320643310347954,
          0.3264871186745073,
          0.0343580103441609,
          6.054641491575161,
          0.0235783555962877,
          0.0596151747625219,
          0.010871583542272,
          0.3155036989226396,
          0.0065975518390795004,
          0.0012144401184995238,
          0.013342343389123516,
          0.0014399307587883,
          0.0084022362014974,
          0.0062879621155477,
          3.63559480169666,
          4.502791379733341,
          6.886391890452507,
          7.76636115579494,
          13.159626189126627,
          2.0268890722338178,
          0.0218106112911121,
          0.0597970041153746,
          0.0003349275094748082,
          0.025683691699080802,
          0.1879838710414193,
          0.0425735802182316,
          0.020784976881838998,
          0.0512846523887833,
          0.0229447082733767,
          0.0875994685265761,
          0.1797221424803065,
          0.1488673621640974,
          0.0674753662334406,
          0.0031952619371375,
          0.06859155963925134,
          0.0018501324210667,
          0.0748727762318573,
          0.0102588633032603,
          0.0308293573750366,
          0.1856501032033942,
          0.0033863111474566,
          0.0008245494445218,
          0.1481185799108171,
          0.0035233256205297,
          0.0166167127188261,
          0.0048298663328048,
          0.197829112027578,
          1.4794918563445976,
          0.0019531390506075,
          0.1691780876062085,
          0.10257711419251267,
          0.3952997589311743,
          0.0007232137123655248,
          0.018352269125663286,
          0.32572600965120174,
          0.390976222148947,
          3.2999188425265142,
          0.045940322795300005,
          0.0038548741908355,
          0.23656982128181903,
          0.0588605746820965,
          0.0062021115770386,
          0.0040358160223143,
          0.00270974265631,
          0.026674923520635642,
          0.002333936764098366,
          0.002228073228354,
          0.0105336864134875,
          0.7278008038268816,
          0.1044485064298514,
          0.0062388251108529,
          0.42605173641577426,
          0.0404156057936092,
          0.08555518298655969,
          0.3541629416966905,
          0.0561698753242009,
          0.0982888403793716,
          0.0043861341926924,
          0.025399276190272293,
          0.12287665629585208,
          0.034157344494728,
          0.4543189746448601,
          0.6523886895473378,
          0.0753317621314742,
          0.00003041967321668855,
          0.1775807609205712,
          0.014510181726005201,
          0.0101019218502176,
          0.0319608849415122,
          0.0231323604686195,
          0.031787091161328,
          0.09192460839545491,
          0.0117899354055379,
          1.0800951623382258,
          0.042711381071268324,
          0.25570762474955844,
          0.22253646553110482,
          1.1540765806056128,
          0.0407767224585867,
          4.640324722205441,
          0.0175311908282728,
          0.0090063682469013,
          0.024362814709768046,
          0.000016999807674747003,
          0.0306240887018543,
          0.0519523335197311,
          0.0015651542868498,
          0.19275983776214026,
          0.08906901546920142,
          0.020773312285285898,
          0.0011540934969893,
          0.17882102854595922,
          0.0099412865403149,
          0.0327139353271415,
          0.0024827472758378,
          0.0048457022563712,
          0.0003304632850261,
          0.17773181286977185,
          0.0055051360236414,
          0.0190734380412136,
          0.04948692473953105,
          0.4170665126337914,
          0.0151157673139448,
          0.0177624123380952,
          0.0017156110636655,
          0.0000428161869570518,
          0.1374521567952453,
          0.0104715682755829,
          0.0174891127491993,
          0.0194292059120563,
          0.021089970964979003,
          0.0085117655659656,
          0.0008586034181674,
          0.38350340827958346,
          0.4555432006942029,
          0.33289650106554325,
          0.1148256409102271,
          0.016843223080132502,
          0.2891981077978338,
          0.5212510647663712,
          0.01077506540265704,
          0.5095186083402787
         ],
         "visible": true
        },
        {
         "branchvalues": "total",
         "customdata": [
          [
           "Industrial Chemicals and Metals"
          ],
          [
           "Construction, Building, and Home Supplies"
          ],
          [
           "Electronic and Electrical Goods"
          ],
          [
           "Industrial Chemicals and Metals"
          ],
          [
           "Metalworking and Electrical Machinery and Parts"
          ],
          [
           "Agriculture"
          ],
          [
           "Agriculture"
          ],
          [
           "Agriculture"
          ],
          [
           "Textile and Home Goods"
          ],
          [
           "Industrial Chemicals and Metals"
          ],
          [
           "Agriculture"
          ],
          [
           "Textile and Home Goods"
          ],
          [
           "Construction, Building, and Home Supplies"
          ],
          [
           "Industrial Chemicals and Metals"
          ],
          [
           "Metalworking and Electrical Machinery and Parts"
          ],
          [
           "Agriculture"
          ],
          [
           "Textile and Home Goods"
          ],
          [
           "Construction, Building, and Home Supplies"
          ],
          [
           "Industrial Chemicals and Metals"
          ],
          [
           "Agriculture"
          ],
          [
           "Construction, Building, and Home Supplies"
          ],
          [
           "Industrial Chemicals and Metals"
          ],
          [
           "Textile and Home Goods"
          ],
          [
           "Industrial Chemicals and Metals"
          ],
          [
           "Minerals"
          ],
          [
           "Electronic and Electrical Goods"
          ],
          [
           "Textile and Home Goods"
          ],
          [
           "Electronic and Electrical Goods"
          ],
          [
           "Metalworking and Electrical Machinery and Parts"
          ],
          [
           "Electronic and Electrical Goods"
          ],
          [
           "Industrial Chemicals and Metals"
          ],
          [
           "Minerals"
          ],
          [
           "Textile and Home Goods"
          ],
          [
           "Industrial Chemicals and Metals"
          ],
          [
           "Agriculture"
          ],
          [
           "Construction, Building, and Home Supplies"
          ],
          [
           "Electronic and Electrical Goods"
          ],
          [
           "Industrial Chemicals and Metals"
          ],
          [
           "Metalworking and Electrical Machinery and Parts"
          ],
          [
           "Minerals"
          ],
          [
           "Industrial Chemicals and Metals"
          ],
          [
           "Agriculture"
          ],
          [
           "Metalworking and Electrical Machinery and Parts"
          ],
          [
           "Textile and Home Goods"
          ],
          [
           "Agriculture"
          ],
          [
           "Minerals"
          ],
          [
           "Agriculture"
          ],
          [
           "Electronic and Electrical Goods"
          ],
          [
           "Textile Apparel and Accessories"
          ],
          [
           "Agriculture"
          ],
          [
           "Textile Apparel and Accessories"
          ],
          [
           "Agriculture"
          ],
          [
           "Textile and Home Goods"
          ],
          [
           "Agriculture"
          ],
          [
           "Construction, Building, and Home Supplies"
          ],
          [
           "Electronic and Electrical Goods"
          ],
          [
           "Industrial Chemicals and Metals"
          ],
          [
           "Textile and Home Goods"
          ],
          [
           "Textile and Home Goods"
          ],
          [
           "Textile and Home Goods"
          ],
          [
           "Textile and Home Goods"
          ],
          [
           "Metalworking and Electrical Machinery and Parts"
          ],
          [
           "Agriculture"
          ],
          [
           "Construction, Building, and Home Supplies"
          ],
          [
           "Metalworking and Electrical Machinery and Parts"
          ],
          [
           "Textile and Home Goods"
          ],
          [
           "Metalworking and Electrical Machinery and Parts"
          ],
          [
           "Metalworking and Electrical Machinery and Parts"
          ],
          [
           "Construction, Building, and Home Supplies"
          ],
          [
           "Construction, Building, and Home Supplies"
          ],
          [
           "Industrial Chemicals and Metals"
          ],
          [
           "Metalworking and Electrical Machinery and Parts"
          ],
          [
           "Textile and Home Goods"
          ],
          [
           "Textile and Home Goods"
          ],
          [
           "Construction, Building, and Home Supplies"
          ],
          [
           "Industrial Chemicals and Metals"
          ],
          [
           "Construction, Building, and Home Supplies"
          ],
          [
           "Metalworking and Electrical Machinery and Parts"
          ],
          [
           "Minerals"
          ],
          [
           "Textile and Home Goods"
          ],
          [
           "Agriculture"
          ],
          [
           "Construction, Building, and Home Supplies"
          ],
          [
           "Industrial Chemicals and Metals"
          ],
          [
           "Textile and Home Goods"
          ],
          [
           "Textile Apparel and Accessories"
          ],
          [
           "Textile and Home Goods"
          ],
          [
           "Industrial Chemicals and Metals"
          ],
          [
           "Agriculture"
          ],
          [
           "Industrial Chemicals and Metals"
          ],
          [
           "Industrial Chemicals and Metals"
          ],
          [
           "Agriculture"
          ],
          [
           "Metalworking and Electrical Machinery and Parts"
          ],
          [
           "Electronic and Electrical Goods"
          ],
          [
           "Metalworking and Electrical Machinery and Parts"
          ],
          [
           "Agriculture"
          ],
          [
           "Agriculture"
          ],
          [
           "Minerals"
          ],
          [
           "Textile and Home Goods"
          ],
          [
           "Textile and Home Goods"
          ],
          [
           "Agriculture"
          ],
          [
           "Construction, Building, and Home Supplies"
          ],
          [
           "Electronic and Electrical Goods"
          ],
          [
           "Industrial Chemicals and Metals"
          ],
          [
           "Metalworking and Electrical Machinery and Parts"
          ],
          [
           "Construction, Building, and Home Supplies"
          ],
          [
           "Industrial Chemicals and Metals"
          ],
          [
           "Textile Apparel and Accessories"
          ],
          [
           "Construction, Building, and Home Supplies"
          ],
          [
           "Textile and Home Goods"
          ],
          [
           "Textile and Home Goods"
          ],
          [
           "Textile Apparel and Accessories"
          ],
          [
           "Metalworking and Electrical Machinery and Parts"
          ],
          [
           "Textile and Home Goods"
          ],
          [
           "Industrial Chemicals and Metals"
          ],
          [
           "Agriculture"
          ],
          [
           "Construction, Building, and Home Supplies"
          ],
          [
           "Industrial Chemicals and Metals"
          ],
          [
           "Construction, Building, and Home Supplies"
          ],
          [
           "Industrial Chemicals and Metals"
          ],
          [
           "Metalworking and Electrical Machinery and Parts"
          ],
          [
           "Textile and Home Goods"
          ],
          [
           "Agriculture"
          ],
          [
           "Agriculture"
          ],
          [
           "Agriculture"
          ],
          [
           "Textile Apparel and Accessories"
          ],
          [
           "Metalworking and Electrical Machinery and Parts"
          ],
          [
           "Agriculture"
          ],
          [
           "Textile and Home Goods"
          ],
          [
           "Agriculture"
          ],
          [
           "Textile and Home Goods"
          ],
          [
           "Construction, Building, and Home Supplies"
          ],
          [
           "Industrial Chemicals and Metals"
          ],
          [
           "Metalworking and Electrical Machinery and Parts"
          ],
          [
           "Textile and Home Goods"
          ],
          [
           "Construction, Building, and Home Supplies"
          ],
          [
           "Construction, Building, and Home Supplies"
          ],
          [
           "Metalworking and Electrical Machinery and Parts"
          ],
          [
           "Agriculture"
          ],
          [
           "Agriculture"
          ],
          [
           "Construction, Building, and Home Supplies"
          ],
          [
           "Agriculture"
          ],
          [
           "Industrial Chemicals and Metals"
          ],
          [
           "Electronic and Electrical Goods"
          ],
          [
           "Industrial Chemicals and Metals"
          ],
          [
           "Metalworking and Electrical Machinery and Parts"
          ],
          [
           "Textile and Home Goods"
          ],
          [
           "Metalworking and Electrical Machinery and Parts"
          ],
          [
           "Textile and Home Goods"
          ],
          [
           "Construction, Building, and Home Supplies"
          ],
          [
           "Industrial Chemicals and Metals"
          ],
          [
           "Textile and Home Goods"
          ],
          [
           "Agriculture"
          ],
          [
           "Textile and Home Goods"
          ],
          [
           "Agriculture"
          ],
          [
           "Agriculture"
          ],
          [
           "Construction, Building, and Home Supplies"
          ],
          [
           "Electronic and Electrical Goods"
          ],
          [
           "Textile and Home Goods"
          ],
          [
           "Metalworking and Electrical Machinery and Parts"
          ],
          [
           "Construction, Building, and Home Supplies"
          ],
          [
           "Minerals"
          ],
          [
           "Agriculture"
          ],
          [
           "Textile Apparel and Accessories"
          ],
          [
           "Agriculture"
          ],
          [
           "Construction, Building, and Home Supplies"
          ],
          [
           "Metalworking and Electrical Machinery and Parts"
          ],
          [
           "Textile Apparel and Accessories"
          ],
          [
           "Construction, Building, and Home Supplies"
          ],
          [
           "Agriculture"
          ],
          [
           "Textile and Home Goods"
          ],
          [
           "Construction, Building, and Home Supplies"
          ],
          [
           "Textile and Home Goods"
          ],
          [
           "Metalworking and Electrical Machinery and Parts"
          ],
          [
           "Metalworking and Electrical Machinery and Parts"
          ],
          [
           "Industrial Chemicals and Metals"
          ],
          [
           "Construction, Building, and Home Supplies"
          ],
          [
           "Industrial Chemicals and Metals"
          ],
          [
           "Construction, Building, and Home Supplies"
          ],
          [
           "Industrial Chemicals and Metals"
          ],
          [
           "Textile and Home Goods"
          ],
          [
           "Textile Apparel and Accessories"
          ],
          [
           "Textile and Home Goods"
          ],
          [
           "Textile and Home Goods"
          ],
          [
           "Industrial Chemicals and Metals"
          ],
          [
           "Industrial Chemicals and Metals"
          ],
          [
           "Textile Apparel and Accessories"
          ],
          [
           "Electronic and Electrical Goods"
          ],
          [
           "Industrial Chemicals and Metals"
          ],
          [
           "Metalworking and Electrical Machinery and Parts"
          ],
          [
           "Minerals"
          ],
          [
           "Agriculture"
          ],
          [
           "Textile Apparel and Accessories"
          ]
         ],
         "domain": {
          "x": [
           0,
           1
          ],
          "y": [
           0,
           1
          ]
         },
         "hovertemplate": "%{label}<br>%{value:.1f}%<br>Category: %{customdata[0]}<extra></extra>",
         "ids": [
          "Industrial Chemicals and Metals/Aircraft, spacecraft, and parts thereof",
          "Construction, Building, and Home Supplies/Plastics and articles thereof",
          "Electronic and Electrical Goods/Plastics and articles thereof",
          "Industrial Chemicals and Metals/Plastics and articles thereof",
          "Metalworking and Electrical Machinery and Parts/Plastics and articles thereof",
          "Agriculture/Preparations of cereals, flour, starch or milk",
          "Agriculture/Preparations of vegetables, fruit, nuts or other parts of plants",
          "Agriculture/Printed books, newspapers, pictures and other products of the printing industry",
          "Textile and Home Goods/Printed books, newspapers, pictures and other products of the printing industry",
          "Industrial Chemicals and Metals/Photographic or cinematographic goods",
          "Agriculture/Products of the milling industry",
          "Textile and Home Goods/Pulp of wood or other fibrous cellulosic material",
          "Construction, Building, and Home Supplies/Railway, tramway locomotives, rolling-stock and parts thereof",
          "Industrial Chemicals and Metals/Railway, tramway locomotives, rolling-stock and parts thereof",
          "Metalworking and Electrical Machinery and Parts/Railway, tramway locomotives, rolling-stock and parts thereof",
          "Agriculture/Raw hides and skins (other than furskins) and leather",
          "Textile and Home Goods/Raw hides and skins (other than furskins) and leather",
          "Construction, Building, and Home Supplies/Rubber and articles thereof",
          "Industrial Chemicals and Metals/Rubber and articles thereof",
          "Agriculture/Pulp of wood or other fibrous cellulosic material",
          "Construction, Building, and Home Supplies/Photographic or cinematographic goods",
          "Industrial Chemicals and Metals/Pharmaceutical products",
          "Textile and Home Goods/Paper and paperboard",
          "Industrial Chemicals and Metals/Mineral fuels, mineral oils and products of their distillation",
          "Minerals/Mineral fuels, mineral oils and products of their distillation",
          "Electronic and Electrical Goods/Miscellaneous manufactured articles",
          "Textile and Home Goods/Miscellaneous manufactured articles",
          "Electronic and Electrical Goods/Musical instruments",
          "Metalworking and Electrical Machinery and Parts/Musical instruments",
          "Electronic and Electrical Goods/Natural, cultured pearls",
          "Industrial Chemicals and Metals/Natural, cultured pearls",
          "Minerals/Natural, cultured pearls",
          "Textile and Home Goods/Natural, cultured pearls",
          "Industrial Chemicals and Metals/Nickel and articles thereof",
          "Agriculture/Oil seeds and oleaginous fruits",
          "Construction, Building, and Home Supplies/Optical, photographic, cinematographic, measuring, checking, medical or surgical instruments and apparatus...",
          "Electronic and Electrical Goods/Optical, photographic, cinematographic, measuring, checking, medical or surgical instruments and apparatus...",
          "Industrial Chemicals and Metals/Optical, photographic, cinematographic, measuring, checking, medical or surgical instruments and apparatus...",
          "Metalworking and Electrical Machinery and Parts/Optical, photographic, cinematographic, measuring, checking, medical or surgical instruments and apparatus...",
          "Minerals/Ores, slag and ash",
          "Industrial Chemicals and Metals/Organic chemicals",
          "Agriculture/Paper and paperboard",
          "Metalworking and Electrical Machinery and Parts/Rubber and articles thereof",
          "Textile and Home Goods/Rubber and articles thereof",
          "Agriculture/Salt",
          "Minerals/Salt",
          "Agriculture/Toys, games and sports requisites",
          "Electronic and Electrical Goods/Toys, games and sports requisites",
          "Textile Apparel and Accessories/Toys, games and sports requisites",
          "Agriculture/Trees and other plants, live",
          "Textile Apparel and Accessories/Umbrellas, sun umbrellas, walking-sticks, seat sticks, whips, riding crops",
          "Agriculture/Vegetable plaiting materials",
          "Textile and Home Goods/Vegetable textile fibres",
          "Agriculture/Vegetables and certain roots and tubers",
          "Construction, Building, and Home Supplies/Vehicles",
          "Electronic and Electrical Goods/Vehicles",
          "Industrial Chemicals and Metals/Vehicles",
          "Textile and Home Goods/Vehicles",
          "Textile and Home Goods/Wadding, felt and nonwovens, special yarns",
          "Textile and Home Goods/Wood and articles of wood",
          "Textile and Home Goods/Works of art",
          "Metalworking and Electrical Machinery and Parts/Zinc and articles thereof",
          "Agriculture",
          "Construction, Building, and Home Supplies",
          "Metalworking and Electrical Machinery and Parts",
          "Textile and Home Goods/Tools, implements, cutlery, spoons and forks, of base metal",
          "Metalworking and Electrical Machinery and Parts/Metals",
          "Metalworking and Electrical Machinery and Parts/Tools, implements, cutlery, spoons and forks, of base metal",
          "Construction, Building, and Home Supplies/Tools, implements, cutlery, spoons and forks, of base metal",
          "Construction, Building, and Home Supplies/Ships, boats and floating structures",
          "Industrial Chemicals and Metals/Ships, boats and floating structures",
          "Metalworking and Electrical Machinery and Parts/Ships, boats and floating structures",
          "Textile and Home Goods/Ships, boats and floating structures",
          "Textile and Home Goods/Silk",
          "Construction, Building, and Home Supplies/Soap, organic surface-active agents",
          "Industrial Chemicals and Metals/Soap, organic surface-active agents",
          "Construction, Building, and Home Supplies/Stone, plaster, cement, asbestos, mica or similar materials",
          "Metalworking and Electrical Machinery and Parts/Stone, plaster, cement, asbestos, mica or similar materials",
          "Minerals/Stone, plaster, cement, asbestos, mica or similar materials",
          "Textile and Home Goods/Stone, plaster, cement, asbestos, mica or similar materials",
          "Agriculture/Sugars and sugar confectionery",
          "Construction, Building, and Home Supplies/Tanning or dyeing extracts",
          "Industrial Chemicals and Metals/Tanning or dyeing extracts",
          "Textile and Home Goods/Textile fabrics",
          "Textile Apparel and Accessories/Textiles, made up articles",
          "Textile and Home Goods/Textiles, made up articles",
          "Industrial Chemicals and Metals/Tin",
          "Agriculture/Tobacco and manufactured tobacco substitutes",
          "Industrial Chemicals and Metals/Tools, implements, cutlery, spoons and forks, of base metal",
          "Industrial Chemicals and Metals/Metals",
          "Agriculture/Miscellaneous edible preparations",
          "Metalworking and Electrical Machinery and Parts/Metal",
          "Electronic and Electrical Goods/Clocks and watches and parts thereof",
          "Metalworking and Electrical Machinery and Parts/Clocks and watches and parts thereof",
          "Agriculture/Cocoa and cocoa preparations",
          "Agriculture/Coffee, tea, mate and spices",
          "Minerals/Copper and articles thereof",
          "Textile and Home Goods/Cork and articles of cork",
          "Textile and Home Goods/Cotton",
          "Agriculture/Dairy produce",
          "Construction, Building, and Home Supplies/Electrical machinery and equipment and parts thereof",
          "Electronic and Electrical Goods/Electrical machinery and equipment and parts thereof",
          "Industrial Chemicals and Metals/Electrical machinery and equipment and parts thereof",
          "Metalworking and Electrical Machinery and Parts/Electrical machinery and equipment and parts thereof",
          "Construction, Building, and Home Supplies/Essential oils and resinoids",
          "Industrial Chemicals and Metals/Essential oils and resinoids",
          "Textile Apparel and Accessories/Essential oils and resinoids",
          "Construction, Building, and Home Supplies/Explosives",
          "Textile and Home Goods/Metal",
          "Textile and Home Goods/Fabrics",
          "Textile Apparel and Accessories/Feathers and down, prepared",
          "Metalworking and Electrical Machinery and Parts/Chemical products n.e.c.",
          "Textile and Home Goods/Feathers and down, prepared",
          "Industrial Chemicals and Metals/Chemical products n.e.c.",
          "Agriculture/Cereals",
          "Construction, Building, and Home Supplies/Albuminoidal substances",
          "Industrial Chemicals and Metals/Albuminoidal substances",
          "Construction, Building, and Home Supplies/Aluminium and articles thereof",
          "Industrial Chemicals and Metals/Aluminium and articles thereof",
          "Metalworking and Electrical Machinery and Parts/Aluminium and articles thereof",
          "Textile and Home Goods/Aluminium and articles thereof",
          "Agriculture/Animal originated products",
          "Agriculture/Animal, vegetable or microbial fats and oils and their cleavage products",
          "Agriculture/Animals",
          "Textile Apparel and Accessories/Apparel and clothing accessories",
          "Metalworking and Electrical Machinery and Parts/Arms and ammunition",
          "Agriculture/Articles of leather",
          "Textile and Home Goods/Articles of leather",
          "Agriculture/Beverages, spirits and vinegar",
          "Textile and Home Goods/Carpets and other textile floor coverings",
          "Construction, Building, and Home Supplies/Ceramic products",
          "Industrial Chemicals and Metals/Ceramic products",
          "Metalworking and Electrical Machinery and Parts/Ceramic products",
          "Textile and Home Goods/Ceramic products",
          "Construction, Building, and Home Supplies/Chemical products n.e.c.",
          "Construction, Building, and Home Supplies/Fertilizers",
          "Metalworking and Electrical Machinery and Parts/Explosives",
          "Agriculture/Fish and crustaceans, molluscs and other aquatic invertebrates",
          "Agriculture/Lac",
          "Construction, Building, and Home Supplies/Lead and articles thereof",
          "Agriculture/Machinery and mechanical appliances, boilers, nuclear reactors",
          "Industrial Chemicals and Metals/Fertilizers",
          "Electronic and Electrical Goods/Machinery and mechanical appliances, boilers, nuclear reactors",
          "Industrial Chemicals and Metals/Machinery and mechanical appliances, boilers, nuclear reactors",
          "Metalworking and Electrical Machinery and Parts/Machinery and mechanical appliances, boilers, nuclear reactors",
          "Textile and Home Goods/Machinery and mechanical appliances, boilers, nuclear reactors",
          "Metalworking and Electrical Machinery and Parts/Man-made filaments",
          "Textile and Home Goods/Man-made filaments",
          "Construction, Building, and Home Supplies/Man-made staple fibres",
          "Industrial Chemicals and Metals/Man-made staple fibres",
          "Textile and Home Goods/Man-made staple fibres",
          "Agriculture/Manufactures of straw, esparto or other plaiting materials",
          "Textile and Home Goods/Manufactures of straw, esparto or other plaiting materials",
          "Agriculture/Meat and edible meat offal",
          "Agriculture/Meat, fish, crustaceans, molluscs or other aquatic invertebrates, or insects",
          "Construction, Building, and Home Supplies/Metal",
          "Electronic and Electrical Goods/Metal",
          "Textile and Home Goods/Iron or steel articles",
          "Metalworking and Electrical Machinery and Parts/Iron or steel articles",
          "Construction, Building, and Home Supplies/Machinery and mechanical appliances, boilers, nuclear reactors",
          "Minerals/Iron and steel",
          "Agriculture/Food industries, residues and wastes thereof",
          "Textile Apparel and Accessories/Footwear",
          "Agriculture/Fruit and nuts, edible",
          "Construction, Building, and Home Supplies/Furniture",
          "Metalworking and Electrical Machinery and Parts/Furniture",
          "Textile Apparel and Accessories/Furniture",
          "Construction, Building, and Home Supplies/Iron or steel articles",
          "Agriculture/Furskins and artificial fur",
          "Textile and Home Goods/Furskins and artificial fur",
          "Construction, Building, and Home Supplies/Glass and glassware",
          "Textile and Home Goods",
          "Metalworking and Electrical Machinery and Parts/Glass and glassware",
          "Metalworking and Electrical Machinery and Parts/Iron and steel",
          "Industrial Chemicals and Metals/Iron and steel",
          "Construction, Building, and Home Supplies/Iron and steel",
          "Industrial Chemicals and Metals/Glass and glassware",
          "Construction, Building, and Home Supplies/Inorganic chemicals",
          "Industrial Chemicals and Metals/Inorganic chemicals",
          "Textile and Home Goods/Headgear and parts thereof",
          "Textile Apparel and Accessories/Headgear and parts thereof",
          "Textile and Home Goods/Glass and glassware",
          "Textile and Home Goods/Wool, fine or coarse animal hair",
          "Industrial Chemicals and Metals/Works of art",
          "Industrial Chemicals and Metals/Zinc and articles thereof",
          "Textile Apparel and Accessories",
          "Electronic and Electrical Goods",
          "Industrial Chemicals and Metals",
          "Metalworking and Electrical Machinery and Parts/Vehicles",
          "Minerals",
          "Agriculture/Wood and articles of wood",
          "Textile Apparel and Accessories/Wadding, felt and nonwovens, special yarns"
         ],
         "labels": [
          "Aircraft, spacecraft, and parts thereof",
          "Plastics and articles thereof",
          "Plastics and articles thereof",
          "Plastics and articles thereof",
          "Plastics and articles thereof",
          "Preparations of cereals, flour, starch or milk",
          "Preparations of vegetables, fruit, nuts or other parts of plants",
          "Printed books, newspapers, pictures and other products of the printing industry",
          "Printed books, newspapers, pictures and other products of the printing industry",
          "Photographic or cinematographic goods",
          "Products of the milling industry",
          "Pulp of wood or other fibrous cellulosic material",
          "Railway, tramway locomotives, rolling-stock and parts thereof",
          "Railway, tramway locomotives, rolling-stock and parts thereof",
          "Railway, tramway locomotives, rolling-stock and parts thereof",
          "Raw hides and skins (other than furskins) and leather",
          "Raw hides and skins (other than furskins) and leather",
          "Rubber and articles thereof",
          "Rubber and articles thereof",
          "Pulp of wood or other fibrous cellulosic material",
          "Photographic or cinematographic goods",
          "Pharmaceutical products",
          "Paper and paperboard",
          "Mineral fuels, mineral oils and products of their distillation",
          "Mineral fuels, mineral oils and products of their distillation",
          "Miscellaneous manufactured articles",
          "Miscellaneous manufactured articles",
          "Musical instruments",
          "Musical instruments",
          "Natural, cultured pearls",
          "Natural, cultured pearls",
          "Natural, cultured pearls",
          "Natural, cultured pearls",
          "Nickel and articles thereof",
          "Oil seeds and oleaginous fruits",
          "Optical, photographic, cinematographic, measuring, checking, medical or surgical instruments and apparatus...",
          "Optical, photographic, cinematographic, measuring, checking, medical or surgical instruments and apparatus...",
          "Optical, photographic, cinematographic, measuring, checking, medical or surgical instruments and apparatus...",
          "Optical, photographic, cinematographic, measuring, checking, medical or surgical instruments and apparatus...",
          "Ores, slag and ash",
          "Organic chemicals",
          "Paper and paperboard",
          "Rubber and articles thereof",
          "Rubber and articles thereof",
          "Salt",
          "Salt",
          "Toys, games and sports requisites",
          "Toys, games and sports requisites",
          "Toys, games and sports requisites",
          "Trees and other plants, live",
          "Umbrellas, sun umbrellas, walking-sticks, seat sticks, whips, riding crops",
          "Vegetable plaiting materials",
          "Vegetable textile fibres",
          "Vegetables and certain roots and tubers",
          "Vehicles",
          "Vehicles",
          "Vehicles",
          "Vehicles",
          "Wadding, felt and nonwovens, special yarns",
          "Wood and articles of wood",
          "Works of art",
          "Zinc and articles thereof",
          "Agriculture",
          "Construction, Building, and Home Supplies",
          "Metalworking and Electrical Machinery and Parts",
          "Tools, implements, cutlery, spoons and forks, of base metal",
          "Metals",
          "Tools, implements, cutlery, spoons and forks, of base metal",
          "Tools, implements, cutlery, spoons and forks, of base metal",
          "Ships, boats and floating structures",
          "Ships, boats and floating structures",
          "Ships, boats and floating structures",
          "Ships, boats and floating structures",
          "Silk",
          "Soap, organic surface-active agents",
          "Soap, organic surface-active agents",
          "Stone, plaster, cement, asbestos, mica or similar materials",
          "Stone, plaster, cement, asbestos, mica or similar materials",
          "Stone, plaster, cement, asbestos, mica or similar materials",
          "Stone, plaster, cement, asbestos, mica or similar materials",
          "Sugars and sugar confectionery",
          "Tanning or dyeing extracts",
          "Tanning or dyeing extracts",
          "Textile fabrics",
          "Textiles, made up articles",
          "Textiles, made up articles",
          "Tin",
          "Tobacco and manufactured tobacco substitutes",
          "Tools, implements, cutlery, spoons and forks, of base metal",
          "Metals",
          "Miscellaneous edible preparations",
          "Metal",
          "Clocks and watches and parts thereof",
          "Clocks and watches and parts thereof",
          "Cocoa and cocoa preparations",
          "Coffee, tea, mate and spices",
          "Copper and articles thereof",
          "Cork and articles of cork",
          "Cotton",
          "Dairy produce",
          "Electrical machinery and equipment and parts thereof",
          "Electrical machinery and equipment and parts thereof",
          "Electrical machinery and equipment and parts thereof",
          "Electrical machinery and equipment and parts thereof",
          "Essential oils and resinoids",
          "Essential oils and resinoids",
          "Essential oils and resinoids",
          "Explosives",
          "Metal",
          "Fabrics",
          "Feathers and down, prepared",
          "Chemical products n.e.c.",
          "Feathers and down, prepared",
          "Chemical products n.e.c.",
          "Cereals",
          "Albuminoidal substances",
          "Albuminoidal substances",
          "Aluminium and articles thereof",
          "Aluminium and articles thereof",
          "Aluminium and articles thereof",
          "Aluminium and articles thereof",
          "Animal originated products",
          "Animal, vegetable or microbial fats and oils and their cleavage products",
          "Animals",
          "Apparel and clothing accessories",
          "Arms and ammunition",
          "Articles of leather",
          "Articles of leather",
          "Beverages, spirits and vinegar",
          "Carpets and other textile floor coverings",
          "Ceramic products",
          "Ceramic products",
          "Ceramic products",
          "Ceramic products",
          "Chemical products n.e.c.",
          "Fertilizers",
          "Explosives",
          "Fish and crustaceans, molluscs and other aquatic invertebrates",
          "Lac",
          "Lead and articles thereof",
          "Machinery and mechanical appliances, boilers, nuclear reactors",
          "Fertilizers",
          "Machinery and mechanical appliances, boilers, nuclear reactors",
          "Machinery and mechanical appliances, boilers, nuclear reactors",
          "Machinery and mechanical appliances, boilers, nuclear reactors",
          "Machinery and mechanical appliances, boilers, nuclear reactors",
          "Man-made filaments",
          "Man-made filaments",
          "Man-made staple fibres",
          "Man-made staple fibres",
          "Man-made staple fibres",
          "Manufactures of straw, esparto or other plaiting materials",
          "Manufactures of straw, esparto or other plaiting materials",
          "Meat and edible meat offal",
          "Meat, fish, crustaceans, molluscs or other aquatic invertebrates, or insects",
          "Metal",
          "Metal",
          "Iron or steel articles",
          "Iron or steel articles",
          "Machinery and mechanical appliances, boilers, nuclear reactors",
          "Iron and steel",
          "Food industries, residues and wastes thereof",
          "Footwear",
          "Fruit and nuts, edible",
          "Furniture",
          "Furniture",
          "Furniture",
          "Iron or steel articles",
          "Furskins and artificial fur",
          "Furskins and artificial fur",
          "Glass and glassware",
          "Textile and Home Goods",
          "Glass and glassware",
          "Iron and steel",
          "Iron and steel",
          "Iron and steel",
          "Glass and glassware",
          "Inorganic chemicals",
          "Inorganic chemicals",
          "Headgear and parts thereof",
          "Headgear and parts thereof",
          "Glass and glassware",
          "Wool, fine or coarse animal hair",
          "Works of art",
          "Zinc and articles thereof",
          "Textile Apparel and Accessories",
          "Electronic and Electrical Goods",
          "Industrial Chemicals and Metals",
          "Vehicles",
          "Minerals",
          "Wood and articles of wood",
          "Wadding, felt and nonwovens, special yarns"
         ],
         "marker": {
          "colors": [
           "#76B7B2",
           "#F28E2B",
           "#E15759",
           "#76B7B2",
           "#59A14F",
           "#4E79A7",
           "#4E79A7",
           "#4E79A7",
           "#FF9DA7",
           "#76B7B2",
           "#4E79A7",
           "#FF9DA7",
           "#F28E2B",
           "#76B7B2",
           "#59A14F",
           "#4E79A7",
           "#FF9DA7",
           "#F28E2B",
           "#76B7B2",
           "#4E79A7",
           "#F28E2B",
           "#76B7B2",
           "#FF9DA7",
           "#76B7B2",
           "#EDC949",
           "#E15759",
           "#FF9DA7",
           "#E15759",
           "#59A14F",
           "#E15759",
           "#76B7B2",
           "#EDC949",
           "#FF9DA7",
           "#76B7B2",
           "#4E79A7",
           "#F28E2B",
           "#E15759",
           "#76B7B2",
           "#59A14F",
           "#EDC949",
           "#76B7B2",
           "#4E79A7",
           "#59A14F",
           "#FF9DA7",
           "#4E79A7",
           "#EDC949",
           "#4E79A7",
           "#E15759",
           "#AF7AA1",
           "#4E79A7",
           "#AF7AA1",
           "#4E79A7",
           "#FF9DA7",
           "#4E79A7",
           "#F28E2B",
           "#E15759",
           "#76B7B2",
           "#FF9DA7",
           "#FF9DA7",
           "#FF9DA7",
           "#FF9DA7",
           "#59A14F",
           "#4E79A7",
           "#F28E2B",
           "#59A14F",
           "#FF9DA7",
           "#59A14F",
           "#59A14F",
           "#F28E2B",
           "#F28E2B",
           "#76B7B2",
           "#59A14F",
           "#FF9DA7",
           "#FF9DA7",
           "#F28E2B",
           "#76B7B2",
           "#F28E2B",
           "#59A14F",
           "#EDC949",
           "#FF9DA7",
           "#4E79A7",
           "#F28E2B",
           "#76B7B2",
           "#FF9DA7",
           "#AF7AA1",
           "#FF9DA7",
           "#76B7B2",
           "#4E79A7",
           "#76B7B2",
           "#76B7B2",
           "#4E79A7",
           "#59A14F",
           "#E15759",
           "#59A14F",
           "#4E79A7",
           "#4E79A7",
           "#EDC949",
           "#FF9DA7",
           "#FF9DA7",
           "#4E79A7",
           "#F28E2B",
           "#E15759",
           "#76B7B2",
           "#59A14F",
           "#F28E2B",
           "#76B7B2",
           "#AF7AA1",
           "#F28E2B",
           "#FF9DA7",
           "#FF9DA7",
           "#AF7AA1",
           "#59A14F",
           "#FF9DA7",
           "#76B7B2",
           "#4E79A7",
           "#F28E2B",
           "#76B7B2",
           "#F28E2B",
           "#76B7B2",
           "#59A14F",
           "#FF9DA7",
           "#4E79A7",
           "#4E79A7",
           "#4E79A7",
           "#AF7AA1",
           "#59A14F",
           "#4E79A7",
           "#FF9DA7",
           "#4E79A7",
           "#FF9DA7",
           "#F28E2B",
           "#76B7B2",
           "#59A14F",
           "#FF9DA7",
           "#F28E2B",
           "#F28E2B",
           "#59A14F",
           "#4E79A7",
           "#4E79A7",
           "#F28E2B",
           "#4E79A7",
           "#76B7B2",
           "#E15759",
           "#76B7B2",
           "#59A14F",
           "#FF9DA7",
           "#59A14F",
           "#FF9DA7",
           "#F28E2B",
           "#76B7B2",
           "#FF9DA7",
           "#4E79A7",
           "#FF9DA7",
           "#4E79A7",
           "#4E79A7",
           "#F28E2B",
           "#E15759",
           "#FF9DA7",
           "#59A14F",
           "#F28E2B",
           "#EDC949",
           "#4E79A7",
           "#AF7AA1",
           "#4E79A7",
           "#F28E2B",
           "#59A14F",
           "#AF7AA1",
           "#F28E2B",
           "#4E79A7",
           "#FF9DA7",
           "#F28E2B",
           "#FF9DA7",
           "#59A14F",
           "#59A14F",
           "#76B7B2",
           "#F28E2B",
           "#76B7B2",
           "#F28E2B",
           "#76B7B2",
           "#FF9DA7",
           "#AF7AA1",
           "#FF9DA7",
           "#FF9DA7",
           "#76B7B2",
           "#76B7B2",
           "#AF7AA1",
           "#E15759",
           "#76B7B2",
           "#59A14F",
           "#EDC949",
           "#4E79A7",
           "#AF7AA1"
          ],
          "line": {
           "width": 1
          }
         },
         "name": "",
         "parents": [
          "Industrial Chemicals and Metals",
          "Construction, Building, and Home Supplies",
          "Electronic and Electrical Goods",
          "Industrial Chemicals and Metals",
          "Metalworking and Electrical Machinery and Parts",
          "Agriculture",
          "Agriculture",
          "Agriculture",
          "Textile and Home Goods",
          "Industrial Chemicals and Metals",
          "Agriculture",
          "Textile and Home Goods",
          "Construction, Building, and Home Supplies",
          "Industrial Chemicals and Metals",
          "Metalworking and Electrical Machinery and Parts",
          "Agriculture",
          "Textile and Home Goods",
          "Construction, Building, and Home Supplies",
          "Industrial Chemicals and Metals",
          "Agriculture",
          "Construction, Building, and Home Supplies",
          "Industrial Chemicals and Metals",
          "Textile and Home Goods",
          "Industrial Chemicals and Metals",
          "Minerals",
          "Electronic and Electrical Goods",
          "Textile and Home Goods",
          "Electronic and Electrical Goods",
          "Metalworking and Electrical Machinery and Parts",
          "Electronic and Electrical Goods",
          "Industrial Chemicals and Metals",
          "Minerals",
          "Textile and Home Goods",
          "Industrial Chemicals and Metals",
          "Agriculture",
          "Construction, Building, and Home Supplies",
          "Electronic and Electrical Goods",
          "Industrial Chemicals and Metals",
          "Metalworking and Electrical Machinery and Parts",
          "Minerals",
          "Industrial Chemicals and Metals",
          "Agriculture",
          "Metalworking and Electrical Machinery and Parts",
          "Textile and Home Goods",
          "Agriculture",
          "Minerals",
          "Agriculture",
          "Electronic and Electrical Goods",
          "Textile Apparel and Accessories",
          "Agriculture",
          "Textile Apparel and Accessories",
          "Agriculture",
          "Textile and Home Goods",
          "Agriculture",
          "Construction, Building, and Home Supplies",
          "Electronic and Electrical Goods",
          "Industrial Chemicals and Metals",
          "Textile and Home Goods",
          "Textile and Home Goods",
          "Textile and Home Goods",
          "Textile and Home Goods",
          "Metalworking and Electrical Machinery and Parts",
          "",
          "",
          "",
          "Textile and Home Goods",
          "Metalworking and Electrical Machinery and Parts",
          "Metalworking and Electrical Machinery and Parts",
          "Construction, Building, and Home Supplies",
          "Construction, Building, and Home Supplies",
          "Industrial Chemicals and Metals",
          "Metalworking and Electrical Machinery and Parts",
          "Textile and Home Goods",
          "Textile and Home Goods",
          "Construction, Building, and Home Supplies",
          "Industrial Chemicals and Metals",
          "Construction, Building, and Home Supplies",
          "Metalworking and Electrical Machinery and Parts",
          "Minerals",
          "Textile and Home Goods",
          "Agriculture",
          "Construction, Building, and Home Supplies",
          "Industrial Chemicals and Metals",
          "Textile and Home Goods",
          "Textile Apparel and Accessories",
          "Textile and Home Goods",
          "Industrial Chemicals and Metals",
          "Agriculture",
          "Industrial Chemicals and Metals",
          "Industrial Chemicals and Metals",
          "Agriculture",
          "Metalworking and Electrical Machinery and Parts",
          "Electronic and Electrical Goods",
          "Metalworking and Electrical Machinery and Parts",
          "Agriculture",
          "Agriculture",
          "Minerals",
          "Textile and Home Goods",
          "Textile and Home Goods",
          "Agriculture",
          "Construction, Building, and Home Supplies",
          "Electronic and Electrical Goods",
          "Industrial Chemicals and Metals",
          "Metalworking and Electrical Machinery and Parts",
          "Construction, Building, and Home Supplies",
          "Industrial Chemicals and Metals",
          "Textile Apparel and Accessories",
          "Construction, Building, and Home Supplies",
          "Textile and Home Goods",
          "Textile and Home Goods",
          "Textile Apparel and Accessories",
          "Metalworking and Electrical Machinery and Parts",
          "Textile and Home Goods",
          "Industrial Chemicals and Metals",
          "Agriculture",
          "Construction, Building, and Home Supplies",
          "Industrial Chemicals and Metals",
          "Construction, Building, and Home Supplies",
          "Industrial Chemicals and Metals",
          "Metalworking and Electrical Machinery and Parts",
          "Textile and Home Goods",
          "Agriculture",
          "Agriculture",
          "Agriculture",
          "Textile Apparel and Accessories",
          "Metalworking and Electrical Machinery and Parts",
          "Agriculture",
          "Textile and Home Goods",
          "Agriculture",
          "Textile and Home Goods",
          "Construction, Building, and Home Supplies",
          "Industrial Chemicals and Metals",
          "Metalworking and Electrical Machinery and Parts",
          "Textile and Home Goods",
          "Construction, Building, and Home Supplies",
          "Construction, Building, and Home Supplies",
          "Metalworking and Electrical Machinery and Parts",
          "Agriculture",
          "Agriculture",
          "Construction, Building, and Home Supplies",
          "Agriculture",
          "Industrial Chemicals and Metals",
          "Electronic and Electrical Goods",
          "Industrial Chemicals and Metals",
          "Metalworking and Electrical Machinery and Parts",
          "Textile and Home Goods",
          "Metalworking and Electrical Machinery and Parts",
          "Textile and Home Goods",
          "Construction, Building, and Home Supplies",
          "Industrial Chemicals and Metals",
          "Textile and Home Goods",
          "Agriculture",
          "Textile and Home Goods",
          "Agriculture",
          "Agriculture",
          "Construction, Building, and Home Supplies",
          "Electronic and Electrical Goods",
          "Textile and Home Goods",
          "Metalworking and Electrical Machinery and Parts",
          "Construction, Building, and Home Supplies",
          "Minerals",
          "Agriculture",
          "Textile Apparel and Accessories",
          "Agriculture",
          "Construction, Building, and Home Supplies",
          "Metalworking and Electrical Machinery and Parts",
          "Textile Apparel and Accessories",
          "Construction, Building, and Home Supplies",
          "Agriculture",
          "Textile and Home Goods",
          "Construction, Building, and Home Supplies",
          "",
          "Metalworking and Electrical Machinery and Parts",
          "Metalworking and Electrical Machinery and Parts",
          "Industrial Chemicals and Metals",
          "Construction, Building, and Home Supplies",
          "Industrial Chemicals and Metals",
          "Construction, Building, and Home Supplies",
          "Industrial Chemicals and Metals",
          "Textile and Home Goods",
          "Textile Apparel and Accessories",
          "Textile and Home Goods",
          "Textile and Home Goods",
          "Industrial Chemicals and Metals",
          "Industrial Chemicals and Metals",
          "",
          "",
          "",
          "Metalworking and Electrical Machinery and Parts",
          "",
          "Agriculture",
          "Textile Apparel and Accessories"
         ],
         "textfont": {
          "size": 15
         },
         "textinfo": "label+percent entry",
         "type": "treemap",
         "values": [
          0.0004449678589776528,
          0.22549613624312548,
          0.0537786075537192,
          0.3855547867747899,
          0.0019816466614058998,
          0.02060485666108986,
          0.004315760819653014,
          0.008569502106812383,
          0.00020412092034008603,
          0.1163469684420782,
          0.0026457354383428023,
          0.00007698500964800631,
          0.000256108386386626,
          0.0050678692758781944,
          0.013052385814746999,
          0.001783888261707398,
          0.0011874899966607616,
          0.13455095022234978,
          0.0628169536191463,
          0.017367625620413756,
          0.009958431178641907,
          0.1845547475960132,
          0.00048437515656224537,
          0.00002448596142760062,
          0.45262670876154765,
          0.0069323513522274,
          0.036632195018659504,
          0.0019583377917699,
          0.0024184852302732,
          0.026346611927958,
          0.1266170322189266,
          0.0047313143999777,
          0.0009754382317423,
          0.020543410772119162,
          0.0026671004087862604,
          0.0016491970817674,
          0.9295600792075436,
          0.0208901616396827,
          0.009423860980088,
          0.004112212788456119,
          0.42527854734829035,
          0.06775779130033088,
          0.0662545969864437,
          0.0001890477318554059,
          0.0029148146593527854,
          0.017372476030855108,
          0.0093214419219277,
          0.0921318901577407,
          0.00003773314859059044,
          0.0017790746353931145,
          0.00003368934784342539,
          0.00003018768841993984,
          0.00034503144585310903,
          0.0020043498192605595,
          0.0588814072169792,
          0.0521311008436696,
          4.83475355225313e-7,
          0.0010079335105162,
          0.0068955804384281,
          0.0004295198497414596,
          0.0001735389816584,
          0.0001787357286939,
          0.352762094448041,
          1.5055047214672215,
          6.476985128503534,
          0.0001995876078804,
          0.0000873204037341187,
          0.0633774771824709,
          0.0006835077731954,
          0.0015362321111999,
          0.0008866683451163,
          0.22026250207325154,
          0.0013906564162942,
          0.0007862654338648505,
          0.03106784427267958,
          0.0511824872887431,
          0.0012120042535514357,
          0.018787272637867503,
          0.0365818875493443,
          0.0050373958031307,
          0.0038508040935393995,
          0.057007250540217984,
          0.0556148448976422,
          0.02412933903175865,
          0.005782163469743522,
          0.000195217843272746,
          0.0005897177032742,
          0.0023975011168889705,
          0.0201178153161709,
          0.0252110711041086,
          0.043181786869651295,
          0.0180327669890048,
          0.018685670753032402,
          0.00003165678951615773,
          0.002601396616647378,
          0.005280271150110784,
          0.3094720183409017,
          0.000046490409662663076,
          0.00763876336973584,
          0.0036916714703337547,
          0.07267437542020169,
          2.39925647936099,
          0.0057879093376587,
          0.3330977982609533,
          0.1459432870745307,
          0.005899436520809,
          0.0001799660159811,
          0.00010090430705846406,
          0.0011306100542423998,
          0.01130292861960619,
          0.00006612879022000076,
          0.0062332706923937,
          0.00001478551783419665,
          0.21892481195778357,
          0.001415616987173506,
          0.0014431200008755574,
          0.0235300276531719,
          0.026272239722526004,
          0.0167387245311032,
          0.029849169077788,
          0.0001178010446325,
          0.0010457968182871447,
          0.00878835723583834,
          0.000659324196059,
          0.016812536674684082,
          0.0092846985490876,
          0.003443244362391162,
          2.3240016234168398e-7,
          0.03615630133663813,
          0.0008145809049986032,
          0.0008380452111369,
          0.0264449645490007,
          0.0070322722971569995,
          0.0099554365741178,
          0.1284955258375084,
          0.0013410336974869,
          0.000203869845172,
          0.04841762412526044,
          0.0008823715828037573,
          0.0027156469563455,
          0.0031832759072477,
          0.0034019937089176068,
          0.4893093278268809,
          0.034208784489277395,
          2.154971770397174,
          0.026957555387971698,
          0.0021554387932496,
          0.043851080504923624,
          0.0081702035227575,
          0.000004049648484502525,
          0.01702470162157989,
          0.00002568267142356459,
          0.00005064494003063887,
          0.010242923133869061,
          0.015457054741533569,
          0.0006221488456316723,
          0.0006308768680419,
          0.0011682528459458,
          0.2032783503205075,
          0.0204252507521942,
          0.008119591405489,
          0.0035182862274500777,
          0.0022349700184405336,
          0.00724249579706697,
          0.0204772174681934,
          0.0015814886494751,
          0.0006239122196696,
          0.0296321354227841,
          0.000007957630933712646,
          0.0000013932692299366644,
          0.02677804172233609,
          0.2158370859102916,
          0.0017927072069391,
          0.0594475138549211,
          0.30226366046930353,
          0.4961159299353548,
          0.027589366761251198,
          0.0011605462902049,
          0.2553795677464938,
          0.0052091399084523,
          0.00031649149731158527,
          0.0073024531554067,
          0.002910516953891359,
          0.0055184456753897,
          0.0130520994645352,
          0.049668108527829435,
          4.070721333643573,
          2.4404868621509204,
          3.254168073081219,
          0.8330162092765716,
          0.009510221035402834,
          0.023580517345345
         ],
         "visible": false
        },
        {
         "branchvalues": "total",
         "customdata": [
          [
           "Industrial Chemicals and Metals"
          ],
          [
           "Agriculture"
          ],
          [
           "Textile and Home Goods"
          ],
          [
           "Agriculture"
          ],
          [
           "Agriculture"
          ],
          [
           "Textile and Home Goods"
          ],
          [
           "Construction, Building, and Home Supplies"
          ],
          [
           "Industrial Chemicals and Metals"
          ],
          [
           "Metalworking and Electrical Machinery and Parts"
          ],
          [
           "Agriculture"
          ],
          [
           "Textile and Home Goods"
          ],
          [
           "Construction, Building, and Home Supplies"
          ],
          [
           "Industrial Chemicals and Metals"
          ],
          [
           "Metalworking and Electrical Machinery and Parts"
          ],
          [
           "Textile and Home Goods"
          ],
          [
           "Agriculture"
          ],
          [
           "Minerals"
          ],
          [
           "Construction, Building, and Home Supplies"
          ],
          [
           "Industrial Chemicals and Metals"
          ],
          [
           "Metalworking and Electrical Machinery and Parts"
          ],
          [
           "Agriculture"
          ],
          [
           "Agriculture"
          ],
          [
           "Metalworking and Electrical Machinery and Parts"
          ],
          [
           "Industrial Chemicals and Metals"
          ],
          [
           "Metalworking and Electrical Machinery and Parts"
          ],
          [
           "Electronic and Electrical Goods"
          ],
          [
           "Industrial Chemicals and Metals"
          ],
          [
           "Minerals"
          ],
          [
           "Textile and Home Goods"
          ],
          [
           "Industrial Chemicals and Metals"
          ],
          [
           "Agriculture"
          ],
          [
           "Construction, Building, and Home Supplies"
          ],
          [
           "Electronic and Electrical Goods"
          ],
          [
           "Textile and Home Goods"
          ],
          [
           "Industrial Chemicals and Metals"
          ],
          [
           "Minerals"
          ],
          [
           "Industrial Chemicals and Metals"
          ],
          [
           "Agriculture"
          ],
          [
           "Textile and Home Goods"
          ],
          [
           "Industrial Chemicals and Metals"
          ],
          [
           "Construction, Building, and Home Supplies"
          ],
          [
           "Industrial Chemicals and Metals"
          ],
          [
           "Construction, Building, and Home Supplies"
          ],
          [
           "Electronic and Electrical Goods"
          ],
          [
           "Metalworking and Electrical Machinery and Parts"
          ],
          [
           "Textile and Home Goods"
          ],
          [
           "Construction, Building, and Home Supplies"
          ],
          [
           "Industrial Chemicals and Metals"
          ],
          [
           "Construction, Building, and Home Supplies"
          ],
          [
           "Electronic and Electrical Goods"
          ],
          [
           "Industrial Chemicals and Metals"
          ],
          [
           "Metalworking and Electrical Machinery and Parts"
          ],
          [
           "Textile and Home Goods"
          ],
          [
           "Textile Apparel and Accessories"
          ],
          [
           "Textile and Home Goods"
          ],
          [
           "Agriculture"
          ],
          [
           "Textile and Home Goods"
          ],
          [
           "Agriculture"
          ],
          [
           "Textile and Home Goods"
          ],
          [
           "Textile and Home Goods"
          ],
          [
           "Industrial Chemicals and Metals"
          ],
          [
           "Metalworking and Electrical Machinery and Parts"
          ],
          [
           "Agriculture"
          ],
          [
           "Construction, Building, and Home Supplies"
          ],
          [
           "Electronic and Electrical Goods"
          ],
          [
           "Industrial Chemicals and Metals"
          ],
          [
           "Metalworking and Electrical Machinery and Parts"
          ],
          [
           "Minerals"
          ],
          [
           "Industrial Chemicals and Metals"
          ],
          [
           "Electronic and Electrical Goods"
          ],
          [
           "Textile and Home Goods"
          ],
          [
           "Textile Apparel and Accessories"
          ],
          [
           "Construction, Building, and Home Supplies"
          ],
          [
           "Metalworking and Electrical Machinery and Parts"
          ],
          [
           "Minerals"
          ],
          [
           "Textile and Home Goods"
          ],
          [
           "Agriculture"
          ],
          [
           "Construction, Building, and Home Supplies"
          ],
          [
           "Industrial Chemicals and Metals"
          ],
          [
           "Textile and Home Goods"
          ],
          [
           "Textile Apparel and Accessories"
          ],
          [
           "Agriculture"
          ],
          [
           "Textile and Home Goods"
          ],
          [
           "Agriculture"
          ],
          [
           "Construction, Building, and Home Supplies"
          ],
          [
           "Industrial Chemicals and Metals"
          ],
          [
           "Metalworking and Electrical Machinery and Parts"
          ],
          [
           "Textile and Home Goods"
          ],
          [
           "Agriculture"
          ],
          [
           "Electronic and Electrical Goods"
          ],
          [
           "Textile Apparel and Accessories"
          ],
          [
           "Agriculture"
          ],
          [
           "Industrial Chemicals and Metals"
          ],
          [
           "Textile and Home Goods"
          ],
          [
           "Electronic and Electrical Goods"
          ],
          [
           "Agriculture"
          ],
          [
           "Agriculture"
          ],
          [
           "Minerals"
          ],
          [
           "Textile and Home Goods"
          ],
          [
           "Textile and Home Goods"
          ],
          [
           "Agriculture"
          ],
          [
           "Construction, Building, and Home Supplies"
          ],
          [
           "Electronic and Electrical Goods"
          ],
          [
           "Industrial Chemicals and Metals"
          ],
          [
           "Metalworking and Electrical Machinery and Parts"
          ],
          [
           "Construction, Building, and Home Supplies"
          ],
          [
           "Industrial Chemicals and Metals"
          ],
          [
           "Textile Apparel and Accessories"
          ],
          [
           "Construction, Building, and Home Supplies"
          ],
          [
           "Metalworking and Electrical Machinery and Parts"
          ],
          [
           "Textile and Home Goods"
          ],
          [
           "Textile Apparel and Accessories"
          ],
          [
           "Textile and Home Goods"
          ],
          [
           "Construction, Building, and Home Supplies"
          ],
          [
           "Industrial Chemicals and Metals"
          ],
          [
           "Agriculture"
          ],
          [
           "Metalworking and Electrical Machinery and Parts"
          ],
          [
           "Electronic and Electrical Goods"
          ],
          [
           "Metalworking and Electrical Machinery and Parts"
          ],
          [
           "Construction, Building, and Home Supplies"
          ],
          [
           "Industrial Chemicals and Metals"
          ],
          [
           "Construction, Building, and Home Supplies"
          ],
          [
           "Industrial Chemicals and Metals"
          ],
          [
           "Metalworking and Electrical Machinery and Parts"
          ],
          [
           "Textile and Home Goods"
          ],
          [
           "Agriculture"
          ],
          [
           "Agriculture"
          ],
          [
           "Agriculture"
          ],
          [
           "Agriculture"
          ],
          [
           "Textile Apparel and Accessories"
          ],
          [
           "Agriculture"
          ],
          [
           "Textile and Home Goods"
          ],
          [
           "Construction, Building, and Home Supplies"
          ],
          [
           "Industrial Chemicals and Metals"
          ],
          [
           "Metalworking and Electrical Machinery and Parts"
          ],
          [
           "Textile and Home Goods"
          ],
          [
           "Agriculture"
          ],
          [
           "Construction, Building, and Home Supplies"
          ],
          [
           "Industrial Chemicals and Metals"
          ],
          [
           "Agriculture"
          ],
          [
           "Agriculture"
          ],
          [
           "Textile Apparel and Accessories"
          ],
          [
           "Agriculture"
          ],
          [
           "Industrial Chemicals and Metals"
          ],
          [
           "Metalworking and Electrical Machinery and Parts"
          ],
          [
           "Textile and Home Goods"
          ],
          [
           "Metalworking and Electrical Machinery and Parts"
          ],
          [
           "Textile and Home Goods"
          ],
          [
           "Construction, Building, and Home Supplies"
          ],
          [
           "Industrial Chemicals and Metals"
          ],
          [
           "Textile and Home Goods"
          ],
          [
           "Agriculture"
          ],
          [
           "Electronic and Electrical Goods"
          ],
          [
           "Textile and Home Goods"
          ],
          [
           "Agriculture"
          ],
          [
           "Construction, Building, and Home Supplies"
          ],
          [
           "Electronic and Electrical Goods"
          ],
          [
           "Metalworking and Electrical Machinery and Parts"
          ],
          [
           "Textile and Home Goods"
          ],
          [
           "Industrial Chemicals and Metals"
          ],
          [
           "Metalworking and Electrical Machinery and Parts"
          ],
          [
           "Industrial Chemicals and Metals"
          ],
          [
           "Minerals"
          ],
          [
           "Agriculture"
          ],
          [
           "Construction, Building, and Home Supplies"
          ],
          [
           "Textile and Home Goods"
          ],
          [
           "Construction, Building, and Home Supplies"
          ],
          [
           "Construction, Building, and Home Supplies"
          ],
          [
           "Metalworking and Electrical Machinery and Parts"
          ],
          [
           "Textile Apparel and Accessories"
          ],
          [
           "Agriculture"
          ],
          [
           "Textile and Home Goods"
          ],
          [
           "Construction, Building, and Home Supplies"
          ],
          [
           "Industrial Chemicals and Metals"
          ],
          [
           "Metalworking and Electrical Machinery and Parts"
          ],
          [
           "Textile and Home Goods"
          ],
          [
           "Textile Apparel and Accessories"
          ],
          [
           "Textile and Home Goods"
          ],
          [
           "Construction, Building, and Home Supplies"
          ],
          [
           "Industrial Chemicals and Metals"
          ],
          [
           "Construction, Building, and Home Supplies"
          ],
          [
           "Industrial Chemicals and Metals"
          ],
          [
           "Metalworking and Electrical Machinery and Parts"
          ],
          [
           "Minerals"
          ],
          [
           "Construction, Building, and Home Supplies"
          ],
          [
           "Metalworking and Electrical Machinery and Parts"
          ],
          [
           "Textile and Home Goods"
          ],
          [
           "Agriculture"
          ],
          [
           "Agriculture"
          ],
          [
           "Textile Apparel and Accessories"
          ]
         ],
         "domain": {
          "x": [
           0,
           1
          ],
          "y": [
           0,
           1
          ]
         },
         "hovertemplate": "%{label}<br>%{value:.1f}%<br>Category: %{customdata[0]}<extra></extra>",
         "ids": [
          "Industrial Chemicals and Metals/Aircraft, spacecraft, and parts thereof",
          "Agriculture/Printed books, newspapers, pictures and other products of the printing industry",
          "Textile and Home Goods/Printed books, newspapers, pictures and other products of the printing industry",
          "Agriculture/Products of the milling industry",
          "Agriculture/Pulp of wood or other fibrous cellulosic material",
          "Textile and Home Goods/Pulp of wood or other fibrous cellulosic material",
          "Construction, Building, and Home Supplies/Railway, tramway locomotives, rolling-stock and parts thereof",
          "Industrial Chemicals and Metals/Railway, tramway locomotives, rolling-stock and parts thereof",
          "Metalworking and Electrical Machinery and Parts/Railway, tramway locomotives, rolling-stock and parts thereof",
          "Agriculture/Raw hides and skins (other than furskins) and leather",
          "Textile and Home Goods/Raw hides and skins (other than furskins) and leather",
          "Construction, Building, and Home Supplies/Rubber and articles thereof",
          "Industrial Chemicals and Metals/Rubber and articles thereof",
          "Metalworking and Electrical Machinery and Parts/Rubber and articles thereof",
          "Textile and Home Goods/Rubber and articles thereof",
          "Agriculture/Salt",
          "Minerals/Salt",
          "Construction, Building, and Home Supplies/Ships, boats and floating structures",
          "Industrial Chemicals and Metals/Ships, boats and floating structures",
          "Metalworking and Electrical Machinery and Parts/Ships, boats and floating structures",
          "Agriculture/Preparations of vegetables, fruit, nuts or other parts of plants",
          "Agriculture/Preparations of cereals, flour, starch or milk",
          "Metalworking and Electrical Machinery and Parts/Plastics and articles thereof",
          "Industrial Chemicals and Metals/Plastics and articles thereof",
          "Metalworking and Electrical Machinery and Parts/Musical instruments",
          "Electronic and Electrical Goods/Natural, cultured pearls",
          "Industrial Chemicals and Metals/Natural, cultured pearls",
          "Minerals/Natural, cultured pearls",
          "Textile and Home Goods/Natural, cultured pearls",
          "Industrial Chemicals and Metals/Nickel and articles thereof",
          "Agriculture/Oil seeds and oleaginous fruits",
          "Construction, Building, and Home Supplies/Optical, photographic, cinematographic, measuring, checking, medical or surgical instruments and apparatus...",
          "Electronic and Electrical Goods/Optical, photographic, cinematographic, measuring, checking, medical or surgical instruments and apparatus...",
          "Textile and Home Goods/Ships, boats and floating structures",
          "Industrial Chemicals and Metals/Optical, photographic, cinematographic, measuring, checking, medical or surgical instruments and apparatus...",
          "Minerals/Ores, slag and ash",
          "Industrial Chemicals and Metals/Organic chemicals",
          "Agriculture/Paper and paperboard",
          "Textile and Home Goods/Paper and paperboard",
          "Industrial Chemicals and Metals/Pharmaceutical products",
          "Construction, Building, and Home Supplies/Photographic or cinematographic goods",
          "Industrial Chemicals and Metals/Photographic or cinematographic goods",
          "Construction, Building, and Home Supplies/Plastics and articles thereof",
          "Electronic and Electrical Goods/Plastics and articles thereof",
          "Metalworking and Electrical Machinery and Parts/Optical, photographic, cinematographic, measuring, checking, medical or surgical instruments and apparatus...",
          "Textile and Home Goods/Silk",
          "Construction, Building, and Home Supplies/Soap, organic surface-active agents",
          "Industrial Chemicals and Metals/Soap, organic surface-active agents",
          "Construction, Building, and Home Supplies/Vehicles",
          "Electronic and Electrical Goods/Vehicles",
          "Industrial Chemicals and Metals/Vehicles",
          "Metalworking and Electrical Machinery and Parts/Vehicles",
          "Textile and Home Goods/Vehicles",
          "Textile Apparel and Accessories/Wadding, felt and nonwovens, special yarns",
          "Textile and Home Goods/Wadding, felt and nonwovens, special yarns",
          "Agriculture/Wood and articles of wood",
          "Textile and Home Goods/Wood and articles of wood",
          "Agriculture/Vegetables and certain roots and tubers",
          "Textile and Home Goods/Wool, fine or coarse animal hair",
          "Textile and Home Goods/Works of art",
          "Industrial Chemicals and Metals/Zinc and articles thereof",
          "Metalworking and Electrical Machinery and Parts/Zinc and articles thereof",
          "Agriculture",
          "Construction, Building, and Home Supplies",
          "Electronic and Electrical Goods",
          "Industrial Chemicals and Metals",
          "Metalworking and Electrical Machinery and Parts",
          "Minerals",
          "Industrial Chemicals and Metals/Works of art",
          "Electronic and Electrical Goods/Musical instruments",
          "Textile and Home Goods/Vegetable textile fibres",
          "Textile Apparel and Accessories/Umbrellas, sun umbrellas, walking-sticks, seat sticks, whips, riding crops",
          "Construction, Building, and Home Supplies/Stone, plaster, cement, asbestos, mica or similar materials",
          "Metalworking and Electrical Machinery and Parts/Stone, plaster, cement, asbestos, mica or similar materials",
          "Minerals/Stone, plaster, cement, asbestos, mica or similar materials",
          "Textile and Home Goods/Stone, plaster, cement, asbestos, mica or similar materials",
          "Agriculture/Sugars and sugar confectionery",
          "Construction, Building, and Home Supplies/Tanning or dyeing extracts",
          "Industrial Chemicals and Metals/Tanning or dyeing extracts",
          "Textile and Home Goods/Textile fabrics",
          "Textile Apparel and Accessories/Textiles, made up articles",
          "Agriculture/Vegetable plaiting materials",
          "Textile and Home Goods/Textiles, made up articles",
          "Agriculture/Tobacco and manufactured tobacco substitutes",
          "Construction, Building, and Home Supplies/Tools, implements, cutlery, spoons and forks, of base metal",
          "Industrial Chemicals and Metals/Tools, implements, cutlery, spoons and forks, of base metal",
          "Metalworking and Electrical Machinery and Parts/Tools, implements, cutlery, spoons and forks, of base metal",
          "Textile and Home Goods/Tools, implements, cutlery, spoons and forks, of base metal",
          "Agriculture/Toys, games and sports requisites",
          "Electronic and Electrical Goods/Toys, games and sports requisites",
          "Textile Apparel and Accessories/Toys, games and sports requisites",
          "Agriculture/Trees and other plants, live",
          "Industrial Chemicals and Metals/Tin",
          "Textile and Home Goods/Miscellaneous manufactured articles",
          "Electronic and Electrical Goods/Miscellaneous manufactured articles",
          "Agriculture/Miscellaneous edible preparations",
          "Agriculture/Coffee, tea, mate and spices",
          "Minerals/Copper and articles thereof",
          "Textile and Home Goods/Cork and articles of cork",
          "Textile and Home Goods/Cotton",
          "Agriculture/Dairy produce",
          "Construction, Building, and Home Supplies/Electrical machinery and equipment and parts thereof",
          "Electronic and Electrical Goods/Electrical machinery and equipment and parts thereof",
          "Industrial Chemicals and Metals/Electrical machinery and equipment and parts thereof",
          "Metalworking and Electrical Machinery and Parts/Electrical machinery and equipment and parts thereof",
          "Construction, Building, and Home Supplies/Essential oils and resinoids",
          "Industrial Chemicals and Metals/Essential oils and resinoids",
          "Textile Apparel and Accessories/Essential oils and resinoids",
          "Construction, Building, and Home Supplies/Explosives",
          "Metalworking and Electrical Machinery and Parts/Explosives",
          "Textile and Home Goods/Fabrics",
          "Textile Apparel and Accessories/Feathers and down, prepared",
          "Textile and Home Goods/Feathers and down, prepared",
          "Construction, Building, and Home Supplies/Fertilizers",
          "Industrial Chemicals and Metals/Fertilizers",
          "Agriculture/Cocoa and cocoa preparations",
          "Metalworking and Electrical Machinery and Parts/Clocks and watches and parts thereof",
          "Electronic and Electrical Goods/Clocks and watches and parts thereof",
          "Metalworking and Electrical Machinery and Parts/Chemical products n.e.c.",
          "Construction, Building, and Home Supplies/Albuminoidal substances",
          "Industrial Chemicals and Metals/Albuminoidal substances",
          "Construction, Building, and Home Supplies/Aluminium and articles thereof",
          "Industrial Chemicals and Metals/Aluminium and articles thereof",
          "Metalworking and Electrical Machinery and Parts/Aluminium and articles thereof",
          "Textile and Home Goods/Aluminium and articles thereof",
          "Agriculture/Animal originated products",
          "Agriculture/Animal, vegetable or microbial fats and oils and their cleavage products",
          "Agriculture/Animals",
          "Agriculture/Fish and crustaceans, molluscs and other aquatic invertebrates",
          "Textile Apparel and Accessories/Apparel and clothing accessories",
          "Agriculture/Beverages, spirits and vinegar",
          "Textile and Home Goods/Carpets and other textile floor coverings",
          "Construction, Building, and Home Supplies/Ceramic products",
          "Industrial Chemicals and Metals/Ceramic products",
          "Metalworking and Electrical Machinery and Parts/Ceramic products",
          "Textile and Home Goods/Ceramic products",
          "Agriculture/Cereals",
          "Construction, Building, and Home Supplies/Chemical products n.e.c.",
          "Industrial Chemicals and Metals/Chemical products n.e.c.",
          "Agriculture/Articles of leather",
          "Agriculture/Food industries, residues and wastes thereof",
          "Textile Apparel and Accessories/Footwear",
          "Agriculture/Machinery and mechanical appliances, boilers, nuclear reactors",
          "Industrial Chemicals and Metals/Machinery and mechanical appliances, boilers, nuclear reactors",
          "Metalworking and Electrical Machinery and Parts/Machinery and mechanical appliances, boilers, nuclear reactors",
          "Textile and Home Goods/Machinery and mechanical appliances, boilers, nuclear reactors",
          "Metalworking and Electrical Machinery and Parts/Man-made filaments",
          "Textile and Home Goods/Man-made filaments",
          "Construction, Building, and Home Supplies/Man-made staple fibres",
          "Industrial Chemicals and Metals/Man-made staple fibres",
          "Textile and Home Goods/Man-made staple fibres",
          "Agriculture/Manufactures of straw, esparto or other plaiting materials",
          "Electronic and Electrical Goods/Machinery and mechanical appliances, boilers, nuclear reactors",
          "Textile and Home Goods/Manufactures of straw, esparto or other plaiting materials",
          "Agriculture/Meat, fish, crustaceans, molluscs or other aquatic invertebrates, or insects",
          "Construction, Building, and Home Supplies/Metal",
          "Electronic and Electrical Goods/Metal",
          "Metalworking and Electrical Machinery and Parts/Metal",
          "Textile and Home Goods/Metal",
          "Industrial Chemicals and Metals/Metals",
          "Metalworking and Electrical Machinery and Parts/Metals",
          "Industrial Chemicals and Metals/Mineral fuels, mineral oils and products of their distillation",
          "Minerals/Mineral fuels, mineral oils and products of their distillation",
          "Agriculture/Meat and edible meat offal",
          "Construction, Building, and Home Supplies/Machinery and mechanical appliances, boilers, nuclear reactors",
          "Textile and Home Goods",
          "Construction, Building, and Home Supplies/Lead and articles thereof",
          "Construction, Building, and Home Supplies/Furniture",
          "Metalworking and Electrical Machinery and Parts/Furniture",
          "Textile Apparel and Accessories/Furniture",
          "Agriculture/Furskins and artificial fur",
          "Textile and Home Goods/Furskins and artificial fur",
          "Construction, Building, and Home Supplies/Glass and glassware",
          "Industrial Chemicals and Metals/Glass and glassware",
          "Metalworking and Electrical Machinery and Parts/Glass and glassware",
          "Textile and Home Goods/Glass and glassware",
          "Textile Apparel and Accessories/Headgear and parts thereof",
          "Textile and Home Goods/Headgear and parts thereof",
          "Construction, Building, and Home Supplies/Inorganic chemicals",
          "Industrial Chemicals and Metals/Inorganic chemicals",
          "Construction, Building, and Home Supplies/Iron and steel",
          "Industrial Chemicals and Metals/Iron and steel",
          "Metalworking and Electrical Machinery and Parts/Iron and steel",
          "Minerals/Iron and steel",
          "Construction, Building, and Home Supplies/Iron or steel articles",
          "Metalworking and Electrical Machinery and Parts/Iron or steel articles",
          "Textile and Home Goods/Iron or steel articles",
          "Agriculture/Lac",
          "Agriculture/Fruit and nuts, edible",
          "Textile Apparel and Accessories"
         ],
         "labels": [
          "Aircraft, spacecraft, and parts thereof",
          "Printed books, newspapers, pictures and other products of the printing industry",
          "Printed books, newspapers, pictures and other products of the printing industry",
          "Products of the milling industry",
          "Pulp of wood or other fibrous cellulosic material",
          "Pulp of wood or other fibrous cellulosic material",
          "Railway, tramway locomotives, rolling-stock and parts thereof",
          "Railway, tramway locomotives, rolling-stock and parts thereof",
          "Railway, tramway locomotives, rolling-stock and parts thereof",
          "Raw hides and skins (other than furskins) and leather",
          "Raw hides and skins (other than furskins) and leather",
          "Rubber and articles thereof",
          "Rubber and articles thereof",
          "Rubber and articles thereof",
          "Rubber and articles thereof",
          "Salt",
          "Salt",
          "Ships, boats and floating structures",
          "Ships, boats and floating structures",
          "Ships, boats and floating structures",
          "Preparations of vegetables, fruit, nuts or other parts of plants",
          "Preparations of cereals, flour, starch or milk",
          "Plastics and articles thereof",
          "Plastics and articles thereof",
          "Musical instruments",
          "Natural, cultured pearls",
          "Natural, cultured pearls",
          "Natural, cultured pearls",
          "Natural, cultured pearls",
          "Nickel and articles thereof",
          "Oil seeds and oleaginous fruits",
          "Optical, photographic, cinematographic, measuring, checking, medical or surgical instruments and apparatus...",
          "Optical, photographic, cinematographic, measuring, checking, medical or surgical instruments and apparatus...",
          "Ships, boats and floating structures",
          "Optical, photographic, cinematographic, measuring, checking, medical or surgical instruments and apparatus...",
          "Ores, slag and ash",
          "Organic chemicals",
          "Paper and paperboard",
          "Paper and paperboard",
          "Pharmaceutical products",
          "Photographic or cinematographic goods",
          "Photographic or cinematographic goods",
          "Plastics and articles thereof",
          "Plastics and articles thereof",
          "Optical, photographic, cinematographic, measuring, checking, medical or surgical instruments and apparatus...",
          "Silk",
          "Soap, organic surface-active agents",
          "Soap, organic surface-active agents",
          "Vehicles",
          "Vehicles",
          "Vehicles",
          "Vehicles",
          "Vehicles",
          "Wadding, felt and nonwovens, special yarns",
          "Wadding, felt and nonwovens, special yarns",
          "Wood and articles of wood",
          "Wood and articles of wood",
          "Vegetables and certain roots and tubers",
          "Wool, fine or coarse animal hair",
          "Works of art",
          "Zinc and articles thereof",
          "Zinc and articles thereof",
          "Agriculture",
          "Construction, Building, and Home Supplies",
          "Electronic and Electrical Goods",
          "Industrial Chemicals and Metals",
          "Metalworking and Electrical Machinery and Parts",
          "Minerals",
          "Works of art",
          "Musical instruments",
          "Vegetable textile fibres",
          "Umbrellas, sun umbrellas, walking-sticks, seat sticks, whips, riding crops",
          "Stone, plaster, cement, asbestos, mica or similar materials",
          "Stone, plaster, cement, asbestos, mica or similar materials",
          "Stone, plaster, cement, asbestos, mica or similar materials",
          "Stone, plaster, cement, asbestos, mica or similar materials",
          "Sugars and sugar confectionery",
          "Tanning or dyeing extracts",
          "Tanning or dyeing extracts",
          "Textile fabrics",
          "Textiles, made up articles",
          "Vegetable plaiting materials",
          "Textiles, made up articles",
          "Tobacco and manufactured tobacco substitutes",
          "Tools, implements, cutlery, spoons and forks, of base metal",
          "Tools, implements, cutlery, spoons and forks, of base metal",
          "Tools, implements, cutlery, spoons and forks, of base metal",
          "Tools, implements, cutlery, spoons and forks, of base metal",
          "Toys, games and sports requisites",
          "Toys, games and sports requisites",
          "Toys, games and sports requisites",
          "Trees and other plants, live",
          "Tin",
          "Miscellaneous manufactured articles",
          "Miscellaneous manufactured articles",
          "Miscellaneous edible preparations",
          "Coffee, tea, mate and spices",
          "Copper and articles thereof",
          "Cork and articles of cork",
          "Cotton",
          "Dairy produce",
          "Electrical machinery and equipment and parts thereof",
          "Electrical machinery and equipment and parts thereof",
          "Electrical machinery and equipment and parts thereof",
          "Electrical machinery and equipment and parts thereof",
          "Essential oils and resinoids",
          "Essential oils and resinoids",
          "Essential oils and resinoids",
          "Explosives",
          "Explosives",
          "Fabrics",
          "Feathers and down, prepared",
          "Feathers and down, prepared",
          "Fertilizers",
          "Fertilizers",
          "Cocoa and cocoa preparations",
          "Clocks and watches and parts thereof",
          "Clocks and watches and parts thereof",
          "Chemical products n.e.c.",
          "Albuminoidal substances",
          "Albuminoidal substances",
          "Aluminium and articles thereof",
          "Aluminium and articles thereof",
          "Aluminium and articles thereof",
          "Aluminium and articles thereof",
          "Animal originated products",
          "Animal, vegetable or microbial fats and oils and their cleavage products",
          "Animals",
          "Fish and crustaceans, molluscs and other aquatic invertebrates",
          "Apparel and clothing accessories",
          "Beverages, spirits and vinegar",
          "Carpets and other textile floor coverings",
          "Ceramic products",
          "Ceramic products",
          "Ceramic products",
          "Ceramic products",
          "Cereals",
          "Chemical products n.e.c.",
          "Chemical products n.e.c.",
          "Articles of leather",
          "Food industries, residues and wastes thereof",
          "Footwear",
          "Machinery and mechanical appliances, boilers, nuclear reactors",
          "Machinery and mechanical appliances, boilers, nuclear reactors",
          "Machinery and mechanical appliances, boilers, nuclear reactors",
          "Machinery and mechanical appliances, boilers, nuclear reactors",
          "Man-made filaments",
          "Man-made filaments",
          "Man-made staple fibres",
          "Man-made staple fibres",
          "Man-made staple fibres",
          "Manufactures of straw, esparto or other plaiting materials",
          "Machinery and mechanical appliances, boilers, nuclear reactors",
          "Manufactures of straw, esparto or other plaiting materials",
          "Meat, fish, crustaceans, molluscs or other aquatic invertebrates, or insects",
          "Metal",
          "Metal",
          "Metal",
          "Metal",
          "Metals",
          "Metals",
          "Mineral fuels, mineral oils and products of their distillation",
          "Mineral fuels, mineral oils and products of their distillation",
          "Meat and edible meat offal",
          "Machinery and mechanical appliances, boilers, nuclear reactors",
          "Textile and Home Goods",
          "Lead and articles thereof",
          "Furniture",
          "Furniture",
          "Furniture",
          "Furskins and artificial fur",
          "Furskins and artificial fur",
          "Glass and glassware",
          "Glass and glassware",
          "Glass and glassware",
          "Glass and glassware",
          "Headgear and parts thereof",
          "Headgear and parts thereof",
          "Inorganic chemicals",
          "Inorganic chemicals",
          "Iron and steel",
          "Iron and steel",
          "Iron and steel",
          "Iron and steel",
          "Iron or steel articles",
          "Iron or steel articles",
          "Iron or steel articles",
          "Lac",
          "Fruit and nuts, edible",
          "Textile Apparel and Accessories"
         ],
         "marker": {
          "colors": [
           "#76B7B2",
           "#4E79A7",
           "#FF9DA7",
           "#4E79A7",
           "#4E79A7",
           "#FF9DA7",
           "#F28E2B",
           "#76B7B2",
           "#59A14F",
           "#4E79A7",
           "#FF9DA7",
           "#F28E2B",
           "#76B7B2",
           "#59A14F",
           "#FF9DA7",
           "#4E79A7",
           "#EDC949",
           "#F28E2B",
           "#76B7B2",
           "#59A14F",
           "#4E79A7",
           "#4E79A7",
           "#59A14F",
           "#76B7B2",
           "#59A14F",
           "#E15759",
           "#76B7B2",
           "#EDC949",
           "#FF9DA7",
           "#76B7B2",
           "#4E79A7",
           "#F28E2B",
           "#E15759",
           "#FF9DA7",
           "#76B7B2",
           "#EDC949",
           "#76B7B2",
           "#4E79A7",
           "#FF9DA7",
           "#76B7B2",
           "#F28E2B",
           "#76B7B2",
           "#F28E2B",
           "#E15759",
           "#59A14F",
           "#FF9DA7",
           "#F28E2B",
           "#76B7B2",
           "#F28E2B",
           "#E15759",
           "#76B7B2",
           "#59A14F",
           "#FF9DA7",
           "#AF7AA1",
           "#FF9DA7",
           "#4E79A7",
           "#FF9DA7",
           "#4E79A7",
           "#FF9DA7",
           "#FF9DA7",
           "#76B7B2",
           "#59A14F",
           "#4E79A7",
           "#F28E2B",
           "#E15759",
           "#76B7B2",
           "#59A14F",
           "#EDC949",
           "#76B7B2",
           "#E15759",
           "#FF9DA7",
           "#AF7AA1",
           "#F28E2B",
           "#59A14F",
           "#EDC949",
           "#FF9DA7",
           "#4E79A7",
           "#F28E2B",
           "#76B7B2",
           "#FF9DA7",
           "#AF7AA1",
           "#4E79A7",
           "#FF9DA7",
           "#4E79A7",
           "#F28E2B",
           "#76B7B2",
           "#59A14F",
           "#FF9DA7",
           "#4E79A7",
           "#E15759",
           "#AF7AA1",
           "#4E79A7",
           "#76B7B2",
           "#FF9DA7",
           "#E15759",
           "#4E79A7",
           "#4E79A7",
           "#EDC949",
           "#FF9DA7",
           "#FF9DA7",
           "#4E79A7",
           "#F28E2B",
           "#E15759",
           "#76B7B2",
           "#59A14F",
           "#F28E2B",
           "#76B7B2",
           "#AF7AA1",
           "#F28E2B",
           "#59A14F",
           "#FF9DA7",
           "#AF7AA1",
           "#FF9DA7",
           "#F28E2B",
           "#76B7B2",
           "#4E79A7",
           "#59A14F",
           "#E15759",
           "#59A14F",
           "#F28E2B",
           "#76B7B2",
           "#F28E2B",
           "#76B7B2",
           "#59A14F",
           "#FF9DA7",
           "#4E79A7",
           "#4E79A7",
           "#4E79A7",
           "#4E79A7",
           "#AF7AA1",
           "#4E79A7",
           "#FF9DA7",
           "#F28E2B",
           "#76B7B2",
           "#59A14F",
           "#FF9DA7",
           "#4E79A7",
           "#F28E2B",
           "#76B7B2",
           "#4E79A7",
           "#4E79A7",
           "#AF7AA1",
           "#4E79A7",
           "#76B7B2",
           "#59A14F",
           "#FF9DA7",
           "#59A14F",
           "#FF9DA7",
           "#F28E2B",
           "#76B7B2",
           "#FF9DA7",
           "#4E79A7",
           "#E15759",
           "#FF9DA7",
           "#4E79A7",
           "#F28E2B",
           "#E15759",
           "#59A14F",
           "#FF9DA7",
           "#76B7B2",
           "#59A14F",
           "#76B7B2",
           "#EDC949",
           "#4E79A7",
           "#F28E2B",
           "#FF9DA7",
           "#F28E2B",
           "#F28E2B",
           "#59A14F",
           "#AF7AA1",
           "#4E79A7",
           "#FF9DA7",
           "#F28E2B",
           "#76B7B2",
           "#59A14F",
           "#FF9DA7",
           "#AF7AA1",
           "#FF9DA7",
           "#F28E2B",
           "#76B7B2",
           "#F28E2B",
           "#76B7B2",
           "#59A14F",
           "#EDC949",
           "#F28E2B",
           "#59A14F",
           "#FF9DA7",
           "#4E79A7",
           "#4E79A7",
           "#AF7AA1"
          ],
          "line": {
           "width": 1
          }
         },
         "name": "",
         "parents": [
          "Industrial Chemicals and Metals",
          "Agriculture",
          "Textile and Home Goods",
          "Agriculture",
          "Agriculture",
          "Textile and Home Goods",
          "Construction, Building, and Home Supplies",
          "Industrial Chemicals and Metals",
          "Metalworking and Electrical Machinery and Parts",
          "Agriculture",
          "Textile and Home Goods",
          "Construction, Building, and Home Supplies",
          "Industrial Chemicals and Metals",
          "Metalworking and Electrical Machinery and Parts",
          "Textile and Home Goods",
          "Agriculture",
          "Minerals",
          "Construction, Building, and Home Supplies",
          "Industrial Chemicals and Metals",
          "Metalworking and Electrical Machinery and Parts",
          "Agriculture",
          "Agriculture",
          "Metalworking and Electrical Machinery and Parts",
          "Industrial Chemicals and Metals",
          "Metalworking and Electrical Machinery and Parts",
          "Electronic and Electrical Goods",
          "Industrial Chemicals and Metals",
          "Minerals",
          "Textile and Home Goods",
          "Industrial Chemicals and Metals",
          "Agriculture",
          "Construction, Building, and Home Supplies",
          "Electronic and Electrical Goods",
          "Textile and Home Goods",
          "Industrial Chemicals and Metals",
          "Minerals",
          "Industrial Chemicals and Metals",
          "Agriculture",
          "Textile and Home Goods",
          "Industrial Chemicals and Metals",
          "Construction, Building, and Home Supplies",
          "Industrial Chemicals and Metals",
          "Construction, Building, and Home Supplies",
          "Electronic and Electrical Goods",
          "Metalworking and Electrical Machinery and Parts",
          "Textile and Home Goods",
          "Construction, Building, and Home Supplies",
          "Industrial Chemicals and Metals",
          "Construction, Building, and Home Supplies",
          "Electronic and Electrical Goods",
          "Industrial Chemicals and Metals",
          "Metalworking and Electrical Machinery and Parts",
          "Textile and Home Goods",
          "Textile Apparel and Accessories",
          "Textile and Home Goods",
          "Agriculture",
          "Textile and Home Goods",
          "Agriculture",
          "Textile and Home Goods",
          "Textile and Home Goods",
          "Industrial Chemicals and Metals",
          "Metalworking and Electrical Machinery and Parts",
          "",
          "",
          "",
          "",
          "",
          "",
          "Industrial Chemicals and Metals",
          "Electronic and Electrical Goods",
          "Textile and Home Goods",
          "Textile Apparel and Accessories",
          "Construction, Building, and Home Supplies",
          "Metalworking and Electrical Machinery and Parts",
          "Minerals",
          "Textile and Home Goods",
          "Agriculture",
          "Construction, Building, and Home Supplies",
          "Industrial Chemicals and Metals",
          "Textile and Home Goods",
          "Textile Apparel and Accessories",
          "Agriculture",
          "Textile and Home Goods",
          "Agriculture",
          "Construction, Building, and Home Supplies",
          "Industrial Chemicals and Metals",
          "Metalworking and Electrical Machinery and Parts",
          "Textile and Home Goods",
          "Agriculture",
          "Electronic and Electrical Goods",
          "Textile Apparel and Accessories",
          "Agriculture",
          "Industrial Chemicals and Metals",
          "Textile and Home Goods",
          "Electronic and Electrical Goods",
          "Agriculture",
          "Agriculture",
          "Minerals",
          "Textile and Home Goods",
          "Textile and Home Goods",
          "Agriculture",
          "Construction, Building, and Home Supplies",
          "Electronic and Electrical Goods",
          "Industrial Chemicals and Metals",
          "Metalworking and Electrical Machinery and Parts",
          "Construction, Building, and Home Supplies",
          "Industrial Chemicals and Metals",
          "Textile Apparel and Accessories",
          "Construction, Building, and Home Supplies",
          "Metalworking and Electrical Machinery and Parts",
          "Textile and Home Goods",
          "Textile Apparel and Accessories",
          "Textile and Home Goods",
          "Construction, Building, and Home Supplies",
          "Industrial Chemicals and Metals",
          "Agriculture",
          "Metalworking and Electrical Machinery and Parts",
          "Electronic and Electrical Goods",
          "Metalworking and Electrical Machinery and Parts",
          "Construction, Building, and Home Supplies",
          "Industrial Chemicals and Metals",
          "Construction, Building, and Home Supplies",
          "Industrial Chemicals and Metals",
          "Metalworking and Electrical Machinery and Parts",
          "Textile and Home Goods",
          "Agriculture",
          "Agriculture",
          "Agriculture",
          "Agriculture",
          "Textile Apparel and Accessories",
          "Agriculture",
          "Textile and Home Goods",
          "Construction, Building, and Home Supplies",
          "Industrial Chemicals and Metals",
          "Metalworking and Electrical Machinery and Parts",
          "Textile and Home Goods",
          "Agriculture",
          "Construction, Building, and Home Supplies",
          "Industrial Chemicals and Metals",
          "Agriculture",
          "Agriculture",
          "Textile Apparel and Accessories",
          "Agriculture",
          "Industrial Chemicals and Metals",
          "Metalworking and Electrical Machinery and Parts",
          "Textile and Home Goods",
          "Metalworking and Electrical Machinery and Parts",
          "Textile and Home Goods",
          "Construction, Building, and Home Supplies",
          "Industrial Chemicals and Metals",
          "Textile and Home Goods",
          "Agriculture",
          "Electronic and Electrical Goods",
          "Textile and Home Goods",
          "Agriculture",
          "Construction, Building, and Home Supplies",
          "Electronic and Electrical Goods",
          "Metalworking and Electrical Machinery and Parts",
          "Textile and Home Goods",
          "Industrial Chemicals and Metals",
          "Metalworking and Electrical Machinery and Parts",
          "Industrial Chemicals and Metals",
          "Minerals",
          "Agriculture",
          "Construction, Building, and Home Supplies",
          "",
          "Construction, Building, and Home Supplies",
          "Construction, Building, and Home Supplies",
          "Metalworking and Electrical Machinery and Parts",
          "Textile Apparel and Accessories",
          "Agriculture",
          "Textile and Home Goods",
          "Construction, Building, and Home Supplies",
          "Industrial Chemicals and Metals",
          "Metalworking and Electrical Machinery and Parts",
          "Textile and Home Goods",
          "Textile Apparel and Accessories",
          "Textile and Home Goods",
          "Construction, Building, and Home Supplies",
          "Industrial Chemicals and Metals",
          "Construction, Building, and Home Supplies",
          "Industrial Chemicals and Metals",
          "Metalworking and Electrical Machinery and Parts",
          "Minerals",
          "Construction, Building, and Home Supplies",
          "Metalworking and Electrical Machinery and Parts",
          "Textile and Home Goods",
          "Agriculture",
          "Agriculture",
          ""
         ],
         "textfont": {
          "size": 15
         },
         "textinfo": "label+percent entry",
         "type": "treemap",
         "values": [
          0.009224996341013657,
          0.008415836755983501,
          0.000888237950770195,
          0.0013219551373240756,
          0.0026936352537608008,
          0.00004292054901960141,
          0.0044734150543414,
          0.0030873783948461,
          0.0230607420133153,
          0.007759156528243747,
          0.001855429918059023,
          0.07994348691530824,
          0.0783050010449581,
          0.026216548671110104,
          0.0033172180745001997,
          0.000784151897354876,
          0.011622406918497353,
          0.00017735381542775344,
          0.0424417903273446,
          0.38215561688930466,
          0.019967296477807,
          0.042872598119151575,
          0.021559920926400997,
          0.7665970901310176,
          0.0022311456714969,
          0.0082462898292758,
          0.0769165203390899,
          0.00017207617945930905,
          0.0023943097350425,
          0.004956704394243695,
          0.010662154744098849,
          0.0005330078448184,
          0.4430412219525133,
          0.0001978191969425,
          0.0043896911425721,
          0.04447478175603016,
          0.6132798747802425,
          0.07267933891555599,
          0.0007194143232754518,
          0.16451083393065338,
          0.007145780439462517,
          0.0206571991067084,
          0.189081161703794,
          0.0437024531305162,
          0.003384344726295469,
          0.0006943071413399913,
          0.011749396024825227,
          0.0296160243386996,
          0.0193623364475415,
          0.0007968770421263,
          0.0060573042739756,
          1.8494327191833686,
          0.0001165886197773,
          0.0094090901174286,
          0.008691808930263176,
          0.0016550255322998377,
          0.00006565705880910517,
          0.00412662092560178,
          0.001351949072515983,
          0.000012914632843329668,
          0.0505564704336411,
          0.0003551460158138,
          0.3699940359127509,
          1.593716099472213,
          5.97378980340465,
          2.6547581342019844,
          3.796912534091018,
          1.884135413639884,
          0.006782370025045299,
          0.0011153947829431,
          0.00024528326758456383,
          0.00006665410986970115,
          0.001741319650454077,
          0.0059168999380275,
          0.0132346694405586,
          0.0056106372805915,
          0.009018914977949325,
          0.02680096989602343,
          0.0382496146153932,
          0.03127738900232897,
          0.018091765345582784,
          0.000012025584278512627,
          0.0016446949968378002,
          0.023106632308499298,
          0.0013638125290242,
          0.0095657004337528,
          0.037621216505611794,
          0.0001679864717229,
          0.0030606001260627,
          0.0100797460268766,
          0.0002202394633193,
          0.0003505675186472058,
          0.0004063772998313,
          0.0067655026348051,
          0.0016795494908362,
          0.036880737900440705,
          0.0010346651002190617,
          0.1737300383959784,
          0.000011806528228851644,
          0.009342341027871659,
          0.0016484320717123143,
          0.1102822051670802,
          4.9677814721279825,
          0.0001452383282241,
          0.14110546783506983,
          0.1927153863027468,
          0.0008079074357455,
          0.000046534713382828096,
          0.00033645687102741616,
          0.0010662458832889,
          0.038054514580964705,
          0.0007107769266177958,
          0.0000059314553951912736,
          0.0088091723451615,
          0.00581314721891121,
          0.0016781853205892932,
          0.00004990089865779061,
          0.002166587043215524,
          0.005264059479313,
          0.0011009566054762299,
          0.021183393889172102,
          0.1028979158508464,
          0.0019673644339618,
          0.030328523004691,
          0.0030817265701664,
          0.0014686688381811452,
          0.003928778585267033,
          0.00020910429189994803,
          0.05054801505864444,
          0.04867696774156365,
          0.0264862941319083,
          0.0008489957871660519,
          0.0001158477583759,
          0.0075697648994997,
          0.0020238754872078,
          0.0013786678580691698,
          0.0005227559423171473,
          0.07172050414368694,
          0.14397327264142368,
          0.0081113475570767,
          0.008408042071496098,
          0.011137790343514784,
          0.0010521452818361,
          0.0092794318065625,
          1.0523189238533834,
          0.0024689936841217,
          0.0013058315851276,
          0.060898172842837564,
          0.0028976416988722,
          0.0013420483145556,
          0.03275310645447276,
          0.00001886627979377222,
          0.4946303072745506,
          0.000015055235364170356,
          0.0086289871726191,
          0.0030535031168613,
          0.0005499047038147,
          0.0319161046247636,
          0.0025156214423740627,
          0.004718646379522003,
          0.0008568834917178,
          0.00010514777202453671,
          1.6060742504978707,
          0.002107596893636698,
          0.0435417768699812,
          0.2247815397325339,
          0.0195787096249161,
          0.0326380543773228,
          0.000327111008756,
          0.0015256601230117,
          0.00019425345262331263,
          0.000013031788513417855,
          0.01695549584323217,
          0.0121928303105251,
          0.0020087659281263,
          0.0039524581448695,
          0.0022677144880689747,
          0.0020954848627119,
          0.0011465799702842,
          0.38688850409492387,
          0.4895665363648155,
          0.13317049532390376,
          0.0396758712654066,
          0.0348271904514895,
          0.1539873162405054,
          0.1367306692047631,
          0.0012855626123776,
          0.0032644294857773885,
          0.005316219674093238,
          0.09215319337236012
         ],
         "visible": false
        },
        {
         "branchvalues": "total",
         "customdata": [
          [
           "Industrial Chemicals and Metals"
          ],
          [
           "Metalworking and Electrical Machinery and Parts"
          ],
          [
           "Agriculture"
          ],
          [
           "Agriculture"
          ],
          [
           "Agriculture"
          ],
          [
           "Textile and Home Goods"
          ],
          [
           "Agriculture"
          ],
          [
           "Agriculture"
          ],
          [
           "Textile and Home Goods"
          ],
          [
           "Construction, Building, and Home Supplies"
          ],
          [
           "Industrial Chemicals and Metals"
          ],
          [
           "Metalworking and Electrical Machinery and Parts"
          ],
          [
           "Agriculture"
          ],
          [
           "Textile and Home Goods"
          ],
          [
           "Construction, Building, and Home Supplies"
          ],
          [
           "Industrial Chemicals and Metals"
          ],
          [
           "Metalworking and Electrical Machinery and Parts"
          ],
          [
           "Textile and Home Goods"
          ],
          [
           "Agriculture"
          ],
          [
           "Minerals"
          ],
          [
           "Industrial Chemicals and Metals"
          ],
          [
           "Electronic and Electrical Goods"
          ],
          [
           "Construction, Building, and Home Supplies"
          ],
          [
           "Industrial Chemicals and Metals"
          ],
          [
           "Electronic and Electrical Goods"
          ],
          [
           "Textile and Home Goods"
          ],
          [
           "Electronic and Electrical Goods"
          ],
          [
           "Metalworking and Electrical Machinery and Parts"
          ],
          [
           "Electronic and Electrical Goods"
          ],
          [
           "Industrial Chemicals and Metals"
          ],
          [
           "Minerals"
          ],
          [
           "Textile and Home Goods"
          ],
          [
           "Industrial Chemicals and Metals"
          ],
          [
           "Construction, Building, and Home Supplies"
          ],
          [
           "Agriculture"
          ],
          [
           "Electronic and Electrical Goods"
          ],
          [
           "Industrial Chemicals and Metals"
          ],
          [
           "Metalworking and Electrical Machinery and Parts"
          ],
          [
           "Minerals"
          ],
          [
           "Industrial Chemicals and Metals"
          ],
          [
           "Agriculture"
          ],
          [
           "Textile and Home Goods"
          ],
          [
           "Industrial Chemicals and Metals"
          ],
          [
           "Construction, Building, and Home Supplies"
          ],
          [
           "Construction, Building, and Home Supplies"
          ],
          [
           "Industrial Chemicals and Metals"
          ],
          [
           "Metalworking and Electrical Machinery and Parts"
          ],
          [
           "Textile and Home Goods"
          ],
          [
           "Agriculture"
          ],
          [
           "Textile and Home Goods"
          ],
          [
           "Agriculture"
          ],
          [
           "Construction, Building, and Home Supplies"
          ],
          [
           "Electronic and Electrical Goods"
          ],
          [
           "Metalworking and Electrical Machinery and Parts"
          ],
          [
           "Textile and Home Goods"
          ],
          [
           "Textile Apparel and Accessories"
          ],
          [
           "Textile and Home Goods"
          ],
          [
           "Textile Apparel and Accessories"
          ],
          [
           "Agriculture"
          ],
          [
           "Textile and Home Goods"
          ],
          [
           "Industrial Chemicals and Metals"
          ],
          [
           "Textile and Home Goods"
          ],
          [
           "Industrial Chemicals and Metals"
          ],
          [
           "Metalworking and Electrical Machinery and Parts"
          ],
          [
           "Agriculture"
          ],
          [
           "Construction, Building, and Home Supplies"
          ],
          [
           "Electronic and Electrical Goods"
          ],
          [
           "Metalworking and Electrical Machinery and Parts"
          ],
          [
           "Textile and Home Goods"
          ],
          [
           "Textile Apparel and Accessories"
          ],
          [
           "Agriculture"
          ],
          [
           "Electronic and Electrical Goods"
          ],
          [
           "Textile and Home Goods"
          ],
          [
           "Construction, Building, and Home Supplies"
          ],
          [
           "Industrial Chemicals and Metals"
          ],
          [
           "Construction, Building, and Home Supplies"
          ],
          [
           "Metalworking and Electrical Machinery and Parts"
          ],
          [
           "Minerals"
          ],
          [
           "Textile and Home Goods"
          ],
          [
           "Agriculture"
          ],
          [
           "Construction, Building, and Home Supplies"
          ],
          [
           "Textile Apparel and Accessories"
          ],
          [
           "Industrial Chemicals and Metals"
          ],
          [
           "Textile Apparel and Accessories"
          ],
          [
           "Textile and Home Goods"
          ],
          [
           "Industrial Chemicals and Metals"
          ],
          [
           "Agriculture"
          ],
          [
           "Construction, Building, and Home Supplies"
          ],
          [
           "Industrial Chemicals and Metals"
          ],
          [
           "Metalworking and Electrical Machinery and Parts"
          ],
          [
           "Textile and Home Goods"
          ],
          [
           "Agriculture"
          ],
          [
           "Textile and Home Goods"
          ],
          [
           "Minerals"
          ],
          [
           "Agriculture"
          ],
          [
           "Metalworking and Electrical Machinery and Parts"
          ],
          [
           "Metalworking and Electrical Machinery and Parts"
          ],
          [
           "Agriculture"
          ],
          [
           "Agriculture"
          ],
          [
           "Minerals"
          ],
          [
           "Textile and Home Goods"
          ],
          [
           "Textile and Home Goods"
          ],
          [
           "Agriculture"
          ],
          [
           "Construction, Building, and Home Supplies"
          ],
          [
           "Electronic and Electrical Goods"
          ],
          [
           "Industrial Chemicals and Metals"
          ],
          [
           "Metalworking and Electrical Machinery and Parts"
          ],
          [
           "Construction, Building, and Home Supplies"
          ],
          [
           "Industrial Chemicals and Metals"
          ],
          [
           "Textile Apparel and Accessories"
          ],
          [
           "Construction, Building, and Home Supplies"
          ],
          [
           "Metalworking and Electrical Machinery and Parts"
          ],
          [
           "Textile and Home Goods"
          ],
          [
           "Textile Apparel and Accessories"
          ],
          [
           "Textile and Home Goods"
          ],
          [
           "Electronic and Electrical Goods"
          ],
          [
           "Metalworking and Electrical Machinery and Parts"
          ],
          [
           "Industrial Chemicals and Metals"
          ],
          [
           "Construction, Building, and Home Supplies"
          ],
          [
           "Construction, Building, and Home Supplies"
          ],
          [
           "Industrial Chemicals and Metals"
          ],
          [
           "Construction, Building, and Home Supplies"
          ],
          [
           "Industrial Chemicals and Metals"
          ],
          [
           "Metalworking and Electrical Machinery and Parts"
          ],
          [
           "Textile and Home Goods"
          ],
          [
           "Agriculture"
          ],
          [
           "Agriculture"
          ],
          [
           "Agriculture"
          ],
          [
           "Construction, Building, and Home Supplies"
          ],
          [
           "Textile Apparel and Accessories"
          ],
          [
           "Agriculture"
          ],
          [
           "Textile and Home Goods"
          ],
          [
           "Agriculture"
          ],
          [
           "Textile and Home Goods"
          ],
          [
           "Construction, Building, and Home Supplies"
          ],
          [
           "Industrial Chemicals and Metals"
          ],
          [
           "Metalworking and Electrical Machinery and Parts"
          ],
          [
           "Textile and Home Goods"
          ],
          [
           "Agriculture"
          ],
          [
           "Metalworking and Electrical Machinery and Parts"
          ],
          [
           "Industrial Chemicals and Metals"
          ],
          [
           "Industrial Chemicals and Metals"
          ],
          [
           "Agriculture"
          ],
          [
           "Agriculture"
          ],
          [
           "Construction, Building, and Home Supplies"
          ],
          [
           "Electronic and Electrical Goods"
          ],
          [
           "Industrial Chemicals and Metals"
          ],
          [
           "Metalworking and Electrical Machinery and Parts"
          ],
          [
           "Textile and Home Goods"
          ],
          [
           "Metalworking and Electrical Machinery and Parts"
          ],
          [
           "Textile and Home Goods"
          ],
          [
           "Construction, Building, and Home Supplies"
          ],
          [
           "Agriculture"
          ],
          [
           "Industrial Chemicals and Metals"
          ],
          [
           "Agriculture"
          ],
          [
           "Textile and Home Goods"
          ],
          [
           "Agriculture"
          ],
          [
           "Agriculture"
          ],
          [
           "Construction, Building, and Home Supplies"
          ],
          [
           "Electronic and Electrical Goods"
          ],
          [
           "Metalworking and Electrical Machinery and Parts"
          ],
          [
           "Textile and Home Goods"
          ],
          [
           "Industrial Chemicals and Metals"
          ],
          [
           "Textile and Home Goods"
          ],
          [
           "Agriculture"
          ],
          [
           "Construction, Building, and Home Supplies"
          ],
          [
           "Metalworking and Electrical Machinery and Parts"
          ],
          [
           "Textile Apparel and Accessories"
          ],
          [
           "Agriculture"
          ],
          [
           "Construction, Building, and Home Supplies"
          ],
          [
           "Metalworking and Electrical Machinery and Parts"
          ],
          [
           "Textile Apparel and Accessories"
          ],
          [
           "Agriculture"
          ],
          [
           "Textile and Home Goods"
          ],
          [
           "Construction, Building, and Home Supplies"
          ],
          [
           "Textile and Home Goods"
          ],
          [
           "Metalworking and Electrical Machinery and Parts"
          ],
          [
           "Industrial Chemicals and Metals"
          ],
          [
           "Textile Apparel and Accessories"
          ],
          [
           "Textile and Home Goods"
          ],
          [
           "Construction, Building, and Home Supplies"
          ],
          [
           "Industrial Chemicals and Metals"
          ],
          [
           "Construction, Building, and Home Supplies"
          ],
          [
           "Industrial Chemicals and Metals"
          ],
          [
           "Metalworking and Electrical Machinery and Parts"
          ],
          [
           "Minerals"
          ],
          [
           "Construction, Building, and Home Supplies"
          ],
          [
           "Textile and Home Goods"
          ],
          [
           "Industrial Chemicals and Metals"
          ],
          [
           "Minerals"
          ],
          [
           "Textile and Home Goods"
          ]
         ],
         "domain": {
          "x": [
           0,
           1
          ],
          "y": [
           0,
           1
          ]
         },
         "hovertemplate": "%{label}<br>%{value:.1f}%<br>Category: %{customdata[0]}<extra></extra>",
         "ids": [
          "Industrial Chemicals and Metals/Aircraft, spacecraft, and parts thereof",
          "Metalworking and Electrical Machinery and Parts/Plastics and articles thereof",
          "Agriculture/Preparations of cereals, flour, starch or milk",
          "Agriculture/Preparations of vegetables, fruit, nuts or other parts of plants",
          "Agriculture/Printed books, newspapers, pictures and other products of the printing industry",
          "Textile and Home Goods/Printed books, newspapers, pictures and other products of the printing industry",
          "Agriculture/Products of the milling industry",
          "Agriculture/Pulp of wood or other fibrous cellulosic material",
          "Textile and Home Goods/Pulp of wood or other fibrous cellulosic material",
          "Construction, Building, and Home Supplies/Railway, tramway locomotives, rolling-stock and parts thereof",
          "Industrial Chemicals and Metals/Railway, tramway locomotives, rolling-stock and parts thereof",
          "Metalworking and Electrical Machinery and Parts/Railway, tramway locomotives, rolling-stock and parts thereof",
          "Agriculture/Raw hides and skins (other than furskins) and leather",
          "Textile and Home Goods/Raw hides and skins (other than furskins) and leather",
          "Construction, Building, and Home Supplies/Rubber and articles thereof",
          "Industrial Chemicals and Metals/Rubber and articles thereof",
          "Metalworking and Electrical Machinery and Parts/Rubber and articles thereof",
          "Textile and Home Goods/Rubber and articles thereof",
          "Agriculture/Salt",
          "Minerals/Salt",
          "Industrial Chemicals and Metals/Plastics and articles thereof",
          "Electronic and Electrical Goods/Plastics and articles thereof",
          "Construction, Building, and Home Supplies/Plastics and articles thereof",
          "Industrial Chemicals and Metals/Photographic or cinematographic goods",
          "Electronic and Electrical Goods/Miscellaneous manufactured articles",
          "Textile and Home Goods/Miscellaneous manufactured articles",
          "Electronic and Electrical Goods/Musical instruments",
          "Metalworking and Electrical Machinery and Parts/Musical instruments",
          "Electronic and Electrical Goods/Natural, cultured pearls",
          "Industrial Chemicals and Metals/Natural, cultured pearls",
          "Minerals/Natural, cultured pearls",
          "Textile and Home Goods/Natural, cultured pearls",
          "Industrial Chemicals and Metals/Nickel and articles thereof",
          "Construction, Building, and Home Supplies/Ships, boats and floating structures",
          "Agriculture/Oil seeds and oleaginous fruits",
          "Electronic and Electrical Goods/Optical, photographic, cinematographic, measuring, checking, medical or surgical instruments and apparatus...",
          "Industrial Chemicals and Metals/Optical, photographic, cinematographic, measuring, checking, medical or surgical instruments and apparatus...",
          "Metalworking and Electrical Machinery and Parts/Optical, photographic, cinematographic, measuring, checking, medical or surgical instruments and apparatus...",
          "Minerals/Ores, slag and ash",
          "Industrial Chemicals and Metals/Organic chemicals",
          "Agriculture/Paper and paperboard",
          "Textile and Home Goods/Paper and paperboard",
          "Industrial Chemicals and Metals/Pharmaceutical products",
          "Construction, Building, and Home Supplies/Photographic or cinematographic goods",
          "Construction, Building, and Home Supplies/Optical, photographic, cinematographic, measuring, checking, medical or surgical instruments and apparatus...",
          "Industrial Chemicals and Metals/Ships, boats and floating structures",
          "Metalworking and Electrical Machinery and Parts/Ships, boats and floating structures",
          "Textile and Home Goods/Ships, boats and floating structures",
          "Agriculture/Vegetable plaiting materials",
          "Textile and Home Goods/Vegetable textile fibres",
          "Agriculture/Vegetables and certain roots and tubers",
          "Construction, Building, and Home Supplies/Vehicles",
          "Electronic and Electrical Goods/Vehicles",
          "Metalworking and Electrical Machinery and Parts/Vehicles",
          "Textile and Home Goods/Vehicles",
          "Textile Apparel and Accessories/Wadding, felt and nonwovens, special yarns",
          "Textile and Home Goods/Wadding, felt and nonwovens, special yarns",
          "Textile Apparel and Accessories/Umbrellas, sun umbrellas, walking-sticks, seat sticks, whips, riding crops",
          "Agriculture/Wood and articles of wood",
          "Textile and Home Goods/Wool, fine or coarse animal hair",
          "Industrial Chemicals and Metals/Works of art",
          "Textile and Home Goods/Works of art",
          "Industrial Chemicals and Metals/Zinc and articles thereof",
          "Metalworking and Electrical Machinery and Parts/Zinc and articles thereof",
          "Agriculture",
          "Construction, Building, and Home Supplies",
          "Electronic and Electrical Goods",
          "Metalworking and Electrical Machinery and Parts",
          "Textile and Home Goods/Wood and articles of wood",
          "Textile Apparel and Accessories",
          "Agriculture/Trees and other plants, live",
          "Electronic and Electrical Goods/Toys, games and sports requisites",
          "Textile and Home Goods/Silk",
          "Construction, Building, and Home Supplies/Soap, organic surface-active agents",
          "Industrial Chemicals and Metals/Soap, organic surface-active agents",
          "Construction, Building, and Home Supplies/Stone, plaster, cement, asbestos, mica or similar materials",
          "Metalworking and Electrical Machinery and Parts/Stone, plaster, cement, asbestos, mica or similar materials",
          "Minerals/Stone, plaster, cement, asbestos, mica or similar materials",
          "Textile and Home Goods/Stone, plaster, cement, asbestos, mica or similar materials",
          "Agriculture/Sugars and sugar confectionery",
          "Construction, Building, and Home Supplies/Tanning or dyeing extracts",
          "Textile Apparel and Accessories/Toys, games and sports requisites",
          "Industrial Chemicals and Metals/Tanning or dyeing extracts",
          "Textile Apparel and Accessories/Textiles, made up articles",
          "Textile and Home Goods/Textiles, made up articles",
          "Industrial Chemicals and Metals/Tin",
          "Agriculture/Tobacco and manufactured tobacco substitutes",
          "Construction, Building, and Home Supplies/Tools, implements, cutlery, spoons and forks, of base metal",
          "Industrial Chemicals and Metals/Tools, implements, cutlery, spoons and forks, of base metal",
          "Metalworking and Electrical Machinery and Parts/Tools, implements, cutlery, spoons and forks, of base metal",
          "Textile and Home Goods/Tools, implements, cutlery, spoons and forks, of base metal",
          "Agriculture/Toys, games and sports requisites",
          "Textile and Home Goods/Textile fabrics",
          "Minerals/Mineral fuels, mineral oils and products of their distillation",
          "Agriculture/Miscellaneous edible preparations",
          "Metalworking and Electrical Machinery and Parts/Metals",
          "Metalworking and Electrical Machinery and Parts/Clocks and watches and parts thereof",
          "Agriculture/Cocoa and cocoa preparations",
          "Agriculture/Coffee, tea, mate and spices",
          "Minerals/Copper and articles thereof",
          "Textile and Home Goods/Cork and articles of cork",
          "Textile and Home Goods/Cotton",
          "Agriculture/Dairy produce",
          "Construction, Building, and Home Supplies/Electrical machinery and equipment and parts thereof",
          "Electronic and Electrical Goods/Electrical machinery and equipment and parts thereof",
          "Industrial Chemicals and Metals/Electrical machinery and equipment and parts thereof",
          "Metalworking and Electrical Machinery and Parts/Electrical machinery and equipment and parts thereof",
          "Construction, Building, and Home Supplies/Essential oils and resinoids",
          "Industrial Chemicals and Metals/Essential oils and resinoids",
          "Textile Apparel and Accessories/Essential oils and resinoids",
          "Construction, Building, and Home Supplies/Explosives",
          "Metalworking and Electrical Machinery and Parts/Explosives",
          "Textile and Home Goods/Fabrics",
          "Textile Apparel and Accessories/Feathers and down, prepared",
          "Textile and Home Goods/Feathers and down, prepared",
          "Electronic and Electrical Goods/Clocks and watches and parts thereof",
          "Metalworking and Electrical Machinery and Parts/Chemical products n.e.c.",
          "Industrial Chemicals and Metals/Chemical products n.e.c.",
          "Construction, Building, and Home Supplies/Chemical products n.e.c.",
          "Construction, Building, and Home Supplies/Albuminoidal substances",
          "Industrial Chemicals and Metals/Albuminoidal substances",
          "Construction, Building, and Home Supplies/Aluminium and articles thereof",
          "Industrial Chemicals and Metals/Aluminium and articles thereof",
          "Metalworking and Electrical Machinery and Parts/Aluminium and articles thereof",
          "Textile and Home Goods/Aluminium and articles thereof",
          "Agriculture/Animal originated products",
          "Agriculture/Animal, vegetable or microbial fats and oils and their cleavage products",
          "Agriculture/Animals",
          "Construction, Building, and Home Supplies/Fertilizers",
          "Textile Apparel and Accessories/Apparel and clothing accessories",
          "Agriculture/Articles of leather",
          "Textile and Home Goods/Articles of leather",
          "Agriculture/Beverages, spirits and vinegar",
          "Textile and Home Goods/Carpets and other textile floor coverings",
          "Construction, Building, and Home Supplies/Ceramic products",
          "Industrial Chemicals and Metals/Ceramic products",
          "Metalworking and Electrical Machinery and Parts/Ceramic products",
          "Textile and Home Goods/Ceramic products",
          "Agriculture/Cereals",
          "Metalworking and Electrical Machinery and Parts/Arms and ammunition",
          "Industrial Chemicals and Metals/Mineral fuels, mineral oils and products of their distillation",
          "Industrial Chemicals and Metals/Fertilizers",
          "Agriculture/Food industries, residues and wastes thereof",
          "Agriculture/Machinery and mechanical appliances, boilers, nuclear reactors",
          "Construction, Building, and Home Supplies/Machinery and mechanical appliances, boilers, nuclear reactors",
          "Electronic and Electrical Goods/Machinery and mechanical appliances, boilers, nuclear reactors",
          "Industrial Chemicals and Metals/Machinery and mechanical appliances, boilers, nuclear reactors",
          "Metalworking and Electrical Machinery and Parts/Machinery and mechanical appliances, boilers, nuclear reactors",
          "Textile and Home Goods/Machinery and mechanical appliances, boilers, nuclear reactors",
          "Metalworking and Electrical Machinery and Parts/Man-made filaments",
          "Textile and Home Goods/Man-made filaments",
          "Construction, Building, and Home Supplies/Man-made staple fibres",
          "Agriculture/Fish and crustaceans, molluscs and other aquatic invertebrates",
          "Industrial Chemicals and Metals/Man-made staple fibres",
          "Agriculture/Manufactures of straw, esparto or other plaiting materials",
          "Textile and Home Goods/Manufactures of straw, esparto or other plaiting materials",
          "Agriculture/Meat and edible meat offal",
          "Agriculture/Meat, fish, crustaceans, molluscs or other aquatic invertebrates, or insects",
          "Construction, Building, and Home Supplies/Metal",
          "Electronic and Electrical Goods/Metal",
          "Metalworking and Electrical Machinery and Parts/Metal",
          "Textile and Home Goods/Metal",
          "Industrial Chemicals and Metals/Metals",
          "Textile and Home Goods/Man-made staple fibres",
          "Agriculture/Lac",
          "Construction, Building, and Home Supplies/Lead and articles thereof",
          "Metalworking and Electrical Machinery and Parts/Iron or steel articles",
          "Textile Apparel and Accessories/Footwear",
          "Agriculture/Fruit and nuts, edible",
          "Construction, Building, and Home Supplies/Furniture",
          "Metalworking and Electrical Machinery and Parts/Furniture",
          "Textile Apparel and Accessories/Furniture",
          "Agriculture/Furskins and artificial fur",
          "Textile and Home Goods/Furskins and artificial fur",
          "Construction, Building, and Home Supplies/Glass and glassware",
          "Textile and Home Goods/Iron or steel articles",
          "Metalworking and Electrical Machinery and Parts/Glass and glassware",
          "Industrial Chemicals and Metals/Glass and glassware",
          "Textile Apparel and Accessories/Headgear and parts thereof",
          "Textile and Home Goods/Headgear and parts thereof",
          "Construction, Building, and Home Supplies/Inorganic chemicals",
          "Industrial Chemicals and Metals/Inorganic chemicals",
          "Construction, Building, and Home Supplies/Iron and steel",
          "Industrial Chemicals and Metals/Iron and steel",
          "Metalworking and Electrical Machinery and Parts/Iron and steel",
          "Minerals/Iron and steel",
          "Construction, Building, and Home Supplies/Iron or steel articles",
          "Textile and Home Goods/Glass and glassware",
          "Industrial Chemicals and Metals",
          "Minerals",
          "Textile and Home Goods"
         ],
         "labels": [
          "Aircraft, spacecraft, and parts thereof",
          "Plastics and articles thereof",
          "Preparations of cereals, flour, starch or milk",
          "Preparations of vegetables, fruit, nuts or other parts of plants",
          "Printed books, newspapers, pictures and other products of the printing industry",
          "Printed books, newspapers, pictures and other products of the printing industry",
          "Products of the milling industry",
          "Pulp of wood or other fibrous cellulosic material",
          "Pulp of wood or other fibrous cellulosic material",
          "Railway, tramway locomotives, rolling-stock and parts thereof",
          "Railway, tramway locomotives, rolling-stock and parts thereof",
          "Railway, tramway locomotives, rolling-stock and parts thereof",
          "Raw hides and skins (other than furskins) and leather",
          "Raw hides and skins (other than furskins) and leather",
          "Rubber and articles thereof",
          "Rubber and articles thereof",
          "Rubber and articles thereof",
          "Rubber and articles thereof",
          "Salt",
          "Salt",
          "Plastics and articles thereof",
          "Plastics and articles thereof",
          "Plastics and articles thereof",
          "Photographic or cinematographic goods",
          "Miscellaneous manufactured articles",
          "Miscellaneous manufactured articles",
          "Musical instruments",
          "Musical instruments",
          "Natural, cultured pearls",
          "Natural, cultured pearls",
          "Natural, cultured pearls",
          "Natural, cultured pearls",
          "Nickel and articles thereof",
          "Ships, boats and floating structures",
          "Oil seeds and oleaginous fruits",
          "Optical, photographic, cinematographic, measuring, checking, medical or surgical instruments and apparatus...",
          "Optical, photographic, cinematographic, measuring, checking, medical or surgical instruments and apparatus...",
          "Optical, photographic, cinematographic, measuring, checking, medical or surgical instruments and apparatus...",
          "Ores, slag and ash",
          "Organic chemicals",
          "Paper and paperboard",
          "Paper and paperboard",
          "Pharmaceutical products",
          "Photographic or cinematographic goods",
          "Optical, photographic, cinematographic, measuring, checking, medical or surgical instruments and apparatus...",
          "Ships, boats and floating structures",
          "Ships, boats and floating structures",
          "Ships, boats and floating structures",
          "Vegetable plaiting materials",
          "Vegetable textile fibres",
          "Vegetables and certain roots and tubers",
          "Vehicles",
          "Vehicles",
          "Vehicles",
          "Vehicles",
          "Wadding, felt and nonwovens, special yarns",
          "Wadding, felt and nonwovens, special yarns",
          "Umbrellas, sun umbrellas, walking-sticks, seat sticks, whips, riding crops",
          "Wood and articles of wood",
          "Wool, fine or coarse animal hair",
          "Works of art",
          "Works of art",
          "Zinc and articles thereof",
          "Zinc and articles thereof",
          "Agriculture",
          "Construction, Building, and Home Supplies",
          "Electronic and Electrical Goods",
          "Metalworking and Electrical Machinery and Parts",
          "Wood and articles of wood",
          "Textile Apparel and Accessories",
          "Trees and other plants, live",
          "Toys, games and sports requisites",
          "Silk",
          "Soap, organic surface-active agents",
          "Soap, organic surface-active agents",
          "Stone, plaster, cement, asbestos, mica or similar materials",
          "Stone, plaster, cement, asbestos, mica or similar materials",
          "Stone, plaster, cement, asbestos, mica or similar materials",
          "Stone, plaster, cement, asbestos, mica or similar materials",
          "Sugars and sugar confectionery",
          "Tanning or dyeing extracts",
          "Toys, games and sports requisites",
          "Tanning or dyeing extracts",
          "Textiles, made up articles",
          "Textiles, made up articles",
          "Tin",
          "Tobacco and manufactured tobacco substitutes",
          "Tools, implements, cutlery, spoons and forks, of base metal",
          "Tools, implements, cutlery, spoons and forks, of base metal",
          "Tools, implements, cutlery, spoons and forks, of base metal",
          "Tools, implements, cutlery, spoons and forks, of base metal",
          "Toys, games and sports requisites",
          "Textile fabrics",
          "Mineral fuels, mineral oils and products of their distillation",
          "Miscellaneous edible preparations",
          "Metals",
          "Clocks and watches and parts thereof",
          "Cocoa and cocoa preparations",
          "Coffee, tea, mate and spices",
          "Copper and articles thereof",
          "Cork and articles of cork",
          "Cotton",
          "Dairy produce",
          "Electrical machinery and equipment and parts thereof",
          "Electrical machinery and equipment and parts thereof",
          "Electrical machinery and equipment and parts thereof",
          "Electrical machinery and equipment and parts thereof",
          "Essential oils and resinoids",
          "Essential oils and resinoids",
          "Essential oils and resinoids",
          "Explosives",
          "Explosives",
          "Fabrics",
          "Feathers and down, prepared",
          "Feathers and down, prepared",
          "Clocks and watches and parts thereof",
          "Chemical products n.e.c.",
          "Chemical products n.e.c.",
          "Chemical products n.e.c.",
          "Albuminoidal substances",
          "Albuminoidal substances",
          "Aluminium and articles thereof",
          "Aluminium and articles thereof",
          "Aluminium and articles thereof",
          "Aluminium and articles thereof",
          "Animal originated products",
          "Animal, vegetable or microbial fats and oils and their cleavage products",
          "Animals",
          "Fertilizers",
          "Apparel and clothing accessories",
          "Articles of leather",
          "Articles of leather",
          "Beverages, spirits and vinegar",
          "Carpets and other textile floor coverings",
          "Ceramic products",
          "Ceramic products",
          "Ceramic products",
          "Ceramic products",
          "Cereals",
          "Arms and ammunition",
          "Mineral fuels, mineral oils and products of their distillation",
          "Fertilizers",
          "Food industries, residues and wastes thereof",
          "Machinery and mechanical appliances, boilers, nuclear reactors",
          "Machinery and mechanical appliances, boilers, nuclear reactors",
          "Machinery and mechanical appliances, boilers, nuclear reactors",
          "Machinery and mechanical appliances, boilers, nuclear reactors",
          "Machinery and mechanical appliances, boilers, nuclear reactors",
          "Machinery and mechanical appliances, boilers, nuclear reactors",
          "Man-made filaments",
          "Man-made filaments",
          "Man-made staple fibres",
          "Fish and crustaceans, molluscs and other aquatic invertebrates",
          "Man-made staple fibres",
          "Manufactures of straw, esparto or other plaiting materials",
          "Manufactures of straw, esparto or other plaiting materials",
          "Meat and edible meat offal",
          "Meat, fish, crustaceans, molluscs or other aquatic invertebrates, or insects",
          "Metal",
          "Metal",
          "Metal",
          "Metal",
          "Metals",
          "Man-made staple fibres",
          "Lac",
          "Lead and articles thereof",
          "Iron or steel articles",
          "Footwear",
          "Fruit and nuts, edible",
          "Furniture",
          "Furniture",
          "Furniture",
          "Furskins and artificial fur",
          "Furskins and artificial fur",
          "Glass and glassware",
          "Iron or steel articles",
          "Glass and glassware",
          "Glass and glassware",
          "Headgear and parts thereof",
          "Headgear and parts thereof",
          "Inorganic chemicals",
          "Inorganic chemicals",
          "Iron and steel",
          "Iron and steel",
          "Iron and steel",
          "Iron and steel",
          "Iron or steel articles",
          "Glass and glassware",
          "Industrial Chemicals and Metals",
          "Minerals",
          "Textile and Home Goods"
         ],
         "marker": {
          "colors": [
           "#76B7B2",
           "#59A14F",
           "#4E79A7",
           "#4E79A7",
           "#4E79A7",
           "#FF9DA7",
           "#4E79A7",
           "#4E79A7",
           "#FF9DA7",
           "#F28E2B",
           "#76B7B2",
           "#59A14F",
           "#4E79A7",
           "#FF9DA7",
           "#F28E2B",
           "#76B7B2",
           "#59A14F",
           "#FF9DA7",
           "#4E79A7",
           "#EDC949",
           "#76B7B2",
           "#E15759",
           "#F28E2B",
           "#76B7B2",
           "#E15759",
           "#FF9DA7",
           "#E15759",
           "#59A14F",
           "#E15759",
           "#76B7B2",
           "#EDC949",
           "#FF9DA7",
           "#76B7B2",
           "#F28E2B",
           "#4E79A7",
           "#E15759",
           "#76B7B2",
           "#59A14F",
           "#EDC949",
           "#76B7B2",
           "#4E79A7",
           "#FF9DA7",
           "#76B7B2",
           "#F28E2B",
           "#F28E2B",
           "#76B7B2",
           "#59A14F",
           "#FF9DA7",
           "#4E79A7",
           "#FF9DA7",
           "#4E79A7",
           "#F28E2B",
           "#E15759",
           "#59A14F",
           "#FF9DA7",
           "#AF7AA1",
           "#FF9DA7",
           "#AF7AA1",
           "#4E79A7",
           "#FF9DA7",
           "#76B7B2",
           "#FF9DA7",
           "#76B7B2",
           "#59A14F",
           "#4E79A7",
           "#F28E2B",
           "#E15759",
           "#59A14F",
           "#FF9DA7",
           "#AF7AA1",
           "#4E79A7",
           "#E15759",
           "#FF9DA7",
           "#F28E2B",
           "#76B7B2",
           "#F28E2B",
           "#59A14F",
           "#EDC949",
           "#FF9DA7",
           "#4E79A7",
           "#F28E2B",
           "#AF7AA1",
           "#76B7B2",
           "#AF7AA1",
           "#FF9DA7",
           "#76B7B2",
           "#4E79A7",
           "#F28E2B",
           "#76B7B2",
           "#59A14F",
           "#FF9DA7",
           "#4E79A7",
           "#FF9DA7",
           "#EDC949",
           "#4E79A7",
           "#59A14F",
           "#59A14F",
           "#4E79A7",
           "#4E79A7",
           "#EDC949",
           "#FF9DA7",
           "#FF9DA7",
           "#4E79A7",
           "#F28E2B",
           "#E15759",
           "#76B7B2",
           "#59A14F",
           "#F28E2B",
           "#76B7B2",
           "#AF7AA1",
           "#F28E2B",
           "#59A14F",
           "#FF9DA7",
           "#AF7AA1",
           "#FF9DA7",
           "#E15759",
           "#59A14F",
           "#76B7B2",
           "#F28E2B",
           "#F28E2B",
           "#76B7B2",
           "#F28E2B",
           "#76B7B2",
           "#59A14F",
           "#FF9DA7",
           "#4E79A7",
           "#4E79A7",
           "#4E79A7",
           "#F28E2B",
           "#AF7AA1",
           "#4E79A7",
           "#FF9DA7",
           "#4E79A7",
           "#FF9DA7",
           "#F28E2B",
           "#76B7B2",
           "#59A14F",
           "#FF9DA7",
           "#4E79A7",
           "#59A14F",
           "#76B7B2",
           "#76B7B2",
           "#4E79A7",
           "#4E79A7",
           "#F28E2B",
           "#E15759",
           "#76B7B2",
           "#59A14F",
           "#FF9DA7",
           "#59A14F",
           "#FF9DA7",
           "#F28E2B",
           "#4E79A7",
           "#76B7B2",
           "#4E79A7",
           "#FF9DA7",
           "#4E79A7",
           "#4E79A7",
           "#F28E2B",
           "#E15759",
           "#59A14F",
           "#FF9DA7",
           "#76B7B2",
           "#FF9DA7",
           "#4E79A7",
           "#F28E2B",
           "#59A14F",
           "#AF7AA1",
           "#4E79A7",
           "#F28E2B",
           "#59A14F",
           "#AF7AA1",
           "#4E79A7",
           "#FF9DA7",
           "#F28E2B",
           "#FF9DA7",
           "#59A14F",
           "#76B7B2",
           "#AF7AA1",
           "#FF9DA7",
           "#F28E2B",
           "#76B7B2",
           "#F28E2B",
           "#76B7B2",
           "#59A14F",
           "#EDC949",
           "#F28E2B",
           "#FF9DA7",
           "#76B7B2",
           "#EDC949",
           "#FF9DA7"
          ],
          "line": {
           "width": 1
          }
         },
         "name": "",
         "parents": [
          "Industrial Chemicals and Metals",
          "Metalworking and Electrical Machinery and Parts",
          "Agriculture",
          "Agriculture",
          "Agriculture",
          "Textile and Home Goods",
          "Agriculture",
          "Agriculture",
          "Textile and Home Goods",
          "Construction, Building, and Home Supplies",
          "Industrial Chemicals and Metals",
          "Metalworking and Electrical Machinery and Parts",
          "Agriculture",
          "Textile and Home Goods",
          "Construction, Building, and Home Supplies",
          "Industrial Chemicals and Metals",
          "Metalworking and Electrical Machinery and Parts",
          "Textile and Home Goods",
          "Agriculture",
          "Minerals",
          "Industrial Chemicals and Metals",
          "Electronic and Electrical Goods",
          "Construction, Building, and Home Supplies",
          "Industrial Chemicals and Metals",
          "Electronic and Electrical Goods",
          "Textile and Home Goods",
          "Electronic and Electrical Goods",
          "Metalworking and Electrical Machinery and Parts",
          "Electronic and Electrical Goods",
          "Industrial Chemicals and Metals",
          "Minerals",
          "Textile and Home Goods",
          "Industrial Chemicals and Metals",
          "Construction, Building, and Home Supplies",
          "Agriculture",
          "Electronic and Electrical Goods",
          "Industrial Chemicals and Metals",
          "Metalworking and Electrical Machinery and Parts",
          "Minerals",
          "Industrial Chemicals and Metals",
          "Agriculture",
          "Textile and Home Goods",
          "Industrial Chemicals and Metals",
          "Construction, Building, and Home Supplies",
          "Construction, Building, and Home Supplies",
          "Industrial Chemicals and Metals",
          "Metalworking and Electrical Machinery and Parts",
          "Textile and Home Goods",
          "Agriculture",
          "Textile and Home Goods",
          "Agriculture",
          "Construction, Building, and Home Supplies",
          "Electronic and Electrical Goods",
          "Metalworking and Electrical Machinery and Parts",
          "Textile and Home Goods",
          "Textile Apparel and Accessories",
          "Textile and Home Goods",
          "Textile Apparel and Accessories",
          "Agriculture",
          "Textile and Home Goods",
          "Industrial Chemicals and Metals",
          "Textile and Home Goods",
          "Industrial Chemicals and Metals",
          "Metalworking and Electrical Machinery and Parts",
          "",
          "",
          "",
          "",
          "Textile and Home Goods",
          "",
          "Agriculture",
          "Electronic and Electrical Goods",
          "Textile and Home Goods",
          "Construction, Building, and Home Supplies",
          "Industrial Chemicals and Metals",
          "Construction, Building, and Home Supplies",
          "Metalworking and Electrical Machinery and Parts",
          "Minerals",
          "Textile and Home Goods",
          "Agriculture",
          "Construction, Building, and Home Supplies",
          "Textile Apparel and Accessories",
          "Industrial Chemicals and Metals",
          "Textile Apparel and Accessories",
          "Textile and Home Goods",
          "Industrial Chemicals and Metals",
          "Agriculture",
          "Construction, Building, and Home Supplies",
          "Industrial Chemicals and Metals",
          "Metalworking and Electrical Machinery and Parts",
          "Textile and Home Goods",
          "Agriculture",
          "Textile and Home Goods",
          "Minerals",
          "Agriculture",
          "Metalworking and Electrical Machinery and Parts",
          "Metalworking and Electrical Machinery and Parts",
          "Agriculture",
          "Agriculture",
          "Minerals",
          "Textile and Home Goods",
          "Textile and Home Goods",
          "Agriculture",
          "Construction, Building, and Home Supplies",
          "Electronic and Electrical Goods",
          "Industrial Chemicals and Metals",
          "Metalworking and Electrical Machinery and Parts",
          "Construction, Building, and Home Supplies",
          "Industrial Chemicals and Metals",
          "Textile Apparel and Accessories",
          "Construction, Building, and Home Supplies",
          "Metalworking and Electrical Machinery and Parts",
          "Textile and Home Goods",
          "Textile Apparel and Accessories",
          "Textile and Home Goods",
          "Electronic and Electrical Goods",
          "Metalworking and Electrical Machinery and Parts",
          "Industrial Chemicals and Metals",
          "Construction, Building, and Home Supplies",
          "Construction, Building, and Home Supplies",
          "Industrial Chemicals and Metals",
          "Construction, Building, and Home Supplies",
          "Industrial Chemicals and Metals",
          "Metalworking and Electrical Machinery and Parts",
          "Textile and Home Goods",
          "Agriculture",
          "Agriculture",
          "Agriculture",
          "Construction, Building, and Home Supplies",
          "Textile Apparel and Accessories",
          "Agriculture",
          "Textile and Home Goods",
          "Agriculture",
          "Textile and Home Goods",
          "Construction, Building, and Home Supplies",
          "Industrial Chemicals and Metals",
          "Metalworking and Electrical Machinery and Parts",
          "Textile and Home Goods",
          "Agriculture",
          "Metalworking and Electrical Machinery and Parts",
          "Industrial Chemicals and Metals",
          "Industrial Chemicals and Metals",
          "Agriculture",
          "Agriculture",
          "Construction, Building, and Home Supplies",
          "Electronic and Electrical Goods",
          "Industrial Chemicals and Metals",
          "Metalworking and Electrical Machinery and Parts",
          "Textile and Home Goods",
          "Metalworking and Electrical Machinery and Parts",
          "Textile and Home Goods",
          "Construction, Building, and Home Supplies",
          "Agriculture",
          "Industrial Chemicals and Metals",
          "Agriculture",
          "Textile and Home Goods",
          "Agriculture",
          "Agriculture",
          "Construction, Building, and Home Supplies",
          "Electronic and Electrical Goods",
          "Metalworking and Electrical Machinery and Parts",
          "Textile and Home Goods",
          "Industrial Chemicals and Metals",
          "Textile and Home Goods",
          "Agriculture",
          "Construction, Building, and Home Supplies",
          "Metalworking and Electrical Machinery and Parts",
          "Textile Apparel and Accessories",
          "Agriculture",
          "Construction, Building, and Home Supplies",
          "Metalworking and Electrical Machinery and Parts",
          "Textile Apparel and Accessories",
          "Agriculture",
          "Textile and Home Goods",
          "Construction, Building, and Home Supplies",
          "Textile and Home Goods",
          "Metalworking and Electrical Machinery and Parts",
          "Industrial Chemicals and Metals",
          "Textile Apparel and Accessories",
          "Textile and Home Goods",
          "Construction, Building, and Home Supplies",
          "Industrial Chemicals and Metals",
          "Construction, Building, and Home Supplies",
          "Industrial Chemicals and Metals",
          "Metalworking and Electrical Machinery and Parts",
          "Minerals",
          "Construction, Building, and Home Supplies",
          "Textile and Home Goods",
          "",
          "",
          ""
         ],
         "textfont": {
          "size": 15
         },
         "textinfo": "label+percent entry",
         "type": "treemap",
         "values": [
          0.013883850650614999,
          0.0005884916684922,
          0.026971891588063134,
          0.0027126627459331367,
          0.010288139387461313,
          0.00010443182658068685,
          0.0017424494089983739,
          0.010002140798435026,
          0.00005435290081584165,
          0.002240967501585782,
          0.0001773799959372672,
          0.00012162733207395249,
          0.0005114935099000007,
          0.001838913302388082,
          0.00392176432770738,
          0.0245528477534776,
          0.017784384147350802,
          0.0037267865010053745,
          0.0002219598346281373,
          0.001731888716968304,
          0.3330749655342855,
          0.024092142029014,
          0.029428807884933336,
          0.004421850573049534,
          0.0021019659107595,
          0.0018341492897263484,
          0.0001939655093125,
          0.000182575625318,
          0.0856043751253628,
          0.06991679375348181,
          0.010251275104289475,
          0.003642462931424,
          0.018437767548031246,
          0.000773012024875,
          0.0015349821903288734,
          0.5533692973134395,
          0.0015062710887638,
          0.0154859300122996,
          0.0009089906615391323,
          0.3442767630853733,
          0.02586969519494902,
          0.00023488442369418142,
          0.2441018386018433,
          0.0004205349288839137,
          0.0034485274152281,
          0.0588465067093287,
          0.0027396756645754,
          0.000024368485942129317,
          0.00032053607513595736,
          0.0000180215668239955,
          0.000663158459983428,
          0.0023077137156068,
          0.0339997311170566,
          0.05496349993792725,
          0.0003880868677395,
          0.00020363905619154074,
          0.0012022886987122442,
          0.00003608295060117531,
          0.001436258575057489,
          0.00008515646801078388,
          0.0120512291929433,
          0.0002281560683863,
          0.0089537200600338,
          0.0008979042892145,
          0.4621463053214791,
          0.4175127458644917,
          5.708692149553944,
          0.9967943938299222,
          0.00008127682961849251,
          0.05988264482304111,
          0.00033772924163343715,
          0.0132551632132603,
          0.00007561307721154499,
          0.010252742986078566,
          0.023607720344435597,
          0.0010839938598972197,
          0.0008497648767833666,
          0.000960032174034,
          0.0010960513652882,
          0.0025424384399247136,
          0.009927690382031116,
          0.00004340868547381027,
          0.023426861272138798,
          0.007255192134343298,
          0.00022733628633165188,
          0.0129981028962743,
          0.011148989988827594,
          0.0012166975785798,
          0.0084851006491006,
          0.013269912902841385,
          0.000028577688815582607,
          0.0028690928962593,
          0.0024578776781345613,
          1.6284279798497532,
          0.1756031078173203,
          0.00003342399816358243,
          0.0002100158244808,
          0.02180319069420438,
          0.0050495476256324865,
          0.026216771441661364,
          0.00002314538905620099,
          0.0003629106905154464,
          0.008413320304355537,
          0.0406806248073655,
          4.400465169398819,
          0.0012277686394796,
          0.0458015178324925,
          0.1970191042225236,
          0.0552227959390962,
          0.0011255849477053,
          0.0002452002768693905,
          0.0001022656285845,
          0.002025335622162085,
          0.00008737684074339378,
          0.00001968763356504755,
          0.0541786445157628,
          0.0000661317238495749,
          0.1468284693436292,
          0.04443954043846763,
          0.0006926307607325589,
          0.0086541147407329,
          0.017817129656744975,
          0.0034183337861748,
          0.0079074983015361,
          0.00008290970059932954,
          0.00039935224519676204,
          0.011539942810125086,
          0.000704880423623391,
          0.0001233733924486,
          0.03175801157439565,
          0.04318212840970935,
          2.362565757572251e-7,
          0.07007984462929542,
          0.0002026395493268879,
          0.00004933705027116988,
          0.0008667106674837,
          0.000292214830209615,
          0.000509996498641996,
          0.0014155034058304,
          0.000041262476894161347,
          0.000015124090824864104,
          0.0005041457524899154,
          0.008551521904621889,
          0.0010484778458992,
          0.0039164959375856245,
          0.5410269732913988,
          0.0036294859308106,
          0.7744620204994522,
          0.009238417123807836,
          0.000145921186059,
          0.005202979327201021,
          0.0001351781243484,
          0.005673333139547107,
          0.0008959321559023,
          0.00001822810019015532,
          0.000025528951724336984,
          0.0035024152696997123,
          0.0019452604426986831,
          0.001257479967586932,
          0.0004047221297582,
          0.0087453688448801,
          0.000475960835041,
          0.001944221694687456,
          0.0069690288439913615,
          0.0009233057117207,
          0.0004808962961084,
          0.04600122669202696,
          0.017774095246627493,
          0.002926589767289114,
          0.006315610646266,
          0.0004190443228636,
          0.0009449472523955,
          0.00019273643900048355,
          0.0000011139197575850395,
          0.002604689265939824,
          0.0004764981023862,
          0.0001155799303935,
          0.00951489053025363,
          0.0006543061345639476,
          0.0006061247281381,
          0.00009286527639990162,
          0.017522022208464567,
          0.0232847564276667,
          0.024059146678790284,
          0.005567135281159511,
          0.006027930103366332,
          0.013335380711759463,
          0.00028234765045824354,
          1.4770227318679334,
          1.6745248680516118,
          0.04385365307959794
         ],
         "visible": false
        },
        {
         "branchvalues": "total",
         "customdata": [
          [
           "Industrial Chemicals and Metals"
          ],
          [
           "Agriculture"
          ],
          [
           "Agriculture"
          ],
          [
           "Textile and Home Goods"
          ],
          [
           "Agriculture"
          ],
          [
           "Agriculture"
          ],
          [
           "Textile and Home Goods"
          ],
          [
           "Construction, Building, and Home Supplies"
          ],
          [
           "Industrial Chemicals and Metals"
          ],
          [
           "Metalworking and Electrical Machinery and Parts"
          ],
          [
           "Agriculture"
          ],
          [
           "Agriculture"
          ],
          [
           "Construction, Building, and Home Supplies"
          ],
          [
           "Industrial Chemicals and Metals"
          ],
          [
           "Metalworking and Electrical Machinery and Parts"
          ],
          [
           "Textile and Home Goods"
          ],
          [
           "Agriculture"
          ],
          [
           "Minerals"
          ],
          [
           "Construction, Building, and Home Supplies"
          ],
          [
           "Industrial Chemicals and Metals"
          ],
          [
           "Metalworking and Electrical Machinery and Parts"
          ],
          [
           "Textile and Home Goods"
          ],
          [
           "Textile and Home Goods"
          ],
          [
           "Metalworking and Electrical Machinery and Parts"
          ],
          [
           "Electronic and Electrical Goods"
          ],
          [
           "Electronic and Electrical Goods"
          ],
          [
           "Metalworking and Electrical Machinery and Parts"
          ],
          [
           "Electronic and Electrical Goods"
          ],
          [
           "Industrial Chemicals and Metals"
          ],
          [
           "Minerals"
          ],
          [
           "Textile and Home Goods"
          ],
          [
           "Industrial Chemicals and Metals"
          ],
          [
           "Agriculture"
          ],
          [
           "Construction, Building, and Home Supplies"
          ],
          [
           "Industrial Chemicals and Metals"
          ],
          [
           "Electronic and Electrical Goods"
          ],
          [
           "Metalworking and Electrical Machinery and Parts"
          ],
          [
           "Minerals"
          ],
          [
           "Industrial Chemicals and Metals"
          ],
          [
           "Agriculture"
          ],
          [
           "Textile and Home Goods"
          ],
          [
           "Industrial Chemicals and Metals"
          ],
          [
           "Construction, Building, and Home Supplies"
          ],
          [
           "Industrial Chemicals and Metals"
          ],
          [
           "Construction, Building, and Home Supplies"
          ],
          [
           "Industrial Chemicals and Metals"
          ],
          [
           "Textile and Home Goods"
          ],
          [
           "Textile and Home Goods"
          ],
          [
           "Industrial Chemicals and Metals"
          ],
          [
           "Construction, Building, and Home Supplies"
          ],
          [
           "Electronic and Electrical Goods"
          ],
          [
           "Industrial Chemicals and Metals"
          ],
          [
           "Metalworking and Electrical Machinery and Parts"
          ],
          [
           "Textile and Home Goods"
          ],
          [
           "Textile Apparel and Accessories"
          ],
          [
           "Textile and Home Goods"
          ],
          [
           "Agriculture"
          ],
          [
           "Textile and Home Goods"
          ],
          [
           "Agriculture"
          ],
          [
           "Textile and Home Goods"
          ],
          [
           "Textile and Home Goods"
          ],
          [
           "Industrial Chemicals and Metals"
          ],
          [
           "Metalworking and Electrical Machinery and Parts"
          ],
          [
           "Agriculture"
          ],
          [
           "Construction, Building, and Home Supplies"
          ],
          [
           "Electronic and Electrical Goods"
          ],
          [
           "Industrial Chemicals and Metals"
          ],
          [
           "Metalworking and Electrical Machinery and Parts"
          ],
          [
           "Minerals"
          ],
          [
           "Industrial Chemicals and Metals"
          ],
          [
           "Construction, Building, and Home Supplies"
          ],
          [
           "Textile and Home Goods"
          ],
          [
           "Textile Apparel and Accessories"
          ],
          [
           "Construction, Building, and Home Supplies"
          ],
          [
           "Metalworking and Electrical Machinery and Parts"
          ],
          [
           "Minerals"
          ],
          [
           "Textile and Home Goods"
          ],
          [
           "Agriculture"
          ],
          [
           "Construction, Building, and Home Supplies"
          ],
          [
           "Industrial Chemicals and Metals"
          ],
          [
           "Textile and Home Goods"
          ],
          [
           "Textile Apparel and Accessories"
          ],
          [
           "Agriculture"
          ],
          [
           "Textile and Home Goods"
          ],
          [
           "Agriculture"
          ],
          [
           "Construction, Building, and Home Supplies"
          ],
          [
           "Industrial Chemicals and Metals"
          ],
          [
           "Metalworking and Electrical Machinery and Parts"
          ],
          [
           "Textile and Home Goods"
          ],
          [
           "Agriculture"
          ],
          [
           "Electronic and Electrical Goods"
          ],
          [
           "Textile Apparel and Accessories"
          ],
          [
           "Agriculture"
          ],
          [
           "Industrial Chemicals and Metals"
          ],
          [
           "Electronic and Electrical Goods"
          ],
          [
           "Agriculture"
          ],
          [
           "Minerals"
          ],
          [
           "Metalworking and Electrical Machinery and Parts"
          ],
          [
           "Agriculture"
          ],
          [
           "Agriculture"
          ],
          [
           "Minerals"
          ],
          [
           "Textile and Home Goods"
          ],
          [
           "Textile and Home Goods"
          ],
          [
           "Agriculture"
          ],
          [
           "Construction, Building, and Home Supplies"
          ],
          [
           "Electronic and Electrical Goods"
          ],
          [
           "Electronic and Electrical Goods"
          ],
          [
           "Industrial Chemicals and Metals"
          ],
          [
           "Construction, Building, and Home Supplies"
          ],
          [
           "Industrial Chemicals and Metals"
          ],
          [
           "Textile Apparel and Accessories"
          ],
          [
           "Construction, Building, and Home Supplies"
          ],
          [
           "Metalworking and Electrical Machinery and Parts"
          ],
          [
           "Textile and Home Goods"
          ],
          [
           "Textile Apparel and Accessories"
          ],
          [
           "Textile and Home Goods"
          ],
          [
           "Construction, Building, and Home Supplies"
          ],
          [
           "Metalworking and Electrical Machinery and Parts"
          ],
          [
           "Industrial Chemicals and Metals"
          ],
          [
           "Metalworking and Electrical Machinery and Parts"
          ],
          [
           "Construction, Building, and Home Supplies"
          ],
          [
           "Construction, Building, and Home Supplies"
          ],
          [
           "Industrial Chemicals and Metals"
          ],
          [
           "Construction, Building, and Home Supplies"
          ],
          [
           "Industrial Chemicals and Metals"
          ],
          [
           "Metalworking and Electrical Machinery and Parts"
          ],
          [
           "Textile and Home Goods"
          ],
          [
           "Agriculture"
          ],
          [
           "Agriculture"
          ],
          [
           "Agriculture"
          ],
          [
           "Industrial Chemicals and Metals"
          ],
          [
           "Textile Apparel and Accessories"
          ],
          [
           "Agriculture"
          ],
          [
           "Textile and Home Goods"
          ],
          [
           "Agriculture"
          ],
          [
           "Textile and Home Goods"
          ],
          [
           "Construction, Building, and Home Supplies"
          ],
          [
           "Industrial Chemicals and Metals"
          ],
          [
           "Metalworking and Electrical Machinery and Parts"
          ],
          [
           "Textile and Home Goods"
          ],
          [
           "Agriculture"
          ],
          [
           "Metalworking and Electrical Machinery and Parts"
          ],
          [
           "Agriculture"
          ],
          [
           "Agriculture"
          ],
          [
           "Textile Apparel and Accessories"
          ],
          [
           "Electronic and Electrical Goods"
          ],
          [
           "Industrial Chemicals and Metals"
          ],
          [
           "Metalworking and Electrical Machinery and Parts"
          ],
          [
           "Textile and Home Goods"
          ],
          [
           "Metalworking and Electrical Machinery and Parts"
          ],
          [
           "Textile and Home Goods"
          ],
          [
           "Construction, Building, and Home Supplies"
          ],
          [
           "Industrial Chemicals and Metals"
          ],
          [
           "Textile and Home Goods"
          ],
          [
           "Construction, Building, and Home Supplies"
          ],
          [
           "Agriculture"
          ],
          [
           "Agriculture"
          ],
          [
           "Agriculture"
          ],
          [
           "Construction, Building, and Home Supplies"
          ],
          [
           "Electronic and Electrical Goods"
          ],
          [
           "Metalworking and Electrical Machinery and Parts"
          ],
          [
           "Textile and Home Goods"
          ],
          [
           "Industrial Chemicals and Metals"
          ],
          [
           "Metalworking and Electrical Machinery and Parts"
          ],
          [
           "Industrial Chemicals and Metals"
          ],
          [
           "Textile and Home Goods"
          ],
          [
           "Agriculture"
          ],
          [
           "Construction, Building, and Home Supplies"
          ],
          [
           "Agriculture"
          ],
          [
           "Agriculture"
          ],
          [
           "Construction, Building, and Home Supplies"
          ],
          [
           "Metalworking and Electrical Machinery and Parts"
          ],
          [
           "Textile Apparel and Accessories"
          ],
          [
           "Agriculture"
          ],
          [
           "Textile and Home Goods"
          ],
          [
           "Construction, Building, and Home Supplies"
          ],
          [
           "Industrial Chemicals and Metals"
          ],
          [
           "Metalworking and Electrical Machinery and Parts"
          ],
          [
           "Textile and Home Goods"
          ],
          [
           "Textile Apparel and Accessories"
          ],
          [
           "Textile and Home Goods"
          ],
          [
           "Construction, Building, and Home Supplies"
          ],
          [
           "Industrial Chemicals and Metals"
          ],
          [
           "Construction, Building, and Home Supplies"
          ],
          [
           "Industrial Chemicals and Metals"
          ],
          [
           "Metalworking and Electrical Machinery and Parts"
          ],
          [
           "Minerals"
          ],
          [
           "Construction, Building, and Home Supplies"
          ],
          [
           "Metalworking and Electrical Machinery and Parts"
          ],
          [
           "Textile and Home Goods"
          ],
          [
           "Textile Apparel and Accessories"
          ],
          [
           "Textile and Home Goods"
          ]
         ],
         "domain": {
          "x": [
           0,
           1
          ],
          "y": [
           0,
           1
          ]
         },
         "hovertemplate": "%{label}<br>%{value:.1f}%<br>Category: %{customdata[0]}<extra></extra>",
         "ids": [
          "Industrial Chemicals and Metals/Aircraft, spacecraft, and parts thereof",
          "Agriculture/Preparations of vegetables, fruit, nuts or other parts of plants",
          "Agriculture/Printed books, newspapers, pictures and other products of the printing industry",
          "Textile and Home Goods/Printed books, newspapers, pictures and other products of the printing industry",
          "Agriculture/Products of the milling industry",
          "Agriculture/Pulp of wood or other fibrous cellulosic material",
          "Textile and Home Goods/Pulp of wood or other fibrous cellulosic material",
          "Construction, Building, and Home Supplies/Railway, tramway locomotives, rolling-stock and parts thereof",
          "Industrial Chemicals and Metals/Railway, tramway locomotives, rolling-stock and parts thereof",
          "Metalworking and Electrical Machinery and Parts/Railway, tramway locomotives, rolling-stock and parts thereof",
          "Agriculture/Preparations of cereals, flour, starch or milk",
          "Agriculture/Raw hides and skins (other than furskins) and leather",
          "Construction, Building, and Home Supplies/Rubber and articles thereof",
          "Industrial Chemicals and Metals/Rubber and articles thereof",
          "Metalworking and Electrical Machinery and Parts/Rubber and articles thereof",
          "Textile and Home Goods/Rubber and articles thereof",
          "Agriculture/Salt",
          "Minerals/Salt",
          "Construction, Building, and Home Supplies/Ships, boats and floating structures",
          "Industrial Chemicals and Metals/Ships, boats and floating structures",
          "Metalworking and Electrical Machinery and Parts/Ships, boats and floating structures",
          "Textile and Home Goods/Raw hides and skins (other than furskins) and leather",
          "Textile and Home Goods/Ships, boats and floating structures",
          "Metalworking and Electrical Machinery and Parts/Plastics and articles thereof",
          "Electronic and Electrical Goods/Plastics and articles thereof",
          "Electronic and Electrical Goods/Musical instruments",
          "Metalworking and Electrical Machinery and Parts/Musical instruments",
          "Electronic and Electrical Goods/Natural, cultured pearls",
          "Industrial Chemicals and Metals/Natural, cultured pearls",
          "Minerals/Natural, cultured pearls",
          "Textile and Home Goods/Natural, cultured pearls",
          "Industrial Chemicals and Metals/Nickel and articles thereof",
          "Agriculture/Oil seeds and oleaginous fruits",
          "Construction, Building, and Home Supplies/Optical, photographic, cinematographic, measuring, checking, medical or surgical instruments and apparatus...",
          "Industrial Chemicals and Metals/Plastics and articles thereof",
          "Electronic and Electrical Goods/Optical, photographic, cinematographic, measuring, checking, medical or surgical instruments and apparatus...",
          "Metalworking and Electrical Machinery and Parts/Optical, photographic, cinematographic, measuring, checking, medical or surgical instruments and apparatus...",
          "Minerals/Ores, slag and ash",
          "Industrial Chemicals and Metals/Organic chemicals",
          "Agriculture/Paper and paperboard",
          "Textile and Home Goods/Paper and paperboard",
          "Industrial Chemicals and Metals/Pharmaceutical products",
          "Construction, Building, and Home Supplies/Photographic or cinematographic goods",
          "Industrial Chemicals and Metals/Photographic or cinematographic goods",
          "Construction, Building, and Home Supplies/Plastics and articles thereof",
          "Industrial Chemicals and Metals/Optical, photographic, cinematographic, measuring, checking, medical or surgical instruments and apparatus...",
          "Textile and Home Goods/Miscellaneous manufactured articles",
          "Textile and Home Goods/Silk",
          "Industrial Chemicals and Metals/Soap, organic surface-active agents",
          "Construction, Building, and Home Supplies/Vehicles",
          "Electronic and Electrical Goods/Vehicles",
          "Industrial Chemicals and Metals/Vehicles",
          "Metalworking and Electrical Machinery and Parts/Vehicles",
          "Textile and Home Goods/Vehicles",
          "Textile Apparel and Accessories/Wadding, felt and nonwovens, special yarns",
          "Textile and Home Goods/Wadding, felt and nonwovens, special yarns",
          "Agriculture/Wood and articles of wood",
          "Textile and Home Goods/Wood and articles of wood",
          "Agriculture/Vegetables and certain roots and tubers",
          "Textile and Home Goods/Wool, fine or coarse animal hair",
          "Textile and Home Goods/Works of art",
          "Industrial Chemicals and Metals/Zinc and articles thereof",
          "Metalworking and Electrical Machinery and Parts/Zinc and articles thereof",
          "Agriculture",
          "Construction, Building, and Home Supplies",
          "Electronic and Electrical Goods",
          "Industrial Chemicals and Metals",
          "Metalworking and Electrical Machinery and Parts",
          "Minerals",
          "Industrial Chemicals and Metals/Works of art",
          "Construction, Building, and Home Supplies/Soap, organic surface-active agents",
          "Textile and Home Goods/Vegetable textile fibres",
          "Textile Apparel and Accessories/Umbrellas, sun umbrellas, walking-sticks, seat sticks, whips, riding crops",
          "Construction, Building, and Home Supplies/Stone, plaster, cement, asbestos, mica or similar materials",
          "Metalworking and Electrical Machinery and Parts/Stone, plaster, cement, asbestos, mica or similar materials",
          "Minerals/Stone, plaster, cement, asbestos, mica or similar materials",
          "Textile and Home Goods/Stone, plaster, cement, asbestos, mica or similar materials",
          "Agriculture/Sugars and sugar confectionery",
          "Construction, Building, and Home Supplies/Tanning or dyeing extracts",
          "Industrial Chemicals and Metals/Tanning or dyeing extracts",
          "Textile and Home Goods/Textile fabrics",
          "Textile Apparel and Accessories/Textiles, made up articles",
          "Agriculture/Vegetable plaiting materials",
          "Textile and Home Goods/Textiles, made up articles",
          "Agriculture/Tobacco and manufactured tobacco substitutes",
          "Construction, Building, and Home Supplies/Tools, implements, cutlery, spoons and forks, of base metal",
          "Industrial Chemicals and Metals/Tools, implements, cutlery, spoons and forks, of base metal",
          "Metalworking and Electrical Machinery and Parts/Tools, implements, cutlery, spoons and forks, of base metal",
          "Textile and Home Goods/Tools, implements, cutlery, spoons and forks, of base metal",
          "Agriculture/Toys, games and sports requisites",
          "Electronic and Electrical Goods/Toys, games and sports requisites",
          "Textile Apparel and Accessories/Toys, games and sports requisites",
          "Agriculture/Trees and other plants, live",
          "Industrial Chemicals and Metals/Tin",
          "Electronic and Electrical Goods/Miscellaneous manufactured articles",
          "Agriculture/Miscellaneous edible preparations",
          "Minerals/Mineral fuels, mineral oils and products of their distillation",
          "Metalworking and Electrical Machinery and Parts/Clocks and watches and parts thereof",
          "Agriculture/Cocoa and cocoa preparations",
          "Agriculture/Coffee, tea, mate and spices",
          "Minerals/Copper and articles thereof",
          "Textile and Home Goods/Cork and articles of cork",
          "Textile and Home Goods/Cotton",
          "Agriculture/Dairy produce",
          "Construction, Building, and Home Supplies/Electrical machinery and equipment and parts thereof",
          "Electronic and Electrical Goods/Electrical machinery and equipment and parts thereof",
          "Electronic and Electrical Goods/Clocks and watches and parts thereof",
          "Industrial Chemicals and Metals/Electrical machinery and equipment and parts thereof",
          "Construction, Building, and Home Supplies/Essential oils and resinoids",
          "Industrial Chemicals and Metals/Essential oils and resinoids",
          "Textile Apparel and Accessories/Essential oils and resinoids",
          "Construction, Building, and Home Supplies/Explosives",
          "Metalworking and Electrical Machinery and Parts/Explosives",
          "Textile and Home Goods/Fabrics",
          "Textile Apparel and Accessories/Feathers and down, prepared",
          "Textile and Home Goods/Feathers and down, prepared",
          "Construction, Building, and Home Supplies/Fertilizers",
          "Metalworking and Electrical Machinery and Parts/Electrical machinery and equipment and parts thereof",
          "Industrial Chemicals and Metals/Fertilizers",
          "Metalworking and Electrical Machinery and Parts/Chemical products n.e.c.",
          "Construction, Building, and Home Supplies/Chemical products n.e.c.",
          "Construction, Building, and Home Supplies/Albuminoidal substances",
          "Industrial Chemicals and Metals/Albuminoidal substances",
          "Construction, Building, and Home Supplies/Aluminium and articles thereof",
          "Industrial Chemicals and Metals/Aluminium and articles thereof",
          "Metalworking and Electrical Machinery and Parts/Aluminium and articles thereof",
          "Textile and Home Goods/Aluminium and articles thereof",
          "Agriculture/Animal originated products",
          "Agriculture/Animal, vegetable or microbial fats and oils and their cleavage products",
          "Agriculture/Animals",
          "Industrial Chemicals and Metals/Chemical products n.e.c.",
          "Textile Apparel and Accessories/Apparel and clothing accessories",
          "Agriculture/Articles of leather",
          "Textile and Home Goods/Articles of leather",
          "Agriculture/Beverages, spirits and vinegar",
          "Textile and Home Goods/Carpets and other textile floor coverings",
          "Construction, Building, and Home Supplies/Ceramic products",
          "Industrial Chemicals and Metals/Ceramic products",
          "Metalworking and Electrical Machinery and Parts/Ceramic products",
          "Textile and Home Goods/Ceramic products",
          "Agriculture/Cereals",
          "Metalworking and Electrical Machinery and Parts/Arms and ammunition",
          "Agriculture/Fish and crustaceans, molluscs and other aquatic invertebrates",
          "Agriculture/Food industries, residues and wastes thereof",
          "Textile Apparel and Accessories/Footwear",
          "Electronic and Electrical Goods/Machinery and mechanical appliances, boilers, nuclear reactors",
          "Industrial Chemicals and Metals/Machinery and mechanical appliances, boilers, nuclear reactors",
          "Metalworking and Electrical Machinery and Parts/Machinery and mechanical appliances, boilers, nuclear reactors",
          "Textile and Home Goods/Machinery and mechanical appliances, boilers, nuclear reactors",
          "Metalworking and Electrical Machinery and Parts/Man-made filaments",
          "Textile and Home Goods/Man-made filaments",
          "Construction, Building, and Home Supplies/Man-made staple fibres",
          "Industrial Chemicals and Metals/Man-made staple fibres",
          "Textile and Home Goods/Man-made staple fibres",
          "Construction, Building, and Home Supplies/Machinery and mechanical appliances, boilers, nuclear reactors",
          "Agriculture/Manufactures of straw, esparto or other plaiting materials",
          "Agriculture/Meat and edible meat offal",
          "Agriculture/Meat, fish, crustaceans, molluscs or other aquatic invertebrates, or insects",
          "Construction, Building, and Home Supplies/Metal",
          "Electronic and Electrical Goods/Metal",
          "Metalworking and Electrical Machinery and Parts/Metal",
          "Textile and Home Goods/Metal",
          "Industrial Chemicals and Metals/Metals",
          "Metalworking and Electrical Machinery and Parts/Metals",
          "Industrial Chemicals and Metals/Mineral fuels, mineral oils and products of their distillation",
          "Textile and Home Goods/Manufactures of straw, esparto or other plaiting materials",
          "Agriculture/Machinery and mechanical appliances, boilers, nuclear reactors",
          "Construction, Building, and Home Supplies/Lead and articles thereof",
          "Agriculture/Lac",
          "Agriculture/Fruit and nuts, edible",
          "Construction, Building, and Home Supplies/Furniture",
          "Metalworking and Electrical Machinery and Parts/Furniture",
          "Textile Apparel and Accessories/Furniture",
          "Agriculture/Furskins and artificial fur",
          "Textile and Home Goods/Furskins and artificial fur",
          "Construction, Building, and Home Supplies/Glass and glassware",
          "Industrial Chemicals and Metals/Glass and glassware",
          "Metalworking and Electrical Machinery and Parts/Glass and glassware",
          "Textile and Home Goods/Glass and glassware",
          "Textile Apparel and Accessories/Headgear and parts thereof",
          "Textile and Home Goods/Headgear and parts thereof",
          "Construction, Building, and Home Supplies/Inorganic chemicals",
          "Industrial Chemicals and Metals/Inorganic chemicals",
          "Construction, Building, and Home Supplies/Iron and steel",
          "Industrial Chemicals and Metals/Iron and steel",
          "Metalworking and Electrical Machinery and Parts/Iron and steel",
          "Minerals/Iron and steel",
          "Construction, Building, and Home Supplies/Iron or steel articles",
          "Metalworking and Electrical Machinery and Parts/Iron or steel articles",
          "Textile and Home Goods/Iron or steel articles",
          "Textile Apparel and Accessories",
          "Textile and Home Goods"
         ],
         "labels": [
          "Aircraft, spacecraft, and parts thereof",
          "Preparations of vegetables, fruit, nuts or other parts of plants",
          "Printed books, newspapers, pictures and other products of the printing industry",
          "Printed books, newspapers, pictures and other products of the printing industry",
          "Products of the milling industry",
          "Pulp of wood or other fibrous cellulosic material",
          "Pulp of wood or other fibrous cellulosic material",
          "Railway, tramway locomotives, rolling-stock and parts thereof",
          "Railway, tramway locomotives, rolling-stock and parts thereof",
          "Railway, tramway locomotives, rolling-stock and parts thereof",
          "Preparations of cereals, flour, starch or milk",
          "Raw hides and skins (other than furskins) and leather",
          "Rubber and articles thereof",
          "Rubber and articles thereof",
          "Rubber and articles thereof",
          "Rubber and articles thereof",
          "Salt",
          "Salt",
          "Ships, boats and floating structures",
          "Ships, boats and floating structures",
          "Ships, boats and floating structures",
          "Raw hides and skins (other than furskins) and leather",
          "Ships, boats and floating structures",
          "Plastics and articles thereof",
          "Plastics and articles thereof",
          "Musical instruments",
          "Musical instruments",
          "Natural, cultured pearls",
          "Natural, cultured pearls",
          "Natural, cultured pearls",
          "Natural, cultured pearls",
          "Nickel and articles thereof",
          "Oil seeds and oleaginous fruits",
          "Optical, photographic, cinematographic, measuring, checking, medical or surgical instruments and apparatus...",
          "Plastics and articles thereof",
          "Optical, photographic, cinematographic, measuring, checking, medical or surgical instruments and apparatus...",
          "Optical, photographic, cinematographic, measuring, checking, medical or surgical instruments and apparatus...",
          "Ores, slag and ash",
          "Organic chemicals",
          "Paper and paperboard",
          "Paper and paperboard",
          "Pharmaceutical products",
          "Photographic or cinematographic goods",
          "Photographic or cinematographic goods",
          "Plastics and articles thereof",
          "Optical, photographic, cinematographic, measuring, checking, medical or surgical instruments and apparatus...",
          "Miscellaneous manufactured articles",
          "Silk",
          "Soap, organic surface-active agents",
          "Vehicles",
          "Vehicles",
          "Vehicles",
          "Vehicles",
          "Vehicles",
          "Wadding, felt and nonwovens, special yarns",
          "Wadding, felt and nonwovens, special yarns",
          "Wood and articles of wood",
          "Wood and articles of wood",
          "Vegetables and certain roots and tubers",
          "Wool, fine or coarse animal hair",
          "Works of art",
          "Zinc and articles thereof",
          "Zinc and articles thereof",
          "Agriculture",
          "Construction, Building, and Home Supplies",
          "Electronic and Electrical Goods",
          "Industrial Chemicals and Metals",
          "Metalworking and Electrical Machinery and Parts",
          "Minerals",
          "Works of art",
          "Soap, organic surface-active agents",
          "Vegetable textile fibres",
          "Umbrellas, sun umbrellas, walking-sticks, seat sticks, whips, riding crops",
          "Stone, plaster, cement, asbestos, mica or similar materials",
          "Stone, plaster, cement, asbestos, mica or similar materials",
          "Stone, plaster, cement, asbestos, mica or similar materials",
          "Stone, plaster, cement, asbestos, mica or similar materials",
          "Sugars and sugar confectionery",
          "Tanning or dyeing extracts",
          "Tanning or dyeing extracts",
          "Textile fabrics",
          "Textiles, made up articles",
          "Vegetable plaiting materials",
          "Textiles, made up articles",
          "Tobacco and manufactured tobacco substitutes",
          "Tools, implements, cutlery, spoons and forks, of base metal",
          "Tools, implements, cutlery, spoons and forks, of base metal",
          "Tools, implements, cutlery, spoons and forks, of base metal",
          "Tools, implements, cutlery, spoons and forks, of base metal",
          "Toys, games and sports requisites",
          "Toys, games and sports requisites",
          "Toys, games and sports requisites",
          "Trees and other plants, live",
          "Tin",
          "Miscellaneous manufactured articles",
          "Miscellaneous edible preparations",
          "Mineral fuels, mineral oils and products of their distillation",
          "Clocks and watches and parts thereof",
          "Cocoa and cocoa preparations",
          "Coffee, tea, mate and spices",
          "Copper and articles thereof",
          "Cork and articles of cork",
          "Cotton",
          "Dairy produce",
          "Electrical machinery and equipment and parts thereof",
          "Electrical machinery and equipment and parts thereof",
          "Clocks and watches and parts thereof",
          "Electrical machinery and equipment and parts thereof",
          "Essential oils and resinoids",
          "Essential oils and resinoids",
          "Essential oils and resinoids",
          "Explosives",
          "Explosives",
          "Fabrics",
          "Feathers and down, prepared",
          "Feathers and down, prepared",
          "Fertilizers",
          "Electrical machinery and equipment and parts thereof",
          "Fertilizers",
          "Chemical products n.e.c.",
          "Chemical products n.e.c.",
          "Albuminoidal substances",
          "Albuminoidal substances",
          "Aluminium and articles thereof",
          "Aluminium and articles thereof",
          "Aluminium and articles thereof",
          "Aluminium and articles thereof",
          "Animal originated products",
          "Animal, vegetable or microbial fats and oils and their cleavage products",
          "Animals",
          "Chemical products n.e.c.",
          "Apparel and clothing accessories",
          "Articles of leather",
          "Articles of leather",
          "Beverages, spirits and vinegar",
          "Carpets and other textile floor coverings",
          "Ceramic products",
          "Ceramic products",
          "Ceramic products",
          "Ceramic products",
          "Cereals",
          "Arms and ammunition",
          "Fish and crustaceans, molluscs and other aquatic invertebrates",
          "Food industries, residues and wastes thereof",
          "Footwear",
          "Machinery and mechanical appliances, boilers, nuclear reactors",
          "Machinery and mechanical appliances, boilers, nuclear reactors",
          "Machinery and mechanical appliances, boilers, nuclear reactors",
          "Machinery and mechanical appliances, boilers, nuclear reactors",
          "Man-made filaments",
          "Man-made filaments",
          "Man-made staple fibres",
          "Man-made staple fibres",
          "Man-made staple fibres",
          "Machinery and mechanical appliances, boilers, nuclear reactors",
          "Manufactures of straw, esparto or other plaiting materials",
          "Meat and edible meat offal",
          "Meat, fish, crustaceans, molluscs or other aquatic invertebrates, or insects",
          "Metal",
          "Metal",
          "Metal",
          "Metal",
          "Metals",
          "Metals",
          "Mineral fuels, mineral oils and products of their distillation",
          "Manufactures of straw, esparto or other plaiting materials",
          "Machinery and mechanical appliances, boilers, nuclear reactors",
          "Lead and articles thereof",
          "Lac",
          "Fruit and nuts, edible",
          "Furniture",
          "Furniture",
          "Furniture",
          "Furskins and artificial fur",
          "Furskins and artificial fur",
          "Glass and glassware",
          "Glass and glassware",
          "Glass and glassware",
          "Glass and glassware",
          "Headgear and parts thereof",
          "Headgear and parts thereof",
          "Inorganic chemicals",
          "Inorganic chemicals",
          "Iron and steel",
          "Iron and steel",
          "Iron and steel",
          "Iron and steel",
          "Iron or steel articles",
          "Iron or steel articles",
          "Iron or steel articles",
          "Textile Apparel and Accessories",
          "Textile and Home Goods"
         ],
         "marker": {
          "colors": [
           "#76B7B2",
           "#4E79A7",
           "#4E79A7",
           "#FF9DA7",
           "#4E79A7",
           "#4E79A7",
           "#FF9DA7",
           "#F28E2B",
           "#76B7B2",
           "#59A14F",
           "#4E79A7",
           "#4E79A7",
           "#F28E2B",
           "#76B7B2",
           "#59A14F",
           "#FF9DA7",
           "#4E79A7",
           "#EDC949",
           "#F28E2B",
           "#76B7B2",
           "#59A14F",
           "#FF9DA7",
           "#FF9DA7",
           "#59A14F",
           "#E15759",
           "#E15759",
           "#59A14F",
           "#E15759",
           "#76B7B2",
           "#EDC949",
           "#FF9DA7",
           "#76B7B2",
           "#4E79A7",
           "#F28E2B",
           "#76B7B2",
           "#E15759",
           "#59A14F",
           "#EDC949",
           "#76B7B2",
           "#4E79A7",
           "#FF9DA7",
           "#76B7B2",
           "#F28E2B",
           "#76B7B2",
           "#F28E2B",
           "#76B7B2",
           "#FF9DA7",
           "#FF9DA7",
           "#76B7B2",
           "#F28E2B",
           "#E15759",
           "#76B7B2",
           "#59A14F",
           "#FF9DA7",
           "#AF7AA1",
           "#FF9DA7",
           "#4E79A7",
           "#FF9DA7",
           "#4E79A7",
           "#FF9DA7",
           "#FF9DA7",
           "#76B7B2",
           "#59A14F",
           "#4E79A7",
           "#F28E2B",
           "#E15759",
           "#76B7B2",
           "#59A14F",
           "#EDC949",
           "#76B7B2",
           "#F28E2B",
           "#FF9DA7",
           "#AF7AA1",
           "#F28E2B",
           "#59A14F",
           "#EDC949",
           "#FF9DA7",
           "#4E79A7",
           "#F28E2B",
           "#76B7B2",
           "#FF9DA7",
           "#AF7AA1",
           "#4E79A7",
           "#FF9DA7",
           "#4E79A7",
           "#F28E2B",
           "#76B7B2",
           "#59A14F",
           "#FF9DA7",
           "#4E79A7",
           "#E15759",
           "#AF7AA1",
           "#4E79A7",
           "#76B7B2",
           "#E15759",
           "#4E79A7",
           "#EDC949",
           "#59A14F",
           "#4E79A7",
           "#4E79A7",
           "#EDC949",
           "#FF9DA7",
           "#FF9DA7",
           "#4E79A7",
           "#F28E2B",
           "#E15759",
           "#E15759",
           "#76B7B2",
           "#F28E2B",
           "#76B7B2",
           "#AF7AA1",
           "#F28E2B",
           "#59A14F",
           "#FF9DA7",
           "#AF7AA1",
           "#FF9DA7",
           "#F28E2B",
           "#59A14F",
           "#76B7B2",
           "#59A14F",
           "#F28E2B",
           "#F28E2B",
           "#76B7B2",
           "#F28E2B",
           "#76B7B2",
           "#59A14F",
           "#FF9DA7",
           "#4E79A7",
           "#4E79A7",
           "#4E79A7",
           "#76B7B2",
           "#AF7AA1",
           "#4E79A7",
           "#FF9DA7",
           "#4E79A7",
           "#FF9DA7",
           "#F28E2B",
           "#76B7B2",
           "#59A14F",
           "#FF9DA7",
           "#4E79A7",
           "#59A14F",
           "#4E79A7",
           "#4E79A7",
           "#AF7AA1",
           "#E15759",
           "#76B7B2",
           "#59A14F",
           "#FF9DA7",
           "#59A14F",
           "#FF9DA7",
           "#F28E2B",
           "#76B7B2",
           "#FF9DA7",
           "#F28E2B",
           "#4E79A7",
           "#4E79A7",
           "#4E79A7",
           "#F28E2B",
           "#E15759",
           "#59A14F",
           "#FF9DA7",
           "#76B7B2",
           "#59A14F",
           "#76B7B2",
           "#FF9DA7",
           "#4E79A7",
           "#F28E2B",
           "#4E79A7",
           "#4E79A7",
           "#F28E2B",
           "#59A14F",
           "#AF7AA1",
           "#4E79A7",
           "#FF9DA7",
           "#F28E2B",
           "#76B7B2",
           "#59A14F",
           "#FF9DA7",
           "#AF7AA1",
           "#FF9DA7",
           "#F28E2B",
           "#76B7B2",
           "#F28E2B",
           "#76B7B2",
           "#59A14F",
           "#EDC949",
           "#F28E2B",
           "#59A14F",
           "#FF9DA7",
           "#AF7AA1",
           "#FF9DA7"
          ],
          "line": {
           "width": 1
          }
         },
         "name": "",
         "parents": [
          "Industrial Chemicals and Metals",
          "Agriculture",
          "Agriculture",
          "Textile and Home Goods",
          "Agriculture",
          "Agriculture",
          "Textile and Home Goods",
          "Construction, Building, and Home Supplies",
          "Industrial Chemicals and Metals",
          "Metalworking and Electrical Machinery and Parts",
          "Agriculture",
          "Agriculture",
          "Construction, Building, and Home Supplies",
          "Industrial Chemicals and Metals",
          "Metalworking and Electrical Machinery and Parts",
          "Textile and Home Goods",
          "Agriculture",
          "Minerals",
          "Construction, Building, and Home Supplies",
          "Industrial Chemicals and Metals",
          "Metalworking and Electrical Machinery and Parts",
          "Textile and Home Goods",
          "Textile and Home Goods",
          "Metalworking and Electrical Machinery and Parts",
          "Electronic and Electrical Goods",
          "Electronic and Electrical Goods",
          "Metalworking and Electrical Machinery and Parts",
          "Electronic and Electrical Goods",
          "Industrial Chemicals and Metals",
          "Minerals",
          "Textile and Home Goods",
          "Industrial Chemicals and Metals",
          "Agriculture",
          "Construction, Building, and Home Supplies",
          "Industrial Chemicals and Metals",
          "Electronic and Electrical Goods",
          "Metalworking and Electrical Machinery and Parts",
          "Minerals",
          "Industrial Chemicals and Metals",
          "Agriculture",
          "Textile and Home Goods",
          "Industrial Chemicals and Metals",
          "Construction, Building, and Home Supplies",
          "Industrial Chemicals and Metals",
          "Construction, Building, and Home Supplies",
          "Industrial Chemicals and Metals",
          "Textile and Home Goods",
          "Textile and Home Goods",
          "Industrial Chemicals and Metals",
          "Construction, Building, and Home Supplies",
          "Electronic and Electrical Goods",
          "Industrial Chemicals and Metals",
          "Metalworking and Electrical Machinery and Parts",
          "Textile and Home Goods",
          "Textile Apparel and Accessories",
          "Textile and Home Goods",
          "Agriculture",
          "Textile and Home Goods",
          "Agriculture",
          "Textile and Home Goods",
          "Textile and Home Goods",
          "Industrial Chemicals and Metals",
          "Metalworking and Electrical Machinery and Parts",
          "",
          "",
          "",
          "",
          "",
          "",
          "Industrial Chemicals and Metals",
          "Construction, Building, and Home Supplies",
          "Textile and Home Goods",
          "Textile Apparel and Accessories",
          "Construction, Building, and Home Supplies",
          "Metalworking and Electrical Machinery and Parts",
          "Minerals",
          "Textile and Home Goods",
          "Agriculture",
          "Construction, Building, and Home Supplies",
          "Industrial Chemicals and Metals",
          "Textile and Home Goods",
          "Textile Apparel and Accessories",
          "Agriculture",
          "Textile and Home Goods",
          "Agriculture",
          "Construction, Building, and Home Supplies",
          "Industrial Chemicals and Metals",
          "Metalworking and Electrical Machinery and Parts",
          "Textile and Home Goods",
          "Agriculture",
          "Electronic and Electrical Goods",
          "Textile Apparel and Accessories",
          "Agriculture",
          "Industrial Chemicals and Metals",
          "Electronic and Electrical Goods",
          "Agriculture",
          "Minerals",
          "Metalworking and Electrical Machinery and Parts",
          "Agriculture",
          "Agriculture",
          "Minerals",
          "Textile and Home Goods",
          "Textile and Home Goods",
          "Agriculture",
          "Construction, Building, and Home Supplies",
          "Electronic and Electrical Goods",
          "Electronic and Electrical Goods",
          "Industrial Chemicals and Metals",
          "Construction, Building, and Home Supplies",
          "Industrial Chemicals and Metals",
          "Textile Apparel and Accessories",
          "Construction, Building, and Home Supplies",
          "Metalworking and Electrical Machinery and Parts",
          "Textile and Home Goods",
          "Textile Apparel and Accessories",
          "Textile and Home Goods",
          "Construction, Building, and Home Supplies",
          "Metalworking and Electrical Machinery and Parts",
          "Industrial Chemicals and Metals",
          "Metalworking and Electrical Machinery and Parts",
          "Construction, Building, and Home Supplies",
          "Construction, Building, and Home Supplies",
          "Industrial Chemicals and Metals",
          "Construction, Building, and Home Supplies",
          "Industrial Chemicals and Metals",
          "Metalworking and Electrical Machinery and Parts",
          "Textile and Home Goods",
          "Agriculture",
          "Agriculture",
          "Agriculture",
          "Industrial Chemicals and Metals",
          "Textile Apparel and Accessories",
          "Agriculture",
          "Textile and Home Goods",
          "Agriculture",
          "Textile and Home Goods",
          "Construction, Building, and Home Supplies",
          "Industrial Chemicals and Metals",
          "Metalworking and Electrical Machinery and Parts",
          "Textile and Home Goods",
          "Agriculture",
          "Metalworking and Electrical Machinery and Parts",
          "Agriculture",
          "Agriculture",
          "Textile Apparel and Accessories",
          "Electronic and Electrical Goods",
          "Industrial Chemicals and Metals",
          "Metalworking and Electrical Machinery and Parts",
          "Textile and Home Goods",
          "Metalworking and Electrical Machinery and Parts",
          "Textile and Home Goods",
          "Construction, Building, and Home Supplies",
          "Industrial Chemicals and Metals",
          "Textile and Home Goods",
          "Construction, Building, and Home Supplies",
          "Agriculture",
          "Agriculture",
          "Agriculture",
          "Construction, Building, and Home Supplies",
          "Electronic and Electrical Goods",
          "Metalworking and Electrical Machinery and Parts",
          "Textile and Home Goods",
          "Industrial Chemicals and Metals",
          "Metalworking and Electrical Machinery and Parts",
          "Industrial Chemicals and Metals",
          "Textile and Home Goods",
          "Agriculture",
          "Construction, Building, and Home Supplies",
          "Agriculture",
          "Agriculture",
          "Construction, Building, and Home Supplies",
          "Metalworking and Electrical Machinery and Parts",
          "Textile Apparel and Accessories",
          "Agriculture",
          "Textile and Home Goods",
          "Construction, Building, and Home Supplies",
          "Industrial Chemicals and Metals",
          "Metalworking and Electrical Machinery and Parts",
          "Textile and Home Goods",
          "Textile Apparel and Accessories",
          "Textile and Home Goods",
          "Construction, Building, and Home Supplies",
          "Industrial Chemicals and Metals",
          "Construction, Building, and Home Supplies",
          "Industrial Chemicals and Metals",
          "Metalworking and Electrical Machinery and Parts",
          "Minerals",
          "Construction, Building, and Home Supplies",
          "Metalworking and Electrical Machinery and Parts",
          "Textile and Home Goods",
          "",
          ""
         ],
         "textfont": {
          "size": 15
         },
         "textinfo": "label+percent entry",
         "type": "treemap",
         "values": [
          0.0347708904487632,
          0.0019040784369163167,
          0.013859032490675502,
          0.00014867516695068496,
          0.0003039779599896019,
          0.00202381872442996,
          0.00011109231415199774,
          0.0005401386175496,
          0.0021698683076215,
          0.021315883989708198,
          0.01955753441250102,
          0.0016024514183761835,
          0.0006111320352239911,
          0.00036852989427418425,
          0.0104639575199906,
          0.00008617254288995421,
          0.0002128572315572875,
          0.0013883240213587193,
          0.0006203178897886,
          0.0000026409094721852788,
          0.0013203030164735848,
          0.0005716605846033634,
          4.132752709007215e-7,
          0.001801412392477,
          0.024737527494829,
          0.00004855379154006795,
          0.0000925793745446228,
          0.3118095203601337,
          0.15109185976300152,
          0.0148053856545464,
          0.0009454677001503,
          0.0030531732772887156,
          0.0007415433965925736,
          0.001143089049345,
          0.0584209758504811,
          0.4488264565032391,
          0.020010106157204548,
          0.0006441728863232306,
          0.7488884765255889,
          0.030046933687778443,
          0.0011912453069654288,
          2.4316851731055906,
          0.00004443241625153246,
          0.00012436273626358348,
          0.070059340554634,
          0.0019059092905613,
          0.010607562804663156,
          0.00015920960804907143,
          0.012348163962486499,
          0.003568622165394833,
          0.0031198348376441,
          0.0062457384836388,
          0.056188571825609025,
          0.0001503530489515,
          0.0018214366311745998,
          0.0014745777385921704,
          0.015292373591933315,
          0.00010856224349387069,
          0.00019646659414975323,
          0.0007719613394623475,
          0.0033648287540158,
          0.00007946556066580657,
          0.0004600866008512,
          0.3428518727267092,
          0.3656192456155554,
          1.741379367301,
          3.658404552389246,
          0.7999569466478008,
          0.2834760212026509,
          0.0488421911433682,
          0.00302420660342,
          0.0002458282336919872,
          0.0010079939881929786,
          0.0008575499718943759,
          0.004415055630060613,
          0.0016989813252527,
          0.0023087061984397,
          0.0047977921408786876,
          0.019357909184801257,
          0.0138451799764873,
          0.007395530800631468,
          0.0029036994838488187,
          0.000013862878533569673,
          0.0004900972688395,
          0.0117781681680414,
          0.0000037979243836516073,
          0.0023471955812995,
          0.0477598422847887,
          0.00008633717761311616,
          0.000017037357319680466,
          0.0033786620720876,
          0.000056479740980988006,
          0.0002519438764045198,
          0.000001083269547236659,
          0.00015165799610187883,
          0.0250643895272221,
          0.2443560432595911,
          0.0013304620810564,
          0.024410718946665327,
          0.08584400481353704,
          0.020566582992949153,
          0.00016625427590208553,
          0.003111507821555159,
          0.020254093952191105,
          0.0414054996326948,
          0.2099150111279346,
          0.6433363472211889,
          0.00009495179794845654,
          0.0519916609347851,
          0.0455490425037377,
          0.001467551227834,
          0.00126241374970412,
          0.000205935896874,
          0.0026687834316956715,
          0.00007292461585777708,
          0.000007666996515235693,
          0.0002676998465965,
          0.09716109275377201,
          0.00020084331177160913,
          0.0026540459212936,
          0.018867870725230582,
          0.0013364666251933677,
          0.013069251038636601,
          0.055406343699864524,
          0.0070090394593433,
          0.010871201643785099,
          0.0005394610902852,
          0.001358440245190041,
          0.0027908173838643905,
          0.0005233406014253703,
          0.018430269883553892,
          0.0702306128130992,
          0.015304479544084072,
          4.958264105068378e-7,
          0.049796453917866766,
          0.00197340418115743,
          0.00003689423382186639,
          0.0025629271929911,
          0.00014648761340836105,
          0.0007385093690739696,
          0.00016099908217743038,
          0.008658537058749789,
          0.00011821197423508118,
          0.006915561269524,
          0.019090541932584887,
          0.09605307843607863,
          0.019907459101062487,
          0.44599893687281134,
          0.0029527958842192,
          0.0001840232161817,
          0.0040860485665726864,
          0.00003209408445282042,
          0.000009584557386734814,
          0.0016579803664798062,
          0.019567358051371102,
          0.0000367080391562966,
          0.0023536646770128994,
          0.0004596191659997999,
          0.0005568757723574,
          0.0000027174602223273547,
          0.0070071602907295005,
          0.0028170011384236,
          0.0016142513234275425,
          0.0003338597359789,
          3.293733559368551e-7,
          0.000002857729641974413,
          0.0003456963708336,
          2.263013204417806e-7,
          0.004069354791411276,
          0.0002980312899350447,
          0.0168862107536706,
          0.0008016123202948,
          0.0008442538337786,
          0.00014741476829974499,
          0.000005269116794159025,
          0.0072941577544562,
          0.0004693952690871605,
          0.0001556688442805,
          0.0007295630375530869,
          0.0007031097838503044,
          0.0003610334549828,
          0.0005010836891955,
          0.01943250609788364,
          0.01631406704485638,
          0.013863823392659513,
          0.014379678438686923,
          0.000016531062629600556,
          0.0340617863032973,
          0.0462404451681898,
          0.0003845806900215,
          0.09819860405120215,
          0.05242149508471039
         ],
         "visible": false
        }
       ],
       "layout": {
        "annotations": [
         {
          "font": {
           "color": "black",
           "size": 17
          },
          "showarrow": false,
          "text": "Share of total value exported (FOB)",
          "x": 0.5,
          "xref": "paper",
          "y": 1.18,
          "yref": "paper"
         },
         {
          "font": {
           "color": "black",
           "size": 12
          },
          "showarrow": false,
          "text": "Source: Harvard Atlas of Economic Complexity and COMTRADE (2022).",
          "x": 0.5,
          "xref": "paper",
          "y": 1.12,
          "yref": "paper"
         }
        ],
        "margin": {
         "b": 0,
         "l": 25,
         "r": 25,
         "t": 100
        },
        "paper_bgcolor": "white",
        "plot_bgcolor": "white",
        "showlegend": true,
        "template": {
         "data": {
          "bar": [
           {
            "error_x": {
             "color": "#2a3f5f"
            },
            "error_y": {
             "color": "#2a3f5f"
            },
            "marker": {
             "line": {
              "color": "#E5ECF6",
              "width": 0.5
             },
             "pattern": {
              "fillmode": "overlay",
              "size": 10,
              "solidity": 0.2
             }
            },
            "type": "bar"
           }
          ],
          "barpolar": [
           {
            "marker": {
             "line": {
              "color": "#E5ECF6",
              "width": 0.5
             },
             "pattern": {
              "fillmode": "overlay",
              "size": 10,
              "solidity": 0.2
             }
            },
            "type": "barpolar"
           }
          ],
          "carpet": [
           {
            "aaxis": {
             "endlinecolor": "#2a3f5f",
             "gridcolor": "white",
             "linecolor": "white",
             "minorgridcolor": "white",
             "startlinecolor": "#2a3f5f"
            },
            "baxis": {
             "endlinecolor": "#2a3f5f",
             "gridcolor": "white",
             "linecolor": "white",
             "minorgridcolor": "white",
             "startlinecolor": "#2a3f5f"
            },
            "type": "carpet"
           }
          ],
          "choropleth": [
           {
            "colorbar": {
             "outlinewidth": 0,
             "ticks": ""
            },
            "type": "choropleth"
           }
          ],
          "contour": [
           {
            "colorbar": {
             "outlinewidth": 0,
             "ticks": ""
            },
            "colorscale": [
             [
              0,
              "#0d0887"
             ],
             [
              0.1111111111111111,
              "#46039f"
             ],
             [
              0.2222222222222222,
              "#7201a8"
             ],
             [
              0.3333333333333333,
              "#9c179e"
             ],
             [
              0.4444444444444444,
              "#bd3786"
             ],
             [
              0.5555555555555556,
              "#d8576b"
             ],
             [
              0.6666666666666666,
              "#ed7953"
             ],
             [
              0.7777777777777778,
              "#fb9f3a"
             ],
             [
              0.8888888888888888,
              "#fdca26"
             ],
             [
              1,
              "#f0f921"
             ]
            ],
            "type": "contour"
           }
          ],
          "contourcarpet": [
           {
            "colorbar": {
             "outlinewidth": 0,
             "ticks": ""
            },
            "type": "contourcarpet"
           }
          ],
          "heatmap": [
           {
            "colorbar": {
             "outlinewidth": 0,
             "ticks": ""
            },
            "colorscale": [
             [
              0,
              "#0d0887"
             ],
             [
              0.1111111111111111,
              "#46039f"
             ],
             [
              0.2222222222222222,
              "#7201a8"
             ],
             [
              0.3333333333333333,
              "#9c179e"
             ],
             [
              0.4444444444444444,
              "#bd3786"
             ],
             [
              0.5555555555555556,
              "#d8576b"
             ],
             [
              0.6666666666666666,
              "#ed7953"
             ],
             [
              0.7777777777777778,
              "#fb9f3a"
             ],
             [
              0.8888888888888888,
              "#fdca26"
             ],
             [
              1,
              "#f0f921"
             ]
            ],
            "type": "heatmap"
           }
          ],
          "heatmapgl": [
           {
            "colorbar": {
             "outlinewidth": 0,
             "ticks": ""
            },
            "colorscale": [
             [
              0,
              "#0d0887"
             ],
             [
              0.1111111111111111,
              "#46039f"
             ],
             [
              0.2222222222222222,
              "#7201a8"
             ],
             [
              0.3333333333333333,
              "#9c179e"
             ],
             [
              0.4444444444444444,
              "#bd3786"
             ],
             [
              0.5555555555555556,
              "#d8576b"
             ],
             [
              0.6666666666666666,
              "#ed7953"
             ],
             [
              0.7777777777777778,
              "#fb9f3a"
             ],
             [
              0.8888888888888888,
              "#fdca26"
             ],
             [
              1,
              "#f0f921"
             ]
            ],
            "type": "heatmapgl"
           }
          ],
          "histogram": [
           {
            "marker": {
             "pattern": {
              "fillmode": "overlay",
              "size": 10,
              "solidity": 0.2
             }
            },
            "type": "histogram"
           }
          ],
          "histogram2d": [
           {
            "colorbar": {
             "outlinewidth": 0,
             "ticks": ""
            },
            "colorscale": [
             [
              0,
              "#0d0887"
             ],
             [
              0.1111111111111111,
              "#46039f"
             ],
             [
              0.2222222222222222,
              "#7201a8"
             ],
             [
              0.3333333333333333,
              "#9c179e"
             ],
             [
              0.4444444444444444,
              "#bd3786"
             ],
             [
              0.5555555555555556,
              "#d8576b"
             ],
             [
              0.6666666666666666,
              "#ed7953"
             ],
             [
              0.7777777777777778,
              "#fb9f3a"
             ],
             [
              0.8888888888888888,
              "#fdca26"
             ],
             [
              1,
              "#f0f921"
             ]
            ],
            "type": "histogram2d"
           }
          ],
          "histogram2dcontour": [
           {
            "colorbar": {
             "outlinewidth": 0,
             "ticks": ""
            },
            "colorscale": [
             [
              0,
              "#0d0887"
             ],
             [
              0.1111111111111111,
              "#46039f"
             ],
             [
              0.2222222222222222,
              "#7201a8"
             ],
             [
              0.3333333333333333,
              "#9c179e"
             ],
             [
              0.4444444444444444,
              "#bd3786"
             ],
             [
              0.5555555555555556,
              "#d8576b"
             ],
             [
              0.6666666666666666,
              "#ed7953"
             ],
             [
              0.7777777777777778,
              "#fb9f3a"
             ],
             [
              0.8888888888888888,
              "#fdca26"
             ],
             [
              1,
              "#f0f921"
             ]
            ],
            "type": "histogram2dcontour"
           }
          ],
          "mesh3d": [
           {
            "colorbar": {
             "outlinewidth": 0,
             "ticks": ""
            },
            "type": "mesh3d"
           }
          ],
          "parcoords": [
           {
            "line": {
             "colorbar": {
              "outlinewidth": 0,
              "ticks": ""
             }
            },
            "type": "parcoords"
           }
          ],
          "pie": [
           {
            "automargin": true,
            "type": "pie"
           }
          ],
          "scatter": [
           {
            "fillpattern": {
             "fillmode": "overlay",
             "size": 10,
             "solidity": 0.2
            },
            "type": "scatter"
           }
          ],
          "scatter3d": [
           {
            "line": {
             "colorbar": {
              "outlinewidth": 0,
              "ticks": ""
             }
            },
            "marker": {
             "colorbar": {
              "outlinewidth": 0,
              "ticks": ""
             }
            },
            "type": "scatter3d"
           }
          ],
          "scattercarpet": [
           {
            "marker": {
             "colorbar": {
              "outlinewidth": 0,
              "ticks": ""
             }
            },
            "type": "scattercarpet"
           }
          ],
          "scattergeo": [
           {
            "marker": {
             "colorbar": {
              "outlinewidth": 0,
              "ticks": ""
             }
            },
            "type": "scattergeo"
           }
          ],
          "scattergl": [
           {
            "marker": {
             "colorbar": {
              "outlinewidth": 0,
              "ticks": ""
             }
            },
            "type": "scattergl"
           }
          ],
          "scattermapbox": [
           {
            "marker": {
             "colorbar": {
              "outlinewidth": 0,
              "ticks": ""
             }
            },
            "type": "scattermapbox"
           }
          ],
          "scatterpolar": [
           {
            "marker": {
             "colorbar": {
              "outlinewidth": 0,
              "ticks": ""
             }
            },
            "type": "scatterpolar"
           }
          ],
          "scatterpolargl": [
           {
            "marker": {
             "colorbar": {
              "outlinewidth": 0,
              "ticks": ""
             }
            },
            "type": "scatterpolargl"
           }
          ],
          "scatterternary": [
           {
            "marker": {
             "colorbar": {
              "outlinewidth": 0,
              "ticks": ""
             }
            },
            "type": "scatterternary"
           }
          ],
          "surface": [
           {
            "colorbar": {
             "outlinewidth": 0,
             "ticks": ""
            },
            "colorscale": [
             [
              0,
              "#0d0887"
             ],
             [
              0.1111111111111111,
              "#46039f"
             ],
             [
              0.2222222222222222,
              "#7201a8"
             ],
             [
              0.3333333333333333,
              "#9c179e"
             ],
             [
              0.4444444444444444,
              "#bd3786"
             ],
             [
              0.5555555555555556,
              "#d8576b"
             ],
             [
              0.6666666666666666,
              "#ed7953"
             ],
             [
              0.7777777777777778,
              "#fb9f3a"
             ],
             [
              0.8888888888888888,
              "#fdca26"
             ],
             [
              1,
              "#f0f921"
             ]
            ],
            "type": "surface"
           }
          ],
          "table": [
           {
            "cells": {
             "fill": {
              "color": "#EBF0F8"
             },
             "line": {
              "color": "white"
             }
            },
            "header": {
             "fill": {
              "color": "#C8D4E3"
             },
             "line": {
              "color": "white"
             }
            },
            "type": "table"
           }
          ]
         },
         "layout": {
          "annotationdefaults": {
           "arrowcolor": "#2a3f5f",
           "arrowhead": 0,
           "arrowwidth": 1
          },
          "autotypenumbers": "strict",
          "coloraxis": {
           "colorbar": {
            "outlinewidth": 0,
            "ticks": ""
           }
          },
          "colorscale": {
           "diverging": [
            [
             0,
             "#8e0152"
            ],
            [
             0.1,
             "#c51b7d"
            ],
            [
             0.2,
             "#de77ae"
            ],
            [
             0.3,
             "#f1b6da"
            ],
            [
             0.4,
             "#fde0ef"
            ],
            [
             0.5,
             "#f7f7f7"
            ],
            [
             0.6,
             "#e6f5d0"
            ],
            [
             0.7,
             "#b8e186"
            ],
            [
             0.8,
             "#7fbc41"
            ],
            [
             0.9,
             "#4d9221"
            ],
            [
             1,
             "#276419"
            ]
           ],
           "sequential": [
            [
             0,
             "#0d0887"
            ],
            [
             0.1111111111111111,
             "#46039f"
            ],
            [
             0.2222222222222222,
             "#7201a8"
            ],
            [
             0.3333333333333333,
             "#9c179e"
            ],
            [
             0.4444444444444444,
             "#bd3786"
            ],
            [
             0.5555555555555556,
             "#d8576b"
            ],
            [
             0.6666666666666666,
             "#ed7953"
            ],
            [
             0.7777777777777778,
             "#fb9f3a"
            ],
            [
             0.8888888888888888,
             "#fdca26"
            ],
            [
             1,
             "#f0f921"
            ]
           ],
           "sequentialminus": [
            [
             0,
             "#0d0887"
            ],
            [
             0.1111111111111111,
             "#46039f"
            ],
            [
             0.2222222222222222,
             "#7201a8"
            ],
            [
             0.3333333333333333,
             "#9c179e"
            ],
            [
             0.4444444444444444,
             "#bd3786"
            ],
            [
             0.5555555555555556,
             "#d8576b"
            ],
            [
             0.6666666666666666,
             "#ed7953"
            ],
            [
             0.7777777777777778,
             "#fb9f3a"
            ],
            [
             0.8888888888888888,
             "#fdca26"
            ],
            [
             1,
             "#f0f921"
            ]
           ]
          },
          "colorway": [
           "#636efa",
           "#EF553B",
           "#00cc96",
           "#ab63fa",
           "#FFA15A",
           "#19d3f3",
           "#FF6692",
           "#B6E880",
           "#FF97FF",
           "#FECB52"
          ],
          "font": {
           "color": "#2a3f5f"
          },
          "geo": {
           "bgcolor": "white",
           "lakecolor": "white",
           "landcolor": "#E5ECF6",
           "showlakes": true,
           "showland": true,
           "subunitcolor": "white"
          },
          "hoverlabel": {
           "align": "left"
          },
          "hovermode": "closest",
          "mapbox": {
           "style": "light"
          },
          "paper_bgcolor": "white",
          "plot_bgcolor": "#E5ECF6",
          "polar": {
           "angularaxis": {
            "gridcolor": "white",
            "linecolor": "white",
            "ticks": ""
           },
           "bgcolor": "#E5ECF6",
           "radialaxis": {
            "gridcolor": "white",
            "linecolor": "white",
            "ticks": ""
           }
          },
          "scene": {
           "xaxis": {
            "backgroundcolor": "#E5ECF6",
            "gridcolor": "white",
            "gridwidth": 2,
            "linecolor": "white",
            "showbackground": true,
            "ticks": "",
            "zerolinecolor": "white"
           },
           "yaxis": {
            "backgroundcolor": "#E5ECF6",
            "gridcolor": "white",
            "gridwidth": 2,
            "linecolor": "white",
            "showbackground": true,
            "ticks": "",
            "zerolinecolor": "white"
           },
           "zaxis": {
            "backgroundcolor": "#E5ECF6",
            "gridcolor": "white",
            "gridwidth": 2,
            "linecolor": "white",
            "showbackground": true,
            "ticks": "",
            "zerolinecolor": "white"
           }
          },
          "shapedefaults": {
           "line": {
            "color": "#2a3f5f"
           }
          },
          "ternary": {
           "aaxis": {
            "gridcolor": "white",
            "linecolor": "white",
            "ticks": ""
           },
           "baxis": {
            "gridcolor": "white",
            "linecolor": "white",
            "ticks": ""
           },
           "bgcolor": "#E5ECF6",
           "caxis": {
            "gridcolor": "white",
            "linecolor": "white",
            "ticks": ""
           }
          },
          "title": {
           "x": 0.05
          },
          "xaxis": {
           "automargin": true,
           "gridcolor": "white",
           "linecolor": "white",
           "ticks": "",
           "title": {
            "standoff": 15
           },
           "zerolinecolor": "white",
           "zerolinewidth": 2
          },
          "yaxis": {
           "automargin": true,
           "gridcolor": "white",
           "linecolor": "white",
           "ticks": "",
           "title": {
            "standoff": 15
           },
           "zerolinecolor": "white",
           "zerolinewidth": 2
          }
         }
        },
        "title": {
         "font": {
          "color": "black",
          "size": 23
         },
         "text": "Exports matrix of the 5 most complex countries",
         "x": 0.5,
         "xanchor": "center",
         "y": 0.98,
         "yanchor": "top"
        },
        "updatemenus": [
         {
          "active": 0,
          "buttons": [
           {
            "args": [
             {
              "visible": [
               true,
               false,
               false,
               false,
               false
              ]
             }
            ],
            "label": "Germany - 2022",
            "method": "update"
           },
           {
            "args": [
             {
              "visible": [
               false,
               true,
               false,
               false,
               false
              ]
             }
            ],
            "label": "Japan - 2022",
            "method": "update"
           },
           {
            "args": [
             {
              "visible": [
               false,
               false,
               true,
               false,
               false
              ]
             }
            ],
            "label": "Rep. of Korea - 2022",
            "method": "update"
           },
           {
            "args": [
             {
              "visible": [
               false,
               false,
               false,
               true,
               false
              ]
             }
            ],
            "label": "Singapore - 2022",
            "method": "update"
           },
           {
            "args": [
             {
              "visible": [
               false,
               false,
               false,
               false,
               true
              ]
             }
            ],
            "label": "Switzerland - 2022",
            "method": "update"
           }
          ],
          "x": 0.12,
          "xanchor": "right",
          "y": 1.15,
          "yanchor": "top"
         }
        ],
        "xaxis": {
         "showgrid": false
        },
        "yaxis": {
         "showgrid": false
        }
       }
      }
     },
     "metadata": {},
     "output_type": "display_data"
    }
   ],
   "source": [
    "# Plotting a tree map \n",
    " # See this very useful example: https://stackoverflow.com/questions/64100889/add-dropdown-menu-to-plotly-express-treemap\n",
    "\n",
    "# Load the data\n",
    "data_url = \"https://raw.githubusercontent.com/IgnacioOrueta/ignacioorueta.github.io/refs/heads/main/Project/Section3/data/top5_countries.csv\"\n",
    "data = pd.read_csv(data_url)\n",
    "\n",
    "# Define custom colors for each cluster_name\n",
    "custom_colors = {\n",
    "        'Agriculture': '#4E79A7',\n",
    "        'Industrial Chemicals and Metals': '#76B7B2',\n",
    "        'Textile and Home Goods': '#FF9DA7',\n",
    "        'Metalworking and Electrical Machinery and Parts': '#59A14F',\n",
    "        'Construction, Building, and Home Supplies': '#F28E2B',\n",
    "        'Electronic and Electrical Goods': '#E15759',\n",
    "        'Textile Apparel and Accessories': '#AF7AA1',\n",
    "        'Minerals': '#EDC949',     \n",
    "}\n",
    "\n",
    "# Tableau colors\n",
    "#4E79A7 (Blue)\n",
    "#F28E2B (Orange)\n",
    "#E15759 (Red)\n",
    "# #76B7B2 (Teal)\n",
    "# #59A14F (Green)\n",
    "# #EDC949 (Yellow)\n",
    "# #AF7AA1 (Purple)\n",
    "#FF9DA7 (Pink)\n",
    "\n",
    "dfs = list(data.groupby(\"country\",))\n",
    "\n",
    "first_title = dfs[0][0]\n",
    "traces = []\n",
    "buttons = []\n",
    "for i,d in enumerate(dfs):\n",
    "        visible = [False] * len(dfs)\n",
    "        visible[i] = True\n",
    "        name = d[0]\n",
    "        traces.append(\n",
    "            px.treemap(d[1],\n",
    "                    path=['cluster_name', 'desc_hs2'],\n",
    "                    values='percent_fobvalue',\n",
    "                    color='cluster_name',\n",
    "                    color_discrete_map=custom_colors).update_traces(visible=True if i==0 else False).data[0]\n",
    "        )\n",
    "        \n",
    "        buttons.append(dict(label=name,\n",
    "                        method=\"update\",\n",
    "                        args=[{\"visible\":visible}]))  # Creating the dropdown menu\n",
    "\n",
    "updatemenus = [{\n",
    "        'active': 0,\n",
    "        'buttons': buttons,\n",
    "        'x': 0.12,  # Adjust the x position\n",
    "        'y': 1.15,  # Adjust the y position\n",
    "        'xanchor': 'right',  # Anchor the dropdown to the right\n",
    "        'yanchor': 'top'  # Anchor the dropdown to the top\n",
    "    }]\n",
    "\n",
    "fig = go.Figure(data=traces,\n",
    "                    layout=dict(updatemenus=updatemenus))\n",
    "\n",
    "# Add title and subtitle\n",
    "fig.update_layout(\n",
    "    title={\n",
    "        'text': \"Exports matrix of the 5 most complex countries\",\n",
    "        'y':0.98,\n",
    "        'x':0.5,\n",
    "        'xanchor': 'center',\n",
    "        'yanchor': 'top',\n",
    "            'font': {'size': 23, 'color': 'black'}\n",
    "        },\n",
    "    annotations=[\n",
    "        dict(\n",
    "            text=\"Share of total value exported (FOB)\",\n",
    "            x=0.5,\n",
    "            y=1.18,\n",
    "            xref=\"paper\",\n",
    "            yref=\"paper\",\n",
    "            showarrow=False,\n",
    "            font=dict(size=17, color='black')\n",
    "            ),\n",
    "        dict(\n",
    "            text=\"Source: Harvard Atlas of Economic Complexity and COMTRADE (2022).\",\n",
    "            x=0.5,\n",
    "            y=1.12,\n",
    "            xref=\"paper\",\n",
    "            yref=\"paper\",\n",
    "            showarrow=False,\n",
    "            font=dict(size=12, color='black')\n",
    "        )\n",
    "        ],\n",
    "    margin=dict(t=100, l=25, r=25, b=0),\n",
    "    showlegend=True,\n",
    "    )\n",
    "\n",
    "# Show percentages in each quadrant\n",
    "fig.update_traces(textinfo='label+percent entry', textfont_size=15)\n",
    "\n",
    "# Create white borders between categories\n",
    "fig.update_traces(marker=dict(line=dict(width=1)))\n",
    "\n",
    "# Remove all tooltips except the label and category\n",
    "fig.update_traces(hovertemplate='%{label}<br>%{value:.1f}%<br>Category: %{customdata[0]}<extra></extra>')\n",
    "\n",
    "# Erase the border of the treemap graph\n",
    "fig.update_layout(xaxis_showgrid=False, yaxis_showgrid=False)\n",
    "\n",
    "# Remove the outer border of the chart\n",
    "fig.update_layout(\n",
    "        paper_bgcolor='white',\n",
    "        plot_bgcolor='white',\n",
    "        margin=dict(t=100, l=25, r=25, b=0)\n",
    ")\n",
    "    \n",
    "pio.write_json(fig, '../figures/figure3.json', pretty=True) # JSON\n",
    "pio.write_html(fig, '../figures/figure3.html') #HTML \n",
    "\n",
    "# Show the figure\n",
    "fig.show()"
   ]
  },
  {
   "cell_type": "markdown",
   "metadata": {},
   "source": [
    "#### Bottom 5"
   ]
  },
  {
   "cell_type": "code",
   "execution_count": 21,
   "metadata": {},
   "outputs": [
    {
     "data": {
      "application/vnd.plotly.v1+json": {
       "config": {
        "plotlyServerURL": "https://plot.ly"
       },
       "data": [
        {
         "branchvalues": "total",
         "customdata": [
          [
           "Electronic and Electrical Goods"
          ],
          [
           "Agriculture"
          ],
          [
           "Agriculture"
          ],
          [
           "Textile and Home Goods"
          ],
          [
           "Textile and Home Goods"
          ],
          [
           "Textile and Home Goods"
          ],
          [
           "Metalworking and Electrical Machinery and Parts"
          ],
          [
           "Electronic and Electrical Goods"
          ],
          [
           "Construction, Building, and Home Supplies"
          ],
          [
           "Agriculture"
          ],
          [
           "Agriculture"
          ],
          [
           "Agriculture"
          ],
          [
           "Textile and Home Goods"
          ],
          [
           "Metalworking and Electrical Machinery and Parts"
          ],
          [
           "Construction, Building, and Home Supplies"
          ],
          [
           "Industrial Chemicals and Metals"
          ],
          [
           "Construction, Building, and Home Supplies"
          ],
          [
           "Industrial Chemicals and Metals"
          ],
          [
           "Textile and Home Goods"
          ],
          [
           "Construction, Building, and Home Supplies"
          ],
          [
           "Metalworking and Electrical Machinery and Parts"
          ],
          [
           "Construction, Building, and Home Supplies"
          ],
          [
           "Textile and Home Goods"
          ],
          [
           "Agriculture"
          ],
          [
           "Agriculture"
          ],
          [
           "Industrial Chemicals and Metals"
          ],
          [
           "Industrial Chemicals and Metals"
          ],
          [
           "Agriculture"
          ],
          [
           "Minerals"
          ],
          [
           "Electronic and Electrical Goods"
          ],
          [
           "Construction, Building, and Home Supplies"
          ],
          [
           "Metalworking and Electrical Machinery and Parts"
          ],
          [
           "Agriculture"
          ],
          [
           "Textile and Home Goods"
          ],
          [
           "Minerals"
          ],
          [
           "Industrial Chemicals and Metals"
          ],
          [
           "Textile and Home Goods"
          ],
          [
           "Electronic and Electrical Goods"
          ],
          [
           "Agriculture"
          ],
          [
           "Minerals"
          ],
          [
           "Industrial Chemicals and Metals"
          ],
          [
           "Industrial Chemicals and Metals"
          ],
          [
           "Industrial Chemicals and Metals"
          ],
          [
           "Electronic and Electrical Goods"
          ],
          [
           "Textile Apparel and Accessories"
          ],
          [
           "Industrial Chemicals and Metals"
          ],
          [
           "Construction, Building, and Home Supplies"
          ],
          [
           "Agriculture"
          ],
          [
           "Industrial Chemicals and Metals"
          ],
          [
           "Construction, Building, and Home Supplies"
          ],
          [
           "Textile and Home Goods"
          ],
          [
           "Agriculture"
          ],
          [
           "Agriculture"
          ],
          [
           "Metalworking and Electrical Machinery and Parts"
          ],
          [
           "Textile Apparel and Accessories"
          ],
          [
           "Agriculture"
          ],
          [
           "Agriculture"
          ],
          [
           "Metalworking and Electrical Machinery and Parts"
          ],
          [
           "Construction, Building, and Home Supplies"
          ],
          [
           "Industrial Chemicals and Metals"
          ],
          [
           "Construction, Building, and Home Supplies"
          ],
          [
           "Industrial Chemicals and Metals"
          ],
          [
           "Construction, Building, and Home Supplies"
          ],
          [
           "Agriculture"
          ],
          [
           "Electronic and Electrical Goods"
          ],
          [
           "Textile and Home Goods"
          ],
          [
           "Agriculture"
          ],
          [
           "Construction, Building, and Home Supplies"
          ],
          [
           "Agriculture"
          ],
          [
           "Agriculture"
          ],
          [
           "Industrial Chemicals and Metals"
          ],
          [
           "Metalworking and Electrical Machinery and Parts"
          ],
          [
           "Textile and Home Goods"
          ],
          [
           "Construction, Building, and Home Supplies"
          ],
          [
           "Industrial Chemicals and Metals"
          ],
          [
           "Agriculture"
          ],
          [
           "Construction, Building, and Home Supplies"
          ],
          [
           "Industrial Chemicals and Metals"
          ],
          [
           "Electronic and Electrical Goods"
          ],
          [
           "Metalworking and Electrical Machinery and Parts"
          ],
          [
           "Construction, Building, and Home Supplies"
          ],
          [
           "Agriculture"
          ],
          [
           "Textile and Home Goods"
          ],
          [
           "Minerals"
          ],
          [
           "Agriculture"
          ],
          [
           "Metalworking and Electrical Machinery and Parts"
          ],
          [
           "Textile Apparel and Accessories"
          ],
          [
           "Agriculture"
          ],
          [
           "Textile and Home Goods"
          ],
          [
           "Metalworking and Electrical Machinery and Parts"
          ],
          [
           "Agriculture"
          ],
          [
           "Textile and Home Goods"
          ],
          [
           "Agriculture"
          ],
          [
           "Textile and Home Goods"
          ],
          [
           "Construction, Building, and Home Supplies"
          ],
          [
           "Industrial Chemicals and Metals"
          ],
          [
           "Agriculture"
          ],
          [
           "Textile Apparel and Accessories"
          ],
          [
           "Electronic and Electrical Goods"
          ],
          [
           "Textile and Home Goods"
          ],
          [
           "Textile Apparel and Accessories"
          ],
          [
           "Metalworking and Electrical Machinery and Parts"
          ],
          [
           "Electronic and Electrical Goods"
          ],
          [
           "Construction, Building, and Home Supplies"
          ],
          [
           "Industrial Chemicals and Metals"
          ],
          [
           "Industrial Chemicals and Metals"
          ],
          [
           "Textile Apparel and Accessories"
          ],
          [
           "Textile and Home Goods"
          ],
          [
           "Electronic and Electrical Goods"
          ],
          [
           "Industrial Chemicals and Metals"
          ],
          [
           "Construction, Building, and Home Supplies"
          ],
          [
           "Agriculture"
          ],
          [
           "Industrial Chemicals and Metals"
          ],
          [
           "Textile and Home Goods"
          ],
          [
           "Textile Apparel and Accessories"
          ],
          [
           "Textile and Home Goods"
          ],
          [
           "Textile and Home Goods"
          ],
          [
           "Construction, Building, and Home Supplies"
          ],
          [
           "Agriculture"
          ],
          [
           "Textile and Home Goods"
          ],
          [
           "Metalworking and Electrical Machinery and Parts"
          ],
          [
           "Construction, Building, and Home Supplies"
          ],
          [
           "Industrial Chemicals and Metals"
          ],
          [
           "Construction, Building, and Home Supplies"
          ],
          [
           "Industrial Chemicals and Metals"
          ],
          [
           "Minerals"
          ],
          [
           "Metalworking and Electrical Machinery and Parts"
          ],
          [
           "Industrial Chemicals and Metals"
          ],
          [
           "Construction, Building, and Home Supplies"
          ],
          [
           "Metalworking and Electrical Machinery and Parts"
          ],
          [
           "Industrial Chemicals and Metals"
          ],
          [
           "Industrial Chemicals and Metals"
          ],
          [
           "Metalworking and Electrical Machinery and Parts"
          ],
          [
           "Construction, Building, and Home Supplies"
          ],
          [
           "Metalworking and Electrical Machinery and Parts"
          ],
          [
           "Agriculture"
          ],
          [
           "Textile and Home Goods"
          ],
          [
           "Agriculture"
          ],
          [
           "Metalworking and Electrical Machinery and Parts"
          ],
          [
           "Agriculture"
          ],
          [
           "Construction, Building, and Home Supplies"
          ],
          [
           "Industrial Chemicals and Metals"
          ],
          [
           "Minerals"
          ],
          [
           "Agriculture"
          ],
          [
           "Textile and Home Goods"
          ],
          [
           "Electronic and Electrical Goods"
          ],
          [
           "Construction, Building, and Home Supplies"
          ]
         ],
         "domain": {
          "x": [
           0,
           1
          ],
          "y": [
           0,
           1
          ]
         },
         "hovertemplate": "%{label}<br>%{value:.1f}%<br>Category: %{customdata[0]}<extra></extra>",
         "ids": [
          "Electronic and Electrical Goods/Aircraft, spacecraft, and parts thereof",
          "Agriculture/Meat and edible meat offal",
          "Agriculture/Manufactures of straw, esparto or other plaiting materials",
          "Textile and Home Goods/Man-made staple fibres",
          "Textile and Home Goods/Man-made filaments",
          "Textile and Home Goods/Machinery and mechanical appliances, boilers, nuclear reactors",
          "Metalworking and Electrical Machinery and Parts/Machinery and mechanical appliances, boilers, nuclear reactors",
          "Electronic and Electrical Goods/Machinery and mechanical appliances, boilers, nuclear reactors",
          "Construction, Building, and Home Supplies/Machinery and mechanical appliances, boilers, nuclear reactors",
          "Agriculture/Meat, fish, crustaceans, molluscs or other aquatic invertebrates, or insects",
          "Agriculture/Machinery and mechanical appliances, boilers, nuclear reactors",
          "Agriculture/Lac",
          "Textile and Home Goods/Iron or steel articles",
          "Metalworking and Electrical Machinery and Parts/Iron or steel articles",
          "Construction, Building, and Home Supplies/Iron or steel articles",
          "Industrial Chemicals and Metals/Iron and steel",
          "Construction, Building, and Home Supplies/Iron and steel",
          "Industrial Chemicals and Metals/Inorganic chemicals",
          "Textile and Home Goods/Headgear and parts thereof",
          "Construction, Building, and Home Supplies/Lead and articles thereof",
          "Metalworking and Electrical Machinery and Parts/Glass and glassware",
          "Construction, Building, and Home Supplies/Metal",
          "Textile and Home Goods/Metal",
          "Agriculture/Printed books, newspapers, pictures and other products of the printing industry",
          "Agriculture/Preparations of vegetables, fruit, nuts or other parts of plants",
          "Industrial Chemicals and Metals/Plastics and articles thereof",
          "Industrial Chemicals and Metals/Pharmaceutical products",
          "Agriculture/Paper and paperboard",
          "Minerals/Ores, slag and ash",
          "Electronic and Electrical Goods/Optical, photographic, cinematographic, measuring, checking, medical or surgical instruments and apparatus...",
          "Construction, Building, and Home Supplies/Optical, photographic, cinematographic, measuring, checking, medical or surgical instruments and apparatus...",
          "Metalworking and Electrical Machinery and Parts/Metal",
          "Agriculture/Oil seeds and oleaginous fruits",
          "Textile and Home Goods/Natural, cultured pearls",
          "Minerals/Natural, cultured pearls",
          "Industrial Chemicals and Metals/Natural, cultured pearls",
          "Textile and Home Goods/Miscellaneous manufactured articles",
          "Electronic and Electrical Goods/Miscellaneous manufactured articles",
          "Agriculture/Miscellaneous edible preparations",
          "Minerals/Mineral fuels, mineral oils and products of their distillation",
          "Industrial Chemicals and Metals/Metals",
          "Industrial Chemicals and Metals/Nickel and articles thereof",
          "Industrial Chemicals and Metals/Glass and glassware",
          "Electronic and Electrical Goods/Natural, cultured pearls",
          "Textile Apparel and Accessories/Furniture",
          "Industrial Chemicals and Metals/Chemical products n.e.c.",
          "Construction, Building, and Home Supplies/Chemical products n.e.c.",
          "Agriculture/Cereals",
          "Industrial Chemicals and Metals/Ceramic products",
          "Construction, Building, and Home Supplies/Ceramic products",
          "Textile and Home Goods/Carpets and other textile floor coverings",
          "Agriculture/Beverages, spirits and vinegar",
          "Agriculture/Articles of leather",
          "Metalworking and Electrical Machinery and Parts/Chemical products n.e.c.",
          "Textile Apparel and Accessories/Apparel and clothing accessories",
          "Agriculture/Animal, vegetable or microbial fats and oils and their cleavage products",
          "Agriculture/Animal originated products",
          "Metalworking and Electrical Machinery and Parts/Aluminium and articles thereof",
          "Construction, Building, and Home Supplies/Aluminium and articles thereof",
          "Industrial Chemicals and Metals/Albuminoidal substances",
          "Construction, Building, and Home Supplies/Albuminoidal substances",
          "Industrial Chemicals and Metals/Aircraft, spacecraft, and parts thereof",
          "Construction, Building, and Home Supplies/Glass and glassware",
          "Agriculture/Animals",
          "Electronic and Electrical Goods/Clocks and watches and parts thereof",
          "Textile and Home Goods/Ceramic products",
          "Agriculture/Cocoa and cocoa preparations",
          "Construction, Building, and Home Supplies/Furniture",
          "Agriculture/Food industries, residues and wastes thereof",
          "Agriculture/Fish and crustaceans, molluscs and other aquatic invertebrates",
          "Industrial Chemicals and Metals/Fertilizers",
          "Metalworking and Electrical Machinery and Parts/Clocks and watches and parts thereof",
          "Textile and Home Goods/Fabrics",
          "Construction, Building, and Home Supplies/Explosives",
          "Industrial Chemicals and Metals/Essential oils and resinoids",
          "Agriculture/Fruit and nuts, edible",
          "Construction, Building, and Home Supplies/Essential oils and resinoids",
          "Industrial Chemicals and Metals/Electrical machinery and equipment and parts thereof",
          "Electronic and Electrical Goods/Electrical machinery and equipment and parts thereof",
          "Metalworking and Electrical Machinery and Parts/Furniture",
          "Construction, Building, and Home Supplies/Electrical machinery and equipment and parts thereof",
          "Agriculture/Dairy produce",
          "Textile and Home Goods/Cotton",
          "Minerals/Copper and articles thereof",
          "Agriculture/Coffee, tea, mate and spices",
          "Metalworking and Electrical Machinery and Parts/Electrical machinery and equipment and parts thereof",
          "Textile Apparel and Accessories/Footwear",
          "Agriculture/Vegetables and certain roots and tubers",
          "Textile and Home Goods/Vegetable textile fibres",
          "Metalworking and Electrical Machinery and Parts/Vehicles",
          "Agriculture",
          "Textile and Home Goods/Wadding, felt and nonwovens, special yarns",
          "Agriculture/Wood and articles of wood",
          "Textile and Home Goods/Wood and articles of wood",
          "Construction, Building, and Home Supplies",
          "Industrial Chemicals and Metals",
          "Agriculture/Vegetable plaiting materials",
          "Textile Apparel and Accessories/Wadding, felt and nonwovens, special yarns",
          "Electronic and Electrical Goods/Toys, games and sports requisites",
          "Textile and Home Goods",
          "Textile Apparel and Accessories",
          "Metalworking and Electrical Machinery and Parts/Tools, implements, cutlery, spoons and forks, of base metal",
          "Electronic and Electrical Goods/Vehicles",
          "Construction, Building, and Home Supplies/Vehicles",
          "Industrial Chemicals and Metals/Works of art",
          "Industrial Chemicals and Metals/Zinc and articles thereof",
          "Textile Apparel and Accessories/Umbrellas, sun umbrellas, walking-sticks, seat sticks, whips, riding crops",
          "Textile and Home Goods/Tools, implements, cutlery, spoons and forks, of base metal",
          "Electronic and Electrical Goods",
          "Industrial Chemicals and Metals/Tools, implements, cutlery, spoons and forks, of base metal",
          "Construction, Building, and Home Supplies/Tools, implements, cutlery, spoons and forks, of base metal",
          "Agriculture/Tobacco and manufactured tobacco substitutes",
          "Industrial Chemicals and Metals/Tin",
          "Textile and Home Goods/Textiles, made up articles",
          "Textile Apparel and Accessories/Textiles, made up articles",
          "Textile and Home Goods/Textile fabrics",
          "Textile and Home Goods/Ships, boats and floating structures",
          "Construction, Building, and Home Supplies/Tanning or dyeing extracts",
          "Agriculture/Sugars and sugar confectionery",
          "Textile and Home Goods/Stone, plaster, cement, asbestos, mica or similar materials",
          "Metalworking and Electrical Machinery and Parts/Stone, plaster, cement, asbestos, mica or similar materials",
          "Construction, Building, and Home Supplies/Stone, plaster, cement, asbestos, mica or similar materials",
          "Industrial Chemicals and Metals/Soap, organic surface-active agents",
          "Construction, Building, and Home Supplies/Soap, organic surface-active agents",
          "Industrial Chemicals and Metals/Tanning or dyeing extracts",
          "Minerals",
          "Metalworking and Electrical Machinery and Parts/Ships, boats and floating structures",
          "Industrial Chemicals and Metals/Ships, boats and floating structures",
          "Construction, Building, and Home Supplies/Ships, boats and floating structures",
          "Metalworking and Electrical Machinery and Parts",
          "Industrial Chemicals and Metals/Organic chemicals",
          "Industrial Chemicals and Metals/Optical, photographic, cinematographic, measuring, checking, medical or surgical instruments and apparatus...",
          "Metalworking and Electrical Machinery and Parts/Optical, photographic, cinematographic, measuring, checking, medical or surgical instruments and apparatus...",
          "Construction, Building, and Home Supplies/Plastics and articles thereof",
          "Metalworking and Electrical Machinery and Parts/Rubber and articles thereof",
          "Agriculture/Preparations of cereals, flour, starch or milk",
          "Textile and Home Goods/Printed books, newspapers, pictures and other products of the printing industry",
          "Agriculture/Products of the milling industry",
          "Metalworking and Electrical Machinery and Parts/Railway, tramway locomotives, rolling-stock and parts thereof",
          "Agriculture/Raw hides and skins (other than furskins) and leather",
          "Construction, Building, and Home Supplies/Rubber and articles thereof",
          "Industrial Chemicals and Metals/Rubber and articles thereof",
          "Minerals/Salt",
          "Agriculture/Salt",
          "Textile and Home Goods/Rubber and articles thereof",
          "Electronic and Electrical Goods/Plastics and articles thereof",
          "Construction, Building, and Home Supplies/Railway, tramway locomotives, rolling-stock and parts thereof"
         ],
         "labels": [
          "Aircraft, spacecraft, and parts thereof",
          "Meat and edible meat offal",
          "Manufactures of straw, esparto or other plaiting materials",
          "Man-made staple fibres",
          "Man-made filaments",
          "Machinery and mechanical appliances, boilers, nuclear reactors",
          "Machinery and mechanical appliances, boilers, nuclear reactors",
          "Machinery and mechanical appliances, boilers, nuclear reactors",
          "Machinery and mechanical appliances, boilers, nuclear reactors",
          "Meat, fish, crustaceans, molluscs or other aquatic invertebrates, or insects",
          "Machinery and mechanical appliances, boilers, nuclear reactors",
          "Lac",
          "Iron or steel articles",
          "Iron or steel articles",
          "Iron or steel articles",
          "Iron and steel",
          "Iron and steel",
          "Inorganic chemicals",
          "Headgear and parts thereof",
          "Lead and articles thereof",
          "Glass and glassware",
          "Metal",
          "Metal",
          "Printed books, newspapers, pictures and other products of the printing industry",
          "Preparations of vegetables, fruit, nuts or other parts of plants",
          "Plastics and articles thereof",
          "Pharmaceutical products",
          "Paper and paperboard",
          "Ores, slag and ash",
          "Optical, photographic, cinematographic, measuring, checking, medical or surgical instruments and apparatus...",
          "Optical, photographic, cinematographic, measuring, checking, medical or surgical instruments and apparatus...",
          "Metal",
          "Oil seeds and oleaginous fruits",
          "Natural, cultured pearls",
          "Natural, cultured pearls",
          "Natural, cultured pearls",
          "Miscellaneous manufactured articles",
          "Miscellaneous manufactured articles",
          "Miscellaneous edible preparations",
          "Mineral fuels, mineral oils and products of their distillation",
          "Metals",
          "Nickel and articles thereof",
          "Glass and glassware",
          "Natural, cultured pearls",
          "Furniture",
          "Chemical products n.e.c.",
          "Chemical products n.e.c.",
          "Cereals",
          "Ceramic products",
          "Ceramic products",
          "Carpets and other textile floor coverings",
          "Beverages, spirits and vinegar",
          "Articles of leather",
          "Chemical products n.e.c.",
          "Apparel and clothing accessories",
          "Animal, vegetable or microbial fats and oils and their cleavage products",
          "Animal originated products",
          "Aluminium and articles thereof",
          "Aluminium and articles thereof",
          "Albuminoidal substances",
          "Albuminoidal substances",
          "Aircraft, spacecraft, and parts thereof",
          "Glass and glassware",
          "Animals",
          "Clocks and watches and parts thereof",
          "Ceramic products",
          "Cocoa and cocoa preparations",
          "Furniture",
          "Food industries, residues and wastes thereof",
          "Fish and crustaceans, molluscs and other aquatic invertebrates",
          "Fertilizers",
          "Clocks and watches and parts thereof",
          "Fabrics",
          "Explosives",
          "Essential oils and resinoids",
          "Fruit and nuts, edible",
          "Essential oils and resinoids",
          "Electrical machinery and equipment and parts thereof",
          "Electrical machinery and equipment and parts thereof",
          "Furniture",
          "Electrical machinery and equipment and parts thereof",
          "Dairy produce",
          "Cotton",
          "Copper and articles thereof",
          "Coffee, tea, mate and spices",
          "Electrical machinery and equipment and parts thereof",
          "Footwear",
          "Vegetables and certain roots and tubers",
          "Vegetable textile fibres",
          "Vehicles",
          "Agriculture",
          "Wadding, felt and nonwovens, special yarns",
          "Wood and articles of wood",
          "Wood and articles of wood",
          "Construction, Building, and Home Supplies",
          "Industrial Chemicals and Metals",
          "Vegetable plaiting materials",
          "Wadding, felt and nonwovens, special yarns",
          "Toys, games and sports requisites",
          "Textile and Home Goods",
          "Textile Apparel and Accessories",
          "Tools, implements, cutlery, spoons and forks, of base metal",
          "Vehicles",
          "Vehicles",
          "Works of art",
          "Zinc and articles thereof",
          "Umbrellas, sun umbrellas, walking-sticks, seat sticks, whips, riding crops",
          "Tools, implements, cutlery, spoons and forks, of base metal",
          "Electronic and Electrical Goods",
          "Tools, implements, cutlery, spoons and forks, of base metal",
          "Tools, implements, cutlery, spoons and forks, of base metal",
          "Tobacco and manufactured tobacco substitutes",
          "Tin",
          "Textiles, made up articles",
          "Textiles, made up articles",
          "Textile fabrics",
          "Ships, boats and floating structures",
          "Tanning or dyeing extracts",
          "Sugars and sugar confectionery",
          "Stone, plaster, cement, asbestos, mica or similar materials",
          "Stone, plaster, cement, asbestos, mica or similar materials",
          "Stone, plaster, cement, asbestos, mica or similar materials",
          "Soap, organic surface-active agents",
          "Soap, organic surface-active agents",
          "Tanning or dyeing extracts",
          "Minerals",
          "Ships, boats and floating structures",
          "Ships, boats and floating structures",
          "Ships, boats and floating structures",
          "Metalworking and Electrical Machinery and Parts",
          "Organic chemicals",
          "Optical, photographic, cinematographic, measuring, checking, medical or surgical instruments and apparatus...",
          "Optical, photographic, cinematographic, measuring, checking, medical or surgical instruments and apparatus...",
          "Plastics and articles thereof",
          "Rubber and articles thereof",
          "Preparations of cereals, flour, starch or milk",
          "Printed books, newspapers, pictures and other products of the printing industry",
          "Products of the milling industry",
          "Railway, tramway locomotives, rolling-stock and parts thereof",
          "Raw hides and skins (other than furskins) and leather",
          "Rubber and articles thereof",
          "Rubber and articles thereof",
          "Salt",
          "Salt",
          "Rubber and articles thereof",
          "Plastics and articles thereof",
          "Railway, tramway locomotives, rolling-stock and parts thereof"
         ],
         "marker": {
          "colors": [
           "#E15759",
           "#4E79A7",
           "#4E79A7",
           "#FF9DA7",
           "#FF9DA7",
           "#FF9DA7",
           "#59A14F",
           "#E15759",
           "#F28E2B",
           "#4E79A7",
           "#4E79A7",
           "#4E79A7",
           "#FF9DA7",
           "#59A14F",
           "#F28E2B",
           "#76B7B2",
           "#F28E2B",
           "#76B7B2",
           "#FF9DA7",
           "#F28E2B",
           "#59A14F",
           "#F28E2B",
           "#FF9DA7",
           "#4E79A7",
           "#4E79A7",
           "#76B7B2",
           "#76B7B2",
           "#4E79A7",
           "#EDC949",
           "#E15759",
           "#F28E2B",
           "#59A14F",
           "#4E79A7",
           "#FF9DA7",
           "#EDC949",
           "#76B7B2",
           "#FF9DA7",
           "#E15759",
           "#4E79A7",
           "#EDC949",
           "#76B7B2",
           "#76B7B2",
           "#76B7B2",
           "#E15759",
           "#AF7AA1",
           "#76B7B2",
           "#F28E2B",
           "#4E79A7",
           "#76B7B2",
           "#F28E2B",
           "#FF9DA7",
           "#4E79A7",
           "#4E79A7",
           "#59A14F",
           "#AF7AA1",
           "#4E79A7",
           "#4E79A7",
           "#59A14F",
           "#F28E2B",
           "#76B7B2",
           "#F28E2B",
           "#76B7B2",
           "#F28E2B",
           "#4E79A7",
           "#E15759",
           "#FF9DA7",
           "#4E79A7",
           "#F28E2B",
           "#4E79A7",
           "#4E79A7",
           "#76B7B2",
           "#59A14F",
           "#FF9DA7",
           "#F28E2B",
           "#76B7B2",
           "#4E79A7",
           "#F28E2B",
           "#76B7B2",
           "#E15759",
           "#59A14F",
           "#F28E2B",
           "#4E79A7",
           "#FF9DA7",
           "#EDC949",
           "#4E79A7",
           "#59A14F",
           "#AF7AA1",
           "#4E79A7",
           "#FF9DA7",
           "#59A14F",
           "#4E79A7",
           "#FF9DA7",
           "#4E79A7",
           "#FF9DA7",
           "#F28E2B",
           "#76B7B2",
           "#4E79A7",
           "#AF7AA1",
           "#E15759",
           "#FF9DA7",
           "#AF7AA1",
           "#59A14F",
           "#E15759",
           "#F28E2B",
           "#76B7B2",
           "#76B7B2",
           "#AF7AA1",
           "#FF9DA7",
           "#E15759",
           "#76B7B2",
           "#F28E2B",
           "#4E79A7",
           "#76B7B2",
           "#FF9DA7",
           "#AF7AA1",
           "#FF9DA7",
           "#FF9DA7",
           "#F28E2B",
           "#4E79A7",
           "#FF9DA7",
           "#59A14F",
           "#F28E2B",
           "#76B7B2",
           "#F28E2B",
           "#76B7B2",
           "#EDC949",
           "#59A14F",
           "#76B7B2",
           "#F28E2B",
           "#59A14F",
           "#76B7B2",
           "#76B7B2",
           "#59A14F",
           "#F28E2B",
           "#59A14F",
           "#4E79A7",
           "#FF9DA7",
           "#4E79A7",
           "#59A14F",
           "#4E79A7",
           "#F28E2B",
           "#76B7B2",
           "#EDC949",
           "#4E79A7",
           "#FF9DA7",
           "#E15759",
           "#F28E2B"
          ],
          "line": {
           "width": 1
          }
         },
         "name": "",
         "parents": [
          "Electronic and Electrical Goods",
          "Agriculture",
          "Agriculture",
          "Textile and Home Goods",
          "Textile and Home Goods",
          "Textile and Home Goods",
          "Metalworking and Electrical Machinery and Parts",
          "Electronic and Electrical Goods",
          "Construction, Building, and Home Supplies",
          "Agriculture",
          "Agriculture",
          "Agriculture",
          "Textile and Home Goods",
          "Metalworking and Electrical Machinery and Parts",
          "Construction, Building, and Home Supplies",
          "Industrial Chemicals and Metals",
          "Construction, Building, and Home Supplies",
          "Industrial Chemicals and Metals",
          "Textile and Home Goods",
          "Construction, Building, and Home Supplies",
          "Metalworking and Electrical Machinery and Parts",
          "Construction, Building, and Home Supplies",
          "Textile and Home Goods",
          "Agriculture",
          "Agriculture",
          "Industrial Chemicals and Metals",
          "Industrial Chemicals and Metals",
          "Agriculture",
          "Minerals",
          "Electronic and Electrical Goods",
          "Construction, Building, and Home Supplies",
          "Metalworking and Electrical Machinery and Parts",
          "Agriculture",
          "Textile and Home Goods",
          "Minerals",
          "Industrial Chemicals and Metals",
          "Textile and Home Goods",
          "Electronic and Electrical Goods",
          "Agriculture",
          "Minerals",
          "Industrial Chemicals and Metals",
          "Industrial Chemicals and Metals",
          "Industrial Chemicals and Metals",
          "Electronic and Electrical Goods",
          "Textile Apparel and Accessories",
          "Industrial Chemicals and Metals",
          "Construction, Building, and Home Supplies",
          "Agriculture",
          "Industrial Chemicals and Metals",
          "Construction, Building, and Home Supplies",
          "Textile and Home Goods",
          "Agriculture",
          "Agriculture",
          "Metalworking and Electrical Machinery and Parts",
          "Textile Apparel and Accessories",
          "Agriculture",
          "Agriculture",
          "Metalworking and Electrical Machinery and Parts",
          "Construction, Building, and Home Supplies",
          "Industrial Chemicals and Metals",
          "Construction, Building, and Home Supplies",
          "Industrial Chemicals and Metals",
          "Construction, Building, and Home Supplies",
          "Agriculture",
          "Electronic and Electrical Goods",
          "Textile and Home Goods",
          "Agriculture",
          "Construction, Building, and Home Supplies",
          "Agriculture",
          "Agriculture",
          "Industrial Chemicals and Metals",
          "Metalworking and Electrical Machinery and Parts",
          "Textile and Home Goods",
          "Construction, Building, and Home Supplies",
          "Industrial Chemicals and Metals",
          "Agriculture",
          "Construction, Building, and Home Supplies",
          "Industrial Chemicals and Metals",
          "Electronic and Electrical Goods",
          "Metalworking and Electrical Machinery and Parts",
          "Construction, Building, and Home Supplies",
          "Agriculture",
          "Textile and Home Goods",
          "Minerals",
          "Agriculture",
          "Metalworking and Electrical Machinery and Parts",
          "Textile Apparel and Accessories",
          "Agriculture",
          "Textile and Home Goods",
          "Metalworking and Electrical Machinery and Parts",
          "",
          "Textile and Home Goods",
          "Agriculture",
          "Textile and Home Goods",
          "",
          "",
          "Agriculture",
          "Textile Apparel and Accessories",
          "Electronic and Electrical Goods",
          "",
          "",
          "Metalworking and Electrical Machinery and Parts",
          "Electronic and Electrical Goods",
          "Construction, Building, and Home Supplies",
          "Industrial Chemicals and Metals",
          "Industrial Chemicals and Metals",
          "Textile Apparel and Accessories",
          "Textile and Home Goods",
          "",
          "Industrial Chemicals and Metals",
          "Construction, Building, and Home Supplies",
          "Agriculture",
          "Industrial Chemicals and Metals",
          "Textile and Home Goods",
          "Textile Apparel and Accessories",
          "Textile and Home Goods",
          "Textile and Home Goods",
          "Construction, Building, and Home Supplies",
          "Agriculture",
          "Textile and Home Goods",
          "Metalworking and Electrical Machinery and Parts",
          "Construction, Building, and Home Supplies",
          "Industrial Chemicals and Metals",
          "Construction, Building, and Home Supplies",
          "Industrial Chemicals and Metals",
          "",
          "Metalworking and Electrical Machinery and Parts",
          "Industrial Chemicals and Metals",
          "Construction, Building, and Home Supplies",
          "",
          "Industrial Chemicals and Metals",
          "Industrial Chemicals and Metals",
          "Metalworking and Electrical Machinery and Parts",
          "Construction, Building, and Home Supplies",
          "Metalworking and Electrical Machinery and Parts",
          "Agriculture",
          "Textile and Home Goods",
          "Agriculture",
          "Metalworking and Electrical Machinery and Parts",
          "Agriculture",
          "Construction, Building, and Home Supplies",
          "Industrial Chemicals and Metals",
          "Minerals",
          "Agriculture",
          "Textile and Home Goods",
          "Electronic and Electrical Goods",
          "Construction, Building, and Home Supplies"
         ],
         "textfont": {
          "size": 15
         },
         "textinfo": "label+percent entry",
         "type": "treemap",
         "values": [
          0.000032443436802859244,
          0.00019637339359090185,
          0.0000035643797014397897,
          0.0008247181946811575,
          0.0007204507861918429,
          8.859502623762184e-7,
          0.017567479474126974,
          0.0025671375956141315,
          0.0018767241289420473,
          0.00018957720985045246,
          0.000005304058907904196,
          0.0001397629561148,
          0.0000028173329949596936,
          0.0031067485860198484,
          0.009879960650843908,
          0.000759994441264805,
          0.0030468683440572106,
          0.0005964134868589783,
          0.000006179835201809445,
          0.0002417005548981,
          4.36051336734116e-8,
          1.1139688911099948e-7,
          3.0499959352594944e-7,
          0.000008221837332734892,
          0.000026920449999664217,
          0.0002721887496617611,
          0.00006602427976379837,
          0.0000729971396062989,
          0.002887315872256332,
          0.006846671987756619,
          0.0000024672042357945026,
          0.0002945740191007372,
          0.000001591973779799475,
          0.000042466747445544446,
          0.000002248231322944067,
          0.00002939426994098916,
          0.000060809959609505546,
          5.770463334202691e-7,
          0.0013706535172763302,
          7.275309076985523,
          9.948974459519885e-8,
          0.000001496967971714204,
          0.0009578675338927912,
          0.0002377570232417,
          0.0011249802480887,
          0.0004919228756820033,
          0.0002946320833118406,
          0.00002192025117830844,
          0.00008362780465440915,
          0.000039465579618738486,
          7.613688554955966e-8,
          0.002999592335080065,
          0.0003653956785739268,
          3.747055331126196e-7,
          0.0006410594893475315,
          0.000012058010550296218,
          0.000010564436715003144,
          0.00008193571369777747,
          0.0001914677269553519,
          0.000005854257894214405,
          0.000014289527228504886,
          0.01351394131748666,
          0.000006752568290299961,
          0.000007494103159325792,
          0.00035445125707908755,
          0.00006804665423873558,
          0.0005918057698796158,
          0.0006643906030360973,
          0.003529328028827605,
          0.0076309100223831495,
          0.000011757246358836535,
          0.000001079059649367152,
          0.0000039229802026033445,
          0.000010796753582813474,
          0.000136669619524,
          0.00007225961411367548,
          0.001770933991182536,
          0.0000067138034821500245,
          0.0014897802402458551,
          0.000008305976089504426,
          0.0007865288694422722,
          0.000010776679502692476,
          0.000047389562957669064,
          0.07267802830490479,
          0.000002302659428239434,
          0.0015290146068650053,
          0.00017262906466057026,
          0.00012410309343407585,
          0.000010304391844072965,
          0.004534768288997942,
          0.34438378642106626,
          0.0007452492369193259,
          0.32303097512813816,
          4.721291592950658e-7,
          0.025406248591477793,
          0.40560058297909296,
          0.00005081640651158576,
          0.000004153509498150982,
          0.000007622819616629393,
          0.012330625839459404,
          0.002066503100929559,
          0.0012482524383571497,
          2.997644264900957e-7,
          0.004402541598738458,
          0.000006761072857602203,
          0.0417324483145247,
          0.0000017854311150115306,
          0.000002835623254281302,
          0.011691664595117793,
          1.3048433438396526e-7,
          7.494101283594139e-7,
          0.0007696056414716421,
          0.00012053743167,
          0.000007388587626804157,
          0.00012189535821959491,
          0.0000010358427921453425,
          0.0097811014597034,
          0.0000037853258839862902,
          0.002233307356682952,
          1.2842196743451305e-8,
          0.00003085310616398539,
          0.0000045700429091984,
          0.00011772142106584958,
          0.000007658403183900502,
          0.0000021398009034379417,
          7.365290904469648,
          0.12060331507580488,
          0.3465931036022998,
          0.0000011358493008101858,
          0.15063920987135493,
          0.00007567388838980384,
          0.000016826820991008536,
          0.001449396407452302,
          0.0003321478605130535,
          0.0001803709313378628,
          0.000021569959230489686,
          0.000003297800719305955,
          0.0001256280351297561,
          0.000002697877024813385,
          0.00000712620184277446,
          0.0001129650870542,
          0.0000012739978747170817,
          0.014414235075642398,
          0.0007512800930725666,
          8.587849787514418e-7,
          0.000154923424001,
          0.0017136050312512
         ],
         "visible": true
        },
        {
         "branchvalues": "total",
         "customdata": [
          [
           "Industrial Chemicals and Metals"
          ],
          [
           "Construction, Building, and Home Supplies"
          ],
          [
           "Metalworking and Electrical Machinery and Parts"
          ],
          [
           "Industrial Chemicals and Metals"
          ],
          [
           "Construction, Building, and Home Supplies"
          ],
          [
           "Industrial Chemicals and Metals"
          ],
          [
           "Construction, Building, and Home Supplies"
          ],
          [
           "Metalworking and Electrical Machinery and Parts"
          ],
          [
           "Textile and Home Goods"
          ],
          [
           "Metalworking and Electrical Machinery and Parts"
          ],
          [
           "Textile Apparel and Accessories"
          ],
          [
           "Metalworking and Electrical Machinery and Parts"
          ],
          [
           "Construction, Building, and Home Supplies"
          ],
          [
           "Agriculture"
          ],
          [
           "Textile Apparel and Accessories"
          ],
          [
           "Textile Apparel and Accessories"
          ],
          [
           "Agriculture"
          ],
          [
           "Textile and Home Goods"
          ],
          [
           "Construction, Building, and Home Supplies"
          ],
          [
           "Textile and Home Goods"
          ],
          [
           "Industrial Chemicals and Metals"
          ],
          [
           "Electronic and Electrical Goods"
          ],
          [
           "Minerals"
          ],
          [
           "Metalworking and Electrical Machinery and Parts"
          ],
          [
           "Construction, Building, and Home Supplies"
          ],
          [
           "Agriculture"
          ],
          [
           "Agriculture"
          ],
          [
           "Textile and Home Goods"
          ],
          [
           "Textile and Home Goods"
          ],
          [
           "Textile and Home Goods"
          ],
          [
           "Metalworking and Electrical Machinery and Parts"
          ],
          [
           "Electronic and Electrical Goods"
          ],
          [
           "Construction, Building, and Home Supplies"
          ],
          [
           "Agriculture"
          ],
          [
           "Agriculture"
          ],
          [
           "Construction, Building, and Home Supplies"
          ],
          [
           "Textile Apparel and Accessories"
          ],
          [
           "Industrial Chemicals and Metals"
          ],
          [
           "Textile and Home Goods"
          ],
          [
           "Agriculture"
          ],
          [
           "Agriculture"
          ],
          [
           "Industrial Chemicals and Metals"
          ],
          [
           "Textile Apparel and Accessories"
          ],
          [
           "Textile and Home Goods"
          ],
          [
           "Agriculture"
          ],
          [
           "Agriculture"
          ],
          [
           "Textile and Home Goods"
          ],
          [
           "Metalworking and Electrical Machinery and Parts"
          ],
          [
           "Industrial Chemicals and Metals"
          ],
          [
           "Construction, Building, and Home Supplies"
          ],
          [
           "Industrial Chemicals and Metals"
          ],
          [
           "Agriculture"
          ],
          [
           "Agriculture"
          ],
          [
           "Metalworking and Electrical Machinery and Parts"
          ],
          [
           "Industrial Chemicals and Metals"
          ],
          [
           "Construction, Building, and Home Supplies"
          ],
          [
           "Textile Apparel and Accessories"
          ],
          [
           "Metalworking and Electrical Machinery and Parts"
          ],
          [
           "Textile and Home Goods"
          ],
          [
           "Electronic and Electrical Goods"
          ],
          [
           "Construction, Building, and Home Supplies"
          ],
          [
           "Construction, Building, and Home Supplies"
          ],
          [
           "Textile and Home Goods"
          ],
          [
           "Minerals"
          ],
          [
           "Agriculture"
          ],
          [
           "Agriculture"
          ],
          [
           "Metalworking and Electrical Machinery and Parts"
          ],
          [
           "Electronic and Electrical Goods"
          ],
          [
           "Agriculture"
          ],
          [
           "Industrial Chemicals and Metals"
          ],
          [
           "Agriculture"
          ],
          [
           "Textile and Home Goods"
          ],
          [
           "Metalworking and Electrical Machinery and Parts"
          ],
          [
           "Agriculture"
          ],
          [
           "Textile Apparel and Accessories"
          ],
          [
           "Textile Apparel and Accessories"
          ],
          [
           "Electronic and Electrical Goods"
          ],
          [
           "Textile and Home Goods"
          ],
          [
           "Metalworking and Electrical Machinery and Parts"
          ],
          [
           "Textile and Home Goods"
          ],
          [
           "Industrial Chemicals and Metals"
          ],
          [
           "Minerals"
          ],
          [
           "Textile Apparel and Accessories"
          ],
          [
           "Agriculture"
          ],
          [
           "Agriculture"
          ],
          [
           "Textile and Home Goods"
          ],
          [
           "Textile Apparel and Accessories"
          ],
          [
           "Industrial Chemicals and Metals"
          ],
          [
           "Metalworking and Electrical Machinery and Parts"
          ],
          [
           "Minerals"
          ],
          [
           "Agriculture"
          ],
          [
           "Construction, Building, and Home Supplies"
          ],
          [
           "Industrial Chemicals and Metals"
          ],
          [
           "Textile and Home Goods"
          ],
          [
           "Agriculture"
          ],
          [
           "Agriculture"
          ],
          [
           "Textile and Home Goods"
          ],
          [
           "Textile and Home Goods"
          ],
          [
           "Electronic and Electrical Goods"
          ],
          [
           "Industrial Chemicals and Metals"
          ],
          [
           "Electronic and Electrical Goods"
          ],
          [
           "Construction, Building, and Home Supplies"
          ],
          [
           "Construction, Building, and Home Supplies"
          ],
          [
           "Agriculture"
          ],
          [
           "Industrial Chemicals and Metals"
          ],
          [
           "Metalworking and Electrical Machinery and Parts"
          ],
          [
           "Construction, Building, and Home Supplies"
          ],
          [
           "Metalworking and Electrical Machinery and Parts"
          ],
          [
           "Construction, Building, and Home Supplies"
          ],
          [
           "Textile and Home Goods"
          ],
          [
           "Construction, Building, and Home Supplies"
          ],
          [
           "Construction, Building, and Home Supplies"
          ],
          [
           "Metalworking and Electrical Machinery and Parts"
          ],
          [
           "Textile and Home Goods"
          ],
          [
           "Agriculture"
          ],
          [
           "Minerals"
          ],
          [
           "Construction, Building, and Home Supplies"
          ],
          [
           "Industrial Chemicals and Metals"
          ],
          [
           "Textile and Home Goods"
          ],
          [
           "Minerals"
          ],
          [
           "Industrial Chemicals and Metals"
          ],
          [
           "Textile and Home Goods"
          ],
          [
           "Industrial Chemicals and Metals"
          ],
          [
           "Industrial Chemicals and Metals"
          ],
          [
           "Electronic and Electrical Goods"
          ],
          [
           "Industrial Chemicals and Metals"
          ],
          [
           "Metalworking and Electrical Machinery and Parts"
          ],
          [
           "Minerals"
          ],
          [
           "Industrial Chemicals and Metals"
          ],
          [
           "Agriculture"
          ],
          [
           "Industrial Chemicals and Metals"
          ],
          [
           "Electronic and Electrical Goods"
          ],
          [
           "Construction, Building, and Home Supplies"
          ],
          [
           "Agriculture"
          ],
          [
           "Agriculture"
          ],
          [
           "Agriculture"
          ],
          [
           "Agriculture"
          ],
          [
           "Agriculture"
          ],
          [
           "Agriculture"
          ],
          [
           "Agriculture"
          ]
         ],
         "domain": {
          "x": [
           0,
           1
          ],
          "y": [
           0,
           1
          ]
         },
         "hovertemplate": "%{label}<br>%{value:.1f}%<br>Category: %{customdata[0]}<extra></extra>",
         "ids": [
          "Industrial Chemicals and Metals/Aircraft, spacecraft, and parts thereof",
          "Construction, Building, and Home Supplies/Iron or steel articles",
          "Metalworking and Electrical Machinery and Parts/Iron and steel",
          "Industrial Chemicals and Metals/Iron and steel",
          "Construction, Building, and Home Supplies/Iron and steel",
          "Industrial Chemicals and Metals/Inorganic chemicals",
          "Construction, Building, and Home Supplies/Inorganic chemicals",
          "Metalworking and Electrical Machinery and Parts/Iron or steel articles",
          "Textile and Home Goods/Headgear and parts thereof",
          "Metalworking and Electrical Machinery and Parts/Glass and glassware",
          "Textile Apparel and Accessories/Furniture",
          "Metalworking and Electrical Machinery and Parts/Furniture",
          "Construction, Building, and Home Supplies/Furniture",
          "Agriculture/Fruit and nuts, edible",
          "Textile Apparel and Accessories/Footwear",
          "Textile Apparel and Accessories/Headgear and parts thereof",
          "Agriculture/Food industries, residues and wastes thereof",
          "Textile and Home Goods/Iron or steel articles",
          "Construction, Building, and Home Supplies/Lead and articles thereof",
          "Textile and Home Goods/Natural, cultured pearls",
          "Industrial Chemicals and Metals/Natural, cultured pearls",
          "Electronic and Electrical Goods/Musical instruments",
          "Minerals/Mineral fuels, mineral oils and products of their distillation",
          "Metalworking and Electrical Machinery and Parts/Metal",
          "Construction, Building, and Home Supplies/Metal",
          "Agriculture/Lac",
          "Agriculture/Meat, fish, crustaceans, molluscs or other aquatic invertebrates, or insects",
          "Textile and Home Goods/Manufactures of straw, esparto or other plaiting materials",
          "Textile and Home Goods/Man-made staple fibres",
          "Textile and Home Goods/Machinery and mechanical appliances, boilers, nuclear reactors",
          "Metalworking and Electrical Machinery and Parts/Machinery and mechanical appliances, boilers, nuclear reactors",
          "Electronic and Electrical Goods/Machinery and mechanical appliances, boilers, nuclear reactors",
          "Construction, Building, and Home Supplies/Machinery and mechanical appliances, boilers, nuclear reactors",
          "Agriculture/Meat and edible meat offal",
          "Agriculture/Fish and crustaceans, molluscs and other aquatic invertebrates",
          "Construction, Building, and Home Supplies/Glass and glassware",
          "Textile Apparel and Accessories/Feathers and down, prepared",
          "Industrial Chemicals and Metals/Ceramic products",
          "Textile and Home Goods/Carpets and other textile floor coverings",
          "Agriculture/Beverages, spirits and vinegar",
          "Agriculture/Articles of leather",
          "Industrial Chemicals and Metals/Fertilizers",
          "Textile Apparel and Accessories/Apparel and clothing accessories",
          "Textile and Home Goods/Ceramic products",
          "Agriculture/Animals",
          "Agriculture/Animal originated products",
          "Textile and Home Goods/Aluminium and articles thereof",
          "Metalworking and Electrical Machinery and Parts/Aluminium and articles thereof",
          "Industrial Chemicals and Metals/Aluminium and articles thereof",
          "Construction, Building, and Home Supplies/Aluminium and articles thereof",
          "Industrial Chemicals and Metals/Albuminoidal substances",
          "Agriculture/Animal, vegetable or microbial fats and oils and their cleavage products",
          "Agriculture/Cereals",
          "Metalworking and Electrical Machinery and Parts/Arms and ammunition",
          "Industrial Chemicals and Metals/Chemical products n.e.c.",
          "Construction, Building, and Home Supplies/Essential oils and resinoids",
          "Textile Apparel and Accessories/Essential oils and resinoids",
          "Metalworking and Electrical Machinery and Parts/Electrical machinery and equipment and parts thereof",
          "Textile and Home Goods/Fabrics",
          "Electronic and Electrical Goods/Electrical machinery and equipment and parts thereof",
          "Construction, Building, and Home Supplies/Chemical products n.e.c.",
          "Construction, Building, and Home Supplies/Electrical machinery and equipment and parts thereof",
          "Textile and Home Goods/Cotton",
          "Minerals/Copper and articles thereof",
          "Agriculture/Coffee, tea, mate and spices",
          "Agriculture/Cocoa and cocoa preparations",
          "Metalworking and Electrical Machinery and Parts/Clocks and watches and parts thereof",
          "Electronic and Electrical Goods/Clocks and watches and parts thereof",
          "Agriculture/Dairy produce",
          "Industrial Chemicals and Metals/Essential oils and resinoids",
          "Agriculture/Trees and other plants, live",
          "Textile and Home Goods/Textiles, made up articles",
          "Metalworking and Electrical Machinery and Parts/Tools, implements, cutlery, spoons and forks, of base metal",
          "Agriculture/Tobacco and manufactured tobacco substitutes",
          "Textile Apparel and Accessories/Toys, games and sports requisites",
          "Textile Apparel and Accessories/Umbrellas, sun umbrellas, walking-sticks, seat sticks, whips, riding crops",
          "Electronic and Electrical Goods",
          "Textile and Home Goods/Vegetable textile fibres",
          "Metalworking and Electrical Machinery and Parts/Vehicles",
          "Textile and Home Goods/Vehicles",
          "Industrial Chemicals and Metals",
          "Minerals",
          "Textile Apparel and Accessories/Textiles, made up articles",
          "Agriculture/Vegetable plaiting materials",
          "Agriculture/Raw hides and skins (other than furskins) and leather",
          "Textile and Home Goods",
          "Textile Apparel and Accessories",
          "Industrial Chemicals and Metals/Soap, organic surface-active agents",
          "Metalworking and Electrical Machinery and Parts/Stone, plaster, cement, asbestos, mica or similar materials",
          "Minerals/Stone, plaster, cement, asbestos, mica or similar materials",
          "Agriculture/Sugars and sugar confectionery",
          "Construction, Building, and Home Supplies/Tanning or dyeing extracts",
          "Industrial Chemicals and Metals/Tanning or dyeing extracts",
          "Textile and Home Goods/Textile fabrics",
          "Agriculture",
          "Agriculture/Wood and articles of wood",
          "Textile and Home Goods/Wadding, felt and nonwovens, special yarns",
          "Textile and Home Goods/Tools, implements, cutlery, spoons and forks, of base metal",
          "Electronic and Electrical Goods/Toys, games and sports requisites",
          "Industrial Chemicals and Metals/Vehicles",
          "Electronic and Electrical Goods/Vehicles",
          "Construction, Building, and Home Supplies/Stone, plaster, cement, asbestos, mica or similar materials",
          "Construction, Building, and Home Supplies/Vehicles",
          "Agriculture/Vegetables and certain roots and tubers",
          "Industrial Chemicals and Metals/Ships, boats and floating structures",
          "Metalworking and Electrical Machinery and Parts",
          "Construction, Building, and Home Supplies/Railway, tramway locomotives, rolling-stock and parts thereof",
          "Metalworking and Electrical Machinery and Parts/Railway, tramway locomotives, rolling-stock and parts thereof",
          "Construction, Building, and Home Supplies/Soap, organic surface-active agents",
          "Textile and Home Goods/Raw hides and skins (other than furskins) and leather",
          "Construction, Building, and Home Supplies/Rubber and articles thereof",
          "Construction, Building, and Home Supplies",
          "Metalworking and Electrical Machinery and Parts/Rubber and articles thereof",
          "Textile and Home Goods/Rubber and articles thereof",
          "Agriculture/Salt",
          "Minerals/Salt",
          "Construction, Building, and Home Supplies/Ships, boats and floating structures",
          "Industrial Chemicals and Metals/Rubber and articles thereof",
          "Textile and Home Goods/Miscellaneous manufactured articles",
          "Minerals/Natural, cultured pearls",
          "Industrial Chemicals and Metals/Metals",
          "Textile and Home Goods/Metal",
          "Industrial Chemicals and Metals/Plastics and articles thereof",
          "Industrial Chemicals and Metals/Photographic or cinematographic goods",
          "Electronic and Electrical Goods/Optical, photographic, cinematographic, measuring, checking, medical or surgical instruments and apparatus...",
          "Industrial Chemicals and Metals/Optical, photographic, cinematographic, measuring, checking, medical or surgical instruments and apparatus...",
          "Metalworking and Electrical Machinery and Parts/Optical, photographic, cinematographic, measuring, checking, medical or surgical instruments and apparatus...",
          "Minerals/Ores, slag and ash",
          "Industrial Chemicals and Metals/Organic chemicals",
          "Agriculture/Paper and paperboard",
          "Industrial Chemicals and Metals/Pharmaceutical products",
          "Electronic and Electrical Goods/Plastics and articles thereof",
          "Construction, Building, and Home Supplies/Plastics and articles thereof",
          "Agriculture/Products of the milling industry",
          "Agriculture/Printed books, newspapers, pictures and other products of the printing industry",
          "Agriculture/Preparations of vegetables, fruit, nuts or other parts of plants",
          "Agriculture/Preparations of cereals, flour, starch or milk",
          "Agriculture/Oil seeds and oleaginous fruits",
          "Agriculture/Miscellaneous edible preparations",
          "Agriculture/Toys, games and sports requisites"
         ],
         "labels": [
          "Aircraft, spacecraft, and parts thereof",
          "Iron or steel articles",
          "Iron and steel",
          "Iron and steel",
          "Iron and steel",
          "Inorganic chemicals",
          "Inorganic chemicals",
          "Iron or steel articles",
          "Headgear and parts thereof",
          "Glass and glassware",
          "Furniture",
          "Furniture",
          "Furniture",
          "Fruit and nuts, edible",
          "Footwear",
          "Headgear and parts thereof",
          "Food industries, residues and wastes thereof",
          "Iron or steel articles",
          "Lead and articles thereof",
          "Natural, cultured pearls",
          "Natural, cultured pearls",
          "Musical instruments",
          "Mineral fuels, mineral oils and products of their distillation",
          "Metal",
          "Metal",
          "Lac",
          "Meat, fish, crustaceans, molluscs or other aquatic invertebrates, or insects",
          "Manufactures of straw, esparto or other plaiting materials",
          "Man-made staple fibres",
          "Machinery and mechanical appliances, boilers, nuclear reactors",
          "Machinery and mechanical appliances, boilers, nuclear reactors",
          "Machinery and mechanical appliances, boilers, nuclear reactors",
          "Machinery and mechanical appliances, boilers, nuclear reactors",
          "Meat and edible meat offal",
          "Fish and crustaceans, molluscs and other aquatic invertebrates",
          "Glass and glassware",
          "Feathers and down, prepared",
          "Ceramic products",
          "Carpets and other textile floor coverings",
          "Beverages, spirits and vinegar",
          "Articles of leather",
          "Fertilizers",
          "Apparel and clothing accessories",
          "Ceramic products",
          "Animals",
          "Animal originated products",
          "Aluminium and articles thereof",
          "Aluminium and articles thereof",
          "Aluminium and articles thereof",
          "Aluminium and articles thereof",
          "Albuminoidal substances",
          "Animal, vegetable or microbial fats and oils and their cleavage products",
          "Cereals",
          "Arms and ammunition",
          "Chemical products n.e.c.",
          "Essential oils and resinoids",
          "Essential oils and resinoids",
          "Electrical machinery and equipment and parts thereof",
          "Fabrics",
          "Electrical machinery and equipment and parts thereof",
          "Chemical products n.e.c.",
          "Electrical machinery and equipment and parts thereof",
          "Cotton",
          "Copper and articles thereof",
          "Coffee, tea, mate and spices",
          "Cocoa and cocoa preparations",
          "Clocks and watches and parts thereof",
          "Clocks and watches and parts thereof",
          "Dairy produce",
          "Essential oils and resinoids",
          "Trees and other plants, live",
          "Textiles, made up articles",
          "Tools, implements, cutlery, spoons and forks, of base metal",
          "Tobacco and manufactured tobacco substitutes",
          "Toys, games and sports requisites",
          "Umbrellas, sun umbrellas, walking-sticks, seat sticks, whips, riding crops",
          "Electronic and Electrical Goods",
          "Vegetable textile fibres",
          "Vehicles",
          "Vehicles",
          "Industrial Chemicals and Metals",
          "Minerals",
          "Textiles, made up articles",
          "Vegetable plaiting materials",
          "Raw hides and skins (other than furskins) and leather",
          "Textile and Home Goods",
          "Textile Apparel and Accessories",
          "Soap, organic surface-active agents",
          "Stone, plaster, cement, asbestos, mica or similar materials",
          "Stone, plaster, cement, asbestos, mica or similar materials",
          "Sugars and sugar confectionery",
          "Tanning or dyeing extracts",
          "Tanning or dyeing extracts",
          "Textile fabrics",
          "Agriculture",
          "Wood and articles of wood",
          "Wadding, felt and nonwovens, special yarns",
          "Tools, implements, cutlery, spoons and forks, of base metal",
          "Toys, games and sports requisites",
          "Vehicles",
          "Vehicles",
          "Stone, plaster, cement, asbestos, mica or similar materials",
          "Vehicles",
          "Vegetables and certain roots and tubers",
          "Ships, boats and floating structures",
          "Metalworking and Electrical Machinery and Parts",
          "Railway, tramway locomotives, rolling-stock and parts thereof",
          "Railway, tramway locomotives, rolling-stock and parts thereof",
          "Soap, organic surface-active agents",
          "Raw hides and skins (other than furskins) and leather",
          "Rubber and articles thereof",
          "Construction, Building, and Home Supplies",
          "Rubber and articles thereof",
          "Rubber and articles thereof",
          "Salt",
          "Salt",
          "Ships, boats and floating structures",
          "Rubber and articles thereof",
          "Miscellaneous manufactured articles",
          "Natural, cultured pearls",
          "Metals",
          "Metal",
          "Plastics and articles thereof",
          "Photographic or cinematographic goods",
          "Optical, photographic, cinematographic, measuring, checking, medical or surgical instruments and apparatus...",
          "Optical, photographic, cinematographic, measuring, checking, medical or surgical instruments and apparatus...",
          "Optical, photographic, cinematographic, measuring, checking, medical or surgical instruments and apparatus...",
          "Ores, slag and ash",
          "Organic chemicals",
          "Paper and paperboard",
          "Pharmaceutical products",
          "Plastics and articles thereof",
          "Plastics and articles thereof",
          "Products of the milling industry",
          "Printed books, newspapers, pictures and other products of the printing industry",
          "Preparations of vegetables, fruit, nuts or other parts of plants",
          "Preparations of cereals, flour, starch or milk",
          "Oil seeds and oleaginous fruits",
          "Miscellaneous edible preparations",
          "Toys, games and sports requisites"
         ],
         "marker": {
          "colors": [
           "#76B7B2",
           "#F28E2B",
           "#59A14F",
           "#76B7B2",
           "#F28E2B",
           "#76B7B2",
           "#F28E2B",
           "#59A14F",
           "#FF9DA7",
           "#59A14F",
           "#AF7AA1",
           "#59A14F",
           "#F28E2B",
           "#4E79A7",
           "#AF7AA1",
           "#AF7AA1",
           "#4E79A7",
           "#FF9DA7",
           "#F28E2B",
           "#FF9DA7",
           "#76B7B2",
           "#E15759",
           "#EDC949",
           "#59A14F",
           "#F28E2B",
           "#4E79A7",
           "#4E79A7",
           "#FF9DA7",
           "#FF9DA7",
           "#FF9DA7",
           "#59A14F",
           "#E15759",
           "#F28E2B",
           "#4E79A7",
           "#4E79A7",
           "#F28E2B",
           "#AF7AA1",
           "#76B7B2",
           "#FF9DA7",
           "#4E79A7",
           "#4E79A7",
           "#76B7B2",
           "#AF7AA1",
           "#FF9DA7",
           "#4E79A7",
           "#4E79A7",
           "#FF9DA7",
           "#59A14F",
           "#76B7B2",
           "#F28E2B",
           "#76B7B2",
           "#4E79A7",
           "#4E79A7",
           "#59A14F",
           "#76B7B2",
           "#F28E2B",
           "#AF7AA1",
           "#59A14F",
           "#FF9DA7",
           "#E15759",
           "#F28E2B",
           "#F28E2B",
           "#FF9DA7",
           "#EDC949",
           "#4E79A7",
           "#4E79A7",
           "#59A14F",
           "#E15759",
           "#4E79A7",
           "#76B7B2",
           "#4E79A7",
           "#FF9DA7",
           "#59A14F",
           "#4E79A7",
           "#AF7AA1",
           "#AF7AA1",
           "#E15759",
           "#FF9DA7",
           "#59A14F",
           "#FF9DA7",
           "#76B7B2",
           "#EDC949",
           "#AF7AA1",
           "#4E79A7",
           "#4E79A7",
           "#FF9DA7",
           "#AF7AA1",
           "#76B7B2",
           "#59A14F",
           "#EDC949",
           "#4E79A7",
           "#F28E2B",
           "#76B7B2",
           "#FF9DA7",
           "#4E79A7",
           "#4E79A7",
           "#FF9DA7",
           "#FF9DA7",
           "#E15759",
           "#76B7B2",
           "#E15759",
           "#F28E2B",
           "#F28E2B",
           "#4E79A7",
           "#76B7B2",
           "#59A14F",
           "#F28E2B",
           "#59A14F",
           "#F28E2B",
           "#FF9DA7",
           "#F28E2B",
           "#F28E2B",
           "#59A14F",
           "#FF9DA7",
           "#4E79A7",
           "#EDC949",
           "#F28E2B",
           "#76B7B2",
           "#FF9DA7",
           "#EDC949",
           "#76B7B2",
           "#FF9DA7",
           "#76B7B2",
           "#76B7B2",
           "#E15759",
           "#76B7B2",
           "#59A14F",
           "#EDC949",
           "#76B7B2",
           "#4E79A7",
           "#76B7B2",
           "#E15759",
           "#F28E2B",
           "#4E79A7",
           "#4E79A7",
           "#4E79A7",
           "#4E79A7",
           "#4E79A7",
           "#4E79A7",
           "#4E79A7"
          ],
          "line": {
           "width": 1
          }
         },
         "name": "",
         "parents": [
          "Industrial Chemicals and Metals",
          "Construction, Building, and Home Supplies",
          "Metalworking and Electrical Machinery and Parts",
          "Industrial Chemicals and Metals",
          "Construction, Building, and Home Supplies",
          "Industrial Chemicals and Metals",
          "Construction, Building, and Home Supplies",
          "Metalworking and Electrical Machinery and Parts",
          "Textile and Home Goods",
          "Metalworking and Electrical Machinery and Parts",
          "Textile Apparel and Accessories",
          "Metalworking and Electrical Machinery and Parts",
          "Construction, Building, and Home Supplies",
          "Agriculture",
          "Textile Apparel and Accessories",
          "Textile Apparel and Accessories",
          "Agriculture",
          "Textile and Home Goods",
          "Construction, Building, and Home Supplies",
          "Textile and Home Goods",
          "Industrial Chemicals and Metals",
          "Electronic and Electrical Goods",
          "Minerals",
          "Metalworking and Electrical Machinery and Parts",
          "Construction, Building, and Home Supplies",
          "Agriculture",
          "Agriculture",
          "Textile and Home Goods",
          "Textile and Home Goods",
          "Textile and Home Goods",
          "Metalworking and Electrical Machinery and Parts",
          "Electronic and Electrical Goods",
          "Construction, Building, and Home Supplies",
          "Agriculture",
          "Agriculture",
          "Construction, Building, and Home Supplies",
          "Textile Apparel and Accessories",
          "Industrial Chemicals and Metals",
          "Textile and Home Goods",
          "Agriculture",
          "Agriculture",
          "Industrial Chemicals and Metals",
          "Textile Apparel and Accessories",
          "Textile and Home Goods",
          "Agriculture",
          "Agriculture",
          "Textile and Home Goods",
          "Metalworking and Electrical Machinery and Parts",
          "Industrial Chemicals and Metals",
          "Construction, Building, and Home Supplies",
          "Industrial Chemicals and Metals",
          "Agriculture",
          "Agriculture",
          "Metalworking and Electrical Machinery and Parts",
          "Industrial Chemicals and Metals",
          "Construction, Building, and Home Supplies",
          "Textile Apparel and Accessories",
          "Metalworking and Electrical Machinery and Parts",
          "Textile and Home Goods",
          "Electronic and Electrical Goods",
          "Construction, Building, and Home Supplies",
          "Construction, Building, and Home Supplies",
          "Textile and Home Goods",
          "Minerals",
          "Agriculture",
          "Agriculture",
          "Metalworking and Electrical Machinery and Parts",
          "Electronic and Electrical Goods",
          "Agriculture",
          "Industrial Chemicals and Metals",
          "Agriculture",
          "Textile and Home Goods",
          "Metalworking and Electrical Machinery and Parts",
          "Agriculture",
          "Textile Apparel and Accessories",
          "Textile Apparel and Accessories",
          "",
          "Textile and Home Goods",
          "Metalworking and Electrical Machinery and Parts",
          "Textile and Home Goods",
          "",
          "",
          "Textile Apparel and Accessories",
          "Agriculture",
          "Agriculture",
          "",
          "",
          "Industrial Chemicals and Metals",
          "Metalworking and Electrical Machinery and Parts",
          "Minerals",
          "Agriculture",
          "Construction, Building, and Home Supplies",
          "Industrial Chemicals and Metals",
          "Textile and Home Goods",
          "",
          "Agriculture",
          "Textile and Home Goods",
          "Textile and Home Goods",
          "Electronic and Electrical Goods",
          "Industrial Chemicals and Metals",
          "Electronic and Electrical Goods",
          "Construction, Building, and Home Supplies",
          "Construction, Building, and Home Supplies",
          "Agriculture",
          "Industrial Chemicals and Metals",
          "",
          "Construction, Building, and Home Supplies",
          "Metalworking and Electrical Machinery and Parts",
          "Construction, Building, and Home Supplies",
          "Textile and Home Goods",
          "Construction, Building, and Home Supplies",
          "",
          "Metalworking and Electrical Machinery and Parts",
          "Textile and Home Goods",
          "Agriculture",
          "Minerals",
          "Construction, Building, and Home Supplies",
          "Industrial Chemicals and Metals",
          "Textile and Home Goods",
          "Minerals",
          "Industrial Chemicals and Metals",
          "Textile and Home Goods",
          "Industrial Chemicals and Metals",
          "Industrial Chemicals and Metals",
          "Electronic and Electrical Goods",
          "Industrial Chemicals and Metals",
          "Metalworking and Electrical Machinery and Parts",
          "Minerals",
          "Industrial Chemicals and Metals",
          "Agriculture",
          "Industrial Chemicals and Metals",
          "Electronic and Electrical Goods",
          "Construction, Building, and Home Supplies",
          "Agriculture",
          "Agriculture",
          "Agriculture",
          "Agriculture",
          "Agriculture",
          "Agriculture",
          "Agriculture"
         ],
         "textfont": {
          "size": 15
         },
         "textinfo": "label+percent entry",
         "type": "treemap",
         "values": [
          0.0031503648446577375,
          0.0003404903711657348,
          0.0000015836727293812843,
          0.0015359680575743,
          0.000026898261969973382,
          2.0183758678070314,
          0.0012901633924468,
          0.00033652856800738803,
          1.057753213551938e-7,
          0.000006306807228678314,
          0.00004148810040074441,
          5.298941911962307e-7,
          0.0008392506488535673,
          0.00001369917257902608,
          0.00004333778845489863,
          9.985645013282317e-8,
          0.003914359945800081,
          0.000045689449496769256,
          0.0009491499894539,
          0.0000022195654539990887,
          0.1295625937258296,
          0.00000787955382119688,
          0.08579380929734814,
          0.000007917905968383759,
          0.00009777202739276145,
          0.0030892245912134,
          0.000007386589034730813,
          3.083196385468957e-7,
          0.000057331567198376615,
          4.72250143986507e-7,
          0.009072138968086936,
          0.0007177286794033762,
          0.0009751702702073455,
          0.000017178570382319545,
          0.0004801739538202136,
          0.00011229168157237498,
          0.0000034747516159957915,
          7.957303835965657e-7,
          0.000014406469718239858,
          0.000027682346873619357,
          0.000014833507226528684,
          0.000014412885658349544,
          0.00014514622529461746,
          0.00009092157123269558,
          0.00007166647962989101,
          1.398695576960019e-7,
          0.000002053062382601157,
          0.0000066536056262984825,
          0.0038009978723343,
          0.000013712136698326798,
          0.000010410682991631975,
          0.00019698343967120878,
          0.0000023897852876619953,
          0.0021024187214719,
          1.871886400369127e-8,
          0.0003951287281597592,
          0.0001698073846575,
          0.0007870517802844692,
          0.00000196630885591117,
          0.0021702179460726598,
          7.123991293024639e-7,
          0.0000856621669303231,
          0.000035417334305068007,
          11.943604793094526,
          0.006691926692611837,
          0.08784723587388227,
          5.050595041468923e-8,
          0.0000010011333158232517,
          0.00004661442810759227,
          0.000023479318997767546,
          0.00008532725785776807,
          0.00002195491938853423,
          0.0012900011829250686,
          0.007262161105840961,
          8.33286282697914e-7,
          2.107534567590304e-7,
          0.004009148006762624,
          4.713863695615659e-7,
          0.002440624164500697,
          0.0000029840874143987588,
          2.322780508942601,
          12.160406296911166,
          0.0025581846928087078,
          0.00001344520789224019,
          0.00004255249370433825,
          0.009069973525932598,
          0.0029625828394220536,
          0.000010549249853696877,
          0.000002069093323150037,
          0.000001825909404023972,
          0.00006999597553095625,
          0.000004294506370568787,
          6.272052734796618e-7,
          0.0000013150295045663472,
          0.1718945702790318,
          0.04023802466306369,
          0.0000075602123834731015,
          0.000006593261463378221,
          0.00004604398059811759,
          0.0108993001800809,
          0.000003216882593779903,
          0.00000794528789901414,
          0.001240072977553879,
          0.0007242816595296569,
          0.0002768684900472,
          0.01788198359781362,
          0.0001453911939724,
          0.0004136159627513,
          0.000014866183409741902,
          1.8682287236511362e-8,
          0.00003854648611596814,
          0.006790401174004231,
          0.00016120728915586837,
          0.008764931720003725,
          0.0004209481302458509,
          0.0001649653287715524,
          1.398311051971717e-7,
          0.00002434001722280225,
          0.000002452399085879062,
          0.000012364190916896,
          0.1528597294003154,
          0.00001080015428429538,
          0.00006467349600038075,
          4.2856529171795973e-7,
          0.0009856652935968594,
          0.0000026736735214643573,
          0.0012532854756124889,
          0.1308285390901992,
          0.002058609066460038,
          0.000164640205391069,
          0.0001077999542110379,
          0.0000773945373608106,
          0.00021274263359729296,
          0.00003730287134252184,
          0.005141856187656601,
          0.0000060487975265886575,
          0.0000012951673821218272,
          0.013122449521390658,
          0.002142326196269323,
          4.195927293689786e-7
         ],
         "visible": false
        },
        {
         "branchvalues": "total",
         "customdata": [
          [
           "Electronic and Electrical Goods"
          ],
          [
           "Electronic and Electrical Goods"
          ],
          [
           "Industrial Chemicals and Metals"
          ],
          [
           "Metalworking and Electrical Machinery and Parts"
          ],
          [
           "Agriculture"
          ],
          [
           "Agriculture"
          ],
          [
           "Agriculture"
          ],
          [
           "Textile and Home Goods"
          ],
          [
           "Construction, Building, and Home Supplies"
          ],
          [
           "Agriculture"
          ],
          [
           "Construction, Building, and Home Supplies"
          ],
          [
           "Industrial Chemicals and Metals"
          ],
          [
           "Metalworking and Electrical Machinery and Parts"
          ],
          [
           "Agriculture"
          ],
          [
           "Textile and Home Goods"
          ],
          [
           "Construction, Building, and Home Supplies"
          ],
          [
           "Industrial Chemicals and Metals"
          ],
          [
           "Agriculture"
          ],
          [
           "Industrial Chemicals and Metals"
          ],
          [
           "Industrial Chemicals and Metals"
          ],
          [
           "Agriculture"
          ],
          [
           "Industrial Chemicals and Metals"
          ],
          [
           "Minerals"
          ],
          [
           "Agriculture"
          ],
          [
           "Electronic and Electrical Goods"
          ],
          [
           "Textile and Home Goods"
          ],
          [
           "Electronic and Electrical Goods"
          ],
          [
           "Metalworking and Electrical Machinery and Parts"
          ],
          [
           "Electronic and Electrical Goods"
          ],
          [
           "Minerals"
          ],
          [
           "Textile and Home Goods"
          ],
          [
           "Agriculture"
          ],
          [
           "Construction, Building, and Home Supplies"
          ],
          [
           "Electronic and Electrical Goods"
          ],
          [
           "Industrial Chemicals and Metals"
          ],
          [
           "Metalworking and Electrical Machinery and Parts"
          ],
          [
           "Minerals"
          ],
          [
           "Industrial Chemicals and Metals"
          ],
          [
           "Metalworking and Electrical Machinery and Parts"
          ],
          [
           "Metalworking and Electrical Machinery and Parts"
          ],
          [
           "Textile and Home Goods"
          ],
          [
           "Minerals"
          ],
          [
           "Textile Apparel and Accessories"
          ],
          [
           "Agriculture"
          ],
          [
           "Textile and Home Goods"
          ],
          [
           "Agriculture"
          ],
          [
           "Construction, Building, and Home Supplies"
          ],
          [
           "Electronic and Electrical Goods"
          ],
          [
           "Metalworking and Electrical Machinery and Parts"
          ],
          [
           "Agriculture"
          ],
          [
           "Textile and Home Goods"
          ],
          [
           "Textile and Home Goods"
          ],
          [
           "Agriculture"
          ],
          [
           "Textile and Home Goods"
          ],
          [
           "Agriculture"
          ],
          [
           "Electronic and Electrical Goods"
          ],
          [
           "Metalworking and Electrical Machinery and Parts"
          ],
          [
           "Minerals"
          ],
          [
           "Textile Apparel and Accessories"
          ],
          [
           "Textile Apparel and Accessories"
          ],
          [
           "Electronic and Electrical Goods"
          ],
          [
           "Agriculture"
          ],
          [
           "Construction, Building, and Home Supplies"
          ],
          [
           "Metalworking and Electrical Machinery and Parts"
          ],
          [
           "Construction, Building, and Home Supplies"
          ],
          [
           "Industrial Chemicals and Metals"
          ],
          [
           "Construction, Building, and Home Supplies"
          ],
          [
           "Metalworking and Electrical Machinery and Parts"
          ],
          [
           "Minerals"
          ],
          [
           "Textile and Home Goods"
          ],
          [
           "Agriculture"
          ],
          [
           "Construction, Building, and Home Supplies"
          ],
          [
           "Industrial Chemicals and Metals"
          ],
          [
           "Textile and Home Goods"
          ],
          [
           "Textile Apparel and Accessories"
          ],
          [
           "Textile and Home Goods"
          ],
          [
           "Agriculture"
          ],
          [
           "Metalworking and Electrical Machinery and Parts"
          ],
          [
           "Textile and Home Goods"
          ],
          [
           "Agriculture"
          ],
          [
           "Electronic and Electrical Goods"
          ],
          [
           "Textile and Home Goods"
          ],
          [
           "Agriculture"
          ],
          [
           "Metalworking and Electrical Machinery and Parts"
          ],
          [
           "Electronic and Electrical Goods"
          ],
          [
           "Metalworking and Electrical Machinery and Parts"
          ],
          [
           "Agriculture"
          ],
          [
           "Agriculture"
          ],
          [
           "Minerals"
          ],
          [
           "Textile and Home Goods"
          ],
          [
           "Industrial Chemicals and Metals"
          ],
          [
           "Agriculture"
          ],
          [
           "Electronic and Electrical Goods"
          ],
          [
           "Industrial Chemicals and Metals"
          ],
          [
           "Metalworking and Electrical Machinery and Parts"
          ],
          [
           "Construction, Building, and Home Supplies"
          ],
          [
           "Industrial Chemicals and Metals"
          ],
          [
           "Textile Apparel and Accessories"
          ],
          [
           "Construction, Building, and Home Supplies"
          ],
          [
           "Construction, Building, and Home Supplies"
          ],
          [
           "Construction, Building, and Home Supplies"
          ],
          [
           "Agriculture"
          ],
          [
           "Textile and Home Goods"
          ],
          [
           "Industrial Chemicals and Metals"
          ],
          [
           "Construction, Building, and Home Supplies"
          ],
          [
           "Industrial Chemicals and Metals"
          ],
          [
           "Construction, Building, and Home Supplies"
          ],
          [
           "Industrial Chemicals and Metals"
          ],
          [
           "Metalworking and Electrical Machinery and Parts"
          ],
          [
           "Textile and Home Goods"
          ],
          [
           "Agriculture"
          ],
          [
           "Agriculture"
          ],
          [
           "Agriculture"
          ],
          [
           "Textile Apparel and Accessories"
          ],
          [
           "Metalworking and Electrical Machinery and Parts"
          ],
          [
           "Agriculture"
          ],
          [
           "Agriculture"
          ],
          [
           "Textile and Home Goods"
          ],
          [
           "Construction, Building, and Home Supplies"
          ],
          [
           "Metalworking and Electrical Machinery and Parts"
          ],
          [
           "Construction, Building, and Home Supplies"
          ],
          [
           "Textile and Home Goods"
          ],
          [
           "Metalworking and Electrical Machinery and Parts"
          ],
          [
           "Textile and Home Goods"
          ],
          [
           "Textile and Home Goods"
          ],
          [
           "Agriculture"
          ],
          [
           "Construction, Building, and Home Supplies"
          ],
          [
           "Agriculture"
          ],
          [
           "Construction, Building, and Home Supplies"
          ],
          [
           "Electronic and Electrical Goods"
          ],
          [
           "Industrial Chemicals and Metals"
          ],
          [
           "Textile Apparel and Accessories"
          ],
          [
           "Metalworking and Electrical Machinery and Parts"
          ],
          [
           "Textile and Home Goods"
          ],
          [
           "Construction, Building, and Home Supplies"
          ],
          [
           "Industrial Chemicals and Metals"
          ],
          [
           "Textile and Home Goods"
          ],
          [
           "Agriculture"
          ],
          [
           "Textile and Home Goods"
          ],
          [
           "Agriculture"
          ],
          [
           "Textile and Home Goods"
          ],
          [
           "Construction, Building, and Home Supplies"
          ],
          [
           "Metalworking and Electrical Machinery and Parts"
          ],
          [
           "Metalworking and Electrical Machinery and Parts"
          ],
          [
           "Construction, Building, and Home Supplies"
          ],
          [
           "Industrial Chemicals and Metals"
          ],
          [
           "Agriculture"
          ],
          [
           "Agriculture"
          ],
          [
           "Textile Apparel and Accessories"
          ],
          [
           "Agriculture"
          ],
          [
           "Minerals"
          ],
          [
           "Metalworking and Electrical Machinery and Parts"
          ],
          [
           "Construction, Building, and Home Supplies"
          ],
          [
           "Construction, Building, and Home Supplies"
          ],
          [
           "Metalworking and Electrical Machinery and Parts"
          ],
          [
           "Textile and Home Goods"
          ],
          [
           "Textile Apparel and Accessories"
          ],
          [
           "Textile and Home Goods"
          ],
          [
           "Industrial Chemicals and Metals"
          ],
          [
           "Construction, Building, and Home Supplies"
          ],
          [
           "Industrial Chemicals and Metals"
          ],
          [
           "Textile Apparel and Accessories"
          ],
          [
           "Industrial Chemicals and Metals"
          ],
          [
           "Construction, Building, and Home Supplies"
          ],
          [
           "Industrial Chemicals and Metals"
          ],
          [
           "Textile Apparel and Accessories"
          ],
          [
           "Textile and Home Goods"
          ]
         ],
         "domain": {
          "x": [
           0,
           1
          ],
          "y": [
           0,
           1
          ]
         },
         "hovertemplate": "%{label}<br>%{value:.1f}%<br>Category: %{customdata[0]}<extra></extra>",
         "ids": [
          "Electronic and Electrical Goods/Aircraft, spacecraft, and parts thereof",
          "Electronic and Electrical Goods/Plastics and articles thereof",
          "Industrial Chemicals and Metals/Plastics and articles thereof",
          "Metalworking and Electrical Machinery and Parts/Plastics and articles thereof",
          "Agriculture/Preparations of cereals, flour, starch or milk",
          "Agriculture/Preparations of vegetables, fruit, nuts or other parts of plants",
          "Agriculture/Printed books, newspapers, pictures and other products of the printing industry",
          "Textile and Home Goods/Printed books, newspapers, pictures and other products of the printing industry",
          "Construction, Building, and Home Supplies/Plastics and articles thereof",
          "Agriculture/Products of the milling industry",
          "Construction, Building, and Home Supplies/Railway, tramway locomotives, rolling-stock and parts thereof",
          "Industrial Chemicals and Metals/Railway, tramway locomotives, rolling-stock and parts thereof",
          "Metalworking and Electrical Machinery and Parts/Railway, tramway locomotives, rolling-stock and parts thereof",
          "Agriculture/Raw hides and skins (other than furskins) and leather",
          "Textile and Home Goods/Raw hides and skins (other than furskins) and leather",
          "Construction, Building, and Home Supplies/Rubber and articles thereof",
          "Industrial Chemicals and Metals/Rubber and articles thereof",
          "Agriculture/Pulp of wood or other fibrous cellulosic material",
          "Industrial Chemicals and Metals/Photographic or cinematographic goods",
          "Industrial Chemicals and Metals/Pharmaceutical products",
          "Agriculture/Paper and paperboard",
          "Industrial Chemicals and Metals/Metals",
          "Minerals/Mineral fuels, mineral oils and products of their distillation",
          "Agriculture/Miscellaneous edible preparations",
          "Electronic and Electrical Goods/Miscellaneous manufactured articles",
          "Textile and Home Goods/Miscellaneous manufactured articles",
          "Electronic and Electrical Goods/Musical instruments",
          "Metalworking and Electrical Machinery and Parts/Musical instruments",
          "Electronic and Electrical Goods/Natural, cultured pearls",
          "Minerals/Natural, cultured pearls",
          "Textile and Home Goods/Natural, cultured pearls",
          "Agriculture/Oil seeds and oleaginous fruits",
          "Construction, Building, and Home Supplies/Optical, photographic, cinematographic, measuring, checking, medical or surgical instruments and apparatus...",
          "Electronic and Electrical Goods/Optical, photographic, cinematographic, measuring, checking, medical or surgical instruments and apparatus...",
          "Industrial Chemicals and Metals/Optical, photographic, cinematographic, measuring, checking, medical or surgical instruments and apparatus...",
          "Metalworking and Electrical Machinery and Parts/Optical, photographic, cinematographic, measuring, checking, medical or surgical instruments and apparatus...",
          "Minerals/Ores, slag and ash",
          "Industrial Chemicals and Metals/Organic chemicals",
          "Metalworking and Electrical Machinery and Parts/Rubber and articles thereof",
          "Metalworking and Electrical Machinery and Parts/Metal",
          "Textile and Home Goods/Rubber and articles thereof",
          "Minerals/Salt",
          "Textile Apparel and Accessories/Umbrellas, sun umbrellas, walking-sticks, seat sticks, whips, riding crops",
          "Agriculture/Vegetable plaiting materials",
          "Textile and Home Goods/Vegetable textile fibres",
          "Agriculture/Vegetables and certain roots and tubers",
          "Construction, Building, and Home Supplies/Vehicles",
          "Electronic and Electrical Goods/Vehicles",
          "Metalworking and Electrical Machinery and Parts/Vehicles",
          "Agriculture/Trees and other plants, live",
          "Textile and Home Goods/Vehicles",
          "Textile and Home Goods/Wadding, felt and nonwovens, special yarns",
          "Agriculture/Wood and articles of wood",
          "Textile and Home Goods/Wood and articles of wood",
          "Agriculture",
          "Electronic and Electrical Goods",
          "Metalworking and Electrical Machinery and Parts",
          "Minerals",
          "Textile Apparel and Accessories/Wadding, felt and nonwovens, special yarns",
          "Textile Apparel and Accessories/Toys, games and sports requisites",
          "Electronic and Electrical Goods/Toys, games and sports requisites",
          "Agriculture/Toys, games and sports requisites",
          "Construction, Building, and Home Supplies/Ships, boats and floating structures",
          "Metalworking and Electrical Machinery and Parts/Ships, boats and floating structures",
          "Construction, Building, and Home Supplies/Soap, organic surface-active agents",
          "Industrial Chemicals and Metals/Soap, organic surface-active agents",
          "Construction, Building, and Home Supplies/Stone, plaster, cement, asbestos, mica or similar materials",
          "Metalworking and Electrical Machinery and Parts/Stone, plaster, cement, asbestos, mica or similar materials",
          "Minerals/Stone, plaster, cement, asbestos, mica or similar materials",
          "Textile and Home Goods/Stone, plaster, cement, asbestos, mica or similar materials",
          "Agriculture/Sugars and sugar confectionery",
          "Construction, Building, and Home Supplies/Tanning or dyeing extracts",
          "Industrial Chemicals and Metals/Tanning or dyeing extracts",
          "Textile and Home Goods/Textile fabrics",
          "Textile Apparel and Accessories/Textiles, made up articles",
          "Textile and Home Goods/Textiles, made up articles",
          "Agriculture/Tobacco and manufactured tobacco substitutes",
          "Metalworking and Electrical Machinery and Parts/Tools, implements, cutlery, spoons and forks, of base metal",
          "Textile and Home Goods/Tools, implements, cutlery, spoons and forks, of base metal",
          "Agriculture/Salt",
          "Electronic and Electrical Goods/Metal",
          "Textile and Home Goods/Metal",
          "Agriculture/Meat, fish, crustaceans, molluscs or other aquatic invertebrates, or insects",
          "Metalworking and Electrical Machinery and Parts/Chemical products n.e.c.",
          "Electronic and Electrical Goods/Clocks and watches and parts thereof",
          "Metalworking and Electrical Machinery and Parts/Clocks and watches and parts thereof",
          "Agriculture/Cocoa and cocoa preparations",
          "Agriculture/Coffee, tea, mate and spices",
          "Minerals/Copper and articles thereof",
          "Textile and Home Goods/Cotton",
          "Industrial Chemicals and Metals/Chemical products n.e.c.",
          "Agriculture/Dairy produce",
          "Electronic and Electrical Goods/Electrical machinery and equipment and parts thereof",
          "Industrial Chemicals and Metals/Electrical machinery and equipment and parts thereof",
          "Metalworking and Electrical Machinery and Parts/Electrical machinery and equipment and parts thereof",
          "Construction, Building, and Home Supplies/Essential oils and resinoids",
          "Industrial Chemicals and Metals/Essential oils and resinoids",
          "Textile Apparel and Accessories/Essential oils and resinoids",
          "Construction, Building, and Home Supplies/Explosives",
          "Construction, Building, and Home Supplies/Electrical machinery and equipment and parts thereof",
          "Construction, Building, and Home Supplies/Chemical products n.e.c.",
          "Agriculture/Cereals",
          "Textile and Home Goods/Ceramic products",
          "Industrial Chemicals and Metals/Aircraft, spacecraft, and parts thereof",
          "Construction, Building, and Home Supplies/Albuminoidal substances",
          "Industrial Chemicals and Metals/Albuminoidal substances",
          "Construction, Building, and Home Supplies/Aluminium and articles thereof",
          "Industrial Chemicals and Metals/Aluminium and articles thereof",
          "Metalworking and Electrical Machinery and Parts/Aluminium and articles thereof",
          "Textile and Home Goods/Aluminium and articles thereof",
          "Agriculture/Animal originated products",
          "Agriculture/Animal, vegetable or microbial fats and oils and their cleavage products",
          "Agriculture/Animals",
          "Textile Apparel and Accessories/Apparel and clothing accessories",
          "Metalworking and Electrical Machinery and Parts/Arms and ammunition",
          "Agriculture/Articles of leather",
          "Agriculture/Beverages, spirits and vinegar",
          "Textile and Home Goods/Carpets and other textile floor coverings",
          "Construction, Building, and Home Supplies/Ceramic products",
          "Metalworking and Electrical Machinery and Parts/Ceramic products",
          "Construction, Building, and Home Supplies/Metal",
          "Textile and Home Goods/Fabrics",
          "Metalworking and Electrical Machinery and Parts/Explosives",
          "Textile and Home Goods/Feathers and down, prepared",
          "Textile and Home Goods/Iron or steel articles",
          "Agriculture/Lac",
          "Construction, Building, and Home Supplies/Lead and articles thereof",
          "Agriculture/Machinery and mechanical appliances, boilers, nuclear reactors",
          "Construction, Building, and Home Supplies/Machinery and mechanical appliances, boilers, nuclear reactors",
          "Electronic and Electrical Goods/Machinery and mechanical appliances, boilers, nuclear reactors",
          "Industrial Chemicals and Metals/Machinery and mechanical appliances, boilers, nuclear reactors",
          "Textile Apparel and Accessories/Feathers and down, prepared",
          "Metalworking and Electrical Machinery and Parts/Machinery and mechanical appliances, boilers, nuclear reactors",
          "Textile and Home Goods/Man-made filaments",
          "Construction, Building, and Home Supplies/Man-made staple fibres",
          "Industrial Chemicals and Metals/Man-made staple fibres",
          "Textile and Home Goods/Man-made staple fibres",
          "Agriculture/Manufactures of straw, esparto or other plaiting materials",
          "Textile and Home Goods/Manufactures of straw, esparto or other plaiting materials",
          "Agriculture/Meat and edible meat offal",
          "Textile and Home Goods/Machinery and mechanical appliances, boilers, nuclear reactors",
          "Construction, Building, and Home Supplies/Iron or steel articles",
          "Metalworking and Electrical Machinery and Parts/Iron or steel articles",
          "Metalworking and Electrical Machinery and Parts/Iron and steel",
          "Construction, Building, and Home Supplies/Fertilizers",
          "Industrial Chemicals and Metals/Fertilizers",
          "Agriculture/Fish and crustaceans, molluscs and other aquatic invertebrates",
          "Agriculture/Food industries, residues and wastes thereof",
          "Textile Apparel and Accessories/Footwear",
          "Agriculture/Fruit and nuts, edible",
          "Minerals/Iron and steel",
          "Metalworking and Electrical Machinery and Parts/Furniture",
          "Construction, Building, and Home Supplies/Furniture",
          "Construction, Building, and Home Supplies/Glass and glassware",
          "Metalworking and Electrical Machinery and Parts/Glass and glassware",
          "Textile and Home Goods/Glass and glassware",
          "Textile Apparel and Accessories/Headgear and parts thereof",
          "Textile and Home Goods/Headgear and parts thereof",
          "Industrial Chemicals and Metals/Inorganic chemicals",
          "Construction, Building, and Home Supplies/Iron and steel",
          "Industrial Chemicals and Metals/Iron and steel",
          "Textile Apparel and Accessories/Furniture",
          "Industrial Chemicals and Metals/Works of art",
          "Construction, Building, and Home Supplies",
          "Industrial Chemicals and Metals",
          "Textile Apparel and Accessories",
          "Textile and Home Goods"
         ],
         "labels": [
          "Aircraft, spacecraft, and parts thereof",
          "Plastics and articles thereof",
          "Plastics and articles thereof",
          "Plastics and articles thereof",
          "Preparations of cereals, flour, starch or milk",
          "Preparations of vegetables, fruit, nuts or other parts of plants",
          "Printed books, newspapers, pictures and other products of the printing industry",
          "Printed books, newspapers, pictures and other products of the printing industry",
          "Plastics and articles thereof",
          "Products of the milling industry",
          "Railway, tramway locomotives, rolling-stock and parts thereof",
          "Railway, tramway locomotives, rolling-stock and parts thereof",
          "Railway, tramway locomotives, rolling-stock and parts thereof",
          "Raw hides and skins (other than furskins) and leather",
          "Raw hides and skins (other than furskins) and leather",
          "Rubber and articles thereof",
          "Rubber and articles thereof",
          "Pulp of wood or other fibrous cellulosic material",
          "Photographic or cinematographic goods",
          "Pharmaceutical products",
          "Paper and paperboard",
          "Metals",
          "Mineral fuels, mineral oils and products of their distillation",
          "Miscellaneous edible preparations",
          "Miscellaneous manufactured articles",
          "Miscellaneous manufactured articles",
          "Musical instruments",
          "Musical instruments",
          "Natural, cultured pearls",
          "Natural, cultured pearls",
          "Natural, cultured pearls",
          "Oil seeds and oleaginous fruits",
          "Optical, photographic, cinematographic, measuring, checking, medical or surgical instruments and apparatus...",
          "Optical, photographic, cinematographic, measuring, checking, medical or surgical instruments and apparatus...",
          "Optical, photographic, cinematographic, measuring, checking, medical or surgical instruments and apparatus...",
          "Optical, photographic, cinematographic, measuring, checking, medical or surgical instruments and apparatus...",
          "Ores, slag and ash",
          "Organic chemicals",
          "Rubber and articles thereof",
          "Metal",
          "Rubber and articles thereof",
          "Salt",
          "Umbrellas, sun umbrellas, walking-sticks, seat sticks, whips, riding crops",
          "Vegetable plaiting materials",
          "Vegetable textile fibres",
          "Vegetables and certain roots and tubers",
          "Vehicles",
          "Vehicles",
          "Vehicles",
          "Trees and other plants, live",
          "Vehicles",
          "Wadding, felt and nonwovens, special yarns",
          "Wood and articles of wood",
          "Wood and articles of wood",
          "Agriculture",
          "Electronic and Electrical Goods",
          "Metalworking and Electrical Machinery and Parts",
          "Minerals",
          "Wadding, felt and nonwovens, special yarns",
          "Toys, games and sports requisites",
          "Toys, games and sports requisites",
          "Toys, games and sports requisites",
          "Ships, boats and floating structures",
          "Ships, boats and floating structures",
          "Soap, organic surface-active agents",
          "Soap, organic surface-active agents",
          "Stone, plaster, cement, asbestos, mica or similar materials",
          "Stone, plaster, cement, asbestos, mica or similar materials",
          "Stone, plaster, cement, asbestos, mica or similar materials",
          "Stone, plaster, cement, asbestos, mica or similar materials",
          "Sugars and sugar confectionery",
          "Tanning or dyeing extracts",
          "Tanning or dyeing extracts",
          "Textile fabrics",
          "Textiles, made up articles",
          "Textiles, made up articles",
          "Tobacco and manufactured tobacco substitutes",
          "Tools, implements, cutlery, spoons and forks, of base metal",
          "Tools, implements, cutlery, spoons and forks, of base metal",
          "Salt",
          "Metal",
          "Metal",
          "Meat, fish, crustaceans, molluscs or other aquatic invertebrates, or insects",
          "Chemical products n.e.c.",
          "Clocks and watches and parts thereof",
          "Clocks and watches and parts thereof",
          "Cocoa and cocoa preparations",
          "Coffee, tea, mate and spices",
          "Copper and articles thereof",
          "Cotton",
          "Chemical products n.e.c.",
          "Dairy produce",
          "Electrical machinery and equipment and parts thereof",
          "Electrical machinery and equipment and parts thereof",
          "Electrical machinery and equipment and parts thereof",
          "Essential oils and resinoids",
          "Essential oils and resinoids",
          "Essential oils and resinoids",
          "Explosives",
          "Electrical machinery and equipment and parts thereof",
          "Chemical products n.e.c.",
          "Cereals",
          "Ceramic products",
          "Aircraft, spacecraft, and parts thereof",
          "Albuminoidal substances",
          "Albuminoidal substances",
          "Aluminium and articles thereof",
          "Aluminium and articles thereof",
          "Aluminium and articles thereof",
          "Aluminium and articles thereof",
          "Animal originated products",
          "Animal, vegetable or microbial fats and oils and their cleavage products",
          "Animals",
          "Apparel and clothing accessories",
          "Arms and ammunition",
          "Articles of leather",
          "Beverages, spirits and vinegar",
          "Carpets and other textile floor coverings",
          "Ceramic products",
          "Ceramic products",
          "Metal",
          "Fabrics",
          "Explosives",
          "Feathers and down, prepared",
          "Iron or steel articles",
          "Lac",
          "Lead and articles thereof",
          "Machinery and mechanical appliances, boilers, nuclear reactors",
          "Machinery and mechanical appliances, boilers, nuclear reactors",
          "Machinery and mechanical appliances, boilers, nuclear reactors",
          "Machinery and mechanical appliances, boilers, nuclear reactors",
          "Feathers and down, prepared",
          "Machinery and mechanical appliances, boilers, nuclear reactors",
          "Man-made filaments",
          "Man-made staple fibres",
          "Man-made staple fibres",
          "Man-made staple fibres",
          "Manufactures of straw, esparto or other plaiting materials",
          "Manufactures of straw, esparto or other plaiting materials",
          "Meat and edible meat offal",
          "Machinery and mechanical appliances, boilers, nuclear reactors",
          "Iron or steel articles",
          "Iron or steel articles",
          "Iron and steel",
          "Fertilizers",
          "Fertilizers",
          "Fish and crustaceans, molluscs and other aquatic invertebrates",
          "Food industries, residues and wastes thereof",
          "Footwear",
          "Fruit and nuts, edible",
          "Iron and steel",
          "Furniture",
          "Furniture",
          "Glass and glassware",
          "Glass and glassware",
          "Glass and glassware",
          "Headgear and parts thereof",
          "Headgear and parts thereof",
          "Inorganic chemicals",
          "Iron and steel",
          "Iron and steel",
          "Furniture",
          "Works of art",
          "Construction, Building, and Home Supplies",
          "Industrial Chemicals and Metals",
          "Textile Apparel and Accessories",
          "Textile and Home Goods"
         ],
         "marker": {
          "colors": [
           "#E15759",
           "#E15759",
           "#76B7B2",
           "#59A14F",
           "#4E79A7",
           "#4E79A7",
           "#4E79A7",
           "#FF9DA7",
           "#F28E2B",
           "#4E79A7",
           "#F28E2B",
           "#76B7B2",
           "#59A14F",
           "#4E79A7",
           "#FF9DA7",
           "#F28E2B",
           "#76B7B2",
           "#4E79A7",
           "#76B7B2",
           "#76B7B2",
           "#4E79A7",
           "#76B7B2",
           "#EDC949",
           "#4E79A7",
           "#E15759",
           "#FF9DA7",
           "#E15759",
           "#59A14F",
           "#E15759",
           "#EDC949",
           "#FF9DA7",
           "#4E79A7",
           "#F28E2B",
           "#E15759",
           "#76B7B2",
           "#59A14F",
           "#EDC949",
           "#76B7B2",
           "#59A14F",
           "#59A14F",
           "#FF9DA7",
           "#EDC949",
           "#AF7AA1",
           "#4E79A7",
           "#FF9DA7",
           "#4E79A7",
           "#F28E2B",
           "#E15759",
           "#59A14F",
           "#4E79A7",
           "#FF9DA7",
           "#FF9DA7",
           "#4E79A7",
           "#FF9DA7",
           "#4E79A7",
           "#E15759",
           "#59A14F",
           "#EDC949",
           "#AF7AA1",
           "#AF7AA1",
           "#E15759",
           "#4E79A7",
           "#F28E2B",
           "#59A14F",
           "#F28E2B",
           "#76B7B2",
           "#F28E2B",
           "#59A14F",
           "#EDC949",
           "#FF9DA7",
           "#4E79A7",
           "#F28E2B",
           "#76B7B2",
           "#FF9DA7",
           "#AF7AA1",
           "#FF9DA7",
           "#4E79A7",
           "#59A14F",
           "#FF9DA7",
           "#4E79A7",
           "#E15759",
           "#FF9DA7",
           "#4E79A7",
           "#59A14F",
           "#E15759",
           "#59A14F",
           "#4E79A7",
           "#4E79A7",
           "#EDC949",
           "#FF9DA7",
           "#76B7B2",
           "#4E79A7",
           "#E15759",
           "#76B7B2",
           "#59A14F",
           "#F28E2B",
           "#76B7B2",
           "#AF7AA1",
           "#F28E2B",
           "#F28E2B",
           "#F28E2B",
           "#4E79A7",
           "#FF9DA7",
           "#76B7B2",
           "#F28E2B",
           "#76B7B2",
           "#F28E2B",
           "#76B7B2",
           "#59A14F",
           "#FF9DA7",
           "#4E79A7",
           "#4E79A7",
           "#4E79A7",
           "#AF7AA1",
           "#59A14F",
           "#4E79A7",
           "#4E79A7",
           "#FF9DA7",
           "#F28E2B",
           "#59A14F",
           "#F28E2B",
           "#FF9DA7",
           "#59A14F",
           "#FF9DA7",
           "#FF9DA7",
           "#4E79A7",
           "#F28E2B",
           "#4E79A7",
           "#F28E2B",
           "#E15759",
           "#76B7B2",
           "#AF7AA1",
           "#59A14F",
           "#FF9DA7",
           "#F28E2B",
           "#76B7B2",
           "#FF9DA7",
           "#4E79A7",
           "#FF9DA7",
           "#4E79A7",
           "#FF9DA7",
           "#F28E2B",
           "#59A14F",
           "#59A14F",
           "#F28E2B",
           "#76B7B2",
           "#4E79A7",
           "#4E79A7",
           "#AF7AA1",
           "#4E79A7",
           "#EDC949",
           "#59A14F",
           "#F28E2B",
           "#F28E2B",
           "#59A14F",
           "#FF9DA7",
           "#AF7AA1",
           "#FF9DA7",
           "#76B7B2",
           "#F28E2B",
           "#76B7B2",
           "#AF7AA1",
           "#76B7B2",
           "#F28E2B",
           "#76B7B2",
           "#AF7AA1",
           "#FF9DA7"
          ],
          "line": {
           "width": 1
          }
         },
         "name": "",
         "parents": [
          "Electronic and Electrical Goods",
          "Electronic and Electrical Goods",
          "Industrial Chemicals and Metals",
          "Metalworking and Electrical Machinery and Parts",
          "Agriculture",
          "Agriculture",
          "Agriculture",
          "Textile and Home Goods",
          "Construction, Building, and Home Supplies",
          "Agriculture",
          "Construction, Building, and Home Supplies",
          "Industrial Chemicals and Metals",
          "Metalworking and Electrical Machinery and Parts",
          "Agriculture",
          "Textile and Home Goods",
          "Construction, Building, and Home Supplies",
          "Industrial Chemicals and Metals",
          "Agriculture",
          "Industrial Chemicals and Metals",
          "Industrial Chemicals and Metals",
          "Agriculture",
          "Industrial Chemicals and Metals",
          "Minerals",
          "Agriculture",
          "Electronic and Electrical Goods",
          "Textile and Home Goods",
          "Electronic and Electrical Goods",
          "Metalworking and Electrical Machinery and Parts",
          "Electronic and Electrical Goods",
          "Minerals",
          "Textile and Home Goods",
          "Agriculture",
          "Construction, Building, and Home Supplies",
          "Electronic and Electrical Goods",
          "Industrial Chemicals and Metals",
          "Metalworking and Electrical Machinery and Parts",
          "Minerals",
          "Industrial Chemicals and Metals",
          "Metalworking and Electrical Machinery and Parts",
          "Metalworking and Electrical Machinery and Parts",
          "Textile and Home Goods",
          "Minerals",
          "Textile Apparel and Accessories",
          "Agriculture",
          "Textile and Home Goods",
          "Agriculture",
          "Construction, Building, and Home Supplies",
          "Electronic and Electrical Goods",
          "Metalworking and Electrical Machinery and Parts",
          "Agriculture",
          "Textile and Home Goods",
          "Textile and Home Goods",
          "Agriculture",
          "Textile and Home Goods",
          "",
          "",
          "",
          "",
          "Textile Apparel and Accessories",
          "Textile Apparel and Accessories",
          "Electronic and Electrical Goods",
          "Agriculture",
          "Construction, Building, and Home Supplies",
          "Metalworking and Electrical Machinery and Parts",
          "Construction, Building, and Home Supplies",
          "Industrial Chemicals and Metals",
          "Construction, Building, and Home Supplies",
          "Metalworking and Electrical Machinery and Parts",
          "Minerals",
          "Textile and Home Goods",
          "Agriculture",
          "Construction, Building, and Home Supplies",
          "Industrial Chemicals and Metals",
          "Textile and Home Goods",
          "Textile Apparel and Accessories",
          "Textile and Home Goods",
          "Agriculture",
          "Metalworking and Electrical Machinery and Parts",
          "Textile and Home Goods",
          "Agriculture",
          "Electronic and Electrical Goods",
          "Textile and Home Goods",
          "Agriculture",
          "Metalworking and Electrical Machinery and Parts",
          "Electronic and Electrical Goods",
          "Metalworking and Electrical Machinery and Parts",
          "Agriculture",
          "Agriculture",
          "Minerals",
          "Textile and Home Goods",
          "Industrial Chemicals and Metals",
          "Agriculture",
          "Electronic and Electrical Goods",
          "Industrial Chemicals and Metals",
          "Metalworking and Electrical Machinery and Parts",
          "Construction, Building, and Home Supplies",
          "Industrial Chemicals and Metals",
          "Textile Apparel and Accessories",
          "Construction, Building, and Home Supplies",
          "Construction, Building, and Home Supplies",
          "Construction, Building, and Home Supplies",
          "Agriculture",
          "Textile and Home Goods",
          "Industrial Chemicals and Metals",
          "Construction, Building, and Home Supplies",
          "Industrial Chemicals and Metals",
          "Construction, Building, and Home Supplies",
          "Industrial Chemicals and Metals",
          "Metalworking and Electrical Machinery and Parts",
          "Textile and Home Goods",
          "Agriculture",
          "Agriculture",
          "Agriculture",
          "Textile Apparel and Accessories",
          "Metalworking and Electrical Machinery and Parts",
          "Agriculture",
          "Agriculture",
          "Textile and Home Goods",
          "Construction, Building, and Home Supplies",
          "Metalworking and Electrical Machinery and Parts",
          "Construction, Building, and Home Supplies",
          "Textile and Home Goods",
          "Metalworking and Electrical Machinery and Parts",
          "Textile and Home Goods",
          "Textile and Home Goods",
          "Agriculture",
          "Construction, Building, and Home Supplies",
          "Agriculture",
          "Construction, Building, and Home Supplies",
          "Electronic and Electrical Goods",
          "Industrial Chemicals and Metals",
          "Textile Apparel and Accessories",
          "Metalworking and Electrical Machinery and Parts",
          "Textile and Home Goods",
          "Construction, Building, and Home Supplies",
          "Industrial Chemicals and Metals",
          "Textile and Home Goods",
          "Agriculture",
          "Textile and Home Goods",
          "Agriculture",
          "Textile and Home Goods",
          "Construction, Building, and Home Supplies",
          "Metalworking and Electrical Machinery and Parts",
          "Metalworking and Electrical Machinery and Parts",
          "Construction, Building, and Home Supplies",
          "Industrial Chemicals and Metals",
          "Agriculture",
          "Agriculture",
          "Textile Apparel and Accessories",
          "Agriculture",
          "Minerals",
          "Metalworking and Electrical Machinery and Parts",
          "Construction, Building, and Home Supplies",
          "Construction, Building, and Home Supplies",
          "Metalworking and Electrical Machinery and Parts",
          "Textile and Home Goods",
          "Textile Apparel and Accessories",
          "Textile and Home Goods",
          "Industrial Chemicals and Metals",
          "Construction, Building, and Home Supplies",
          "Industrial Chemicals and Metals",
          "Textile Apparel and Accessories",
          "Industrial Chemicals and Metals",
          "",
          "",
          "",
          ""
         ],
         "textfont": {
          "size": 15
         },
         "textinfo": "label+percent entry",
         "type": "treemap",
         "values": [
          0.0043356939393687,
          0.0003674531461124,
          0.0025440134773538235,
          0.000037199519466458775,
          0.018748927842304988,
          0.0007836746042289756,
          0.003964923109781512,
          0.0000011033897646025725,
          0.001973989183584117,
          0.0053640382428938645,
          0.0002200747082431,
          0.0002261280788034,
          0.0005366174793153827,
          0.00012644632493784595,
          0.00004963399779975302,
          0.00044494281026597555,
          0.00006377353496044298,
          0.000830264278306,
          1.5594832940196326e-7,
          0.00019366988374390533,
          0.004832909986274309,
          0.0001262393942222,
          3.947552413933886,
          0.00021134722430224374,
          3.882764516021938e-8,
          0.00001312620783767676,
          0.00000531279419019942,
          0.000006376502851740908,
          0.0000016150133916595225,
          0.1780306785812348,
          0.0001183643037045,
          0.1525273729537531,
          0.000002318826359332957,
          0.00313104589752197,
          0.000008912416075749972,
          0.00039536620141385984,
          0.5307683053199126,
          0.00023633196519427628,
          0.000913028555194166,
          0.0001019241591660153,
          0.000003740959203262877,
          0.06719119833102537,
          0.00000769312860394162,
          0.000001367005090729009,
          0.0017756091557206348,
          0.2127923473794009,
          0.0016385206046624363,
          0.0001662817256845,
          0.005924011578674326,
          0.00004060412247019844,
          0.00002368958101283421,
          0.0025188661283473976,
          0.03878473204960211,
          0.00013930694136613954,
          0.9598364635191022,
          0.02770101284480282,
          0.18995286816521925,
          4.729854825549709,
          6.041731645462157e-7,
          0.0000017009359692284474,
          0.00004082402855954487,
          5.642294590540962e-7,
          0.000013915293441902308,
          0.000044962188007736015,
          0.006272198565429479,
          0.0002006863993649168,
          0.0007412945484110027,
          0.0000042332224660917484,
          0.0001004763419285,
          0.000006688080636164291,
          0.06004793177759365,
          0.0000672166392320357,
          0.0000012210637896811408,
          0.00002086845247488023,
          0.0014159041834331406,
          0.00002742372193154842,
          0.14127828864362119,
          0.0005791143491355743,
          0.000008266912102156276,
          0.05521281076607139,
          0.0000011429564480329914,
          0.0000031119325943508204,
          0.0003599392999395709,
          0.0014223321122817,
          0.0000076141743694533816,
          8.183910976632618e-7,
          0.000033202400032513386,
          0.005834969269218932,
          0.0060461939322773404,
          0.04401280123248334,
          0.002121593185687511,
          0.00018035887132121753,
          0.016681067069924824,
          2.0984747837195866e-7,
          0.0012606368224630671,
          0.00005860606964490762,
          0.000005141267909442112,
          0.0000071780601957089815,
          0.0007176898555097,
          0.0013111602762677001,
          0.0011203109742857658,
          0.008903053586305387,
          0.00009899206515722988,
          0.0064937845206515,
          0.000001498008064914269,
          0.00005763654334525693,
          1.5528775624202624,
          0.0076803371082246,
          0.14608785255255774,
          0.0002045623418449,
          0.0008338870682910352,
          0.044837152600642215,
          0.0000013510238570688607,
          0.0026166962049454065,
          0.000015383090972857616,
          0.0001789717874610103,
          0.0037232422885180496,
          0.000023517782750987615,
          0.00002062922353593872,
          0.00012488135888018498,
          4.2242414629503417e-7,
          0.00013991522238296337,
          5.069446144553957e-7,
          0.00000116355385728441,
          0.000026550542588112943,
          0.0001961670828046,
          0.0063693044501733,
          0.000109425729613,
          0.0022807789435099484,
          0.002962923271586375,
          0.000006778040726110384,
          0.0403248515280476,
          0.02613812896841051,
          0.0009656561025367,
          1.115591398987463e-7,
          0.000005108752101284991,
          0.000020179458725109616,
          0.000006085501843520791,
          4.015660103442303e-7,
          0.00021217092840972944,
          0.000004150637752994447,
          0.013863315258789017,
          0.0063371131942362696,
          0.000002188113185687661,
          0.0357075581413934,
          0.052879675172135404,
          0.04745587354160877,
          0.020463668056034306,
          0.00004399950156354798,
          0.13095839394310932,
          0.0001655591094449,
          0.000015138880090653036,
          0.0019664016680509,
          0.0004020095308443151,
          0.000005053980737097629,
          0.000005713122217654484,
          0.0000012169793840127168,
          0.000029801258691534267,
          0.00025286337908334174,
          0.043890459915312444,
          0.016272494649464283,
          0.00009124020833318467,
          0.00009416724349370939,
          1.67196228989856,
          0.0894709218721386,
          0.04451108490364032,
          0.05024320465149506
         ],
         "visible": false
        },
        {
         "branchvalues": "total",
         "customdata": [
          [
           "Industrial Chemicals and Metals"
          ],
          [
           "Electronic and Electrical Goods"
          ],
          [
           "Construction, Building, and Home Supplies"
          ],
          [
           "Industrial Chemicals and Metals"
          ],
          [
           "Agriculture"
          ],
          [
           "Industrial Chemicals and Metals"
          ],
          [
           "Minerals"
          ],
          [
           "Metalworking and Electrical Machinery and Parts"
          ],
          [
           "Electronic and Electrical Goods"
          ],
          [
           "Agriculture"
          ],
          [
           "Minerals"
          ],
          [
           "Industrial Chemicals and Metals"
          ],
          [
           "Textile and Home Goods"
          ],
          [
           "Agriculture"
          ],
          [
           "Minerals"
          ],
          [
           "Industrial Chemicals and Metals"
          ],
          [
           "Metalworking and Electrical Machinery and Parts"
          ],
          [
           "Electronic and Electrical Goods"
          ],
          [
           "Construction, Building, and Home Supplies"
          ],
          [
           "Textile and Home Goods"
          ],
          [
           "Industrial Chemicals and Metals"
          ],
          [
           "Metalworking and Electrical Machinery and Parts"
          ],
          [
           "Agriculture"
          ],
          [
           "Agriculture"
          ],
          [
           "Textile and Home Goods"
          ],
          [
           "Agriculture"
          ],
          [
           "Agriculture"
          ],
          [
           "Industrial Chemicals and Metals"
          ],
          [
           "Construction, Building, and Home Supplies"
          ],
          [
           "Agriculture"
          ],
          [
           "Construction, Building, and Home Supplies"
          ],
          [
           "Industrial Chemicals and Metals"
          ],
          [
           "Construction, Building, and Home Supplies"
          ],
          [
           "Construction, Building, and Home Supplies"
          ],
          [
           "Textile and Home Goods"
          ],
          [
           "Industrial Chemicals and Metals"
          ],
          [
           "Minerals"
          ],
          [
           "Agriculture"
          ],
          [
           "Textile and Home Goods"
          ],
          [
           "Metalworking and Electrical Machinery and Parts"
          ],
          [
           "Industrial Chemicals and Metals"
          ],
          [
           "Textile and Home Goods"
          ],
          [
           "Agriculture"
          ],
          [
           "Agriculture"
          ],
          [
           "Metalworking and Electrical Machinery and Parts"
          ],
          [
           "Metalworking and Electrical Machinery and Parts"
          ],
          [
           "Metalworking and Electrical Machinery and Parts"
          ],
          [
           "Construction, Building, and Home Supplies"
          ],
          [
           "Metalworking and Electrical Machinery and Parts"
          ],
          [
           "Electronic and Electrical Goods"
          ],
          [
           "Agriculture"
          ],
          [
           "Textile and Home Goods"
          ],
          [
           "Minerals"
          ],
          [
           "Electronic and Electrical Goods"
          ],
          [
           "Agriculture"
          ],
          [
           "Industrial Chemicals and Metals"
          ],
          [
           "Construction, Building, and Home Supplies"
          ],
          [
           "Construction, Building, and Home Supplies"
          ],
          [
           "Agriculture"
          ],
          [
           "Textile and Home Goods"
          ],
          [
           "Agriculture"
          ],
          [
           "Agriculture"
          ],
          [
           "Agriculture"
          ],
          [
           "Agriculture"
          ],
          [
           "Industrial Chemicals and Metals"
          ],
          [
           "Construction, Building, and Home Supplies"
          ],
          [
           "Industrial Chemicals and Metals"
          ],
          [
           "Construction, Building, and Home Supplies"
          ],
          [
           "Textile and Home Goods"
          ],
          [
           "Industrial Chemicals and Metals"
          ],
          [
           "Agriculture"
          ],
          [
           "Metalworking and Electrical Machinery and Parts"
          ],
          [
           "Agriculture"
          ],
          [
           "Metalworking and Electrical Machinery and Parts"
          ],
          [
           "Construction, Building, and Home Supplies"
          ],
          [
           "Construction, Building, and Home Supplies"
          ],
          [
           "Metalworking and Electrical Machinery and Parts"
          ],
          [
           "Industrial Chemicals and Metals"
          ],
          [
           "Industrial Chemicals and Metals"
          ],
          [
           "Textile and Home Goods"
          ],
          [
           "Construction, Building, and Home Supplies"
          ],
          [
           "Construction, Building, and Home Supplies"
          ],
          [
           "Construction, Building, and Home Supplies"
          ],
          [
           "Textile and Home Goods"
          ],
          [
           "Textile Apparel and Accessories"
          ],
          [
           "Metalworking and Electrical Machinery and Parts"
          ],
          [
           "Industrial Chemicals and Metals"
          ],
          [
           "Agriculture"
          ],
          [
           "Construction, Building, and Home Supplies"
          ],
          [
           "Textile Apparel and Accessories"
          ],
          [
           "Agriculture"
          ],
          [
           "Agriculture"
          ],
          [
           "Construction, Building, and Home Supplies"
          ],
          [
           "Minerals"
          ],
          [
           "Industrial Chemicals and Metals"
          ],
          [
           "Metalworking and Electrical Machinery and Parts"
          ],
          [
           "Industrial Chemicals and Metals"
          ],
          [
           "Electronic and Electrical Goods"
          ],
          [
           "Construction, Building, and Home Supplies"
          ],
          [
           "Agriculture"
          ],
          [
           "Textile Apparel and Accessories"
          ],
          [
           "Agriculture"
          ],
          [
           "Metalworking and Electrical Machinery and Parts"
          ],
          [
           "Industrial Chemicals and Metals"
          ],
          [
           "Construction, Building, and Home Supplies"
          ],
          [
           "Textile and Home Goods"
          ],
          [
           "Agriculture"
          ],
          [
           "Textile Apparel and Accessories"
          ],
          [
           "Textile and Home Goods"
          ],
          [
           "Textile and Home Goods"
          ]
         ],
         "domain": {
          "x": [
           0,
           1
          ],
          "y": [
           0,
           1
          ]
         },
         "hovertemplate": "%{label}<br>%{value:.1f}%<br>Category: %{customdata[0]}<extra></extra>",
         "ids": [
          "Industrial Chemicals and Metals/Aircraft, spacecraft, and parts thereof",
          "Electronic and Electrical Goods/Plastics and articles thereof",
          "Construction, Building, and Home Supplies/Plastics and articles thereof",
          "Industrial Chemicals and Metals/Pharmaceutical products",
          "Agriculture/Paper and paperboard",
          "Industrial Chemicals and Metals/Organic chemicals",
          "Minerals/Ores, slag and ash",
          "Metalworking and Electrical Machinery and Parts/Optical, photographic, cinematographic, measuring, checking, medical or surgical instruments and apparatus...",
          "Electronic and Electrical Goods/Optical, photographic, cinematographic, measuring, checking, medical or surgical instruments and apparatus...",
          "Agriculture/Oil seeds and oleaginous fruits",
          "Minerals/Natural, cultured pearls",
          "Industrial Chemicals and Metals/Natural, cultured pearls",
          "Textile and Home Goods/Miscellaneous manufactured articles",
          "Agriculture/Miscellaneous edible preparations",
          "Minerals/Mineral fuels, mineral oils and products of their distillation",
          "Industrial Chemicals and Metals/Metals",
          "Metalworking and Electrical Machinery and Parts/Metal",
          "Electronic and Electrical Goods/Metal",
          "Construction, Building, and Home Supplies/Metal",
          "Textile and Home Goods/Man-made staple fibres",
          "Industrial Chemicals and Metals/Plastics and articles thereof",
          "Metalworking and Electrical Machinery and Parts/Plastics and articles thereof",
          "Agriculture/Preparations of cereals, flour, starch or milk",
          "Agriculture/Preparations of vegetables, fruit, nuts or other parts of plants",
          "Textile and Home Goods/Wool, fine or coarse animal hair",
          "Agriculture/Vegetables and certain roots and tubers",
          "Agriculture/Trees and other plants, live",
          "Industrial Chemicals and Metals/Tanning or dyeing extracts",
          "Construction, Building, and Home Supplies/Tanning or dyeing extracts",
          "Agriculture/Sugars and sugar confectionery",
          "Construction, Building, and Home Supplies/Stone, plaster, cement, asbestos, mica or similar materials",
          "Industrial Chemicals and Metals/Soap, organic surface-active agents",
          "Construction, Building, and Home Supplies/Soap, organic surface-active agents",
          "Construction, Building, and Home Supplies/Man-made staple fibres",
          "Textile and Home Goods/Ships, boats and floating structures",
          "Industrial Chemicals and Metals/Ships, boats and floating structures",
          "Minerals/Salt",
          "Agriculture/Salt",
          "Textile and Home Goods/Rubber and articles thereof",
          "Metalworking and Electrical Machinery and Parts/Rubber and articles thereof",
          "Industrial Chemicals and Metals/Rubber and articles thereof",
          "Textile and Home Goods/Raw hides and skins (other than furskins) and leather",
          "Agriculture/Raw hides and skins (other than furskins) and leather",
          "Agriculture/Products of the milling industry",
          "Metalworking and Electrical Machinery and Parts/Ships, boats and floating structures",
          "Metalworking and Electrical Machinery and Parts/Machinery and mechanical appliances, boilers, nuclear reactors",
          "Metalworking and Electrical Machinery and Parts/Metals",
          "Construction, Building, and Home Supplies/Machinery and mechanical appliances, boilers, nuclear reactors",
          "Metalworking and Electrical Machinery and Parts/Electrical machinery and equipment and parts thereof",
          "Electronic and Electrical Goods/Electrical machinery and equipment and parts thereof",
          "Agriculture/Dairy produce",
          "Textile and Home Goods/Cotton",
          "Minerals/Copper and articles thereof",
          "Electronic and Electrical Goods/Machinery and mechanical appliances, boilers, nuclear reactors",
          "Agriculture/Cocoa and cocoa preparations",
          "Industrial Chemicals and Metals/Chemical products n.e.c.",
          "Construction, Building, and Home Supplies/Chemical products n.e.c.",
          "Construction, Building, and Home Supplies/Essential oils and resinoids",
          "Agriculture/Cereals",
          "Textile and Home Goods/Carpets and other textile floor coverings",
          "Agriculture/Beverages, spirits and vinegar",
          "Agriculture/Articles of leather",
          "Agriculture/Animal, vegetable or microbial fats and oils and their cleavage products",
          "Agriculture/Animal originated products",
          "Industrial Chemicals and Metals/Aluminium and articles thereof",
          "Construction, Building, and Home Supplies/Aluminium and articles thereof",
          "Industrial Chemicals and Metals/Albuminoidal substances",
          "Construction, Building, and Home Supplies/Albuminoidal substances",
          "Textile and Home Goods/Ceramic products",
          "Industrial Chemicals and Metals/Essential oils and resinoids",
          "Agriculture/Coffee, tea, mate and spices",
          "Metalworking and Electrical Machinery and Parts/Explosives",
          "Agriculture/Lac",
          "Metalworking and Electrical Machinery and Parts/Iron or steel articles",
          "Construction, Building, and Home Supplies/Explosives",
          "Construction, Building, and Home Supplies/Iron or steel articles",
          "Metalworking and Electrical Machinery and Parts/Iron and steel",
          "Industrial Chemicals and Metals/Iron and steel",
          "Industrial Chemicals and Metals/Inorganic chemicals",
          "Textile and Home Goods/Glass and glassware",
          "Construction, Building, and Home Supplies/Glass and glassware",
          "Construction, Building, and Home Supplies/Iron and steel",
          "Construction, Building, and Home Supplies/Furniture",
          "Textile and Home Goods/Fabrics",
          "Textile Apparel and Accessories/Feathers and down, prepared",
          "Metalworking and Electrical Machinery and Parts/Furniture",
          "Industrial Chemicals and Metals/Fertilizers",
          "Agriculture/Fish and crustaceans, molluscs and other aquatic invertebrates",
          "Construction, Building, and Home Supplies/Fertilizers",
          "Textile Apparel and Accessories/Footwear",
          "Agriculture/Fruit and nuts, edible",
          "Agriculture/Food industries, residues and wastes thereof",
          "Construction, Building, and Home Supplies/Lead and articles thereof",
          "Minerals",
          "Industrial Chemicals and Metals/Zinc and articles thereof",
          "Metalworking and Electrical Machinery and Parts",
          "Industrial Chemicals and Metals",
          "Electronic and Electrical Goods",
          "Construction, Building, and Home Supplies",
          "Agriculture",
          "Textile Apparel and Accessories/Textiles, made up articles",
          "Agriculture/Wood and articles of wood",
          "Metalworking and Electrical Machinery and Parts/Vehicles",
          "Industrial Chemicals and Metals/Vehicles",
          "Construction, Building, and Home Supplies/Vehicles",
          "Textile and Home Goods/Vegetable textile fibres",
          "Agriculture/Tobacco and manufactured tobacco substitutes",
          "Textile Apparel and Accessories",
          "Textile and Home Goods/Wood and articles of wood",
          "Textile and Home Goods"
         ],
         "labels": [
          "Aircraft, spacecraft, and parts thereof",
          "Plastics and articles thereof",
          "Plastics and articles thereof",
          "Pharmaceutical products",
          "Paper and paperboard",
          "Organic chemicals",
          "Ores, slag and ash",
          "Optical, photographic, cinematographic, measuring, checking, medical or surgical instruments and apparatus...",
          "Optical, photographic, cinematographic, measuring, checking, medical or surgical instruments and apparatus...",
          "Oil seeds and oleaginous fruits",
          "Natural, cultured pearls",
          "Natural, cultured pearls",
          "Miscellaneous manufactured articles",
          "Miscellaneous edible preparations",
          "Mineral fuels, mineral oils and products of their distillation",
          "Metals",
          "Metal",
          "Metal",
          "Metal",
          "Man-made staple fibres",
          "Plastics and articles thereof",
          "Plastics and articles thereof",
          "Preparations of cereals, flour, starch or milk",
          "Preparations of vegetables, fruit, nuts or other parts of plants",
          "Wool, fine or coarse animal hair",
          "Vegetables and certain roots and tubers",
          "Trees and other plants, live",
          "Tanning or dyeing extracts",
          "Tanning or dyeing extracts",
          "Sugars and sugar confectionery",
          "Stone, plaster, cement, asbestos, mica or similar materials",
          "Soap, organic surface-active agents",
          "Soap, organic surface-active agents",
          "Man-made staple fibres",
          "Ships, boats and floating structures",
          "Ships, boats and floating structures",
          "Salt",
          "Salt",
          "Rubber and articles thereof",
          "Rubber and articles thereof",
          "Rubber and articles thereof",
          "Raw hides and skins (other than furskins) and leather",
          "Raw hides and skins (other than furskins) and leather",
          "Products of the milling industry",
          "Ships, boats and floating structures",
          "Machinery and mechanical appliances, boilers, nuclear reactors",
          "Metals",
          "Machinery and mechanical appliances, boilers, nuclear reactors",
          "Electrical machinery and equipment and parts thereof",
          "Electrical machinery and equipment and parts thereof",
          "Dairy produce",
          "Cotton",
          "Copper and articles thereof",
          "Machinery and mechanical appliances, boilers, nuclear reactors",
          "Cocoa and cocoa preparations",
          "Chemical products n.e.c.",
          "Chemical products n.e.c.",
          "Essential oils and resinoids",
          "Cereals",
          "Carpets and other textile floor coverings",
          "Beverages, spirits and vinegar",
          "Articles of leather",
          "Animal, vegetable or microbial fats and oils and their cleavage products",
          "Animal originated products",
          "Aluminium and articles thereof",
          "Aluminium and articles thereof",
          "Albuminoidal substances",
          "Albuminoidal substances",
          "Ceramic products",
          "Essential oils and resinoids",
          "Coffee, tea, mate and spices",
          "Explosives",
          "Lac",
          "Iron or steel articles",
          "Explosives",
          "Iron or steel articles",
          "Iron and steel",
          "Iron and steel",
          "Inorganic chemicals",
          "Glass and glassware",
          "Glass and glassware",
          "Iron and steel",
          "Furniture",
          "Fabrics",
          "Feathers and down, prepared",
          "Furniture",
          "Fertilizers",
          "Fish and crustaceans, molluscs and other aquatic invertebrates",
          "Fertilizers",
          "Footwear",
          "Fruit and nuts, edible",
          "Food industries, residues and wastes thereof",
          "Lead and articles thereof",
          "Minerals",
          "Zinc and articles thereof",
          "Metalworking and Electrical Machinery and Parts",
          "Industrial Chemicals and Metals",
          "Electronic and Electrical Goods",
          "Construction, Building, and Home Supplies",
          "Agriculture",
          "Textiles, made up articles",
          "Wood and articles of wood",
          "Vehicles",
          "Vehicles",
          "Vehicles",
          "Vegetable textile fibres",
          "Tobacco and manufactured tobacco substitutes",
          "Textile Apparel and Accessories",
          "Wood and articles of wood",
          "Textile and Home Goods"
         ],
         "marker": {
          "colors": [
           "#76B7B2",
           "#E15759",
           "#F28E2B",
           "#76B7B2",
           "#4E79A7",
           "#76B7B2",
           "#EDC949",
           "#59A14F",
           "#E15759",
           "#4E79A7",
           "#EDC949",
           "#76B7B2",
           "#FF9DA7",
           "#4E79A7",
           "#EDC949",
           "#76B7B2",
           "#59A14F",
           "#E15759",
           "#F28E2B",
           "#FF9DA7",
           "#76B7B2",
           "#59A14F",
           "#4E79A7",
           "#4E79A7",
           "#FF9DA7",
           "#4E79A7",
           "#4E79A7",
           "#76B7B2",
           "#F28E2B",
           "#4E79A7",
           "#F28E2B",
           "#76B7B2",
           "#F28E2B",
           "#F28E2B",
           "#FF9DA7",
           "#76B7B2",
           "#EDC949",
           "#4E79A7",
           "#FF9DA7",
           "#59A14F",
           "#76B7B2",
           "#FF9DA7",
           "#4E79A7",
           "#4E79A7",
           "#59A14F",
           "#59A14F",
           "#59A14F",
           "#F28E2B",
           "#59A14F",
           "#E15759",
           "#4E79A7",
           "#FF9DA7",
           "#EDC949",
           "#E15759",
           "#4E79A7",
           "#76B7B2",
           "#F28E2B",
           "#F28E2B",
           "#4E79A7",
           "#FF9DA7",
           "#4E79A7",
           "#4E79A7",
           "#4E79A7",
           "#4E79A7",
           "#76B7B2",
           "#F28E2B",
           "#76B7B2",
           "#F28E2B",
           "#FF9DA7",
           "#76B7B2",
           "#4E79A7",
           "#59A14F",
           "#4E79A7",
           "#59A14F",
           "#F28E2B",
           "#F28E2B",
           "#59A14F",
           "#76B7B2",
           "#76B7B2",
           "#FF9DA7",
           "#F28E2B",
           "#F28E2B",
           "#F28E2B",
           "#FF9DA7",
           "#AF7AA1",
           "#59A14F",
           "#76B7B2",
           "#4E79A7",
           "#F28E2B",
           "#AF7AA1",
           "#4E79A7",
           "#4E79A7",
           "#F28E2B",
           "#EDC949",
           "#76B7B2",
           "#59A14F",
           "#76B7B2",
           "#E15759",
           "#F28E2B",
           "#4E79A7",
           "#AF7AA1",
           "#4E79A7",
           "#59A14F",
           "#76B7B2",
           "#F28E2B",
           "#FF9DA7",
           "#4E79A7",
           "#AF7AA1",
           "#FF9DA7",
           "#FF9DA7"
          ],
          "line": {
           "width": 1
          }
         },
         "name": "",
         "parents": [
          "Industrial Chemicals and Metals",
          "Electronic and Electrical Goods",
          "Construction, Building, and Home Supplies",
          "Industrial Chemicals and Metals",
          "Agriculture",
          "Industrial Chemicals and Metals",
          "Minerals",
          "Metalworking and Electrical Machinery and Parts",
          "Electronic and Electrical Goods",
          "Agriculture",
          "Minerals",
          "Industrial Chemicals and Metals",
          "Textile and Home Goods",
          "Agriculture",
          "Minerals",
          "Industrial Chemicals and Metals",
          "Metalworking and Electrical Machinery and Parts",
          "Electronic and Electrical Goods",
          "Construction, Building, and Home Supplies",
          "Textile and Home Goods",
          "Industrial Chemicals and Metals",
          "Metalworking and Electrical Machinery and Parts",
          "Agriculture",
          "Agriculture",
          "Textile and Home Goods",
          "Agriculture",
          "Agriculture",
          "Industrial Chemicals and Metals",
          "Construction, Building, and Home Supplies",
          "Agriculture",
          "Construction, Building, and Home Supplies",
          "Industrial Chemicals and Metals",
          "Construction, Building, and Home Supplies",
          "Construction, Building, and Home Supplies",
          "Textile and Home Goods",
          "Industrial Chemicals and Metals",
          "Minerals",
          "Agriculture",
          "Textile and Home Goods",
          "Metalworking and Electrical Machinery and Parts",
          "Industrial Chemicals and Metals",
          "Textile and Home Goods",
          "Agriculture",
          "Agriculture",
          "Metalworking and Electrical Machinery and Parts",
          "Metalworking and Electrical Machinery and Parts",
          "Metalworking and Electrical Machinery and Parts",
          "Construction, Building, and Home Supplies",
          "Metalworking and Electrical Machinery and Parts",
          "Electronic and Electrical Goods",
          "Agriculture",
          "Textile and Home Goods",
          "Minerals",
          "Electronic and Electrical Goods",
          "Agriculture",
          "Industrial Chemicals and Metals",
          "Construction, Building, and Home Supplies",
          "Construction, Building, and Home Supplies",
          "Agriculture",
          "Textile and Home Goods",
          "Agriculture",
          "Agriculture",
          "Agriculture",
          "Agriculture",
          "Industrial Chemicals and Metals",
          "Construction, Building, and Home Supplies",
          "Industrial Chemicals and Metals",
          "Construction, Building, and Home Supplies",
          "Textile and Home Goods",
          "Industrial Chemicals and Metals",
          "Agriculture",
          "Metalworking and Electrical Machinery and Parts",
          "Agriculture",
          "Metalworking and Electrical Machinery and Parts",
          "Construction, Building, and Home Supplies",
          "Construction, Building, and Home Supplies",
          "Metalworking and Electrical Machinery and Parts",
          "Industrial Chemicals and Metals",
          "Industrial Chemicals and Metals",
          "Textile and Home Goods",
          "Construction, Building, and Home Supplies",
          "Construction, Building, and Home Supplies",
          "Construction, Building, and Home Supplies",
          "Textile and Home Goods",
          "Textile Apparel and Accessories",
          "Metalworking and Electrical Machinery and Parts",
          "Industrial Chemicals and Metals",
          "Agriculture",
          "Construction, Building, and Home Supplies",
          "Textile Apparel and Accessories",
          "Agriculture",
          "Agriculture",
          "Construction, Building, and Home Supplies",
          "",
          "Industrial Chemicals and Metals",
          "",
          "",
          "",
          "",
          "",
          "Textile Apparel and Accessories",
          "Agriculture",
          "Metalworking and Electrical Machinery and Parts",
          "Industrial Chemicals and Metals",
          "Construction, Building, and Home Supplies",
          "Textile and Home Goods",
          "Agriculture",
          "",
          "Textile and Home Goods",
          ""
         ],
         "textfont": {
          "size": 15
         },
         "textinfo": "label+percent entry",
         "type": "treemap",
         "values": [
          0.0353970747047702,
          0.0021411000070429,
          0.0402820772909747,
          0.0007312552865464,
          0.0058153032817164375,
          0.001492386201730596,
          0.10054050596837916,
          0.0008197227470881,
          0.0002693933364668526,
          0.3739040955932027,
          0.0004959785235706,
          0.0003751283558518,
          0.00045704720953559995,
          0.026299821750376845,
          53.96116871954862,
          0.00023116570409840835,
          0.0000981537734846233,
          0.0068872151001793,
          0.0038556115128122,
          0.0012047377158871707,
          0.017392123169738795,
          0.000021590221821641528,
          0.0033057812690840314,
          0.00043117744499257017,
          0.000009370731409306757,
          0.0019251623928323563,
          0.03462080821359655,
          0.0009376557938259767,
          0.00013801459414658132,
          0.001988938204931,
          0.00037494424341168224,
          0.009640894370661969,
          0.00653520531980065,
          0.000014713336602623632,
          0.0055880361329811,
          0.5788112883264298,
          0.07142917666032023,
          0.0012406072478270019,
          0.0604380966801825,
          0.00000548323067086793,
          0.0006287072562199,
          0.0733763532766111,
          0.00787826154806855,
          0.004159580302698987,
          0.0824347459603059,
          0.005411514966411706,
          0.0002716398711906,
          0.00008584108078018494,
          0.00000333563235095989,
          0.011312593459778498,
          0.004974992382112726,
          0.017026988883749,
          0.14029422903727784,
          0.0027329308667091135,
          0.6383097845198618,
          0.0008499743717623995,
          0.01740451697939636,
          0.009246433038139632,
          0.0026523462800335535,
          0.00006129935112717788,
          0.008334721781147351,
          0.0002453556656152,
          0.018502698114814455,
          0.0011712766674659742,
          0.0117137699706942,
          0.2525303423005458,
          0.0007696415973717,
          0.0000532970044092289,
          0.000005940441198482715,
          0.00003629766393755425,
          0.05017848555176942,
          0.0009452497900122,
          0.0036154075038461,
          0.00020489763731815756,
          0.00007760078531014574,
          0.0034516756102522567,
          0.015339887440833299,
          0.0015454458895094,
          0.02323871935385413,
          0.0117253034263235,
          0.0156553411227192,
          0.0059576554734168,
          0.00009566820020877784,
          0.000021942062185937576,
          0.0099321608980759,
          0.000008224846006301895,
          1.8019819696972115,
          0.04835234059055124,
          0.0000267490278220135,
          0.0005373337827801033,
          0.2322646023673543,
          0.0824978122187599,
          0.1003435153615377,
          54.27392860973817,
          0.0014213906872558,
          0.15098331309206636,
          2.4890666761261624,
          0.023343232770176664,
          0.45654807543034964,
          1.6942940140574745,
          0.0044277089580504,
          0.0003468143544693,
          0.045418866974572,
          0.001871787724692,
          0.0004188731480631,
          0.000022833900369963932,
          0.14127783881034622,
          0.014897203638906405,
          0.000024356159769384312,
          0.16996230597133022
         ],
         "visible": false
        },
        {
         "branchvalues": "total",
         "customdata": [
          [
           "Electronic and Electrical Goods"
          ],
          [
           "Agriculture"
          ],
          [
           "Textile and Home Goods"
          ],
          [
           "Textile and Home Goods"
          ],
          [
           "Metalworking and Electrical Machinery and Parts"
          ],
          [
           "Metalworking and Electrical Machinery and Parts"
          ],
          [
           "Electronic and Electrical Goods"
          ],
          [
           "Construction, Building, and Home Supplies"
          ],
          [
           "Textile and Home Goods"
          ],
          [
           "Agriculture"
          ],
          [
           "Metalworking and Electrical Machinery and Parts"
          ],
          [
           "Construction, Building, and Home Supplies"
          ],
          [
           "Metalworking and Electrical Machinery and Parts"
          ],
          [
           "Industrial Chemicals and Metals"
          ],
          [
           "Construction, Building, and Home Supplies"
          ],
          [
           "Industrial Chemicals and Metals"
          ],
          [
           "Textile and Home Goods"
          ],
          [
           "Textile and Home Goods"
          ],
          [
           "Agriculture"
          ],
          [
           "Agriculture"
          ],
          [
           "Construction, Building, and Home Supplies"
          ],
          [
           "Metalworking and Electrical Machinery and Parts"
          ],
          [
           "Industrial Chemicals and Metals"
          ],
          [
           "Metalworking and Electrical Machinery and Parts"
          ],
          [
           "Industrial Chemicals and Metals"
          ],
          [
           "Electronic and Electrical Goods"
          ],
          [
           "Construction, Building, and Home Supplies"
          ],
          [
           "Agriculture"
          ],
          [
           "Industrial Chemicals and Metals"
          ],
          [
           "Textile and Home Goods"
          ],
          [
           "Textile and Home Goods"
          ],
          [
           "Electronic and Electrical Goods"
          ],
          [
           "Agriculture"
          ],
          [
           "Minerals"
          ],
          [
           "Metalworking and Electrical Machinery and Parts"
          ],
          [
           "Industrial Chemicals and Metals"
          ],
          [
           "Textile and Home Goods"
          ],
          [
           "Metalworking and Electrical Machinery and Parts"
          ],
          [
           "Textile Apparel and Accessories"
          ],
          [
           "Metalworking and Electrical Machinery and Parts"
          ],
          [
           "Industrial Chemicals and Metals"
          ],
          [
           "Agriculture"
          ],
          [
           "Industrial Chemicals and Metals"
          ],
          [
           "Construction, Building, and Home Supplies"
          ],
          [
           "Agriculture"
          ],
          [
           "Industrial Chemicals and Metals"
          ],
          [
           "Construction, Building, and Home Supplies"
          ],
          [
           "Textile and Home Goods"
          ],
          [
           "Agriculture"
          ],
          [
           "Agriculture"
          ],
          [
           "Agriculture"
          ],
          [
           "Agriculture"
          ],
          [
           "Agriculture"
          ],
          [
           "Metalworking and Electrical Machinery and Parts"
          ],
          [
           "Industrial Chemicals and Metals"
          ],
          [
           "Construction, Building, and Home Supplies"
          ],
          [
           "Industrial Chemicals and Metals"
          ],
          [
           "Industrial Chemicals and Metals"
          ],
          [
           "Textile Apparel and Accessories"
          ],
          [
           "Agriculture"
          ],
          [
           "Textile and Home Goods"
          ],
          [
           "Textile and Home Goods"
          ],
          [
           "Textile Apparel and Accessories"
          ],
          [
           "Construction, Building, and Home Supplies"
          ],
          [
           "Agriculture"
          ],
          [
           "Textile Apparel and Accessories"
          ],
          [
           "Minerals"
          ],
          [
           "Agriculture"
          ],
          [
           "Industrial Chemicals and Metals"
          ],
          [
           "Textile and Home Goods"
          ],
          [
           "Construction, Building, and Home Supplies"
          ],
          [
           "Agriculture"
          ],
          [
           "Textile Apparel and Accessories"
          ],
          [
           "Agriculture"
          ],
          [
           "Construction, Building, and Home Supplies"
          ],
          [
           "Electronic and Electrical Goods"
          ],
          [
           "Industrial Chemicals and Metals"
          ],
          [
           "Construction, Building, and Home Supplies"
          ],
          [
           "Metalworking and Electrical Machinery and Parts"
          ],
          [
           "Construction, Building, and Home Supplies"
          ],
          [
           "Industrial Chemicals and Metals"
          ],
          [
           "Construction, Building, and Home Supplies"
          ],
          [
           "Agriculture"
          ],
          [
           "Minerals"
          ],
          [
           "Textile and Home Goods"
          ],
          [
           "Agriculture"
          ],
          [
           "Metalworking and Electrical Machinery and Parts"
          ],
          [
           "Electronic and Electrical Goods"
          ],
          [
           "Construction, Building, and Home Supplies"
          ],
          [
           "Agriculture"
          ],
          [
           "Agriculture"
          ],
          [
           "Industrial Chemicals and Metals"
          ],
          [
           "Textile and Home Goods"
          ],
          [
           "Metalworking and Electrical Machinery and Parts"
          ],
          [
           "Textile Apparel and Accessories"
          ],
          [
           "Agriculture"
          ],
          [
           "Textile Apparel and Accessories"
          ],
          [
           "Electronic and Electrical Goods"
          ],
          [
           "Agriculture"
          ],
          [
           "Textile and Home Goods"
          ],
          [
           "Agriculture"
          ],
          [
           "Textile and Home Goods"
          ],
          [
           "Textile Apparel and Accessories"
          ],
          [
           "Textile and Home Goods"
          ],
          [
           "Industrial Chemicals and Metals"
          ],
          [
           "Textile and Home Goods"
          ],
          [
           "Agriculture"
          ],
          [
           "Textile and Home Goods"
          ],
          [
           "Construction, Building, and Home Supplies"
          ],
          [
           "Metalworking and Electrical Machinery and Parts"
          ],
          [
           "Textile Apparel and Accessories"
          ],
          [
           "Metalworking and Electrical Machinery and Parts"
          ],
          [
           "Industrial Chemicals and Metals"
          ],
          [
           "Electronic and Electrical Goods"
          ],
          [
           "Minerals"
          ],
          [
           "Minerals"
          ],
          [
           "Agriculture"
          ],
          [
           "Industrial Chemicals and Metals"
          ],
          [
           "Metalworking and Electrical Machinery and Parts"
          ],
          [
           "Textile and Home Goods"
          ],
          [
           "Construction, Building, and Home Supplies"
          ],
          [
           "Industrial Chemicals and Metals"
          ],
          [
           "Construction, Building, and Home Supplies"
          ],
          [
           "Construction, Building, and Home Supplies"
          ],
          [
           "Textile and Home Goods"
          ],
          [
           "Minerals"
          ],
          [
           "Industrial Chemicals and Metals"
          ],
          [
           "Agriculture"
          ],
          [
           "Industrial Chemicals and Metals"
          ],
          [
           "Construction, Building, and Home Supplies"
          ],
          [
           "Construction, Building, and Home Supplies"
          ],
          [
           "Electronic and Electrical Goods"
          ],
          [
           "Agriculture"
          ],
          [
           "Agriculture"
          ],
          [
           "Agriculture"
          ],
          [
           "Textile and Home Goods"
          ],
          [
           "Agriculture"
          ],
          [
           "Textile and Home Goods"
          ],
          [
           "Metalworking and Electrical Machinery and Parts"
          ],
          [
           "Construction, Building, and Home Supplies"
          ],
          [
           "Textile and Home Goods"
          ],
          [
           "Agriculture"
          ],
          [
           "Textile Apparel and Accessories"
          ]
         ],
         "domain": {
          "x": [
           0,
           1
          ],
          "y": [
           0,
           1
          ]
         },
         "hovertemplate": "%{label}<br>%{value:.1f}%<br>Category: %{customdata[0]}<extra></extra>",
         "ids": [
          "Electronic and Electrical Goods/Aircraft, spacecraft, and parts thereof",
          "Agriculture/Manufactures of straw, esparto or other plaiting materials",
          "Textile and Home Goods/Man-made staple fibres",
          "Textile and Home Goods/Man-made filaments",
          "Metalworking and Electrical Machinery and Parts/Man-made filaments",
          "Metalworking and Electrical Machinery and Parts/Machinery and mechanical appliances, boilers, nuclear reactors",
          "Electronic and Electrical Goods/Machinery and mechanical appliances, boilers, nuclear reactors",
          "Construction, Building, and Home Supplies/Machinery and mechanical appliances, boilers, nuclear reactors",
          "Textile and Home Goods/Manufactures of straw, esparto or other plaiting materials",
          "Agriculture/Machinery and mechanical appliances, boilers, nuclear reactors",
          "Metalworking and Electrical Machinery and Parts/Iron or steel articles",
          "Construction, Building, and Home Supplies/Iron or steel articles",
          "Metalworking and Electrical Machinery and Parts/Iron and steel",
          "Industrial Chemicals and Metals/Iron and steel",
          "Construction, Building, and Home Supplies/Iron and steel",
          "Industrial Chemicals and Metals/Inorganic chemicals",
          "Textile and Home Goods/Headgear and parts thereof",
          "Textile and Home Goods/Iron or steel articles",
          "Agriculture/Meat and edible meat offal",
          "Agriculture/Meat, fish, crustaceans, molluscs or other aquatic invertebrates, or insects",
          "Construction, Building, and Home Supplies/Metal",
          "Metalworking and Electrical Machinery and Parts/Plastics and articles thereof",
          "Industrial Chemicals and Metals/Plastics and articles thereof",
          "Metalworking and Electrical Machinery and Parts/Optical, photographic, cinematographic, measuring, checking, medical or surgical instruments and apparatus...",
          "Industrial Chemicals and Metals/Optical, photographic, cinematographic, measuring, checking, medical or surgical instruments and apparatus...",
          "Electronic and Electrical Goods/Optical, photographic, cinematographic, measuring, checking, medical or surgical instruments and apparatus...",
          "Construction, Building, and Home Supplies/Optical, photographic, cinematographic, measuring, checking, medical or surgical instruments and apparatus...",
          "Agriculture/Oil seeds and oleaginous fruits",
          "Industrial Chemicals and Metals/Nickel and articles thereof",
          "Textile and Home Goods/Natural, cultured pearls",
          "Textile and Home Goods/Miscellaneous manufactured articles",
          "Electronic and Electrical Goods/Miscellaneous manufactured articles",
          "Agriculture/Miscellaneous edible preparations",
          "Minerals/Mineral fuels, mineral oils and products of their distillation",
          "Metalworking and Electrical Machinery and Parts/Metals",
          "Industrial Chemicals and Metals/Metals",
          "Textile and Home Goods/Metal",
          "Metalworking and Electrical Machinery and Parts/Metal",
          "Textile Apparel and Accessories/Headgear and parts thereof",
          "Metalworking and Electrical Machinery and Parts/Glass and glassware",
          "Industrial Chemicals and Metals/Natural, cultured pearls",
          "Agriculture/Furskins and artificial fur",
          "Industrial Chemicals and Metals/Chemical products n.e.c.",
          "Construction, Building, and Home Supplies/Chemical products n.e.c.",
          "Agriculture/Cereals",
          "Industrial Chemicals and Metals/Ceramic products",
          "Construction, Building, and Home Supplies/Ceramic products",
          "Textile and Home Goods/Carpets and other textile floor coverings",
          "Agriculture/Beverages, spirits and vinegar",
          "Agriculture/Cocoa and cocoa preparations",
          "Agriculture/Articles of leather",
          "Agriculture/Animal, vegetable or microbial fats and oils and their cleavage products",
          "Agriculture/Animal originated products",
          "Metalworking and Electrical Machinery and Parts/Aluminium and articles thereof",
          "Industrial Chemicals and Metals/Aluminium and articles thereof",
          "Construction, Building, and Home Supplies/Aluminium and articles thereof",
          "Industrial Chemicals and Metals/Albuminoidal substances",
          "Industrial Chemicals and Metals/Aircraft, spacecraft, and parts thereof",
          "Textile Apparel and Accessories/Apparel and clothing accessories",
          "Agriculture/Coffee, tea, mate and spices",
          "Textile and Home Goods/Ceramic products",
          "Textile and Home Goods/Cotton",
          "Textile Apparel and Accessories/Furniture",
          "Construction, Building, and Home Supplies/Furniture",
          "Agriculture/Fruit and nuts, edible",
          "Textile Apparel and Accessories/Footwear",
          "Minerals/Copper and articles thereof",
          "Agriculture/Fish and crustaceans, molluscs and other aquatic invertebrates",
          "Industrial Chemicals and Metals/Fertilizers",
          "Textile and Home Goods/Feathers and down, prepared",
          "Construction, Building, and Home Supplies/Explosives",
          "Agriculture/Food industries, residues and wastes thereof",
          "Textile Apparel and Accessories/Essential oils and resinoids",
          "Agriculture/Dairy produce",
          "Construction, Building, and Home Supplies/Electrical machinery and equipment and parts thereof",
          "Electronic and Electrical Goods/Electrical machinery and equipment and parts thereof",
          "Industrial Chemicals and Metals/Electrical machinery and equipment and parts thereof",
          "Construction, Building, and Home Supplies/Glass and glassware",
          "Metalworking and Electrical Machinery and Parts/Electrical machinery and equipment and parts thereof",
          "Construction, Building, and Home Supplies/Essential oils and resinoids",
          "Industrial Chemicals and Metals/Essential oils and resinoids",
          "Construction, Building, and Home Supplies",
          "Agriculture",
          "Minerals",
          "Textile and Home Goods/Wood and articles of wood",
          "Agriculture/Wood and articles of wood",
          "Metalworking and Electrical Machinery and Parts/Vehicles",
          "Electronic and Electrical Goods/Vehicles",
          "Construction, Building, and Home Supplies/Vehicles",
          "Agriculture/Vegetables and certain roots and tubers",
          "Agriculture/Vegetable plaiting materials",
          "Industrial Chemicals and Metals/Works of art",
          "Textile and Home Goods",
          "Metalworking and Electrical Machinery and Parts/Tools, implements, cutlery, spoons and forks, of base metal",
          "Textile Apparel and Accessories/Umbrellas, sun umbrellas, walking-sticks, seat sticks, whips, riding crops",
          "Agriculture/Trees and other plants, live",
          "Textile Apparel and Accessories/Toys, games and sports requisites",
          "Electronic and Electrical Goods/Toys, games and sports requisites",
          "Agriculture/Toys, games and sports requisites",
          "Textile and Home Goods/Tools, implements, cutlery, spoons and forks, of base metal",
          "Agriculture/Tobacco and manufactured tobacco substitutes",
          "Textile and Home Goods/Textiles, made up articles",
          "Textile Apparel and Accessories/Textiles, made up articles",
          "Textile and Home Goods/Textile fabrics",
          "Industrial Chemicals and Metals/Tanning or dyeing extracts",
          "Textile and Home Goods/Wadding, felt and nonwovens, special yarns",
          "Agriculture/Sugars and sugar confectionery",
          "Textile and Home Goods/Stone, plaster, cement, asbestos, mica or similar materials",
          "Construction, Building, and Home Supplies/Tanning or dyeing extracts",
          "Metalworking and Electrical Machinery and Parts/Stone, plaster, cement, asbestos, mica or similar materials",
          "Textile Apparel and Accessories",
          "Metalworking and Electrical Machinery and Parts",
          "Industrial Chemicals and Metals",
          "Electronic and Electrical Goods",
          "Minerals/Stone, plaster, cement, asbestos, mica or similar materials",
          "Minerals/Salt",
          "Agriculture/Salt",
          "Industrial Chemicals and Metals/Ships, boats and floating structures",
          "Metalworking and Electrical Machinery and Parts/Ships, boats and floating structures",
          "Textile and Home Goods/Ships, boats and floating structures",
          "Construction, Building, and Home Supplies/Soap, organic surface-active agents",
          "Industrial Chemicals and Metals/Soap, organic surface-active agents",
          "Construction, Building, and Home Supplies/Stone, plaster, cement, asbestos, mica or similar materials",
          "Construction, Building, and Home Supplies/Ships, boats and floating structures",
          "Textile and Home Goods/Vehicles",
          "Minerals/Ores, slag and ash",
          "Industrial Chemicals and Metals/Organic chemicals",
          "Agriculture/Paper and paperboard",
          "Industrial Chemicals and Metals/Pharmaceutical products",
          "Construction, Building, and Home Supplies/Plastics and articles thereof",
          "Construction, Building, and Home Supplies/Railway, tramway locomotives, rolling-stock and parts thereof",
          "Electronic and Electrical Goods/Plastics and articles thereof",
          "Agriculture/Preparations of cereals, flour, starch or milk",
          "Agriculture/Preparations of vegetables, fruit, nuts or other parts of plants",
          "Agriculture/Printed books, newspapers, pictures and other products of the printing industry",
          "Textile and Home Goods/Printed books, newspapers, pictures and other products of the printing industry",
          "Agriculture/Pulp of wood or other fibrous cellulosic material",
          "Textile and Home Goods/Rubber and articles thereof",
          "Metalworking and Electrical Machinery and Parts/Rubber and articles thereof",
          "Construction, Building, and Home Supplies/Rubber and articles thereof",
          "Textile and Home Goods/Raw hides and skins (other than furskins) and leather",
          "Agriculture/Products of the milling industry",
          "Textile Apparel and Accessories/Wadding, felt and nonwovens, special yarns"
         ],
         "labels": [
          "Aircraft, spacecraft, and parts thereof",
          "Manufactures of straw, esparto or other plaiting materials",
          "Man-made staple fibres",
          "Man-made filaments",
          "Man-made filaments",
          "Machinery and mechanical appliances, boilers, nuclear reactors",
          "Machinery and mechanical appliances, boilers, nuclear reactors",
          "Machinery and mechanical appliances, boilers, nuclear reactors",
          "Manufactures of straw, esparto or other plaiting materials",
          "Machinery and mechanical appliances, boilers, nuclear reactors",
          "Iron or steel articles",
          "Iron or steel articles",
          "Iron and steel",
          "Iron and steel",
          "Iron and steel",
          "Inorganic chemicals",
          "Headgear and parts thereof",
          "Iron or steel articles",
          "Meat and edible meat offal",
          "Meat, fish, crustaceans, molluscs or other aquatic invertebrates, or insects",
          "Metal",
          "Plastics and articles thereof",
          "Plastics and articles thereof",
          "Optical, photographic, cinematographic, measuring, checking, medical or surgical instruments and apparatus...",
          "Optical, photographic, cinematographic, measuring, checking, medical or surgical instruments and apparatus...",
          "Optical, photographic, cinematographic, measuring, checking, medical or surgical instruments and apparatus...",
          "Optical, photographic, cinematographic, measuring, checking, medical or surgical instruments and apparatus...",
          "Oil seeds and oleaginous fruits",
          "Nickel and articles thereof",
          "Natural, cultured pearls",
          "Miscellaneous manufactured articles",
          "Miscellaneous manufactured articles",
          "Miscellaneous edible preparations",
          "Mineral fuels, mineral oils and products of their distillation",
          "Metals",
          "Metals",
          "Metal",
          "Metal",
          "Headgear and parts thereof",
          "Glass and glassware",
          "Natural, cultured pearls",
          "Furskins and artificial fur",
          "Chemical products n.e.c.",
          "Chemical products n.e.c.",
          "Cereals",
          "Ceramic products",
          "Ceramic products",
          "Carpets and other textile floor coverings",
          "Beverages, spirits and vinegar",
          "Cocoa and cocoa preparations",
          "Articles of leather",
          "Animal, vegetable or microbial fats and oils and their cleavage products",
          "Animal originated products",
          "Aluminium and articles thereof",
          "Aluminium and articles thereof",
          "Aluminium and articles thereof",
          "Albuminoidal substances",
          "Aircraft, spacecraft, and parts thereof",
          "Apparel and clothing accessories",
          "Coffee, tea, mate and spices",
          "Ceramic products",
          "Cotton",
          "Furniture",
          "Furniture",
          "Fruit and nuts, edible",
          "Footwear",
          "Copper and articles thereof",
          "Fish and crustaceans, molluscs and other aquatic invertebrates",
          "Fertilizers",
          "Feathers and down, prepared",
          "Explosives",
          "Food industries, residues and wastes thereof",
          "Essential oils and resinoids",
          "Dairy produce",
          "Electrical machinery and equipment and parts thereof",
          "Electrical machinery and equipment and parts thereof",
          "Electrical machinery and equipment and parts thereof",
          "Glass and glassware",
          "Electrical machinery and equipment and parts thereof",
          "Essential oils and resinoids",
          "Essential oils and resinoids",
          "Construction, Building, and Home Supplies",
          "Agriculture",
          "Minerals",
          "Wood and articles of wood",
          "Wood and articles of wood",
          "Vehicles",
          "Vehicles",
          "Vehicles",
          "Vegetables and certain roots and tubers",
          "Vegetable plaiting materials",
          "Works of art",
          "Textile and Home Goods",
          "Tools, implements, cutlery, spoons and forks, of base metal",
          "Umbrellas, sun umbrellas, walking-sticks, seat sticks, whips, riding crops",
          "Trees and other plants, live",
          "Toys, games and sports requisites",
          "Toys, games and sports requisites",
          "Toys, games and sports requisites",
          "Tools, implements, cutlery, spoons and forks, of base metal",
          "Tobacco and manufactured tobacco substitutes",
          "Textiles, made up articles",
          "Textiles, made up articles",
          "Textile fabrics",
          "Tanning or dyeing extracts",
          "Wadding, felt and nonwovens, special yarns",
          "Sugars and sugar confectionery",
          "Stone, plaster, cement, asbestos, mica or similar materials",
          "Tanning or dyeing extracts",
          "Stone, plaster, cement, asbestos, mica or similar materials",
          "Textile Apparel and Accessories",
          "Metalworking and Electrical Machinery and Parts",
          "Industrial Chemicals and Metals",
          "Electronic and Electrical Goods",
          "Stone, plaster, cement, asbestos, mica or similar materials",
          "Salt",
          "Salt",
          "Ships, boats and floating structures",
          "Ships, boats and floating structures",
          "Ships, boats and floating structures",
          "Soap, organic surface-active agents",
          "Soap, organic surface-active agents",
          "Stone, plaster, cement, asbestos, mica or similar materials",
          "Ships, boats and floating structures",
          "Vehicles",
          "Ores, slag and ash",
          "Organic chemicals",
          "Paper and paperboard",
          "Pharmaceutical products",
          "Plastics and articles thereof",
          "Railway, tramway locomotives, rolling-stock and parts thereof",
          "Plastics and articles thereof",
          "Preparations of cereals, flour, starch or milk",
          "Preparations of vegetables, fruit, nuts or other parts of plants",
          "Printed books, newspapers, pictures and other products of the printing industry",
          "Printed books, newspapers, pictures and other products of the printing industry",
          "Pulp of wood or other fibrous cellulosic material",
          "Rubber and articles thereof",
          "Rubber and articles thereof",
          "Rubber and articles thereof",
          "Raw hides and skins (other than furskins) and leather",
          "Products of the milling industry",
          "Wadding, felt and nonwovens, special yarns"
         ],
         "marker": {
          "colors": [
           "#E15759",
           "#4E79A7",
           "#FF9DA7",
           "#FF9DA7",
           "#59A14F",
           "#59A14F",
           "#E15759",
           "#F28E2B",
           "#FF9DA7",
           "#4E79A7",
           "#59A14F",
           "#F28E2B",
           "#59A14F",
           "#76B7B2",
           "#F28E2B",
           "#76B7B2",
           "#FF9DA7",
           "#FF9DA7",
           "#4E79A7",
           "#4E79A7",
           "#F28E2B",
           "#59A14F",
           "#76B7B2",
           "#59A14F",
           "#76B7B2",
           "#E15759",
           "#F28E2B",
           "#4E79A7",
           "#76B7B2",
           "#FF9DA7",
           "#FF9DA7",
           "#E15759",
           "#4E79A7",
           "#EDC949",
           "#59A14F",
           "#76B7B2",
           "#FF9DA7",
           "#59A14F",
           "#AF7AA1",
           "#59A14F",
           "#76B7B2",
           "#4E79A7",
           "#76B7B2",
           "#F28E2B",
           "#4E79A7",
           "#76B7B2",
           "#F28E2B",
           "#FF9DA7",
           "#4E79A7",
           "#4E79A7",
           "#4E79A7",
           "#4E79A7",
           "#4E79A7",
           "#59A14F",
           "#76B7B2",
           "#F28E2B",
           "#76B7B2",
           "#76B7B2",
           "#AF7AA1",
           "#4E79A7",
           "#FF9DA7",
           "#FF9DA7",
           "#AF7AA1",
           "#F28E2B",
           "#4E79A7",
           "#AF7AA1",
           "#EDC949",
           "#4E79A7",
           "#76B7B2",
           "#FF9DA7",
           "#F28E2B",
           "#4E79A7",
           "#AF7AA1",
           "#4E79A7",
           "#F28E2B",
           "#E15759",
           "#76B7B2",
           "#F28E2B",
           "#59A14F",
           "#F28E2B",
           "#76B7B2",
           "#F28E2B",
           "#4E79A7",
           "#EDC949",
           "#FF9DA7",
           "#4E79A7",
           "#59A14F",
           "#E15759",
           "#F28E2B",
           "#4E79A7",
           "#4E79A7",
           "#76B7B2",
           "#FF9DA7",
           "#59A14F",
           "#AF7AA1",
           "#4E79A7",
           "#AF7AA1",
           "#E15759",
           "#4E79A7",
           "#FF9DA7",
           "#4E79A7",
           "#FF9DA7",
           "#AF7AA1",
           "#FF9DA7",
           "#76B7B2",
           "#FF9DA7",
           "#4E79A7",
           "#FF9DA7",
           "#F28E2B",
           "#59A14F",
           "#AF7AA1",
           "#59A14F",
           "#76B7B2",
           "#E15759",
           "#EDC949",
           "#EDC949",
           "#4E79A7",
           "#76B7B2",
           "#59A14F",
           "#FF9DA7",
           "#F28E2B",
           "#76B7B2",
           "#F28E2B",
           "#F28E2B",
           "#FF9DA7",
           "#EDC949",
           "#76B7B2",
           "#4E79A7",
           "#76B7B2",
           "#F28E2B",
           "#F28E2B",
           "#E15759",
           "#4E79A7",
           "#4E79A7",
           "#4E79A7",
           "#FF9DA7",
           "#4E79A7",
           "#FF9DA7",
           "#59A14F",
           "#F28E2B",
           "#FF9DA7",
           "#4E79A7",
           "#AF7AA1"
          ],
          "line": {
           "width": 1
          }
         },
         "name": "",
         "parents": [
          "Electronic and Electrical Goods",
          "Agriculture",
          "Textile and Home Goods",
          "Textile and Home Goods",
          "Metalworking and Electrical Machinery and Parts",
          "Metalworking and Electrical Machinery and Parts",
          "Electronic and Electrical Goods",
          "Construction, Building, and Home Supplies",
          "Textile and Home Goods",
          "Agriculture",
          "Metalworking and Electrical Machinery and Parts",
          "Construction, Building, and Home Supplies",
          "Metalworking and Electrical Machinery and Parts",
          "Industrial Chemicals and Metals",
          "Construction, Building, and Home Supplies",
          "Industrial Chemicals and Metals",
          "Textile and Home Goods",
          "Textile and Home Goods",
          "Agriculture",
          "Agriculture",
          "Construction, Building, and Home Supplies",
          "Metalworking and Electrical Machinery and Parts",
          "Industrial Chemicals and Metals",
          "Metalworking and Electrical Machinery and Parts",
          "Industrial Chemicals and Metals",
          "Electronic and Electrical Goods",
          "Construction, Building, and Home Supplies",
          "Agriculture",
          "Industrial Chemicals and Metals",
          "Textile and Home Goods",
          "Textile and Home Goods",
          "Electronic and Electrical Goods",
          "Agriculture",
          "Minerals",
          "Metalworking and Electrical Machinery and Parts",
          "Industrial Chemicals and Metals",
          "Textile and Home Goods",
          "Metalworking and Electrical Machinery and Parts",
          "Textile Apparel and Accessories",
          "Metalworking and Electrical Machinery and Parts",
          "Industrial Chemicals and Metals",
          "Agriculture",
          "Industrial Chemicals and Metals",
          "Construction, Building, and Home Supplies",
          "Agriculture",
          "Industrial Chemicals and Metals",
          "Construction, Building, and Home Supplies",
          "Textile and Home Goods",
          "Agriculture",
          "Agriculture",
          "Agriculture",
          "Agriculture",
          "Agriculture",
          "Metalworking and Electrical Machinery and Parts",
          "Industrial Chemicals and Metals",
          "Construction, Building, and Home Supplies",
          "Industrial Chemicals and Metals",
          "Industrial Chemicals and Metals",
          "Textile Apparel and Accessories",
          "Agriculture",
          "Textile and Home Goods",
          "Textile and Home Goods",
          "Textile Apparel and Accessories",
          "Construction, Building, and Home Supplies",
          "Agriculture",
          "Textile Apparel and Accessories",
          "Minerals",
          "Agriculture",
          "Industrial Chemicals and Metals",
          "Textile and Home Goods",
          "Construction, Building, and Home Supplies",
          "Agriculture",
          "Textile Apparel and Accessories",
          "Agriculture",
          "Construction, Building, and Home Supplies",
          "Electronic and Electrical Goods",
          "Industrial Chemicals and Metals",
          "Construction, Building, and Home Supplies",
          "Metalworking and Electrical Machinery and Parts",
          "Construction, Building, and Home Supplies",
          "Industrial Chemicals and Metals",
          "",
          "",
          "",
          "Textile and Home Goods",
          "Agriculture",
          "Metalworking and Electrical Machinery and Parts",
          "Electronic and Electrical Goods",
          "Construction, Building, and Home Supplies",
          "Agriculture",
          "Agriculture",
          "Industrial Chemicals and Metals",
          "",
          "Metalworking and Electrical Machinery and Parts",
          "Textile Apparel and Accessories",
          "Agriculture",
          "Textile Apparel and Accessories",
          "Electronic and Electrical Goods",
          "Agriculture",
          "Textile and Home Goods",
          "Agriculture",
          "Textile and Home Goods",
          "Textile Apparel and Accessories",
          "Textile and Home Goods",
          "Industrial Chemicals and Metals",
          "Textile and Home Goods",
          "Agriculture",
          "Textile and Home Goods",
          "Construction, Building, and Home Supplies",
          "Metalworking and Electrical Machinery and Parts",
          "",
          "",
          "",
          "",
          "Minerals",
          "Minerals",
          "Agriculture",
          "Industrial Chemicals and Metals",
          "Metalworking and Electrical Machinery and Parts",
          "Textile and Home Goods",
          "Construction, Building, and Home Supplies",
          "Industrial Chemicals and Metals",
          "Construction, Building, and Home Supplies",
          "Construction, Building, and Home Supplies",
          "Textile and Home Goods",
          "Minerals",
          "Industrial Chemicals and Metals",
          "Agriculture",
          "Industrial Chemicals and Metals",
          "Construction, Building, and Home Supplies",
          "Construction, Building, and Home Supplies",
          "Electronic and Electrical Goods",
          "Agriculture",
          "Agriculture",
          "Agriculture",
          "Textile and Home Goods",
          "Agriculture",
          "Textile and Home Goods",
          "Metalworking and Electrical Machinery and Parts",
          "Construction, Building, and Home Supplies",
          "Textile and Home Goods",
          "Agriculture",
          "Textile Apparel and Accessories"
         ],
         "textfont": {
          "size": 15
         },
         "textinfo": "label+percent entry",
         "type": "treemap",
         "values": [
          0.0017125045507464,
          0.000004341826390775523,
          0.000004000936547853649,
          3.9221548806772333e-8,
          6.499128808376141e-8,
          0.05200024377501477,
          0.0027759652546316613,
          0.00011989728759965001,
          7.507615930134208e-9,
          0.000020730432388591372,
          0.001973150326378655,
          0.0026597748432533735,
          0.000021591308808132847,
          0.005738458527867576,
          0.000013010530528939884,
          0.00011704394993566372,
          0.000004254978139637198,
          0.000002536975825988932,
          0.00009312531020089568,
          0.6532393073517961,
          0.0000030782754034845203,
          1.0912068875341851e-8,
          0.00004661698472983156,
          0.0029232545821174963,
          0.000018889377389357447,
          0.004639083653380371,
          0.0002931820377052,
          0.009745071885649674,
          0.2716677731115587,
          0.000025251607798971583,
          0.000011680708066713823,
          5.520747179604624e-7,
          0.00024827202973832336,
          4.124114432055695,
          0.00003496596199221463,
          0.00002717305290527202,
          0.0000012744958814702232,
          0.000007942591534766902,
          5.087293731206106e-7,
          6.281825296694432e-9,
          0.0042383430174829,
          4.048766767069254e-9,
          0.0007963324137376349,
          0.00034718412776601397,
          0.00005458316921729534,
          4.3453386982906205e-7,
          0.00002518787043749601,
          0.0000065603320563922185,
          0.001931226294687931,
          0.06950698362103036,
          0.00001194379068505159,
          0.49331457039728993,
          0.0004043701128659101,
          0.00000288336625197517,
          0.0037510283305268,
          0.00042519947040389256,
          0.000020769547958559912,
          0.0359424830443097,
          0.00008497440366051506,
          0.11390355135408385,
          0.000003080074230137112,
          2.733316160747424e-8,
          0.0000020134450544161814,
          0.0002739991945961932,
          0.003689549677273325,
          0.00005348027370798261,
          0.0014783276502218314,
          0.2929932652320866,
          0.0011265407133283,
          3.917240463753573e-7,
          0.000050988248853126135,
          0.0127948532897289,
          0.000015561728152301027,
          0.00005842993469148565,
          0.00011412691242483488,
          0.001681100370567064,
          1.8930821680169765e-8,
          0.000008086690867334224,
          0.0013557805709161423,
          0.00024626710894639503,
          5.87623584196041e-7,
          0.009161157084355645,
          1.959462672642479,
          5.247341198609568,
          0.0037539124442577893,
          0.30341314822321946,
          0.0014474972516651363,
          0.000007760656819082347,
          0.00020405972454333611,
          0.00003466532347477552,
          0.00023874081072909517,
          1.352186810692017e-7,
          0.009191222646767302,
          0.0012129799724346082,
          5.33073556343408e-7,
          0.0000029099519345200185,
          7.780178496232346e-7,
          0.00000501887829499481,
          1.0311272027766089e-7,
          0.0000015779264254707369,
          0.0015022463396634888,
          2.042390407377048e-8,
          0.00015420475336299546,
          1.6982968147965426e-7,
          0.00013216799392682906,
          0.00004292185996730842,
          0.0000020789540444354123,
          0.000001075839955989494,
          0.0005194691551058751,
          0.00003085058424278162,
          0.0003122074440917277,
          0.06132560622889918,
          0.3236635640215594,
          0.010909725586627566,
          2.3789060440905332e-7,
          0.0003550199564066837,
          5.2713686567036006e-8,
          0.00001893065380218707,
          0.00003083630523559408,
          0.0001356284233938,
          0.00011114618725931967,
          0.0000018081828020632638,
          4.69839828815933e-7,
          0.0003836923538357,
          9.432472992306456e-7,
          1.1213931810566407,
          0.000013708552175143164,
          0.00023057440032874944,
          0.000004320260166126749,
          0.0004809541672137305,
          0.0028633855954826,
          0.00008774014747003205,
          0.0019501185006805999,
          0.000022070313461791914,
          0.000021610529430352977,
          3.3232994153594825e-7,
          0.000030039310608865243,
          0.00493013182124584,
          0.00028354744712465256,
          0.000017997462300333422,
          0.0002654026057749,
          1.3439992420386662e-7,
          1.5301937443009457e-7
         ],
         "visible": false
        }
       ],
       "layout": {
        "annotations": [
         {
          "font": {
           "color": "black",
           "size": 17
          },
          "showarrow": false,
          "text": "Share of total value exported (FOB)",
          "x": 0.5,
          "xref": "paper",
          "y": 1.18,
          "yref": "paper"
         },
         {
          "font": {
           "color": "black",
           "size": 12
          },
          "showarrow": false,
          "text": "Source: Harvard Atlas of Economic Complexity and COMTRADE (2022).",
          "x": 0.5,
          "xref": "paper",
          "y": 1.12,
          "yref": "paper"
         }
        ],
        "margin": {
         "b": 0,
         "l": 25,
         "r": 25,
         "t": 100
        },
        "paper_bgcolor": "white",
        "plot_bgcolor": "white",
        "showlegend": true,
        "template": {
         "data": {
          "bar": [
           {
            "error_x": {
             "color": "#2a3f5f"
            },
            "error_y": {
             "color": "#2a3f5f"
            },
            "marker": {
             "line": {
              "color": "#E5ECF6",
              "width": 0.5
             },
             "pattern": {
              "fillmode": "overlay",
              "size": 10,
              "solidity": 0.2
             }
            },
            "type": "bar"
           }
          ],
          "barpolar": [
           {
            "marker": {
             "line": {
              "color": "#E5ECF6",
              "width": 0.5
             },
             "pattern": {
              "fillmode": "overlay",
              "size": 10,
              "solidity": 0.2
             }
            },
            "type": "barpolar"
           }
          ],
          "carpet": [
           {
            "aaxis": {
             "endlinecolor": "#2a3f5f",
             "gridcolor": "white",
             "linecolor": "white",
             "minorgridcolor": "white",
             "startlinecolor": "#2a3f5f"
            },
            "baxis": {
             "endlinecolor": "#2a3f5f",
             "gridcolor": "white",
             "linecolor": "white",
             "minorgridcolor": "white",
             "startlinecolor": "#2a3f5f"
            },
            "type": "carpet"
           }
          ],
          "choropleth": [
           {
            "colorbar": {
             "outlinewidth": 0,
             "ticks": ""
            },
            "type": "choropleth"
           }
          ],
          "contour": [
           {
            "colorbar": {
             "outlinewidth": 0,
             "ticks": ""
            },
            "colorscale": [
             [
              0,
              "#0d0887"
             ],
             [
              0.1111111111111111,
              "#46039f"
             ],
             [
              0.2222222222222222,
              "#7201a8"
             ],
             [
              0.3333333333333333,
              "#9c179e"
             ],
             [
              0.4444444444444444,
              "#bd3786"
             ],
             [
              0.5555555555555556,
              "#d8576b"
             ],
             [
              0.6666666666666666,
              "#ed7953"
             ],
             [
              0.7777777777777778,
              "#fb9f3a"
             ],
             [
              0.8888888888888888,
              "#fdca26"
             ],
             [
              1,
              "#f0f921"
             ]
            ],
            "type": "contour"
           }
          ],
          "contourcarpet": [
           {
            "colorbar": {
             "outlinewidth": 0,
             "ticks": ""
            },
            "type": "contourcarpet"
           }
          ],
          "heatmap": [
           {
            "colorbar": {
             "outlinewidth": 0,
             "ticks": ""
            },
            "colorscale": [
             [
              0,
              "#0d0887"
             ],
             [
              0.1111111111111111,
              "#46039f"
             ],
             [
              0.2222222222222222,
              "#7201a8"
             ],
             [
              0.3333333333333333,
              "#9c179e"
             ],
             [
              0.4444444444444444,
              "#bd3786"
             ],
             [
              0.5555555555555556,
              "#d8576b"
             ],
             [
              0.6666666666666666,
              "#ed7953"
             ],
             [
              0.7777777777777778,
              "#fb9f3a"
             ],
             [
              0.8888888888888888,
              "#fdca26"
             ],
             [
              1,
              "#f0f921"
             ]
            ],
            "type": "heatmap"
           }
          ],
          "heatmapgl": [
           {
            "colorbar": {
             "outlinewidth": 0,
             "ticks": ""
            },
            "colorscale": [
             [
              0,
              "#0d0887"
             ],
             [
              0.1111111111111111,
              "#46039f"
             ],
             [
              0.2222222222222222,
              "#7201a8"
             ],
             [
              0.3333333333333333,
              "#9c179e"
             ],
             [
              0.4444444444444444,
              "#bd3786"
             ],
             [
              0.5555555555555556,
              "#d8576b"
             ],
             [
              0.6666666666666666,
              "#ed7953"
             ],
             [
              0.7777777777777778,
              "#fb9f3a"
             ],
             [
              0.8888888888888888,
              "#fdca26"
             ],
             [
              1,
              "#f0f921"
             ]
            ],
            "type": "heatmapgl"
           }
          ],
          "histogram": [
           {
            "marker": {
             "pattern": {
              "fillmode": "overlay",
              "size": 10,
              "solidity": 0.2
             }
            },
            "type": "histogram"
           }
          ],
          "histogram2d": [
           {
            "colorbar": {
             "outlinewidth": 0,
             "ticks": ""
            },
            "colorscale": [
             [
              0,
              "#0d0887"
             ],
             [
              0.1111111111111111,
              "#46039f"
             ],
             [
              0.2222222222222222,
              "#7201a8"
             ],
             [
              0.3333333333333333,
              "#9c179e"
             ],
             [
              0.4444444444444444,
              "#bd3786"
             ],
             [
              0.5555555555555556,
              "#d8576b"
             ],
             [
              0.6666666666666666,
              "#ed7953"
             ],
             [
              0.7777777777777778,
              "#fb9f3a"
             ],
             [
              0.8888888888888888,
              "#fdca26"
             ],
             [
              1,
              "#f0f921"
             ]
            ],
            "type": "histogram2d"
           }
          ],
          "histogram2dcontour": [
           {
            "colorbar": {
             "outlinewidth": 0,
             "ticks": ""
            },
            "colorscale": [
             [
              0,
              "#0d0887"
             ],
             [
              0.1111111111111111,
              "#46039f"
             ],
             [
              0.2222222222222222,
              "#7201a8"
             ],
             [
              0.3333333333333333,
              "#9c179e"
             ],
             [
              0.4444444444444444,
              "#bd3786"
             ],
             [
              0.5555555555555556,
              "#d8576b"
             ],
             [
              0.6666666666666666,
              "#ed7953"
             ],
             [
              0.7777777777777778,
              "#fb9f3a"
             ],
             [
              0.8888888888888888,
              "#fdca26"
             ],
             [
              1,
              "#f0f921"
             ]
            ],
            "type": "histogram2dcontour"
           }
          ],
          "mesh3d": [
           {
            "colorbar": {
             "outlinewidth": 0,
             "ticks": ""
            },
            "type": "mesh3d"
           }
          ],
          "parcoords": [
           {
            "line": {
             "colorbar": {
              "outlinewidth": 0,
              "ticks": ""
             }
            },
            "type": "parcoords"
           }
          ],
          "pie": [
           {
            "automargin": true,
            "type": "pie"
           }
          ],
          "scatter": [
           {
            "fillpattern": {
             "fillmode": "overlay",
             "size": 10,
             "solidity": 0.2
            },
            "type": "scatter"
           }
          ],
          "scatter3d": [
           {
            "line": {
             "colorbar": {
              "outlinewidth": 0,
              "ticks": ""
             }
            },
            "marker": {
             "colorbar": {
              "outlinewidth": 0,
              "ticks": ""
             }
            },
            "type": "scatter3d"
           }
          ],
          "scattercarpet": [
           {
            "marker": {
             "colorbar": {
              "outlinewidth": 0,
              "ticks": ""
             }
            },
            "type": "scattercarpet"
           }
          ],
          "scattergeo": [
           {
            "marker": {
             "colorbar": {
              "outlinewidth": 0,
              "ticks": ""
             }
            },
            "type": "scattergeo"
           }
          ],
          "scattergl": [
           {
            "marker": {
             "colorbar": {
              "outlinewidth": 0,
              "ticks": ""
             }
            },
            "type": "scattergl"
           }
          ],
          "scattermapbox": [
           {
            "marker": {
             "colorbar": {
              "outlinewidth": 0,
              "ticks": ""
             }
            },
            "type": "scattermapbox"
           }
          ],
          "scatterpolar": [
           {
            "marker": {
             "colorbar": {
              "outlinewidth": 0,
              "ticks": ""
             }
            },
            "type": "scatterpolar"
           }
          ],
          "scatterpolargl": [
           {
            "marker": {
             "colorbar": {
              "outlinewidth": 0,
              "ticks": ""
             }
            },
            "type": "scatterpolargl"
           }
          ],
          "scatterternary": [
           {
            "marker": {
             "colorbar": {
              "outlinewidth": 0,
              "ticks": ""
             }
            },
            "type": "scatterternary"
           }
          ],
          "surface": [
           {
            "colorbar": {
             "outlinewidth": 0,
             "ticks": ""
            },
            "colorscale": [
             [
              0,
              "#0d0887"
             ],
             [
              0.1111111111111111,
              "#46039f"
             ],
             [
              0.2222222222222222,
              "#7201a8"
             ],
             [
              0.3333333333333333,
              "#9c179e"
             ],
             [
              0.4444444444444444,
              "#bd3786"
             ],
             [
              0.5555555555555556,
              "#d8576b"
             ],
             [
              0.6666666666666666,
              "#ed7953"
             ],
             [
              0.7777777777777778,
              "#fb9f3a"
             ],
             [
              0.8888888888888888,
              "#fdca26"
             ],
             [
              1,
              "#f0f921"
             ]
            ],
            "type": "surface"
           }
          ],
          "table": [
           {
            "cells": {
             "fill": {
              "color": "#EBF0F8"
             },
             "line": {
              "color": "white"
             }
            },
            "header": {
             "fill": {
              "color": "#C8D4E3"
             },
             "line": {
              "color": "white"
             }
            },
            "type": "table"
           }
          ]
         },
         "layout": {
          "annotationdefaults": {
           "arrowcolor": "#2a3f5f",
           "arrowhead": 0,
           "arrowwidth": 1
          },
          "autotypenumbers": "strict",
          "coloraxis": {
           "colorbar": {
            "outlinewidth": 0,
            "ticks": ""
           }
          },
          "colorscale": {
           "diverging": [
            [
             0,
             "#8e0152"
            ],
            [
             0.1,
             "#c51b7d"
            ],
            [
             0.2,
             "#de77ae"
            ],
            [
             0.3,
             "#f1b6da"
            ],
            [
             0.4,
             "#fde0ef"
            ],
            [
             0.5,
             "#f7f7f7"
            ],
            [
             0.6,
             "#e6f5d0"
            ],
            [
             0.7,
             "#b8e186"
            ],
            [
             0.8,
             "#7fbc41"
            ],
            [
             0.9,
             "#4d9221"
            ],
            [
             1,
             "#276419"
            ]
           ],
           "sequential": [
            [
             0,
             "#0d0887"
            ],
            [
             0.1111111111111111,
             "#46039f"
            ],
            [
             0.2222222222222222,
             "#7201a8"
            ],
            [
             0.3333333333333333,
             "#9c179e"
            ],
            [
             0.4444444444444444,
             "#bd3786"
            ],
            [
             0.5555555555555556,
             "#d8576b"
            ],
            [
             0.6666666666666666,
             "#ed7953"
            ],
            [
             0.7777777777777778,
             "#fb9f3a"
            ],
            [
             0.8888888888888888,
             "#fdca26"
            ],
            [
             1,
             "#f0f921"
            ]
           ],
           "sequentialminus": [
            [
             0,
             "#0d0887"
            ],
            [
             0.1111111111111111,
             "#46039f"
            ],
            [
             0.2222222222222222,
             "#7201a8"
            ],
            [
             0.3333333333333333,
             "#9c179e"
            ],
            [
             0.4444444444444444,
             "#bd3786"
            ],
            [
             0.5555555555555556,
             "#d8576b"
            ],
            [
             0.6666666666666666,
             "#ed7953"
            ],
            [
             0.7777777777777778,
             "#fb9f3a"
            ],
            [
             0.8888888888888888,
             "#fdca26"
            ],
            [
             1,
             "#f0f921"
            ]
           ]
          },
          "colorway": [
           "#636efa",
           "#EF553B",
           "#00cc96",
           "#ab63fa",
           "#FFA15A",
           "#19d3f3",
           "#FF6692",
           "#B6E880",
           "#FF97FF",
           "#FECB52"
          ],
          "font": {
           "color": "#2a3f5f"
          },
          "geo": {
           "bgcolor": "white",
           "lakecolor": "white",
           "landcolor": "#E5ECF6",
           "showlakes": true,
           "showland": true,
           "subunitcolor": "white"
          },
          "hoverlabel": {
           "align": "left"
          },
          "hovermode": "closest",
          "mapbox": {
           "style": "light"
          },
          "paper_bgcolor": "white",
          "plot_bgcolor": "#E5ECF6",
          "polar": {
           "angularaxis": {
            "gridcolor": "white",
            "linecolor": "white",
            "ticks": ""
           },
           "bgcolor": "#E5ECF6",
           "radialaxis": {
            "gridcolor": "white",
            "linecolor": "white",
            "ticks": ""
           }
          },
          "scene": {
           "xaxis": {
            "backgroundcolor": "#E5ECF6",
            "gridcolor": "white",
            "gridwidth": 2,
            "linecolor": "white",
            "showbackground": true,
            "ticks": "",
            "zerolinecolor": "white"
           },
           "yaxis": {
            "backgroundcolor": "#E5ECF6",
            "gridcolor": "white",
            "gridwidth": 2,
            "linecolor": "white",
            "showbackground": true,
            "ticks": "",
            "zerolinecolor": "white"
           },
           "zaxis": {
            "backgroundcolor": "#E5ECF6",
            "gridcolor": "white",
            "gridwidth": 2,
            "linecolor": "white",
            "showbackground": true,
            "ticks": "",
            "zerolinecolor": "white"
           }
          },
          "shapedefaults": {
           "line": {
            "color": "#2a3f5f"
           }
          },
          "ternary": {
           "aaxis": {
            "gridcolor": "white",
            "linecolor": "white",
            "ticks": ""
           },
           "baxis": {
            "gridcolor": "white",
            "linecolor": "white",
            "ticks": ""
           },
           "bgcolor": "#E5ECF6",
           "caxis": {
            "gridcolor": "white",
            "linecolor": "white",
            "ticks": ""
           }
          },
          "title": {
           "x": 0.05
          },
          "xaxis": {
           "automargin": true,
           "gridcolor": "white",
           "linecolor": "white",
           "ticks": "",
           "title": {
            "standoff": 15
           },
           "zerolinecolor": "white",
           "zerolinewidth": 2
          },
          "yaxis": {
           "automargin": true,
           "gridcolor": "white",
           "linecolor": "white",
           "ticks": "",
           "title": {
            "standoff": 15
           },
           "zerolinecolor": "white",
           "zerolinewidth": 2
          }
         }
        },
        "title": {
         "font": {
          "color": "black",
          "size": 23
         },
         "text": "Exports matrix of the 5 least complex countries",
         "x": 0.5,
         "xanchor": "center",
         "y": 0.98,
         "yanchor": "top"
        },
        "updatemenus": [
         {
          "active": 0,
          "buttons": [
           {
            "args": [
             {
              "visible": [
               true,
               false,
               false,
               false,
               false
              ]
             }
            ],
            "label": "Congo - 2022",
            "method": "update"
           },
           {
            "args": [
             {
              "visible": [
               false,
               true,
               false,
               false,
               false
              ]
             }
            ],
            "label": "Dem. Rep. of the Congo - 2022",
            "method": "update"
           },
           {
            "args": [
             {
              "visible": [
               false,
               false,
               true,
               false,
               false
              ]
             }
            ],
            "label": "Mozambique - 2022",
            "method": "update"
           },
           {
            "args": [
             {
              "visible": [
               false,
               false,
               false,
               true,
               false
              ]
             }
            ],
            "label": "Nigeria - 2022",
            "method": "update"
           },
           {
            "args": [
             {
              "visible": [
               false,
               false,
               false,
               false,
               true
              ]
             }
            ],
            "label": "Papua New Guinea - 2020",
            "method": "update"
           }
          ],
          "x": 0.16,
          "xanchor": "right",
          "y": 1.15,
          "yanchor": "top"
         }
        ],
        "xaxis": {
         "showgrid": false
        },
        "yaxis": {
         "showgrid": false
        }
       }
      }
     },
     "metadata": {},
     "output_type": "display_data"
    }
   ],
   "source": [
    "# Plotting a tree map \n",
    " # See this very useful example: https://stackoverflow.com/questions/64100889/add-dropdown-menu-to-plotly-express-treemap\n",
    "\n",
    "# Load the data\n",
    "data_url = \"https://raw.githubusercontent.com/IgnacioOrueta/ignacioorueta.github.io/refs/heads/main/Project/Section3/data/bottom5_countries.csv\"\n",
    "data = pd.read_csv(data_url)\n",
    "\n",
    "# Define custom colors for each cluster_name\n",
    "custom_colors = {\n",
    "        'Agriculture': '#4E79A7',\n",
    "        'Industrial Chemicals and Metals': '#76B7B2',\n",
    "        'Textile and Home Goods': '#FF9DA7',\n",
    "        'Metalworking and Electrical Machinery and Parts': '#59A14F',\n",
    "        'Construction, Building, and Home Supplies': '#F28E2B',\n",
    "        'Electronic and Electrical Goods': '#E15759',\n",
    "        'Textile Apparel and Accessories': '#AF7AA1',\n",
    "        'Minerals': '#EDC949',     \n",
    "}\n",
    "\n",
    "# Tableau colors\n",
    "#4E79A7 (Blue)\n",
    "#F28E2B (Orange)\n",
    "#E15759 (Red)\n",
    "# #76B7B2 (Teal)\n",
    "# #59A14F (Green)\n",
    "# #EDC949 (Yellow)\n",
    "# #AF7AA1 (Purple)\n",
    "#FF9DA7 (Pink)\n",
    "\n",
    "dfs = list(data.groupby(\"country\",))\n",
    "\n",
    "first_title = dfs[0][0]\n",
    "traces = []\n",
    "buttons = []\n",
    "for i,d in enumerate(dfs):\n",
    "        visible = [False] * len(dfs)\n",
    "        visible[i] = True\n",
    "        name = d[0]\n",
    "        traces.append(\n",
    "            px.treemap(d[1],\n",
    "                    path=['cluster_name', 'desc_hs2'],\n",
    "                    values='percent_fobvalue',\n",
    "                    color='cluster_name',\n",
    "                    color_discrete_map=custom_colors).update_traces(visible=True if i==0 else False).data[0]\n",
    "        )\n",
    "        \n",
    "        buttons.append(dict(label=name,\n",
    "                        method=\"update\",\n",
    "                        args=[{\"visible\":visible}]))  # Creating the dropdown menu\n",
    "\n",
    "updatemenus = [{\n",
    "        'active': 0,\n",
    "        'buttons': buttons,\n",
    "        'x': 0.16,  # Adjust the x position\n",
    "        'y': 1.15,  # Adjust the y position\n",
    "        'xanchor': 'right',  # Anchor the dropdown to the right\n",
    "        'yanchor': 'top'  # Anchor the dropdown to the top\n",
    "    }]\n",
    "\n",
    "fig = go.Figure(data=traces,\n",
    "                    layout=dict(updatemenus=updatemenus))\n",
    "\n",
    "# Add title and subtitle\n",
    "fig.update_layout(\n",
    "    title={\n",
    "        'text': \"Exports matrix of the 5 least complex countries\",\n",
    "        'y':0.98,\n",
    "        'x':0.5,\n",
    "        'xanchor': 'center',\n",
    "        'yanchor': 'top',\n",
    "            'font': {'size': 23, 'color': 'black' }\n",
    "        },\n",
    "    annotations=[\n",
    "        dict(\n",
    "            text=\"Share of total value exported (FOB)\",\n",
    "            x=0.5,\n",
    "            y=1.18,\n",
    "            xref=\"paper\",\n",
    "            yref=\"paper\",\n",
    "            showarrow=False,\n",
    "            font=dict(size=17, color='black')\n",
    "            ),\n",
    "        dict(\n",
    "            text=\"Source: Harvard Atlas of Economic Complexity and COMTRADE (2022).\",\n",
    "            x=0.5,\n",
    "            y=1.12,\n",
    "            xref=\"paper\",\n",
    "            yref=\"paper\",\n",
    "            showarrow=False,\n",
    "            font=dict(size=12, color='black')\n",
    "        )\n",
    "        ],\n",
    "    margin=dict(t=100, l=25, r=25, b=0),\n",
    "    showlegend=True,\n",
    "    )\n",
    "\n",
    "# Show percentages in each quadrant\n",
    "fig.update_traces(textinfo='label+percent entry', textfont_size=15)\n",
    "\n",
    "# Create white borders between categories\n",
    "fig.update_traces(marker=dict(line=dict(width=1)))\n",
    "\n",
    "# Remove all tooltips except the label and category\n",
    "fig.update_traces(hovertemplate='%{label}<br>%{value:.1f}%<br>Category: %{customdata[0]}<extra></extra>')\n",
    "\n",
    "# Erase the border of the treemap graph\n",
    "fig.update_layout(xaxis_showgrid=False, yaxis_showgrid=False)\n",
    "\n",
    "# Remove the outer border of the chart\n",
    "fig.update_layout(\n",
    "        paper_bgcolor='white',\n",
    "        plot_bgcolor='white',\n",
    "        margin=dict(t=100, l=25, r=25, b=0)\n",
    ")\n",
    "    \n",
    "pio.write_json(fig, '../figures/figure3b.json', pretty=True) # JSON\n",
    "pio.write_html(fig, '../figures/figure3b.html') #HTML \n",
    "\n",
    "# Show the figure\n",
    "fig.show()"
   ]
  }
 ],
 "metadata": {
  "kernelspec": {
   "display_name": "Python 3",
   "language": "python",
   "name": "python3"
  },
  "language_info": {
   "codemirror_mode": {
    "name": "ipython",
    "version": 3
   },
   "file_extension": ".py",
   "mimetype": "text/x-python",
   "name": "python",
   "nbconvert_exporter": "python",
   "pygments_lexer": "ipython3",
   "version": "3.12.4"
  }
 },
 "nbformat": 4,
 "nbformat_minor": 2
}
